{
 "cells": [
  {
   "cell_type": "code",
   "execution_count": null,
   "metadata": {
    "application/vnd.databricks.v1+cell": {
     "cellMetadata": {
      "byteLimit": 2048000,
      "rowLimit": 10000
     },
     "inputWidgets": {},
     "nuid": "a4dde0c8-a53e-4c97-a04d-274bab136474",
     "showTitle": false,
     "title": ""
    }
   },
   "outputs": [],
   "source": [
    "pip install translate"
   ]
  },
  {
   "cell_type": "code",
   "execution_count": null,
   "metadata": {
    "application/vnd.databricks.v1+cell": {
     "cellMetadata": {
      "byteLimit": 2048000,
      "rowLimit": 10000
     },
     "inputWidgets": {},
     "nuid": "b3fe1a18-1f2e-4b50-8821-82b0dd3b1048",
     "showTitle": false,
     "title": ""
    }
   },
   "outputs": [],
   "source": [
    "import pandas as pd\n",
    "import numpy as np\n",
    "from sklearn.base import BaseEstimator, TransformerMixin\n",
    "from sklearn.preprocessing import OneHotEncoder, StandardScaler\n",
    "from sklearn.impute import SimpleImputer\n",
    "from sklearn.pipeline import Pipeline\n",
    "from sklearn.compose import ColumnTransformer\n",
    "from xgboost import XGBRegressor\n",
    "from sklearn.model_selection import train_test_split"
   ]
  },
  {
   "cell_type": "code",
   "execution_count": null,
   "metadata": {
    "application/vnd.databricks.v1+cell": {
     "cellMetadata": {
      "byteLimit": 2048000,
      "rowLimit": 10000
     },
     "inputWidgets": {},
     "nuid": "51c1c314-2722-4ec2-9f83-55c673c8688a",
     "showTitle": false,
     "title": ""
    }
   },
   "outputs": [],
   "source": [
    "file_location = \"/FileStore/tables/rad/df_eBike_UVP.csv\"\n",
    "file_type = \"csv\"\n",
    "\n",
    "# CSV options\n",
    "infer_schema = \"True\"\n",
    "first_row_is_header = \"True\"\n",
    "delimiter = \",\"\n",
    "\n",
    "# The applied options are for CSV files. For other file types, these will be ignored.\n",
    "df = spark.read.format(file_type) \\\n",
    "          .option(\"inferSchema\", infer_schema) \\\n",
    "          .option(\"header\", first_row_is_header) \\\n",
    "          .option(\"sep\", delimiter) \\\n",
    "          .load(file_location)\n",
    "\n",
    "# # Save as a Parquet Table\n",
    "# df.write.format(\"parquet\").mode(\"overwrite\").saveAsTable(\"df_eBike_UVP_csv\")"
   ]
  },
  {
   "cell_type": "code",
   "execution_count": null,
   "metadata": {
    "application/vnd.databricks.v1+cell": {
     "cellMetadata": {
      "byteLimit": 2048000,
      "rowLimit": 10000
     },
     "inputWidgets": {},
     "nuid": "fc72cbb6-822d-4bc5-8a13-369b9652176c",
     "showTitle": false,
     "title": ""
    }
   },
   "outputs": [],
   "source": [
    "ebike = df.toPandas()"
   ]
  },
  {
   "cell_type": "code",
   "execution_count": null,
   "metadata": {
    "application/vnd.databricks.v1+cell": {
     "cellMetadata": {
      "byteLimit": 2048000,
      "rowLimit": 10000
     },
     "inputWidgets": {},
     "nuid": "9723c13c-e431-434c-af98-3038d760c255",
     "showTitle": false,
     "title": ""
    }
   },
   "outputs": [],
   "source": [
    "ebike.display()"
   ]
  },
  {
   "cell_type": "code",
   "execution_count": null,
   "metadata": {
    "application/vnd.databricks.v1+cell": {
     "cellMetadata": {
      "byteLimit": 2048000,
      "rowLimit": 10000
     },
     "inputWidgets": {},
     "nuid": "06c230e0-86a9-459e-b7bb-01188504d1ae",
     "showTitle": false,
     "title": ""
    }
   },
   "outputs": [],
   "source": [
    "ebike.info()"
   ]
  },
  {
   "cell_type": "code",
   "execution_count": null,
   "metadata": {
    "application/vnd.databricks.v1+cell": {
     "cellMetadata": {
      "byteLimit": 2048000,
      "rowLimit": 10000
     },
     "inputWidgets": {},
     "nuid": "9194319e-e6de-469c-80df-faba8a6fc9d2",
     "showTitle": false,
     "title": ""
    }
   },
   "outputs": [],
   "source": [
    "%run \"/Users/datascienceexpertmentors@gmail.com/ML/Supervised Learning/functions_lib.py\""
   ]
  },
  {
   "cell_type": "code",
   "execution_count": null,
   "metadata": {
    "application/vnd.databricks.v1+cell": {
     "cellMetadata": {
      "byteLimit": 2048000,
      "rowLimit": 10000
     },
     "inputWidgets": {},
     "nuid": "a407605c-1d8c-4f6f-bdd1-abc0312d2790",
     "showTitle": false,
     "title": ""
    }
   },
   "outputs": [],
   "source": [
    "from translate import Translator\n",
    "\n",
    "translator = Translator(from_lang='de', to_lang='tr')\n",
    "\n",
    "# Translate column names\n",
    "translated_columns = []\n",
    "\n",
    "for column in ebike.columns:\n",
    "    translation = translator.translate(column)\n",
    "    translated_text = translation if translation is not None else column\n",
    "    translated_columns.append(translated_text)"
   ]
  },
  {
   "cell_type": "code",
   "execution_count": null,
   "metadata": {
    "application/vnd.databricks.v1+cell": {
     "cellMetadata": {
      "byteLimit": 2048000,
      "rowLimit": 10000
     },
     "inputWidgets": {},
     "nuid": "0d3035aa-7631-49c4-ae4f-0ddb4ab480b2",
     "showTitle": false,
     "title": ""
    }
   },
   "outputs": [],
   "source": [
    "ebike_tr = ebike.rename(columns=dict(zip(ebike.columns, translated_columns)))\n",
    "ebike_tr.head()"
   ]
  },
  {
   "cell_type": "code",
   "execution_count": null,
   "metadata": {
    "application/vnd.databricks.v1+cell": {
     "cellMetadata": {
      "byteLimit": 2048000,
      "rowLimit": 10000
     },
     "inputWidgets": {},
     "nuid": "ee3bd67a-b1b4-4fb5-b8a3-507f17205a19",
     "showTitle": false,
     "title": ""
    }
   },
   "outputs": [],
   "source": [
    "dict(zip(df.columns, translated_columns))"
   ]
  },
  {
   "cell_type": "code",
   "execution_count": null,
   "metadata": {
    "application/vnd.databricks.v1+cell": {
     "cellMetadata": {
      "byteLimit": 2048000,
      "rowLimit": 10000
     },
     "inputWidgets": {},
     "nuid": "5180dd43-8d20-43aa-b523-99fa8fbae812",
     "showTitle": false,
     "title": ""
    }
   },
   "outputs": [],
   "source": [
    "translated_columns"
   ]
  },
  {
   "cell_type": "code",
   "execution_count": null,
   "metadata": {
    "application/vnd.databricks.v1+cell": {
     "cellMetadata": {
      "byteLimit": 2048000,
      "rowLimit": 10000
     },
     "inputWidgets": {},
     "nuid": "26d6cc35-a650-4aa3-ad48-1af948ac3116",
     "showTitle": false,
     "title": ""
    }
   },
   "outputs": [],
   "source": [
    "first_looking(ebike)\n",
    "duplicate_values(ebike)"
   ]
  },
  {
   "cell_type": "code",
   "execution_count": null,
   "metadata": {
    "application/vnd.databricks.v1+cell": {
     "cellMetadata": {
      "byteLimit": 2048000,
      "rowLimit": 10000
     },
     "inputWidgets": {},
     "nuid": "99ab2c92-1eaa-455b-898f-2c9fb5a19b63",
     "showTitle": false,
     "title": ""
    }
   },
   "outputs": [],
   "source": [
    "ebike.info()"
   ]
  },
  {
   "cell_type": "code",
   "execution_count": null,
   "metadata": {
    "application/vnd.databricks.v1+cell": {
     "cellMetadata": {
      "byteLimit": 2048000,
      "rowLimit": 10000
     },
     "inputWidgets": {},
     "nuid": "afb01fa2-f100-4104-b5a4-6cff38ca1c27",
     "showTitle": false,
     "title": ""
    }
   },
   "outputs": [],
   "source": [
    "ebike.sample(10).T"
   ]
  },
  {
   "cell_type": "code",
   "execution_count": null,
   "metadata": {
    "application/vnd.databricks.v1+cell": {
     "cellMetadata": {
      "byteLimit": 2048000,
      "rowLimit": 10000
     },
     "inputWidgets": {},
     "nuid": "2f3b4bd9-f3f3-4470-b988-8b2ff31681e8",
     "showTitle": false,
     "title": ""
    }
   },
   "outputs": [],
   "source": [
    "import pandas as pd\n",
    "\n",
    "# Create an empty list to store the zipped column names and value counts\n",
    "zipped_data = []\n",
    "\n",
    "# Iterate over each column in the DataFrame\n",
    "for column in ebike.columns:\n",
    "    column_name = column\n",
    "    value_counts = ebike[column].nunique()\n",
    "    zipped_data.append((column_name, value_counts))\n",
    "\n",
    "# Create a DataFrame from the zipped data\n",
    "df_counts = pd.DataFrame(zipped_data, columns=['Column', 'Value Counts'])\n",
    "\n",
    "# Sort the DataFrame by 'Value Counts' in descending order\n",
    "df_counts_sorted = df_counts.sort_values(by='Value Counts', ascending=False)\n",
    "\n",
    "df_counts_sorted"
   ]
  },
  {
   "cell_type": "markdown",
   "metadata": {
    "application/vnd.databricks.v1+cell": {
     "cellMetadata": {},
     "inputWidgets": {},
     "nuid": "6c456332-7eb9-45c9-ac87-e3cadcb59584",
     "showTitle": false,
     "title": ""
    }
   },
   "source": [
    "#### The Examination of Features & Target"
   ]
  },
  {
   "cell_type": "markdown",
   "metadata": {
    "application/vnd.databricks.v1+cell": {
     "cellMetadata": {},
     "inputWidgets": {},
     "nuid": "bf61d8e5-ac86-45ae-a020-a919a830eee9",
     "showTitle": false,
     "title": ""
    }
   },
   "source": [
    "##### Target"
   ]
  },
  {
   "cell_type": "code",
   "execution_count": null,
   "metadata": {
    "application/vnd.databricks.v1+cell": {
     "cellMetadata": {
      "byteLimit": 2048000,
      "rowLimit": 10000
     },
     "inputWidgets": {},
     "nuid": "536c6ac6-c424-4b33-8271-7a5c7367306c",
     "showTitle": false,
     "title": ""
    }
   },
   "outputs": [],
   "source": [
    "target = \"uvp_€\"\n",
    "cprint(f\"Have a first look to {target}:\",\"blue\",\"on_grey\", attrs=[\"bold\"])\n",
    "summary(ebike, target)"
   ]
  },
  {
   "cell_type": "code",
   "execution_count": null,
   "metadata": {
    "application/vnd.databricks.v1+cell": {
     "cellMetadata": {
      "byteLimit": 2048000,
      "rowLimit": 10000
     },
     "inputWidgets": {},
     "nuid": "63cee2f7-8dc0-46b8-85fb-f607f67a9c58",
     "showTitle": false,
     "title": ""
    }
   },
   "outputs": [],
   "source": [
    "ebike[[target]].describe()"
   ]
  },
  {
   "cell_type": "markdown",
   "metadata": {
    "application/vnd.databricks.v1+cell": {
     "cellMetadata": {},
     "inputWidgets": {},
     "nuid": "2b221e39-60c1-46cc-8ed5-07966b5f14de",
     "showTitle": false,
     "title": ""
    }
   },
   "source": [
    "##### Features"
   ]
  },
  {
   "cell_type": "code",
   "execution_count": null,
   "metadata": {
    "application/vnd.databricks.v1+cell": {
     "cellMetadata": {
      "byteLimit": 2048000,
      "rowLimit": 10000
     },
     "inputWidgets": {},
     "nuid": "c5c987e2-0cd4-4452-b8a5-5782321bcca5",
     "showTitle": false,
     "title": ""
    }
   },
   "outputs": [],
   "source": [
    "for feature_col in ebike.columns:\n",
    "    cprint(f\"Have a first look to {feature_col}:\",\"blue\",\"on_grey\", attrs=[\"bold\"])\n",
    "    summary(ebike, feature_col)"
   ]
  },
  {
   "cell_type": "code",
   "execution_count": null,
   "metadata": {
    "application/vnd.databricks.v1+cell": {
     "cellMetadata": {
      "byteLimit": 2048000,
      "rowLimit": 10000
     },
     "inputWidgets": {},
     "nuid": "071dbe0b-4555-4ec4-90ac-f10a5c4ddbdf",
     "showTitle": false,
     "title": ""
    }
   },
   "outputs": [],
   "source": [
    "ebike[[target]].max()"
   ]
  },
  {
   "cell_type": "code",
   "execution_count": null,
   "metadata": {
    "application/vnd.databricks.v1+cell": {
     "cellMetadata": {
      "byteLimit": 2048000,
      "rowLimit": 10000
     },
     "inputWidgets": {},
     "nuid": "9ec9f24e-eedf-46c8-9a63-9f6fd0d38065",
     "showTitle": false,
     "title": ""
    }
   },
   "outputs": [],
   "source": [
    "ebike[ebike[target]==15999]"
   ]
  },
  {
   "cell_type": "code",
   "execution_count": null,
   "metadata": {
    "application/vnd.databricks.v1+cell": {
     "cellMetadata": {
      "byteLimit": 2048000,
      "rowLimit": 10000
     },
     "inputWidgets": {},
     "nuid": "7f5b5e63-8b63-4229-a257-6a604c14f6da",
     "showTitle": false,
     "title": ""
    }
   },
   "outputs": [],
   "source": [
    "# Exclude non-numeric columns\n",
    "numeric_columns = ebike.drop(columns=target).select_dtypes(include=[int, float]).columns\n",
    "\n",
    "# Calculate correlation\n",
    "correlations = {}\n",
    "for column in numeric_columns:\n",
    "    correlation = ebike[target].corr(ebike[column])\n",
    "    correlations[column] = correlation\n",
    "\n",
    "# Sort correlations in descending order\n",
    "sorted_correlations = sorted(correlations.items(), key=lambda x: x[1], reverse=True)\n",
    "\n",
    "# Print sorted correlations\n",
    "for column, correlation in sorted_correlations:\n",
    "    print(f\"Correlation between '{target}' and '{column}': {correlation}\")\n"
   ]
  },
  {
   "cell_type": "code",
   "execution_count": null,
   "metadata": {
    "application/vnd.databricks.v1+cell": {
     "cellMetadata": {
      "byteLimit": 2048000,
      "rowLimit": 10000
     },
     "inputWidgets": {},
     "nuid": "e665016a-b109-4941-bd8b-03413664e70f",
     "showTitle": false,
     "title": ""
    }
   },
   "outputs": [],
   "source": [
    "plt.figure(figsize=(12, 8))\n",
    "\n",
    "# Plot heatmap\n",
    "sns.heatmap(ebike.corr(), annot=True)"
   ]
  },
  {
   "cell_type": "code",
   "execution_count": null,
   "metadata": {
    "application/vnd.databricks.v1+cell": {
     "cellMetadata": {
      "byteLimit": 2048000,
      "rowLimit": 10000
     },
     "inputWidgets": {},
     "nuid": "99a28d7a-fdb8-4f5e-949d-369b5e9c7d62",
     "showTitle": false,
     "title": ""
    }
   },
   "outputs": [],
   "source": [
    "sns.pairplot(ebike[[target, \"gabel_federweg_mm\", \"lenkerbreite_mm\"]], palette='r');"
   ]
  },
  {
   "cell_type": "code",
   "execution_count": null,
   "metadata": {
    "application/vnd.databricks.v1+cell": {
     "cellMetadata": {
      "byteLimit": 2048000,
      "rowLimit": 10000
     },
     "inputWidgets": {},
     "nuid": "99f3ec71-86f2-465b-b7bb-08e33e0b0ec2",
     "showTitle": false,
     "title": ""
    }
   },
   "outputs": [],
   "source": [
    "multicolinearity_control(ebike, collimit=0.50)"
   ]
  },
  {
   "cell_type": "code",
   "execution_count": null,
   "metadata": {
    "application/vnd.databricks.v1+cell": {
     "cellMetadata": {
      "byteLimit": 2048000,
      "rowLimit": 10000
     },
     "inputWidgets": {},
     "nuid": "11dea7cb-4525-43d6-9a7b-ac1daf583511",
     "showTitle": false,
     "title": ""
    }
   },
   "outputs": [],
   "source": [
    "ebike.corr()"
   ]
  },
  {
   "cell_type": "markdown",
   "metadata": {
    "application/vnd.databricks.v1+cell": {
     "cellMetadata": {},
     "inputWidgets": {},
     "nuid": "3ba238f8-2f09-45e6-a640-c9f45ee86a42",
     "showTitle": false,
     "title": ""
    }
   },
   "source": [
    "### Assignment-1\n",
    "- handling and dealing missing values\n",
    "- handling and dealing outliers\n",
    "- translate\n",
    "- to_csv\n",
    "- viz(visualization)"
   ]
  },
  {
   "cell_type": "code",
   "execution_count": null,
   "metadata": {
    "application/vnd.databricks.v1+cell": {
     "cellMetadata": {
      "byteLimit": 2048000,
      "rowLimit": 10000
     },
     "inputWidgets": {},
     "nuid": "9b796480-48c6-417c-9d35-485191a38bf5",
     "showTitle": false,
     "title": ""
    }
   },
   "outputs": [],
   "source": [
    "ebike.head()"
   ]
  },
  {
   "cell_type": "code",
   "execution_count": null,
   "metadata": {
    "application/vnd.databricks.v1+cell": {
     "cellMetadata": {
      "byteLimit": 2048000,
      "rowLimit": 10000
     },
     "inputWidgets": {},
     "nuid": "c7ef1052-e728-46fb-9b07-40058c54e13c",
     "showTitle": false,
     "title": ""
    }
   },
   "outputs": [],
   "source": [
    "ebike.drop(columns=[\"dämpfer\", \"kassette\"], inplace=True)"
   ]
  },
  {
   "cell_type": "code",
   "execution_count": null,
   "metadata": {
    "application/vnd.databricks.v1+cell": {
     "cellMetadata": {
      "byteLimit": 2048000,
      "rowLimit": 10000
     },
     "inputWidgets": {},
     "nuid": "3f34d8e2-fdc2-448e-83de-58d05ef302ce",
     "showTitle": false,
     "title": ""
    }
   },
   "outputs": [],
   "source": [
    "ebike.info()"
   ]
  },
  {
   "cell_type": "code",
   "execution_count": null,
   "metadata": {
    "application/vnd.databricks.v1+cell": {
     "cellMetadata": {
      "byteLimit": 2048000,
      "rowLimit": 10000
     },
     "inputWidgets": {},
     "nuid": "9d4360f7-a8b3-4677-8360-4c0f65de927a",
     "showTitle": false,
     "title": ""
    }
   },
   "outputs": [],
   "source": [
    "sorted_correlations"
   ]
  },
  {
   "cell_type": "code",
   "execution_count": null,
   "metadata": {
    "application/vnd.databricks.v1+cell": {
     "cellMetadata": {
      "byteLimit": 2048000,
      "rowLimit": 10000
     },
     "inputWidgets": {},
     "nuid": "b7d89fbc-03f7-40b1-8928-291ec631080c",
     "showTitle": false,
     "title": ""
    }
   },
   "outputs": [],
   "source": [
    "top_correlation = sorted_correlations[:4]\n",
    "top_correlation"
   ]
  },
  {
   "cell_type": "code",
   "execution_count": null,
   "metadata": {
    "application/vnd.databricks.v1+cell": {
     "cellMetadata": {
      "byteLimit": 2048000,
      "rowLimit": 10000
     },
     "inputWidgets": {},
     "nuid": "6eb70993-db4c-42d9-a667-bc7b427445b9",
     "showTitle": false,
     "title": ""
    }
   },
   "outputs": [],
   "source": [
    "top_columns = [column for column, _ in top_correlation]\n",
    "top_columns "
   ]
  },
  {
   "cell_type": "code",
   "execution_count": null,
   "metadata": {
    "application/vnd.databricks.v1+cell": {
     "cellMetadata": {
      "byteLimit": 2048000,
      "rowLimit": 10000
     },
     "inputWidgets": {},
     "nuid": "8ff42127-dbf3-44f9-a39d-948686d8cbde",
     "showTitle": false,
     "title": ""
    }
   },
   "outputs": [],
   "source": [
    "X = ebike[[top_columns[0]]] # >>> input=feature\n",
    "y = ebike[[target]]"
   ]
  },
  {
   "cell_type": "code",
   "execution_count": null,
   "metadata": {
    "application/vnd.databricks.v1+cell": {
     "cellMetadata": {
      "byteLimit": 2048000,
      "rowLimit": 10000
     },
     "inputWidgets": {},
     "nuid": "c112cb96-ef2a-4abe-9757-e0fe80788ab0",
     "showTitle": false,
     "title": ""
    }
   },
   "outputs": [],
   "source": [
    "X.head()"
   ]
  },
  {
   "cell_type": "code",
   "execution_count": null,
   "metadata": {
    "application/vnd.databricks.v1+cell": {
     "cellMetadata": {
      "byteLimit": 2048000,
      "rowLimit": 10000
     },
     "inputWidgets": {},
     "nuid": "4196cb6f-cfca-41fc-bf6c-0a2fac298ac3",
     "showTitle": false,
     "title": ""
    }
   },
   "outputs": [],
   "source": [
    "y.head()"
   ]
  },
  {
   "cell_type": "code",
   "execution_count": null,
   "metadata": {
    "application/vnd.databricks.v1+cell": {
     "cellMetadata": {
      "byteLimit": 2048000,
      "rowLimit": 10000
     },
     "inputWidgets": {},
     "nuid": "126b1c37-3761-46c0-be4a-3919af1775d3",
     "showTitle": false,
     "title": ""
    }
   },
   "outputs": [],
   "source": [
    "X_train, X_test, y_train, y_test  = train_test_split(X, y, \n",
    "                                                     test_size=0.2, \n",
    "                                                     random_state=42, \n",
    "                                                     shuffle=True)"
   ]
  },
  {
   "cell_type": "code",
   "execution_count": null,
   "metadata": {
    "application/vnd.databricks.v1+cell": {
     "cellMetadata": {
      "byteLimit": 2048000,
      "rowLimit": 10000
     },
     "inputWidgets": {},
     "nuid": "126518f6-454b-41ab-bf6e-ff91c2d19ca4",
     "showTitle": false,
     "title": ""
    }
   },
   "outputs": [],
   "source": [
    "shape_control(ebike, X_train, y_train, X_test, y_test)"
   ]
  },
  {
   "cell_type": "code",
   "execution_count": null,
   "metadata": {
    "application/vnd.databricks.v1+cell": {
     "cellMetadata": {
      "byteLimit": 2048000,
      "rowLimit": 10000
     },
     "inputWidgets": {},
     "nuid": "e354701f-7424-4572-a76b-c3e2382d915c",
     "showTitle": false,
     "title": ""
    }
   },
   "outputs": [],
   "source": [
    "X_train.shape"
   ]
  },
  {
   "cell_type": "code",
   "execution_count": null,
   "metadata": {
    "application/vnd.databricks.v1+cell": {
     "cellMetadata": {
      "byteLimit": 2048000,
      "rowLimit": 10000
     },
     "inputWidgets": {},
     "nuid": "31ef4156-9930-4c12-aadb-dd431e4fc773",
     "showTitle": false,
     "title": ""
    }
   },
   "outputs": [],
   "source": [
    "from sklearn.linear_model import LinearRegression\n",
    "\n",
    "model = LinearRegression(fit_intercept=True, copy_X=True, n_jobs=None, positive=False) # hyperparameter optimization\n",
    "model.fit(X_train, y_train)\n",
    "y_pred = model.predict(X_test)  # y_hat \n",
    "y_pred"
   ]
  },
  {
   "cell_type": "code",
   "execution_count": null,
   "metadata": {
    "application/vnd.databricks.v1+cell": {
     "cellMetadata": {
      "byteLimit": 2048000,
      "rowLimit": 10000
     },
     "inputWidgets": {},
     "nuid": "ea5b8278-d644-475e-aef2-bc198933ab76",
     "showTitle": false,
     "title": ""
    }
   },
   "outputs": [],
   "source": [
    "model.coef_"
   ]
  },
  {
   "cell_type": "code",
   "execution_count": null,
   "metadata": {
    "application/vnd.databricks.v1+cell": {
     "cellMetadata": {
      "byteLimit": 2048000,
      "rowLimit": 10000
     },
     "inputWidgets": {},
     "nuid": "87eb07a6-dc34-43eb-a87d-080e96c496fe",
     "showTitle": false,
     "title": ""
    }
   },
   "outputs": [],
   "source": [
    "model.intercept_"
   ]
  },
  {
   "cell_type": "code",
   "execution_count": null,
   "metadata": {
    "application/vnd.databricks.v1+cell": {
     "cellMetadata": {},
     "inputWidgets": {},
     "nuid": "619274a8-2d1f-4112-ad98-34f545d0fc6d",
     "showTitle": false,
     "title": ""
    }
   },
   "outputs": [],
   "source": [
    "# y_pred = m(==model.coef_).X_test['gabel_federweg_mm'] + n(==model.intercept_) y = mx + n"
   ]
  },
  {
   "cell_type": "code",
   "execution_count": null,
   "metadata": {
    "application/vnd.databricks.v1+cell": {
     "cellMetadata": {
      "byteLimit": 2048000,
      "rowLimit": 10000
     },
     "inputWidgets": {},
     "nuid": "3d83ce7b-5eb1-46b5-887c-07cffefe36a2",
     "showTitle": false,
     "title": ""
    }
   },
   "outputs": [],
   "source": [
    "X_test['gabel_federweg_mm'].loc[4447]"
   ]
  },
  {
   "cell_type": "code",
   "execution_count": null,
   "metadata": {
    "application/vnd.databricks.v1+cell": {
     "cellMetadata": {
      "byteLimit": 2048000,
      "rowLimit": 10000
     },
     "inputWidgets": {},
     "nuid": "e57b31be-7853-457a-90ac-eca7e34d072b",
     "showTitle": false,
     "title": ""
    }
   },
   "outputs": [],
   "source": [
    "y_test.loc[4447]"
   ]
  },
  {
   "cell_type": "code",
   "execution_count": null,
   "metadata": {
    "application/vnd.databricks.v1+cell": {
     "cellMetadata": {
      "byteLimit": 2048000,
      "rowLimit": 10000
     },
     "inputWidgets": {},
     "nuid": "827743d2-89b3-46ec-b5a7-f281da07eddf",
     "showTitle": false,
     "title": ""
    }
   },
   "outputs": [],
   "source": [
    "y_pred_4447 = model.coef_*X_test['gabel_federweg_mm'].loc[4447] + model.intercept_\n",
    "y_pred_4447\n",
    "# [4289.30057593]"
   ]
  },
  {
   "cell_type": "code",
   "execution_count": null,
   "metadata": {
    "application/vnd.databricks.v1+cell": {
     "cellMetadata": {
      "byteLimit": 2048000,
      "rowLimit": 10000
     },
     "inputWidgets": {},
     "nuid": "2aaa185b-c484-4582-ae81-3a602246ba50",
     "showTitle": false,
     "title": ""
    }
   },
   "outputs": [],
   "source": [
    "y_test.values.ravel()"
   ]
  },
  {
   "cell_type": "code",
   "execution_count": null,
   "metadata": {
    "application/vnd.databricks.v1+cell": {
     "cellMetadata": {
      "byteLimit": 2048000,
      "rowLimit": 10000
     },
     "inputWidgets": {},
     "nuid": "fcc8e4e7-56ef-447a-bbee-443722f329eb",
     "showTitle": false,
     "title": ""
    }
   },
   "outputs": [],
   "source": [
    "y_test.values.flatten()"
   ]
  },
  {
   "cell_type": "code",
   "execution_count": null,
   "metadata": {
    "application/vnd.databricks.v1+cell": {
     "cellMetadata": {
      "byteLimit": 2048000,
      "rowLimit": 10000
     },
     "inputWidgets": {},
     "nuid": "e0fca580-8eb4-4eb2-9f21-181969de808d",
     "showTitle": false,
     "title": ""
    }
   },
   "outputs": [],
   "source": [
    "y_dict = {\"Actual\": y_test.values.ravel(), \"Prediction\": y_pred.ravel()}\n",
    "ebike_pred = pd.DataFrame(y_dict)\n",
    "ebike_pred"
   ]
  },
  {
   "cell_type": "code",
   "execution_count": null,
   "metadata": {
    "application/vnd.databricks.v1+cell": {
     "cellMetadata": {
      "byteLimit": 2048000,
      "rowLimit": 10000
     },
     "inputWidgets": {},
     "nuid": "d7c2c422-095b-462e-ba83-f4d55adaa051",
     "showTitle": false,
     "title": ""
    }
   },
   "outputs": [],
   "source": [
    "from sklearn.metrics import r2_score, mean_absolute_error, mean_squared_error\n",
    "def eval_metric(y_test, y_pred):\n",
    "    r2 = r2_score(y_test, y_pred)\n",
    "    mae = mean_absolute_error(y_test, y_pred)\n",
    "    mse = mean_squared_error(y_test, y_pred)\n",
    "    rmse = np.sqrt(mse)\n",
    "    print(f\"r2 score: {r2.round(2)}\")\n",
    "    return r2, mae, mse, rmse"
   ]
  },
  {
   "cell_type": "code",
   "execution_count": null,
   "metadata": {
    "application/vnd.databricks.v1+cell": {
     "cellMetadata": {
      "byteLimit": 2048000,
      "rowLimit": 10000
     },
     "inputWidgets": {},
     "nuid": "1bb12199-ac58-4e2e-a163-dd4da7d752d4",
     "showTitle": false,
     "title": ""
    }
   },
   "outputs": [],
   "source": [
    "eval_metric(y_test, y_pred);"
   ]
  },
  {
   "cell_type": "code",
   "execution_count": null,
   "metadata": {
    "application/vnd.databricks.v1+cell": {
     "cellMetadata": {
      "byteLimit": 2048000,
      "rowLimit": 10000
     },
     "inputWidgets": {},
     "nuid": "3351340a-f373-482d-868f-ef99fa94f740",
     "showTitle": false,
     "title": ""
    }
   },
   "outputs": [],
   "source": [
    "r2, mae, mse, rmse = eval_metric(y_test, y_pred)\n",
    "r2, mae, mse, rmse"
   ]
  },
  {
   "cell_type": "code",
   "execution_count": null,
   "metadata": {
    "application/vnd.databricks.v1+cell": {
     "cellMetadata": {
      "byteLimit": 2048000,
      "rowLimit": 10000
     },
     "inputWidgets": {},
     "nuid": "d678b89e-76e5-406b-a1c1-9d7bdae5f29e",
     "showTitle": false,
     "title": ""
    }
   },
   "outputs": [],
   "source": [
    "y_test, y_pred"
   ]
  },
  {
   "cell_type": "code",
   "execution_count": null,
   "metadata": {
    "application/vnd.databricks.v1+cell": {
     "cellMetadata": {
      "byteLimit": 2048000,
      "rowLimit": 10000
     },
     "inputWidgets": {},
     "nuid": "d016a1b7-daf2-40c3-ae9f-4bd3f157afef",
     "showTitle": false,
     "title": ""
    }
   },
   "outputs": [],
   "source": [
    "residual = abs(y_test - y_pred)\n",
    "residual"
   ]
  },
  {
   "cell_type": "code",
   "execution_count": null,
   "metadata": {
    "application/vnd.databricks.v1+cell": {
     "cellMetadata": {
      "byteLimit": 2048000,
      "rowLimit": 10000
     },
     "inputWidgets": {},
     "nuid": "ec3fc71e-ff10-4b8c-bcd5-d04efd0b1366",
     "showTitle": false,
     "title": ""
    }
   },
   "outputs": [],
   "source": [
    "y_dict = {\"Actual\": y_test.values.ravel(), \"Prediction\": y_pred.ravel(), \"Error\" : abs(y_test - y_pred).values.ravel()}\n",
    "ebike_pred = pd.DataFrame(y_dict)\n",
    "ebike_pred"
   ]
  },
  {
   "cell_type": "code",
   "execution_count": null,
   "metadata": {
    "application/vnd.databricks.v1+cell": {
     "cellMetadata": {
      "byteLimit": 2048000,
      "rowLimit": 10000
     },
     "inputWidgets": {},
     "nuid": "b8726750-a5c9-44cb-a11f-54e7c129f3a4",
     "showTitle": false,
     "title": ""
    }
   },
   "outputs": [],
   "source": [
    "mae = sum(abs(y_test - y_pred).values)/len(y_test) # 719.5274842407156 "
   ]
  },
  {
   "cell_type": "code",
   "execution_count": null,
   "metadata": {
    "application/vnd.databricks.v1+cell": {
     "cellMetadata": {
      "byteLimit": 2048000,
      "rowLimit": 10000
     },
     "inputWidgets": {},
     "nuid": "0579ef29-ce06-4b18-888a-726c393cf681",
     "showTitle": false,
     "title": ""
    }
   },
   "outputs": [],
   "source": [
    "mse = sum((y_test - y_pred).values**2)/len(y_test) #  1093215.2933150046\n",
    "mse"
   ]
  },
  {
   "cell_type": "code",
   "execution_count": null,
   "metadata": {
    "application/vnd.databricks.v1+cell": {
     "cellMetadata": {
      "byteLimit": 2048000,
      "rowLimit": 10000
     },
     "inputWidgets": {},
     "nuid": "21ab53e0-6989-4ffb-8729-e49fde31ac54",
     "showTitle": false,
     "title": ""
    }
   },
   "outputs": [],
   "source": [
    "rmse = np.sqrt(mse)\n",
    "rmse"
   ]
  },
  {
   "cell_type": "code",
   "execution_count": null,
   "metadata": {
    "application/vnd.databricks.v1+cell": {
     "cellMetadata": {
      "byteLimit": 2048000,
      "rowLimit": 10000
     },
     "inputWidgets": {},
     "nuid": "7f76f77d-b3e4-4209-9a85-e269d1bbb760",
     "showTitle": false,
     "title": ""
    }
   },
   "outputs": [],
   "source": [
    "r2_scr = 1 - (sum((y_test - y_pred).values**2)/sum((y_test.values)**2))\n",
    "r2_scr"
   ]
  },
  {
   "cell_type": "code",
   "execution_count": null,
   "metadata": {
    "application/vnd.databricks.v1+cell": {
     "cellMetadata": {
      "byteLimit": 2048000,
      "rowLimit": 10000
     },
     "inputWidgets": {},
     "nuid": "c0d4c943-6342-4566-a145-e57b48bd939e",
     "showTitle": false,
     "title": ""
    }
   },
   "outputs": [],
   "source": [
    "residual"
   ]
  },
  {
   "cell_type": "code",
   "execution_count": null,
   "metadata": {
    "application/vnd.databricks.v1+cell": {
     "cellMetadata": {
      "byteLimit": 2048000,
      "rowLimit": 10000
     },
     "inputWidgets": {},
     "nuid": "66868a36-b417-40e6-8b55-5c28e81d667b",
     "showTitle": false,
     "title": ""
    }
   },
   "outputs": [],
   "source": [
    "import matplotlib.pyplot as plt\n",
    "import scipy.stats as stats\n",
    "stats.probplot(residual.values.ravel(), dist=\"norm\", plot=plt);"
   ]
  },
  {
   "cell_type": "markdown",
   "metadata": {
    "application/vnd.databricks.v1+cell": {
     "cellMetadata": {},
     "inputWidgets": {},
     "nuid": "bf7ed9a4-ba57-4b9a-9c97-6c86f836541d",
     "showTitle": false,
     "title": ""
    }
   },
   "source": [
    "Multiple Linear Regression"
   ]
  },
  {
   "cell_type": "code",
   "execution_count": null,
   "metadata": {
    "application/vnd.databricks.v1+cell": {
     "cellMetadata": {
      "byteLimit": 2048000,
      "rowLimit": 10000
     },
     "inputWidgets": {},
     "nuid": "144496f0-ac0c-43d1-b9ba-4a58b648d779",
     "showTitle": false,
     "title": ""
    }
   },
   "outputs": [],
   "source": [
    "X = ebike[top_columns]\n",
    "y = ebike[[target]]\n",
    "X_train, X_test, y_train, y_test  = train_test_split(X, y, \n",
    "                                                     test_size=0.2, \n",
    "                                                     random_state=42, \n",
    "                                                     shuffle=True)\n",
    "from sklearn.linear_model import LinearRegression\n",
    "\n",
    "model = LinearRegression(fit_intercept=True, copy_X=True, n_jobs=None, positive=False) # hyperparameter optimization\n",
    "model.fit(X_train, y_train)\n",
    "y_pred = model.predict(X_test)  # y_hat \n",
    "y_pred"
   ]
  },
  {
   "cell_type": "code",
   "execution_count": null,
   "metadata": {
    "application/vnd.databricks.v1+cell": {
     "cellMetadata": {
      "byteLimit": 2048000,
      "rowLimit": 10000
     },
     "inputWidgets": {},
     "nuid": "7d7bc052-d4a6-4344-823e-76cdec7ce4f0",
     "showTitle": false,
     "title": ""
    }
   },
   "outputs": [],
   "source": [
    "eval_metric(y_test, y_pred)"
   ]
  },
  {
   "cell_type": "code",
   "execution_count": null,
   "metadata": {
    "application/vnd.databricks.v1+cell": {
     "cellMetadata": {
      "byteLimit": 2048000,
      "rowLimit": 10000
     },
     "inputWidgets": {},
     "nuid": "a66cfbdb-c81e-405f-b509-ea5e42feec74",
     "showTitle": false,
     "title": ""
    }
   },
   "outputs": [],
   "source": [
    "model.coef_"
   ]
  },
  {
   "cell_type": "code",
   "execution_count": null,
   "metadata": {
    "application/vnd.databricks.v1+cell": {
     "cellMetadata": {
      "byteLimit": 2048000,
      "rowLimit": 10000
     },
     "inputWidgets": {},
     "nuid": "251af7bc-cece-4f91-b151-619c81565b13",
     "showTitle": false,
     "title": ""
    }
   },
   "outputs": [],
   "source": [
    "model.intercept_"
   ]
  },
  {
   "cell_type": "markdown",
   "metadata": {
    "application/vnd.databricks.v1+cell": {
     "cellMetadata": {},
     "inputWidgets": {},
     "nuid": "86b984a9-e56e-4438-ab0c-c4b954eaacde",
     "showTitle": false,
     "title": ""
    }
   },
   "source": [
    "## Assignment-2\n",
    "- try lazypredict\n",
    "- try pycaret \n",
    "  -  simple - 1 feature\n",
    "  - multiple - 4 feature\n",
    "  - https://machinelearningmastery.com/pycaret-for-machine-learning/"
   ]
  },
  {
   "cell_type": "markdown",
   "metadata": {
    "application/vnd.databricks.v1+cell": {
     "cellMetadata": {},
     "inputWidgets": {},
     "nuid": "736ef680-0ad7-4cf8-bcb8-50e8d1479375",
     "showTitle": false,
     "title": ""
    }
   },
   "source": [
    "## ML Model Development"
   ]
  },
  {
   "cell_type": "code",
   "execution_count": null,
   "metadata": {
    "application/vnd.databricks.v1+cell": {
     "cellMetadata": {
      "byteLimit": 2048000,
      "rowLimit": 10000
     },
     "inputWidgets": {},
     "nuid": "2c66d3ba-120f-483c-8379-4ea8008dce42",
     "showTitle": false,
     "title": ""
    }
   },
   "outputs": [],
   "source": [
    "!pip install lazypredict"
   ]
  },
  {
   "cell_type": "code",
   "execution_count": null,
   "metadata": {
    "application/vnd.databricks.v1+cell": {
     "cellMetadata": {
      "byteLimit": 2048000,
      "rowLimit": 10000
     },
     "inputWidgets": {},
     "nuid": "a39280b6-d46b-4f99-808c-0491da42563c",
     "showTitle": false,
     "title": ""
    }
   },
   "outputs": [],
   "source": [
    "%run \"/Users/datascienceexpertmentors@gmail.com/ML/Supervised Learning/functions_lib.py\""
   ]
  },
  {
   "cell_type": "code",
   "execution_count": null,
   "metadata": {
    "application/vnd.databricks.v1+cell": {
     "cellMetadata": {
      "byteLimit": 2048000,
      "rowLimit": 10000
     },
     "inputWidgets": {},
     "nuid": "05a5d7a6-1557-41b3-b14d-cd1a04b2f6e8",
     "showTitle": false,
     "title": ""
    }
   },
   "outputs": [
    {
     "data": {
      "application/vnd.databricks.v1+bamboolib_hint": "{\"pd.DataFrames\": [], \"version\": \"0.0.1\"}",
      "text/plain": []
     },
     "metadata": {},
     "output_type": "display_data"
    }
   ],
   "source": [
    "pip install missingno"
   ]
  },
  {
   "cell_type": "markdown",
   "metadata": {
    "application/vnd.databricks.v1+cell": {
     "cellMetadata": {},
     "inputWidgets": {},
     "nuid": "42c8da40-7aac-4968-b8ee-e823dac07147",
     "showTitle": false,
     "title": ""
    }
   },
   "source": [
    "### Linear Regression"
   ]
  },
  {
   "cell_type": "code",
   "execution_count": null,
   "metadata": {
    "application/vnd.databricks.v1+cell": {
     "cellMetadata": {
      "byteLimit": 2048000,
      "rowLimit": 10000
     },
     "inputWidgets": {},
     "nuid": "190e3108-20a6-4def-966a-d13e5d01d976",
     "showTitle": false,
     "title": ""
    }
   },
   "outputs": [],
   "source": [
    "import pandas as pd\n",
    "import numpy as np\n",
    "from sklearn.base import BaseEstimator, TransformerMixin\n",
    "from sklearn.preprocessing import OneHotEncoder, StandardScaler\n",
    "from sklearn.impute import SimpleImputer\n",
    "from sklearn.pipeline import Pipeline\n",
    "from sklearn.compose import ColumnTransformer\n",
    "from xgboost import XGBRegressor\n",
    "from sklearn.model_selection import train_test_split\n",
    "\n",
    "file_location = \"/FileStore/tables/rad/df_eBike_UVP.csv\"\n",
    "file_type = \"csv\"\n",
    "\n",
    "# CSV options\n",
    "infer_schema = \"True\"\n",
    "first_row_is_header = \"True\"\n",
    "delimiter = \",\"\n",
    "\n",
    "# The applied options are for CSV files. For other file types, these will be ignored.\n",
    "df = spark.read.format(file_type) \\\n",
    "          .option(\"inferSchema\", infer_schema) \\\n",
    "          .option(\"header\", first_row_is_header) \\\n",
    "          .option(\"sep\", delimiter) \\\n",
    "          .load(file_location).toPandas()\n",
    "\n",
    "\n",
    "first_looking(df)\n",
    "duplicate_values(df)\n",
    "\n",
    "df.drop(columns=[\"dämpfer\", \"kassette\"], inplace=True)\n",
    "\n",
    "target = \"uvp_€\"\n",
    "\n",
    "X = df[['gabel_federweg_mm', 'lenkerbreite_mm', 'akkukapazität_wh', 'unterstützung_%']].values\n",
    "y = df[target]\n",
    "\n",
    "X_train, X_test, y_train, y_test  = train_test_split(X, y, \n",
    "                                                     test_size=0.2, \n",
    "                                                     random_state=42, \n",
    "                                                     shuffle=True)\n",
    "\n",
    "shape_control(df, X_train, y_train, X_test, y_test)\n",
    "\n",
    "from sklearn.linear_model import LinearRegression\n",
    "\n",
    "model = LinearRegression(fit_intercept=True, copy_X=True, n_jobs=None, positive=False) # hyperparameter optimization\n",
    "model.fit(X_train, y_train)\n",
    "\n",
    "y_pred = model.predict(X_test)  # y_hat \n",
    "y_pred\n",
    "\n",
    "from sklearn.metrics import r2_score, mean_absolute_error, mean_squared_error\n",
    "\n",
    "def eval_metric(y_test, y_pred):\n",
    "    r2 = r2_score(y_test, y_pred)\n",
    "    mae = mean_absolute_error(y_test, y_pred)\n",
    "    mse = mean_squared_error(y_test, y_pred)\n",
    "    rmse = np.sqrt(mse)\n",
    "    print(f\"r2 score: {r2.round(2)}\")\n",
    "    return r2, mae, mse, rmse\n",
    "\n",
    "\n",
    "r2, mae, mse, rmse = eval_metric(y_test, y_pred)\n",
    "print(\"****************************************************************************************************\")\n",
    "print(f\"Inputs: {df[['gabel_federweg_mm', 'lenkerbreite_mm', 'akkukapazität_wh', 'unterstützung_%']].columns.tolist()}\")\n",
    "print(f\"Target: {target}\")\n",
    "print(\"****************************************************************************************************\")\n",
    "print(f\"{model} >> r2: {r2}, MAE: {mae}, MSE: {mse}, RMSE: {rmse}\")\n",
    "print(\"****************************************************************************************************\")"
   ]
  },
  {
   "cell_type": "markdown",
   "metadata": {
    "application/vnd.databricks.v1+cell": {
     "cellMetadata": {},
     "inputWidgets": {},
     "nuid": "1859d805-9685-4c45-a024-69608c8961c2",
     "showTitle": false,
     "title": ""
    }
   },
   "source": [
    "### Lazy Predict"
   ]
  },
  {
   "cell_type": "code",
   "execution_count": null,
   "metadata": {
    "application/vnd.databricks.v1+cell": {
     "cellMetadata": {
      "byteLimit": 2048000,
      "rowLimit": 10000
     },
     "inputWidgets": {},
     "nuid": "9824f870-ccbb-4422-8358-6609fb1a3240",
     "showTitle": false,
     "title": ""
    }
   },
   "outputs": [],
   "source": [
    "from lazypredict.Supervised import LazyClassifier, LazyRegressor\n",
    "lazy_regressor = LazyRegressor(verbose=0, ignore_warnings=True, custom_metric=None, predictions=True)\n",
    "models, predictions = lazy_regressor.fit(X_train,\n",
    "                                         X_test,\n",
    "                                         y_train, \n",
    "                                         y_test)"
   ]
  },
  {
   "cell_type": "code",
   "execution_count": null,
   "metadata": {
    "application/vnd.databricks.v1+cell": {
     "cellMetadata": {
      "byteLimit": 2048000,
      "rowLimit": 10000
     },
     "inputWidgets": {},
     "nuid": "a5d0079d-8e89-457a-821b-c9470e29dc42",
     "showTitle": false,
     "title": ""
    }
   },
   "outputs": [],
   "source": [
    "models"
   ]
  },
  {
   "cell_type": "markdown",
   "metadata": {
    "application/vnd.databricks.v1+cell": {
     "cellMetadata": {},
     "inputWidgets": {},
     "nuid": "370fd301-76b8-4ae8-a833-9984d2b5183b",
     "showTitle": false,
     "title": ""
    }
   },
   "source": [
    "### PyCaret"
   ]
  },
  {
   "cell_type": "code",
   "execution_count": null,
   "metadata": {
    "application/vnd.databricks.v1+cell": {
     "cellMetadata": {
      "byteLimit": 2048000,
      "rowLimit": 10000
     },
     "inputWidgets": {},
     "nuid": "1f50dc87-fbd9-4152-9c10-e1157ad31086",
     "showTitle": false,
     "title": ""
    }
   },
   "outputs": [],
   "source": [
    "!pip install --upgrade pip\n",
    "!pip uninstall pycaret scikit-learn sktime mleap -y\n",
    "!pip install scikit-learn==0.24.0\n",
    "!pip install pycaret"
   ]
  },
  {
   "cell_type": "code",
   "execution_count": null,
   "metadata": {
    "application/vnd.databricks.v1+cell": {
     "cellMetadata": {
      "byteLimit": 2048000,
      "rowLimit": 10000
     },
     "inputWidgets": {},
     "nuid": "3cf337e8-e297-41da-85dc-7743b77032bf",
     "showTitle": false,
     "title": ""
    }
   },
   "outputs": [],
   "source": [
    "from pycaret.regression import *\n",
    "pycaret_redressor = setup(data=df[['gabel_federweg_mm', 'uvp_€']],\n",
    "                          target=target)\n",
    "compare_models()\n",
    "# 'lenkerbreite_mm', 'akkukapazität_wh', 'unterstützung_%',"
   ]
  },
  {
   "cell_type": "markdown",
   "metadata": {
    "application/vnd.databricks.v1+cell": {
     "cellMetadata": {},
     "inputWidgets": {},
     "nuid": "5940c34d-48f7-47c8-bba0-f4299ed5a5bf",
     "showTitle": false,
     "title": ""
    }
   },
   "source": [
    "## Assignment-3\n",
    "1- feature sayisini artir : numeric_columns \n",
    "Pycaret, LazyPredict ile sonuclara bak\n",
    "\n",
    "2- StandardScaler ile X_train ve X_test scale yaptiktan sonra modele feature olarak ver\n",
    "\n",
    "X_train_scaled, X_test_scaled\n",
    "LazyPredict\n",
    "LR\n",
    "\n",
    "ridge lasso\n",
    "ohe ile categoric columns >>> numeric"
   ]
  },
  {
   "cell_type": "markdown",
   "metadata": {
    "application/vnd.databricks.v1+cell": {
     "cellMetadata": {},
     "inputWidgets": {},
     "nuid": "d75819a8-9cc1-4553-8571-bb732a77711a",
     "showTitle": false,
     "title": ""
    }
   },
   "source": [
    "## ML Model Development Pipeline"
   ]
  },
  {
   "cell_type": "markdown",
   "metadata": {
    "application/vnd.databricks.v1+cell": {
     "cellMetadata": {},
     "inputWidgets": {},
     "nuid": "65e4ec01-d414-4d30-a7c5-c0c7702f7c84",
     "showTitle": false,
     "title": ""
    }
   },
   "source": [
    "### High-Level Outline for the Life Cycle of Developing and Deploying ML Models\n",
    "**Problem Definition:** \n",
    "  - Clearly defining the problem to be solved and identifying the objectives of the machine learning project.\n",
    "\n",
    "**Data Collection and Preparation:** \n",
    "  - Gathering relevant data and performing necessary preprocessing steps such as cleaning, transforming, and feature engineering.\n",
    "\n",
    "**Model Selection and Design:** \n",
    "  - Choosing an appropriate machine learning algorithm or model architecture based on the problem and data characteristics.\n",
    "\n",
    "**Model Training:** \n",
    "  - Training the selected model using the prepared data and appropriate training techniques, such as cross-validation and hyperparameter tuning.\n",
    "\n",
    "**Model Evaluation:** \n",
    "  - Assessing the performance of the trained model using evaluation metrics and techniques to measure its accuracy, precision, recall, etc.\n",
    "\n",
    "**Model Deployment:** \n",
    "  - Integrating the trained model into a production environment or application for real-world use.\n",
    "\n",
    "**Model Monitoring and Maintenance:** \n",
    "  - Continuously monitoring the deployed model's performance, addressing issues, and retraining or updating the model as needed.\n",
    "\n",
    "**Model Retraining and Improvement:** \n",
    "  - Periodically revisiting the model, retraining it with new data, and implementing improvements or enhancements to enhance its accuracy or generalization."
   ]
  },
  {
   "cell_type": "markdown",
   "metadata": {
    "application/vnd.databricks.v1+cell": {
     "cellMetadata": {},
     "inputWidgets": {},
     "nuid": "35d5a7d9-8991-414c-88f8-3c01f1955292",
     "showTitle": false,
     "title": ""
    }
   },
   "source": [
    "### Stages for the Life Cycle of Developing and Deploying ML Models\n",
    "\n",
    "**1- Data Collection and Preprocessing:**\n",
    "\n",
    "- \"Data Acquisition and Cleaning: Gathering and Preparing Data\"\n",
    "- \"Data Preprocessing: Cleaning and Transforming\"\n",
    "- \"Feature Engineering: Extracting Relevant Features\"\n",
    "\n",
    "**2- Exploratory Data Analysis (EDA):**\n",
    "\n",
    "- \"Exploring Data: Statistical Analysis and Visualization\"\n",
    "- \"Understanding Patterns: EDA for Prediction\"\n",
    "- \"Feature Selection: Identifying Key Variables for Forecasting\"\n",
    "\n",
    "**3- Model Development and Training:**\n",
    "\n",
    "- \"Model Selection: Choosing the Right Algorithm for Prediction\"\n",
    "- \"Model Training and Evaluation: Building an ML Model for Forecasting\"\n",
    "- \"Hyperparameter Tuning: Optimizing Model Performance for Prediction\"\n",
    "\n",
    "**4- Model Evaluation and Validation:**\n",
    "\n",
    "- \"Model Performance Metrics: Assessing Accuracy for Prediction\"\n",
    "- \"Cross-Validation: Evaluating Model Generalization for Forecasting\"\n",
    "- \"Validation and Testing: Assessing Model Robustness for Prediction\"\n",
    "\n",
    "**5- Deployment and Inference:**\n",
    "\n",
    "- \"Model Deployment: Integrating Prediction Model into Production\"\n",
    "- \"Real-Time Inference: Making Predictions in a Production Environment\"\n",
    "- \"Monitoring and Maintenance: Ensuring Model Performance in Forecasting\""
   ]
  },
  {
   "cell_type": "markdown",
   "metadata": {
    "application/vnd.databricks.v1+cell": {
     "cellMetadata": {},
     "inputWidgets": {},
     "nuid": "4c63e2c5-7c6c-430e-8587-552912ec79a2",
     "showTitle": false,
     "title": ""
    }
   },
   "source": [
    "### Installments"
   ]
  },
  {
   "cell_type": "code",
   "execution_count": null,
   "metadata": {
    "application/vnd.databricks.v1+cell": {
     "cellMetadata": {
      "byteLimit": 2048000,
      "rowLimit": 10000
     },
     "inputWidgets": {},
     "nuid": "e344462e-eb8f-4313-a15f-0037dec56c53",
     "showTitle": false,
     "title": ""
    }
   },
   "outputs": [],
   "source": [
    "pip install xgboost"
   ]
  },
  {
   "cell_type": "code",
   "execution_count": null,
   "metadata": {
    "application/vnd.databricks.v1+cell": {
     "cellMetadata": {
      "byteLimit": 2048000,
      "rowLimit": 10000
     },
     "inputWidgets": {},
     "nuid": "ec62ea9b-a97e-464e-99f9-83c0f2f0b88d",
     "showTitle": false,
     "title": ""
    }
   },
   "outputs": [],
   "source": [
    "pip install catboost"
   ]
  },
  {
   "cell_type": "code",
   "execution_count": null,
   "metadata": {
    "application/vnd.databricks.v1+cell": {
     "cellMetadata": {
      "byteLimit": 2048000,
      "rowLimit": 10000
     },
     "inputWidgets": {},
     "nuid": "9beb1442-befc-4923-bc54-0871d5d3bf04",
     "showTitle": false,
     "title": ""
    }
   },
   "outputs": [],
   "source": [
    "pip install cufflinks"
   ]
  },
  {
   "cell_type": "code",
   "execution_count": null,
   "metadata": {
    "application/vnd.databricks.v1+cell": {
     "cellMetadata": {
      "byteLimit": 2048000,
      "rowLimit": 10000
     },
     "inputWidgets": {},
     "nuid": "6721f9ad-e56d-440f-8ac0-860e334254e0",
     "showTitle": false,
     "title": ""
    }
   },
   "outputs": [],
   "source": [
    "pip install plotly"
   ]
  },
  {
   "cell_type": "code",
   "execution_count": null,
   "metadata": {
    "application/vnd.databricks.v1+cell": {
     "cellMetadata": {
      "byteLimit": 2048000,
      "rowLimit": 10000
     },
     "inputWidgets": {},
     "nuid": "229417de-42b6-47dd-80fc-31f05501a488",
     "showTitle": false,
     "title": ""
    }
   },
   "outputs": [],
   "source": [
    "pip install optuna"
   ]
  },
  {
   "cell_type": "code",
   "execution_count": null,
   "metadata": {
    "application/vnd.databricks.v1+cell": {
     "cellMetadata": {
      "byteLimit": 2048000,
      "rowLimit": 10000
     },
     "inputWidgets": {},
     "nuid": "adf0a1fe-36ee-4f67-83be-04f825789523",
     "showTitle": false,
     "title": ""
    }
   },
   "outputs": [],
   "source": [
    "import pandas as pd\n",
    "import numpy as np\n",
    "\n",
    "from sklearn.base import BaseEstimator, TransformerMixin\n",
    "from sklearn.preprocessing import OneHotEncoder, StandardScaler\n",
    "from sklearn.impute import SimpleImputer\n",
    "from sklearn.pipeline import Pipeline\n",
    "from sklearn.compose import ColumnTransformer\n",
    "\n",
    "\n",
    "# # model selection & validation\n",
    "from sklearn.model_selection import RandomizedSearchCV\n",
    "from sklearn.model_selection import RepeatedStratifiedKFold, KFold, cross_val_predict, train_test_split\n",
    "from sklearn.model_selection import StratifiedKFold, GridSearchCV, cross_val_score, cross_validate\n",
    "\n",
    "from sklearn.metrics import r2_score, mean_absolute_error, mean_squared_error\n",
    "\n",
    "## Pandas need cufflinks to link with plotly and add the iplot method:\n",
    "## plotly and cufflinks\n",
    "import plotly \n",
    "import plotly.express as px\n",
    "import cufflinks as cf #cufflink connects plotly with pandas to create graphs and charts of dataframes directly\n",
    "import plotly.graph_objs as go\n",
    "import plotly.offline as py\n",
    "from plotly.offline import iplot\n",
    "from plotly.subplots import make_subplots\n",
    "import plotly.figure_factory as ff\n",
    "cf.go_offline()\n",
    "cf.set_config_file(offline=False, world_readable=True)\n",
    "\n",
    "## regression/prediction\n",
    "from sklearn.discriminant_analysis import LinearDiscriminantAnalysis\n",
    "from sklearn.linear_model import LinearRegression, Lasso, Ridge, ElasticNet, LogisticRegression\n",
    "from sklearn.ensemble import RandomForestRegressor, GradientBoostingRegressor, ExtraTreesRegressor, AdaBoostRegressor\n",
    "from sklearn.neighbors import KNeighborsRegressor\n",
    "from sklearn.svm import SVR\n",
    "from sklearn.tree import DecisionTreeRegressor\n",
    "from catboost import CatBoostRegressor\n",
    "from lightgbm import LGBMRegressor\n",
    "from xgboost import XGBRegressor, plot_importance\n",
    "\n",
    "import optuna"
   ]
  },
  {
   "cell_type": "code",
   "execution_count": null,
   "metadata": {
    "application/vnd.databricks.v1+cell": {
     "cellMetadata": {
      "byteLimit": 2048000,
      "rowLimit": 10000
     },
     "inputWidgets": {},
     "nuid": "c0d93919-3b0c-4d4d-a41d-2fc4ea990500",
     "showTitle": false,
     "title": ""
    }
   },
   "outputs": [],
   "source": [
    "%run \"/Users/datascienceexpertmentors@gmail.com/ML/Supervised Learning/functions_lib.py\""
   ]
  },
  {
   "cell_type": "markdown",
   "metadata": {
    "application/vnd.databricks.v1+cell": {
     "cellMetadata": {},
     "inputWidgets": {},
     "nuid": "ebe1e1ad-0881-4f45-ae3d-6baf6b13630d",
     "showTitle": false,
     "title": ""
    }
   },
   "source": [
    "### Loading Dataset\n",
    "      #Reading Dataset \n",
    "      #Importing Dataset"
   ]
  },
  {
   "cell_type": "code",
   "execution_count": null,
   "metadata": {
    "application/vnd.databricks.v1+cell": {
     "cellMetadata": {
      "byteLimit": 2048000,
      "rowLimit": 10000
     },
     "inputWidgets": {},
     "nuid": "5a49abe7-2d5d-462a-8be0-c21c793a05d0",
     "showTitle": false,
     "title": ""
    }
   },
   "outputs": [],
   "source": [
    "file_location = \"/FileStore/tables/rad/df_eBike_UVP.csv\"\n",
    "file_type = \"csv\"\n",
    "\n",
    "# CSV options\n",
    "infer_schema = \"True\"\n",
    "first_row_is_header = \"True\"\n",
    "delimiter = \",\"\n",
    "\n",
    "# The applied options are for CSV files. For other file types, these will be ignored.\n",
    "df = spark.read.format(file_type) \\\n",
    "          .option(\"inferSchema\", infer_schema) \\\n",
    "          .option(\"header\", first_row_is_header) \\\n",
    "          .option(\"sep\", delimiter) \\\n",
    "          .load(file_location).toPandas()"
   ]
  },
  {
   "cell_type": "code",
   "execution_count": null,
   "metadata": {
    "application/vnd.databricks.v1+cell": {
     "cellMetadata": {
      "byteLimit": 2048000,
      "rowLimit": 10000
     },
     "inputWidgets": {},
     "nuid": "9c2f42e9-af56-4e78-9274-04d95caae0e4",
     "showTitle": false,
     "title": ""
    }
   },
   "outputs": [],
   "source": [
    "df.head()"
   ]
  },
  {
   "cell_type": "markdown",
   "metadata": {
    "application/vnd.databricks.v1+cell": {
     "cellMetadata": {},
     "inputWidgets": {},
     "nuid": "b6a059d0-de88-49b7-9399-f434966e0b93",
     "showTitle": false,
     "title": ""
    }
   },
   "source": [
    "### Exploratory Data Analysis (EDA)"
   ]
  },
  {
   "cell_type": "code",
   "execution_count": null,
   "metadata": {
    "application/vnd.databricks.v1+cell": {
     "cellMetadata": {
      "byteLimit": 2048000,
      "rowLimit": 10000
     },
     "inputWidgets": {},
     "nuid": "1337cde7-d502-4364-80d8-4282be3d90d3",
     "showTitle": false,
     "title": ""
    }
   },
   "outputs": [],
   "source": [
    "first_looking(df)\n",
    "duplicate_values(df)"
   ]
  },
  {
   "cell_type": "code",
   "execution_count": null,
   "metadata": {
    "application/vnd.databricks.v1+cell": {
     "cellMetadata": {
      "byteLimit": 2048000,
      "rowLimit": 10000
     },
     "inputWidgets": {},
     "nuid": "5d5af929-2b90-4836-be37-f3dd1dfe6998",
     "showTitle": false,
     "title": ""
    }
   },
   "outputs": [],
   "source": [
    "df.isnull().sum().sum()"
   ]
  },
  {
   "cell_type": "code",
   "execution_count": null,
   "metadata": {
    "application/vnd.databricks.v1+cell": {
     "cellMetadata": {
      "byteLimit": 2048000,
      "rowLimit": 10000
     },
     "inputWidgets": {},
     "nuid": "86d74dd2-f24f-46d6-b47f-9553344c50f8",
     "showTitle": false,
     "title": ""
    }
   },
   "outputs": [],
   "source": [
    "missing_values(df)"
   ]
  },
  {
   "cell_type": "code",
   "execution_count": null,
   "metadata": {
    "application/vnd.databricks.v1+cell": {
     "cellMetadata": {
      "byteLimit": 2048000,
      "rowLimit": 10000
     },
     "inputWidgets": {},
     "nuid": "e37465e8-fe03-41bb-a5bb-c87f1fb825bd",
     "showTitle": false,
     "title": ""
    }
   },
   "outputs": [],
   "source": [
    "df[[\"dämpfer\", \"kassette\"]].sample(10)"
   ]
  },
  {
   "cell_type": "code",
   "execution_count": null,
   "metadata": {
    "application/vnd.databricks.v1+cell": {
     "cellMetadata": {
      "byteLimit": 2048000,
      "rowLimit": 10000
     },
     "inputWidgets": {},
     "nuid": "ef65b0fb-f90f-4da2-ab52-9689b77668a9",
     "showTitle": false,
     "title": ""
    }
   },
   "outputs": [],
   "source": [
    "df.drop(\"dämpfer\", axis=1, inplace=True)"
   ]
  },
  {
   "cell_type": "code",
   "execution_count": null,
   "metadata": {
    "application/vnd.databricks.v1+cell": {
     "cellMetadata": {
      "byteLimit": 2048000,
      "rowLimit": 10000
     },
     "inputWidgets": {},
     "nuid": "67d1e7dc-fae8-4298-89ce-cf111ae9951a",
     "showTitle": false,
     "title": ""
    }
   },
   "outputs": [],
   "source": [
    "df[[\"kassette\"]].info()\n"
   ]
  },
  {
   "cell_type": "code",
   "execution_count": null,
   "metadata": {
    "application/vnd.databricks.v1+cell": {
     "cellMetadata": {
      "byteLimit": 2048000,
      "rowLimit": 10000
     },
     "inputWidgets": {},
     "nuid": "efe31cf7-3ff4-46e4-af12-ff3b2c8450bb",
     "showTitle": false,
     "title": ""
    }
   },
   "outputs": [],
   "source": [
    "df['kassette'].mode()"
   ]
  },
  {
   "cell_type": "code",
   "execution_count": null,
   "metadata": {
    "application/vnd.databricks.v1+cell": {
     "cellMetadata": {
      "byteLimit": 2048000,
      "rowLimit": 10000
     },
     "inputWidgets": {},
     "nuid": "b86185fb-46f8-4ef2-a128-2c3350e382ef",
     "showTitle": false,
     "title": ""
    }
   },
   "outputs": [],
   "source": [
    "df[\"kassette\"].fillna(df['kassette'].mode()[0], inplace=True)"
   ]
  },
  {
   "cell_type": "code",
   "execution_count": null,
   "metadata": {
    "application/vnd.databricks.v1+cell": {
     "cellMetadata": {
      "byteLimit": 2048000,
      "rowLimit": 10000
     },
     "inputWidgets": {},
     "nuid": "37fbcc8c-f171-432e-9271-840cbb62073f",
     "showTitle": false,
     "title": ""
    }
   },
   "outputs": [],
   "source": [
    "missing_values(df)"
   ]
  },
  {
   "cell_type": "markdown",
   "metadata": {
    "application/vnd.databricks.v1+cell": {
     "cellMetadata": {},
     "inputWidgets": {},
     "nuid": "8e6adba7-104d-4aaf-915c-3ff7e2a67388",
     "showTitle": false,
     "title": ""
    }
   },
   "source": [
    "### Model Development and Training 1-Intro"
   ]
  },
  {
   "cell_type": "markdown",
   "metadata": {
    "application/vnd.databricks.v1+cell": {
     "cellMetadata": {},
     "inputWidgets": {},
     "nuid": "43a17e99-b56a-4a58-b3db-d2d08c1c7544",
     "showTitle": false,
     "title": ""
    }
   },
   "source": [
    "#### Train-Test Split | Scale"
   ]
  },
  {
   "cell_type": "code",
   "execution_count": null,
   "metadata": {
    "application/vnd.databricks.v1+cell": {
     "cellMetadata": {
      "byteLimit": 2048000,
      "rowLimit": 10000
     },
     "inputWidgets": {},
     "nuid": "75242172-3482-41db-97f3-4c70b5ff08b1",
     "showTitle": false,
     "title": ""
    }
   },
   "outputs": [],
   "source": [
    "df.head()"
   ]
  },
  {
   "cell_type": "code",
   "execution_count": null,
   "metadata": {
    "application/vnd.databricks.v1+cell": {
     "cellMetadata": {
      "byteLimit": 2048000,
      "rowLimit": 10000
     },
     "inputWidgets": {},
     "nuid": "68e46c8d-98ca-4309-835f-6a56c4cbbc98",
     "showTitle": false,
     "title": ""
    }
   },
   "outputs": [],
   "source": [
    "df"
   ]
  },
  {
   "cell_type": "code",
   "execution_count": null,
   "metadata": {
    "application/vnd.databricks.v1+cell": {
     "cellMetadata": {
      "byteLimit": 2048000,
      "rowLimit": 10000
     },
     "inputWidgets": {},
     "nuid": "93064c01-f1cb-4a3e-bc74-b1c66e19756e",
     "showTitle": false,
     "title": ""
    }
   },
   "outputs": [],
   "source": [
    "target = \"uvp_€\"\n",
    "\n",
    "X = df.drop(target, axis=1)\n",
    "y = df[target]\n",
    "\n",
    "X_train, X_test, y_train, y_test  = train_test_split(X, y, \n",
    "                                                     test_size=0.2, \n",
    "                                                     random_state=42, \n",
    "                                                     shuffle=True)\n",
    "\n",
    "shape_control(df, X_train, y_train, X_test, y_test)\n",
    "\n",
    "numerics = X.select_dtypes(include=\"number\").astype(\"float64\")\n",
    "categorics = X.select_dtypes(include=[\"object\", \"category\", \"bool\"])"
   ]
  },
  {
   "cell_type": "code",
   "execution_count": null,
   "metadata": {
    "application/vnd.databricks.v1+cell": {
     "cellMetadata": {
      "byteLimit": 2048000,
      "rowLimit": 10000
     },
     "inputWidgets": {},
     "nuid": "916753bc-3031-4bb8-9c83-ca1eefe47eca",
     "showTitle": false,
     "title": ""
    }
   },
   "outputs": [],
   "source": [
    "numerics.head()"
   ]
  },
  {
   "cell_type": "code",
   "execution_count": null,
   "metadata": {
    "application/vnd.databricks.v1+cell": {
     "cellMetadata": {
      "byteLimit": 2048000,
      "rowLimit": 10000
     },
     "inputWidgets": {},
     "nuid": "04f84520-ed90-4fd3-a850-97e5864c034e",
     "showTitle": false,
     "title": ""
    }
   },
   "outputs": [],
   "source": [
    "categorics.head(1)"
   ]
  },
  {
   "cell_type": "code",
   "execution_count": null,
   "metadata": {
    "application/vnd.databricks.v1+cell": {
     "cellMetadata": {
      "byteLimit": 2048000,
      "rowLimit": 10000
     },
     "inputWidgets": {},
     "nuid": "7de10967-c997-4bdc-80ad-28b844b5e269",
     "showTitle": false,
     "title": ""
    }
   },
   "outputs": [],
   "source": [
    "X_train"
   ]
  },
  {
   "cell_type": "code",
   "execution_count": null,
   "metadata": {
    "application/vnd.databricks.v1+cell": {
     "cellMetadata": {
      "byteLimit": 2048000,
      "rowLimit": 10000
     },
     "inputWidgets": {},
     "nuid": "cd915b43-e950-4be4-ac13-7711573cedcc",
     "showTitle": false,
     "title": ""
    }
   },
   "outputs": [],
   "source": [
    "from sklearn.preprocessing import OneHotEncoder, StandardScaler, MinMaxScaler, RobustScaler, PowerTransformer\n",
    "\n",
    "# Standart Scaling\n",
    "standard_scaler = StandardScaler()\n",
    "X_train_scaled_std = standard_scaler.fit_transform(X_train.select_dtypes(include=\"number\").astype(\"float64\"))\n",
    "X_test_scaled_std = standard_scaler.transform(X_test.select_dtypes(include=\"number\").astype(\"float64\"))\n",
    "\n",
    "# MinMax Scaling\n",
    "scaler = MinMaxScaler()\n",
    "X_train_scaled_mm = scaler.fit_transform(X_train.select_dtypes(include=\"number\").astype(\"float64\"))\n",
    "X_test_scaled_mm = scaler.transform(X_test.select_dtypes(include=\"number\").astype(\"float64\"))\n",
    "\n",
    "# # Dealing with outliers by using Robust scaling and Power Tranform\n",
    "robust_scaler = RobustScaler()\n",
    "X_train_scaled_rb = robust_scaler.fit_transform(X_train.select_dtypes(include=\"number\").astype(\"float64\"))\n",
    "X_test_scaled_rb = robust_scaler.transform(X_test.select_dtypes(include=\"number\").astype(\"float64\"))\n",
    "\n",
    "power_tranformer = PowerTransformer(method='yeo-johnson')\n",
    "X_train_scaled_pw = power_tranformer.fit_transform(X_train_scaled_rb)\n",
    "X_test_sclaed_pw = power_tranformer.transform(X_test_scaled_rb)"
   ]
  },
  {
   "cell_type": "code",
   "execution_count": null,
   "metadata": {
    "application/vnd.databricks.v1+cell": {
     "cellMetadata": {
      "byteLimit": 2048000,
      "rowLimit": 10000
     },
     "inputWidgets": {},
     "nuid": "dff15b24-fefa-4cf6-9132-20a18568e086",
     "showTitle": false,
     "title": ""
    }
   },
   "outputs": [],
   "source": [
    "pd.DataFrame(X_train_scaled_std).describe()"
   ]
  },
  {
   "cell_type": "code",
   "execution_count": null,
   "metadata": {
    "application/vnd.databricks.v1+cell": {
     "cellMetadata": {
      "byteLimit": 2048000,
      "rowLimit": 10000
     },
     "inputWidgets": {},
     "nuid": "ca6c4f4c-0a85-446a-9365-f06a9e51510d",
     "showTitle": false,
     "title": ""
    }
   },
   "outputs": [],
   "source": [
    "pd.DataFrame(X_test_scaled_std).describe()"
   ]
  },
  {
   "cell_type": "code",
   "execution_count": null,
   "metadata": {
    "application/vnd.databricks.v1+cell": {
     "cellMetadata": {
      "byteLimit": 2048000,
      "rowLimit": 10000
     },
     "inputWidgets": {},
     "nuid": "7c638eb0-4fa5-4546-9c0b-4b3d250a3616",
     "showTitle": false,
     "title": ""
    }
   },
   "outputs": [],
   "source": [
    "pd.DataFrame(X_train_scaled_mm).describe()"
   ]
  },
  {
   "cell_type": "code",
   "execution_count": null,
   "metadata": {
    "application/vnd.databricks.v1+cell": {
     "cellMetadata": {
      "byteLimit": 2048000,
      "rowLimit": 10000
     },
     "inputWidgets": {},
     "nuid": "45ab98ab-2711-471f-a5e6-2ea27c9467fc",
     "showTitle": false,
     "title": ""
    }
   },
   "outputs": [],
   "source": [
    "pd.DataFrame(X_train_scaled_mm)"
   ]
  },
  {
   "cell_type": "code",
   "execution_count": null,
   "metadata": {
    "application/vnd.databricks.v1+cell": {
     "cellMetadata": {
      "byteLimit": 2048000,
      "rowLimit": 10000
     },
     "inputWidgets": {},
     "nuid": "b1421575-b33a-4f54-96e6-fc1bf4e6f927",
     "showTitle": false,
     "title": ""
    }
   },
   "outputs": [],
   "source": [
    "pd.DataFrame(X_train_scaled_rb).describe()"
   ]
  },
  {
   "cell_type": "code",
   "execution_count": null,
   "metadata": {
    "application/vnd.databricks.v1+cell": {
     "cellMetadata": {
      "byteLimit": 2048000,
      "rowLimit": 10000
     },
     "inputWidgets": {},
     "nuid": "6b0974b0-1381-4503-b5df-96ec738678e1",
     "showTitle": false,
     "title": ""
    }
   },
   "outputs": [],
   "source": [
    "pd.DataFrame(X_train_scaled_pw).describe()"
   ]
  },
  {
   "cell_type": "markdown",
   "metadata": {
    "application/vnd.databricks.v1+cell": {
     "cellMetadata": {},
     "inputWidgets": {},
     "nuid": "6e503d53-1277-4777-829b-f623a2dcbb4f",
     "showTitle": false,
     "title": ""
    }
   },
   "source": [
    "#### ML Pipeline"
   ]
  },
  {
   "cell_type": "code",
   "execution_count": null,
   "metadata": {
    "application/vnd.databricks.v1+cell": {
     "cellMetadata": {
      "byteLimit": 2048000,
      "rowLimit": 10000
     },
     "inputWidgets": {},
     "nuid": "a9701473-81e2-41d1-87e6-6a2cf40bee70",
     "showTitle": false,
     "title": ""
    }
   },
   "outputs": [],
   "source": [
    "numeric_transformer = Pipeline([('Scaler', StandardScaler())])\n",
    "\n",
    "categorical_transformer = Pipeline([('OHE', OneHotEncoder(drop=\"if_binary\", handle_unknown=\"ignore\"))])\n",
    "\n",
    "transformer = ColumnTransformer([('numeric', numeric_transformer, numerics.columns),\n",
    "                                 ('categoric', categorical_transformer, categorics.columns)])\n",
    "\n",
    "pipeline_model = Pipeline([('transform', transformer), ('prediction', RandomForestRegressor())])    \n",
    "\n",
    "pipeline_model.fit(X_train, y_train)\n",
    "\n",
    "y_pred = pipeline_model.predict(X_test)"
   ]
  },
  {
   "cell_type": "markdown",
   "metadata": {
    "application/vnd.databricks.v1+cell": {
     "cellMetadata": {},
     "inputWidgets": {},
     "nuid": "7004b60a-ffc1-449e-99f1-98ae5beeec7e",
     "showTitle": false,
     "title": ""
    }
   },
   "source": [
    "##### OHE"
   ]
  },
  {
   "cell_type": "code",
   "execution_count": null,
   "metadata": {
    "application/vnd.databricks.v1+cell": {
     "cellMetadata": {
      "byteLimit": 2048000,
      "rowLimit": 10000
     },
     "inputWidgets": {},
     "nuid": "b2616604-6b44-4a87-9b38-2e853d7a7672",
     "showTitle": false,
     "title": ""
    }
   },
   "outputs": [],
   "source": [
    "transformer.transformers_[1][1]['OHE'].get_feature_names(categorics.columns).tolist()"
   ]
  },
  {
   "cell_type": "code",
   "execution_count": null,
   "metadata": {
    "application/vnd.databricks.v1+cell": {
     "cellMetadata": {
      "byteLimit": 2048000,
      "rowLimit": 10000
     },
     "inputWidgets": {},
     "nuid": "d9c4629a-b4f0-41db-b436-294e97aec9df",
     "showTitle": false,
     "title": ""
    }
   },
   "outputs": [],
   "source": [
    "numeric_transformer = Pipeline([('Scaler', StandardScaler())])\n",
    "\n",
    "categorical_transformer = Pipeline([('OHE', OneHotEncoder(drop=\"if_binary\", handle_unknown=\"ignore\"))])\n",
    "\n",
    "transformer = ColumnTransformer([('numeric', numeric_transformer, numerics.columns),\n",
    "                                 ('categoric', categorical_transformer, categorics.columns)])\n",
    "# Fit the pipeline to obtain the transformed features\n",
    "transformed_features_Xtrain = transformer.fit_transform(X_train)\n",
    "\n",
    "# Get the column names of the transformed features\n",
    "transformed_feature_names_Xtrain = numerics.columns.tolist() + transformer.transformers_[1][1]['OHE'].get_feature_names(categorics.columns).tolist()\n",
    "\n",
    "# Convert the sparse matrix to a dense matrix\n",
    "transformed_features_dense_Xtrain = transformed_features_Xtrain.toarray()\n",
    "\n",
    "# Create a DataFrame with the transformed features and their names\n",
    "transformed_df_Xtrain = pd.DataFrame(transformed_features_dense_Xtrain, columns=transformed_feature_names_Xtrain)\n",
    "\n",
    "# Display the transformed DataFrame\n",
    "transformed_df_Xtrain.head()"
   ]
  },
  {
   "cell_type": "code",
   "execution_count": null,
   "metadata": {
    "application/vnd.databricks.v1+cell": {
     "cellMetadata": {
      "byteLimit": 2048000,
      "rowLimit": 10000
     },
     "inputWidgets": {},
     "nuid": "3deca735-2f3e-4ee0-906e-aec37b452730",
     "showTitle": false,
     "title": ""
    }
   },
   "outputs": [],
   "source": [
    "transformed_df_Xtrain.shape"
   ]
  },
  {
   "cell_type": "code",
   "execution_count": null,
   "metadata": {
    "application/vnd.databricks.v1+cell": {
     "cellMetadata": {
      "byteLimit": 2048000,
      "rowLimit": 10000
     },
     "inputWidgets": {},
     "nuid": "837fa8e0-72f6-43b4-8e91-c38d75ad22e6",
     "showTitle": false,
     "title": ""
    }
   },
   "outputs": [],
   "source": [
    "# Fit the pipeline to obtain the transformed features\n",
    "transformed_features_Xtest = transformer.fit_transform(X_test)\n",
    "\n",
    "# Get the column names of the transformed features\n",
    "transformed_feature_names_Xtest = numerics.columns.tolist() + transformer.transformers_[1][1]['OHE'].get_feature_names(categorics.columns).tolist()\n",
    "\n",
    "# Convert the sparse matrix to a dense matrix\n",
    "transformed_features_dense_Xtest = transformed_features_Xtest.toarray()\n",
    "\n",
    "# Create a DataFrame with the transformed features and their names\n",
    "transformed_df_Xtest = pd.DataFrame(transformed_features_dense_Xtest, columns=transformed_feature_names_Xtest)\n",
    "\n",
    "# Display the transformed DataFrame\n",
    "transformed_df_Xtest.head()"
   ]
  },
  {
   "cell_type": "code",
   "execution_count": null,
   "metadata": {
    "application/vnd.databricks.v1+cell": {
     "cellMetadata": {
      "byteLimit": 2048000,
      "rowLimit": 10000
     },
     "inputWidgets": {},
     "nuid": "6d75aed2-d5e4-4720-906e-5eef6541d365",
     "showTitle": false,
     "title": ""
    }
   },
   "outputs": [],
   "source": [
    "transformed_df_Xtest.shape"
   ]
  },
  {
   "cell_type": "code",
   "execution_count": null,
   "metadata": {
    "application/vnd.databricks.v1+cell": {
     "cellMetadata": {
      "byteLimit": 2048000,
      "rowLimit": 10000
     },
     "inputWidgets": {},
     "nuid": "7d75f346-e247-4f61-9187-c574ef698673",
     "showTitle": false,
     "title": ""
    }
   },
   "outputs": [],
   "source": [
    "# from lazypredict.Supervised import LazyClassifier, LazyRegressor\n",
    "# lazy_regressor = LazyRegressor(verbose=0, ignore_warnings=True, custom_metric=None, predictions=True)\n",
    "# models, predictions = lazy_regressor.fit(transformed_df_Xtrain.values,\n",
    "#                                          transformed_df_Xtest.values,\n",
    "#                                          y_train, \n",
    "#                                          y_test)"
   ]
  },
  {
   "cell_type": "code",
   "execution_count": null,
   "metadata": {
    "application/vnd.databricks.v1+cell": {
     "cellMetadata": {
      "byteLimit": 2048000,
      "rowLimit": 10000
     },
     "inputWidgets": {},
     "nuid": "428003b4-a388-48db-b2fd-b5d75c97290e",
     "showTitle": false,
     "title": ""
    }
   },
   "outputs": [],
   "source": [
    "models"
   ]
  },
  {
   "cell_type": "markdown",
   "metadata": {
    "application/vnd.databricks.v1+cell": {
     "cellMetadata": {},
     "inputWidgets": {},
     "nuid": "1cd638ea-cff7-494e-8307-4782a80dd2de",
     "showTitle": false,
     "title": ""
    }
   },
   "source": [
    "### Model Evaluation and Validation"
   ]
  },
  {
   "cell_type": "code",
   "execution_count": null,
   "metadata": {
    "application/vnd.databricks.v1+cell": {
     "cellMetadata": {
      "byteLimit": 2048000,
      "rowLimit": 10000
     },
     "inputWidgets": {},
     "nuid": "0bf63d23-d1be-4b57-80eb-00285a1a510e",
     "showTitle": false,
     "title": ""
    }
   },
   "outputs": [],
   "source": [
    "def eval_metric(y_test, y_pred):\n",
    "    r2 = r2_score(y_test, y_pred)\n",
    "    mae = mean_absolute_error(y_test, y_pred)\n",
    "    mse = mean_squared_error(y_test, y_pred)\n",
    "    rmse = np.sqrt(mse)\n",
    "    print(f\"r2 score: {r2.round(2)}\")\n",
    "    return r2, mae, mse, rmse\n",
    "\n",
    "\n",
    "r2, mae, mse, rmse = eval_metric(y_test, y_pred)\n",
    "print(\"****************************************************************************************************\")\n",
    "print(f\"Numeric Features: {numerics.columns.tolist()}\")\n",
    "print(\"****************************************************************************************************\")\n",
    "print(f\"Categoric Features: {categorics.columns.tolist()}\")\n",
    "print(\"****************************************************************************************************\")\n",
    "print(f\"Target: {target}\")\n",
    "print(\"****************************************************************************************************\")\n",
    "print(f\"{pipeline_model[-1]} >> r2: {r2}, MAE: {mae}, MSE: {mse}, RMSE: {rmse}\")\n",
    "print(\"****************************************************************************************************\")"
   ]
  },
  {
   "cell_type": "markdown",
   "metadata": {
    "application/vnd.databricks.v1+cell": {
     "cellMetadata": {},
     "inputWidgets": {},
     "nuid": "b5fd6585-bc98-44fc-9406-2c65174d1492",
     "showTitle": false,
     "title": ""
    }
   },
   "source": [
    "### Assignment-4\n",
    "  1- recap\n",
    "  2- feature_importance() arastir uygula"
   ]
  },
  {
   "cell_type": "markdown",
   "metadata": {
    "application/vnd.databricks.v1+cell": {
     "cellMetadata": {},
     "inputWidgets": {},
     "nuid": "2b18d38b-187c-4d3c-a4b9-44aa5f606b75",
     "showTitle": false,
     "title": ""
    }
   },
   "source": [
    "### Model Development and Training 2-Feature Importance"
   ]
  },
  {
   "cell_type": "markdown",
   "metadata": {
    "application/vnd.databricks.v1+cell": {
     "cellMetadata": {},
     "inputWidgets": {},
     "nuid": "055dd4a9-aba3-4edc-a609-c3718cc0cfa4",
     "showTitle": false,
     "title": ""
    }
   },
   "source": [
    "#### Feature Importance"
   ]
  },
  {
   "cell_type": "code",
   "execution_count": null,
   "metadata": {
    "application/vnd.databricks.v1+cell": {
     "cellMetadata": {
      "byteLimit": 2048000,
      "rowLimit": 10000
     },
     "inputWidgets": {},
     "nuid": "1b2fe4c8-a42d-45d9-a9e2-85d82fd3b029",
     "showTitle": false,
     "title": ""
    }
   },
   "outputs": [],
   "source": [
    "pipeline_model"
   ]
  },
  {
   "cell_type": "code",
   "execution_count": null,
   "metadata": {
    "application/vnd.databricks.v1+cell": {
     "cellMetadata": {
      "byteLimit": 2048000,
      "rowLimit": 10000
     },
     "inputWidgets": {},
     "nuid": "467d0f36-db7d-4bfc-b9cc-164c63bb5cbe",
     "showTitle": false,
     "title": ""
    }
   },
   "outputs": [],
   "source": [
    "pipeline_model.named_steps"
   ]
  },
  {
   "cell_type": "code",
   "execution_count": null,
   "metadata": {
    "application/vnd.databricks.v1+cell": {
     "cellMetadata": {
      "byteLimit": 2048000,
      "rowLimit": 10000
     },
     "inputWidgets": {},
     "nuid": "0ec6261b-2e40-45ce-b7b3-960ed8585e6d",
     "showTitle": false,
     "title": ""
    }
   },
   "outputs": [],
   "source": [
    "pipeline_model.named_steps[\"prediction\"]"
   ]
  },
  {
   "cell_type": "code",
   "execution_count": null,
   "metadata": {
    "application/vnd.databricks.v1+cell": {
     "cellMetadata": {
      "byteLimit": 2048000,
      "rowLimit": 10000
     },
     "inputWidgets": {},
     "nuid": "045b2524-b2e8-4fd3-bd22-b136ecf9ad33",
     "showTitle": false,
     "title": ""
    }
   },
   "outputs": [],
   "source": [
    "feature_importances = pipeline_model.named_steps[\"prediction\"].feature_importances_\n",
    "feature_importances"
   ]
  },
  {
   "cell_type": "code",
   "execution_count": null,
   "metadata": {
    "application/vnd.databricks.v1+cell": {
     "cellMetadata": {
      "byteLimit": 2048000,
      "rowLimit": 10000
     },
     "inputWidgets": {},
     "nuid": "2f036be1-d96f-45a5-9104-34c3b0efdfd7",
     "showTitle": false,
     "title": ""
    }
   },
   "outputs": [],
   "source": [
    "transformed_feature_names_Xtrain"
   ]
  },
  {
   "cell_type": "code",
   "execution_count": null,
   "metadata": {
    "application/vnd.databricks.v1+cell": {
     "cellMetadata": {
      "byteLimit": 2048000,
      "rowLimit": 10000
     },
     "inputWidgets": {},
     "nuid": "e9339470-6088-4c2a-9dbf-24c0e101f263",
     "showTitle": false,
     "title": ""
    }
   },
   "outputs": [],
   "source": [
    "feature_importance_dict = dict(zip(transformed_feature_names_Xtrain, feature_importances))\n",
    "feature_importance_dict "
   ]
  },
  {
   "cell_type": "code",
   "execution_count": null,
   "metadata": {
    "application/vnd.databricks.v1+cell": {
     "cellMetadata": {
      "byteLimit": 2048000,
      "rowLimit": 10000
     },
     "inputWidgets": {},
     "nuid": "5ebaf2bf-d4cc-4f4c-9a92-a00c317563ee",
     "showTitle": false,
     "title": ""
    }
   },
   "outputs": [],
   "source": [
    "sorted_feature_importances = sorted(feature_importance_dict.items(), key = lambda x:x[1], reverse=True)\n",
    "sorted_feature_importances"
   ]
  },
  {
   "cell_type": "code",
   "execution_count": null,
   "metadata": {
    "application/vnd.databricks.v1+cell": {
     "cellMetadata": {
      "byteLimit": 2048000,
      "rowLimit": 10000
     },
     "inputWidgets": {},
     "nuid": "bac6b7b3-83db-4591-a761-131084275ad4",
     "showTitle": false,
     "title": ""
    }
   },
   "outputs": [],
   "source": [
    "feature_names, importance = zip(*sorted_feature_importances)\n",
    "feature_names[0:12]"
   ]
  },
  {
   "cell_type": "code",
   "execution_count": null,
   "metadata": {
    "application/vnd.databricks.v1+cell": {
     "cellMetadata": {
      "byteLimit": 2048000,
      "rowLimit": 10000
     },
     "inputWidgets": {},
     "nuid": "0d7c60d2-8c69-441a-9077-aeac3a482126",
     "showTitle": false,
     "title": ""
    }
   },
   "outputs": [],
   "source": [
    "feature_names[0:12]"
   ]
  },
  {
   "cell_type": "code",
   "execution_count": null,
   "metadata": {
    "application/vnd.databricks.v1+cell": {
     "cellMetadata": {
      "byteLimit": 2048000,
      "rowLimit": 10000
     },
     "inputWidgets": {},
     "nuid": "0c9f05e2-63c6-4f72-9bcd-523124089f7e",
     "showTitle": false,
     "title": ""
    }
   },
   "outputs": [],
   "source": [
    "df['unterstützung_%'].value_counts()"
   ]
  },
  {
   "cell_type": "code",
   "execution_count": null,
   "metadata": {
    "application/vnd.databricks.v1+cell": {
     "cellMetadata": {
      "byteLimit": 2048000,
      "rowLimit": 10000
     },
     "inputWidgets": {},
     "nuid": "19fccdf0-1ef6-4b14-aa5d-73951083a01d",
     "showTitle": false,
     "title": ""
    }
   },
   "outputs": [],
   "source": [
    "target = \"uvp_€\"\n",
    "\n",
    "X = df[['gabel_federweg_mm',\n",
    "        'akkukapazität_wh',\n",
    "        'rahmenmaterial',\n",
    "        'sattel',\n",
    "        'bremse_vorne',\n",
    "        'schaltwerk',\n",
    "        'kategorie',\n",
    "        'hersteller']]\n",
    "\n",
    "y = df[target]\n",
    "\n",
    "X_train, X_test, y_train, y_test  = train_test_split(X, y, \n",
    "                                                     test_size=0.2, \n",
    "                                                     random_state=42, \n",
    "                                                     shuffle=True)\n",
    "\n",
    "shape_control(df, X_train, y_train, X_test, y_test)\n",
    "\n",
    "numerics = X.select_dtypes(include=\"number\").astype(\"float64\")\n",
    "categorics = X.select_dtypes(include=[\"object\", \"category\", \"bool\"])"
   ]
  },
  {
   "cell_type": "code",
   "execution_count": null,
   "metadata": {
    "application/vnd.databricks.v1+cell": {
     "cellMetadata": {
      "byteLimit": 2048000,
      "rowLimit": 10000
     },
     "inputWidgets": {},
     "nuid": "84f76513-7919-4ffc-b341-952ffd91cac4",
     "showTitle": false,
     "title": ""
    }
   },
   "outputs": [],
   "source": [
    "from sklearn.preprocessing import OneHotEncoder, StandardScaler, MinMaxScaler, RobustScaler, PowerTransformer\n",
    "\n",
    "numeric_transformer = Pipeline([('Scaler', StandardScaler()), \n",
    "                                ('R_Scaler', RobustScaler()),\n",
    "                                ('Pw_Scaler', PowerTransformer())])\n",
    "\n",
    "categorical_transformer = Pipeline([('OHE', OneHotEncoder(handle_unknown=\"ignore\"))])\n",
    "\n",
    "transformer = ColumnTransformer([('numeric', numeric_transformer, numerics.columns),\n",
    "                                 ('categoric', categorical_transformer, categorics.columns)])\n",
    "\n",
    "pipeline_model = Pipeline([('transform', transformer), ('prediction', RandomForestRegressor())])    \n",
    "\n",
    "pipeline_model.fit(X_train, y_train)\n",
    "\n",
    "y_pred = pipeline_model.predict(X_test)"
   ]
  },
  {
   "cell_type": "code",
   "execution_count": null,
   "metadata": {
    "application/vnd.databricks.v1+cell": {
     "cellMetadata": {
      "byteLimit": 2048000,
      "rowLimit": 10000
     },
     "inputWidgets": {},
     "nuid": "b0031c94-3b49-416f-b93e-941c7380b0a6",
     "showTitle": false,
     "title": ""
    }
   },
   "outputs": [],
   "source": [
    "def eval_metric(y_test, y_pred):\n",
    "    r2 = r2_score(y_test, y_pred)\n",
    "    mae = mean_absolute_error(y_test, y_pred)\n",
    "    mse = mean_squared_error(y_test, y_pred)\n",
    "    rmse = np.sqrt(mse)\n",
    "    print(f\"r2 score: {r2.round(2)}\")\n",
    "    return r2, mae, mse, rmse\n",
    "\n",
    "r2, mae, mse, rmse = eval_metric(y_test, y_pred)\n",
    "print(\"****************************************************************************************************\")\n",
    "print(f\"Numeric Features: {numerics.columns.tolist()}\")\n",
    "print(\"****************************************************************************************************\")\n",
    "print(f\"Categoric Features: {categorics.columns.tolist()}\")\n",
    "print(\"****************************************************************************************************\")\n",
    "print(f\"Target: {target}\")\n",
    "print(\"****************************************************************************************************\")\n",
    "print(f\"{pipeline_model[-1]} >> r2: {r2}, MAE: {mae}, MSE: {mse}, RMSE: {rmse}\")\n",
    "print(\"****************************************************************************************************\")"
   ]
  },
  {
   "cell_type": "markdown",
   "metadata": {
    "application/vnd.databricks.v1+cell": {
     "cellMetadata": {},
     "inputWidgets": {},
     "nuid": "2349cd77-4e62-41d0-bea7-ea7d47faa145",
     "showTitle": false,
     "title": ""
    }
   },
   "source": [
    "### Assignment-5\n",
    "    1- recap\n",
    "    2- outlier detection - boxplotlar ile gorsellestirme\n",
    "    3- handling with outliers - sinir degerlerine cekme veya uzaklastima\n",
    "    4- randomforest ile en iyi ozellikleri tespit etme (optimizayson: en yüksek r2scoreu veren optimum sayida feature alinmasi - %99 basariyi 2 feature ile veya 3feature ile elde etme)\n",
    "    5- SHAP ile feature importance\n",
    "    6- Hyperparametre Optimization (Grid Search CV - OPTUNA)"
   ]
  },
  {
   "cell_type": "markdown",
   "metadata": {
    "application/vnd.databricks.v1+cell": {
     "cellMetadata": {},
     "inputWidgets": {},
     "nuid": "3d827830-31a3-4a3b-bb72-f4fee41db8cc",
     "showTitle": false,
     "title": ""
    }
   },
   "source": [
    "### Model Development and Training 3-First Insights"
   ]
  },
  {
   "cell_type": "code",
   "execution_count": null,
   "metadata": {
    "application/vnd.databricks.v1+cell": {
     "cellMetadata": {
      "byteLimit": 2048000,
      "rowLimit": 10000
     },
     "inputWidgets": {},
     "nuid": "6e1f02b6-c824-4259-bd69-db2f7d0fc792",
     "showTitle": false,
     "title": ""
    }
   },
   "outputs": [],
   "source": [
    "transformed_df_Xtrain.head()"
   ]
  },
  {
   "cell_type": "code",
   "execution_count": null,
   "metadata": {
    "application/vnd.databricks.v1+cell": {
     "cellMetadata": {
      "byteLimit": 2048000,
      "rowLimit": 10000
     },
     "inputWidgets": {},
     "nuid": "70886256-6b4a-4e7e-a8ad-7c21d6acb2e0",
     "showTitle": false,
     "title": ""
    }
   },
   "outputs": [],
   "source": [
    "# #  Deails are in \"functions_lib.py\"\n",
    "# model_selection(transformed_df_Xtrain.values, y_train)"
   ]
  },
  {
   "cell_type": "markdown",
   "metadata": {
    "application/vnd.databricks.v1+cell": {
     "cellMetadata": {
      "byteLimit": 2048000,
      "rowLimit": 10000
     },
     "inputWidgets": {},
     "nuid": "5757d660-3df3-4cd2-a879-9df1ff97cc9b",
     "showTitle": false,
     "title": ""
    }
   },
   "source": [
    "#### First Insights to Models by Overall Train & Test Scores"
   ]
  },
  {
   "cell_type": "code",
   "execution_count": null,
   "metadata": {
    "application/vnd.databricks.v1+cell": {
     "cellMetadata": {
      "byteLimit": 2048000,
      "rowLimit": 10000
     },
     "inputWidgets": {},
     "nuid": "ff34e0f8-1115-4e6f-8d31-7b14fce6bf7e",
     "showTitle": false,
     "title": ""
    }
   },
   "outputs": [],
   "source": [
    "# Models\n",
    "%matplotlib inline\n",
    "models = []\n",
    "models.append((\"LR\", LinearRegression()))  \n",
    "models.append((\"DTR\", DecisionTreeRegressor(random_state=42)))  \n",
    "models.append((\"RFR\", RandomForestRegressor(random_state=42)))  \n",
    "models.append((\"KNN\", KNeighborsRegressor()))\n",
    "models.append((\"SVR\", SVR()))  \n",
    "models.append((\"ADA\", AdaBoostRegressor(random_state=42)))\n",
    "models.append((\"GBR\", GradientBoostingRegressor(random_state=42)))\n",
    "models.append((\"ExtraTrees\", ExtraTreesRegressor(random_state=42)))\n",
    "\n",
    "\n",
    "# Evaluate each model in turn\n",
    "results = []\n",
    "names = []\n",
    "r2_scores = []\n",
    "mae_scores = []\n",
    "mse_scores = []\n",
    "rmse_scores = []\n",
    "n_splits = 10\n",
    "\n",
    "for name, model in models:\n",
    "    pipe = Pipeline([('transform', transformer), ('model', model)])    \n",
    "    kfold = KFold(n_splits=n_splits, random_state=42, shuffle=True)\n",
    "    cv_results = cross_val_score(pipe, X_train, y_train, cv=kfold)\n",
    "    \n",
    "    results.append(cv_results)\n",
    "    names.append(name)\n",
    "    \n",
    "    \n",
    "    print(f\"{name} ~ CV Train Scores: {round(cv_results.mean(), 4)}\")\n",
    "\n",
    "    pipemodel = pipe.fit(X_train, y_train)\n",
    "    y_pred = pipemodel.predict(X_test)\n",
    "\n",
    "   \n",
    "    r2_scores.append(r2_score(y_test, y_pred))\n",
    "    mae_scores.append(mean_absolute_error(y_test, y_pred))\n",
    "    mse_scores.append(mean_squared_error(y_test, y_pred))\n",
    "    rmse_scores.append(np.sqrt(mse))\n",
    "\n",
    "\n",
    "# result_df = pd.DataFrame(results, columns=[i for i in range(1, n_splits+1)], index=names).T\n",
    "# layout = cf.Layout(height=300, width=800, title=\"CV Results ~ Validation Scores\")\n",
    "# result_df.iplot(kind=\"box\", boxpoints=\"all\", layout=layout)\n",
    "\n",
    "compare = pd.DataFrame({\"R2\": r2_scores,\n",
    "                        \"MAE\": mae_scores,\n",
    "                        \"MSE\": mse_scores,\n",
    "                        \"RMSE\": rmse_scores\n",
    "                       }, index=names)\n",
    "\n",
    "# compare.to_csv(f\"{dataset}_and_used_in_models_with default parameters.csv\")\n",
    "\n",
    "print(f\"Test Scores:\\n\", compare)\n",
    "\n",
    "# for score in compare.columns:\n",
    "#     layout = cf.Layout(height=260, width=800, title=f\"{score} Scores for Test Dataset\")\n",
    "#     compare[score].sort_values().iplot(kind=\"barh\", color=\"blue\", layout=layout)\n",
    "# # https://plotly.com/python/horizontal-bar-charts/\n",
    "# # https://plotly.com/python/renderers/\n",
    "# # https://plotly.com/python/creating-and-updating-figures/"
   ]
  },
  {
   "cell_type": "code",
   "execution_count": null,
   "metadata": {
    "application/vnd.databricks.v1+cell": {
     "cellMetadata": {
      "byteLimit": 2048000,
      "rowLimit": 10000
     },
     "inputWidgets": {},
     "nuid": "fbcd3b13-a4bb-47d9-9695-5098314779cb",
     "showTitle": false,
     "title": ""
    }
   },
   "outputs": [],
   "source": [
    "result_df "
   ]
  },
  {
   "cell_type": "code",
   "execution_count": null,
   "metadata": {
    "application/vnd.databricks.v1+cell": {
     "cellMetadata": {
      "byteLimit": 2048000,
      "rowLimit": 10000
     },
     "inputWidgets": {},
     "nuid": "c0adc514-ca5a-4fae-9fcf-091bd1e6e253",
     "showTitle": false,
     "title": ""
    }
   },
   "outputs": [],
   "source": [
    "result_df.plot(kind=\"box\")"
   ]
  },
  {
   "cell_type": "code",
   "execution_count": null,
   "metadata": {
    "application/vnd.databricks.v1+cell": {
     "cellMetadata": {
      "byteLimit": 2048000,
      "rowLimit": 10000
     },
     "inputWidgets": {},
     "nuid": "a97193d3-2c21-463e-ad17-d3834de69f1a",
     "showTitle": false,
     "title": ""
    }
   },
   "outputs": [],
   "source": [
    "compare.sort_values(by=[\"R2\"], ascending=False)"
   ]
  },
  {
   "cell_type": "markdown",
   "metadata": {
    "application/vnd.databricks.v1+cell": {
     "cellMetadata": {
      "byteLimit": 2048000,
      "rowLimit": 10000
     },
     "inputWidgets": {},
     "nuid": "2963fd27-c83c-4744-a0ad-f060fe2f3dc0",
     "showTitle": false,
     "title": ""
    }
   },
   "source": [
    "#### Catboost, XGBoost, LightGBM by Default Parameters"
   ]
  },
  {
   "cell_type": "code",
   "execution_count": null,
   "metadata": {
    "application/vnd.databricks.v1+cell": {
     "cellMetadata": {
      "byteLimit": 2048000,
      "rowLimit": 10000
     },
     "inputWidgets": {},
     "nuid": "c8bf9d12-0ee5-496b-891d-d880da293ff5",
     "showTitle": false,
     "title": ""
    }
   },
   "outputs": [],
   "source": [
    "\n",
    "# Models\n",
    "models = []\n",
    "models.append((\"XGB\", XGBRegressor(random_state=42, \n",
    "                                    verbosity = 0\n",
    "                                   )))\n",
    "models.append((\"LGB\", LGBMRegressor(random_state=42\n",
    "                                    )))\n",
    "models.append((\"CAT\", CatBoostRegressor(random_state=42,\n",
    "                                         verbose=0, \n",
    "                                         cat_features=categorics.columns.to_list()\n",
    "                                        )))\n",
    "\n",
    "# Evaluate each model in turn\n",
    "results = []\n",
    "names = []\n",
    "r2_scores = []\n",
    "mae_scores = []\n",
    "mse_scores = []\n",
    "rmse_scores = []\n",
    "n_splits = 10\n",
    "\n",
    "for name, model in models:\n",
    "    if name != \"CAT\":\n",
    "        pipe = Pipeline([('transform', transformer), ('model', model)])    \n",
    "        kfold = KFold(n_splits=n_splits, random_state=42, shuffle=True)\n",
    "        cv_results = cross_val_score(pipe, X_train, y_train, cv=kfold)\n",
    "\n",
    "        results.append(cv_results)\n",
    "        names.append(name)\n",
    "\n",
    "        print(f\"{name} MODEL ~ CV Validation Scores: {round(cv_results.mean(), 3)}\")\n",
    "        y_pred = pipe.fit(X_train, y_train).predict(X_test)\n",
    "    \n",
    "        r2_scores.append(r2_score(y_test, y_pred))\n",
    "        mae_scores.append(mean_absolute_error(y_test, y_pred))\n",
    "        mse_scores.append(mean_squared_error(y_test, y_pred))\n",
    "        rmse_scores.append(np.sqrt(mse))\n",
    "\n",
    "       \n",
    "    else:\n",
    "        \n",
    "        kfold = KFold(n_splits=n_splits, random_state=42, shuffle=True)\n",
    "        cv_results = cross_val_score(model, X_train, y_train, cv=kfold)\n",
    "\n",
    "        results.append(cv_results)\n",
    "        names.append(name)\n",
    "\n",
    "        print(f\"{name} MODEL ~ CV Validation Scores: {round(cv_results.mean(), 3)}\")\n",
    "        \n",
    "        y_pred = model.fit(X_train, y_train,cat_features=categorics.columns.to_list()).predict(X_test)\n",
    "\n",
    "        r2_scores.append(r2_score(y_test, y_pred))\n",
    "        mae_scores.append(mean_absolute_error(y_test, y_pred))\n",
    "        mse_scores.append(mean_squared_error(y_test, y_pred))\n",
    "        rmse_scores.append(np.sqrt(mse))\n",
    "\n",
    "\n",
    "result_df = pd.DataFrame(results, columns=[i for i in range(1, n_splits+1)], index=names).T\n",
    "layout = cf.Layout(height=300, width=800, title=\"CV Results ~ Validation Scores\")\n",
    "result_df.iplot(kind=\"box\", boxpoints=\"all\", layout=layout)\n",
    "\n",
    "compare_ = pd.DataFrame({\"R2\": r2_scores,\n",
    "                        \"MAE\": mae_scores,\n",
    "                        \"MSE\": mse_scores,\n",
    "                        \"RMSE\": rmse_scores\n",
    "                       }, index=names)\n",
    "\n",
    "# compare_.to_csv(f\"{dataset}_and_used_in_models_with_default_parameters_boostings_1.csv\")\n",
    "\n",
    "print(f\"Test Scores:\\n\", compare_)\n",
    "    \n",
    "for score in compare_.columns:\n",
    "    layout = cf.Layout(height=250, width=800, title=f\"{score} Scores for Test Dataset\")\n",
    "    compare_[score].sort_values().iplot(kind=\"barh\", color=\"blue\", layout=layout)\n",
    "# https://plotly.com/python/horizontal-bar-charts/\n",
    "# https://plotly.com/python/renderers/\n",
    "# https://plotly.com/python/creating-and-updating-figures/"
   ]
  },
  {
   "cell_type": "code",
   "execution_count": null,
   "metadata": {
    "application/vnd.databricks.v1+cell": {
     "cellMetadata": {},
     "inputWidgets": {},
     "nuid": "16900766-9a97-4f5d-8582-ba0e46abac5c",
     "showTitle": false,
     "title": ""
    }
   },
   "outputs": [],
   "source": [
    "compare_.sort_values(by=[\"R2\"], ascending=False)"
   ]
  },
  {
   "cell_type": "code",
   "execution_count": null,
   "metadata": {
    "application/vnd.databricks.v1+cell": {
     "cellMetadata": {},
     "inputWidgets": {},
     "nuid": "45d07e93-2bb2-4dcf-9e47-0c531f8f372f",
     "showTitle": false,
     "title": ""
    }
   },
   "outputs": [],
   "source": [
    "compare_models = pd.concat([compare, compare_])\n",
    "compare_models.sort_values(by=[\"R2\"], ascending=False)\n",
    "# Test and Trainin scores of all selected models"
   ]
  },
  {
   "cell_type": "markdown",
   "metadata": {
    "application/vnd.databricks.v1+cell": {
     "cellMetadata": {},
     "inputWidgets": {},
     "nuid": "52a403f9-c01a-4295-af87-b7cec80d880a",
     "showTitle": false,
     "title": ""
    }
   },
   "source": [
    "### Assignment-6\n",
    "    1- recap\n",
    "    2- outlier detection - boxplotlar ile gorsellestirme\n",
    "    3- handling with outliers - sinir degerlerine cekme veya uzaklastima\n",
    "    4- randomforest ile en iyi ozellikleri tespit etme (optimizayson: en yüksek r2scoreu veren optimum sayida feature alinmasi - %99 basariyi 2 feature ile veya 3feature ile elde etme)\n",
    "    5- SHAP ile feature importance\n",
    "\n",
    "    \n",
    "    6- Hyperparametre Optimization with OPTUNA\n",
    "    7- Ploty hatasini cozme"
   ]
  },
  {
   "cell_type": "markdown",
   "metadata": {
    "application/vnd.databricks.v1+cell": {
     "cellMetadata": {},
     "inputWidgets": {},
     "nuid": "4bf4b13c-0f2f-4dfb-b8af-9abf2bc00061",
     "showTitle": false,
     "title": ""
    }
   },
   "source": [
    "### Assignment-7\n",
    "    5-(SHAP ile) feature importance\n",
    "    6- Secilmis featurelar ile Hyperparametre Optimization with OPTUNA\n",
    "    7- tuned edilmis edilmis modeli elde etme ve kaydetme (pickle arastirma)"
   ]
  },
  {
   "cell_type": "markdown",
   "metadata": {
    "application/vnd.databricks.v1+cell": {
     "cellMetadata": {},
     "inputWidgets": {},
     "nuid": "867731d4-4797-47cc-8280-2bfd4f6d65f5",
     "showTitle": false,
     "title": ""
    }
   },
   "source": [
    "### Model Development and Training 4-Feature Impportance|SHAP|Optuna"
   ]
  },
  {
   "cell_type": "code",
   "execution_count": null,
   "metadata": {
    "application/vnd.databricks.v1+cell": {
     "cellMetadata": {},
     "inputWidgets": {},
     "nuid": "33d6310f-252f-422f-a9ee-a7d147417ecd",
     "showTitle": false,
     "title": ""
    }
   },
   "outputs": [],
   "source": [
    "df[['gabel_federweg_mm',\n",
    "    'akkukapazität_wh',\n",
    "    'rahmenmaterial',\n",
    "    'sattel',\n",
    "    'bremse_vorne',\n",
    "    'schaltwerk',\n",
    "    'kategorie',\n",
    "    'hersteller']] # linear regression"
   ]
  },
  {
   "cell_type": "markdown",
   "metadata": {
    "application/vnd.databricks.v1+cell": {
     "cellMetadata": {},
     "inputWidgets": {},
     "nuid": "2ae1f530-6881-4cc2-9fab-4733ecb83eca",
     "showTitle": false,
     "title": ""
    }
   },
   "source": [
    "##### Save \"rf\" model"
   ]
  },
  {
   "cell_type": "code",
   "execution_count": null,
   "metadata": {
    "application/vnd.databricks.v1+cell": {
     "cellMetadata": {},
     "inputWidgets": {},
     "nuid": "c8ec6566-a04e-4f27-ad03-fc1fb9b6f075",
     "showTitle": false,
     "title": ""
    }
   },
   "outputs": [],
   "source": []
  },
  {
   "cell_type": "code",
   "execution_count": null,
   "metadata": {
    "application/vnd.databricks.v1+cell": {
     "cellMetadata": {
      "byteLimit": 2048000,
      "rowLimit": 10000
     },
     "inputWidgets": {},
     "nuid": "6eeab66e-20a3-4596-a7fb-73fa320f3d81",
     "showTitle": false,
     "title": ""
    }
   },
   "outputs": [],
   "source": [
    "pip install xgboost\n",
    "pip install catboost\n",
    "pip install cufflinks\n",
    "pip install plotly\n",
    "pip install optuna"
   ]
  },
  {
   "cell_type": "code",
   "execution_count": null,
   "metadata": {
    "application/vnd.databricks.v1+cell": {
     "cellMetadata": {
      "byteLimit": 2048000,
      "rowLimit": 10000
     },
     "inputWidgets": {},
     "nuid": "d12494cc-b2c5-40a9-bd08-0ef86fed3ab5",
     "showTitle": false,
     "title": ""
    }
   },
   "outputs": [
    {
     "name": "stdout",
     "output_type": "stream",
     "text": [
      "Python interpreter will be restarted.\n",
      "Requirement already satisfied: xgboost in /databricks/python3/lib/python3.9/site-packages (1.6.2)\n",
      "Requirement already satisfied: numpy in /databricks/python3/lib/python3.9/site-packages (from xgboost) (1.20.3)\n",
      "Requirement already satisfied: scipy in /databricks/python3/lib/python3.9/site-packages (from xgboost) (1.7.1)\n",
      "Python interpreter will be restarted.\n"
     ]
    }
   ],
   "source": [
    "pip install xgboost"
   ]
  },
  {
   "cell_type": "code",
   "execution_count": null,
   "metadata": {
    "application/vnd.databricks.v1+cell": {
     "cellMetadata": {
      "byteLimit": 2048000,
      "rowLimit": 10000
     },
     "inputWidgets": {},
     "nuid": "9b349330-aafc-4d24-9a2a-9b563b53854b",
     "showTitle": false,
     "title": ""
    }
   },
   "outputs": [
    {
     "name": "stdout",
     "output_type": "stream",
     "text": [
      "Python interpreter will be restarted.\n",
      "Collecting cufflinks\n",
      "  Downloading cufflinks-0.17.3.tar.gz (81 kB)\n",
      "Requirement already satisfied: numpy>=1.9.2 in /databricks/python3/lib/python3.9/site-packages (from cufflinks) (1.20.3)\n",
      "Requirement already satisfied: pandas>=0.19.2 in /databricks/python3/lib/python3.9/site-packages (from cufflinks) (1.3.4)\n",
      "Requirement already satisfied: plotly>=4.1.1 in /databricks/python3/lib/python3.9/site-packages (from cufflinks) (5.9.0)\n",
      "Requirement already satisfied: six>=1.9.0 in /databricks/python3/lib/python3.9/site-packages (from cufflinks) (1.16.0)\n",
      "Collecting colorlover>=0.2.1\n",
      "  Downloading colorlover-0.3.0-py3-none-any.whl (8.9 kB)\n",
      "Requirement already satisfied: setuptools>=34.4.1 in /usr/local/lib/python3.9/dist-packages (from cufflinks) (58.0.4)\n",
      "Requirement already satisfied: ipython>=5.3.0 in /databricks/python3/lib/python3.9/site-packages (from cufflinks) (7.32.0)\n",
      "Requirement already satisfied: ipywidgets>=7.0.0 in /databricks/python3/lib/python3.9/site-packages (from cufflinks) (7.7.0)\n",
      "Requirement already satisfied: prompt-toolkit!=3.0.0,!=3.0.1,<3.1.0,>=2.0.0 in /databricks/python3/lib/python3.9/site-packages (from ipython>=5.3.0->cufflinks) (3.0.20)\n",
      "Requirement already satisfied: traitlets>=4.2 in /databricks/python3/lib/python3.9/site-packages (from ipython>=5.3.0->cufflinks) (5.1.0)\n",
      "Requirement already satisfied: pexpect>4.3 in /databricks/python3/lib/python3.9/site-packages (from ipython>=5.3.0->cufflinks) (4.8.0)\n",
      "Requirement already satisfied: pygments in /databricks/python3/lib/python3.9/site-packages (from ipython>=5.3.0->cufflinks) (2.10.0)\n",
      "Requirement already satisfied: decorator in /databricks/python3/lib/python3.9/site-packages (from ipython>=5.3.0->cufflinks) (5.1.0)\n",
      "Requirement already satisfied: jedi>=0.16 in /databricks/python3/lib/python3.9/site-packages (from ipython>=5.3.0->cufflinks) (0.18.0)\n",
      "Requirement already satisfied: backcall in /databricks/python3/lib/python3.9/site-packages (from ipython>=5.3.0->cufflinks) (0.2.0)\n",
      "Requirement already satisfied: pickleshare in /databricks/python3/lib/python3.9/site-packages (from ipython>=5.3.0->cufflinks) (0.7.5)\n",
      "Requirement already satisfied: matplotlib-inline in /databricks/python3/lib/python3.9/site-packages (from ipython>=5.3.0->cufflinks) (0.1.2)\n",
      "Requirement already satisfied: widgetsnbextension~=3.6.0 in /databricks/python3/lib/python3.9/site-packages (from ipywidgets>=7.0.0->cufflinks) (3.6.0)\n",
      "Requirement already satisfied: ipython-genutils~=0.2.0 in /databricks/python3/lib/python3.9/site-packages (from ipywidgets>=7.0.0->cufflinks) (0.2.0)\n",
      "Requirement already satisfied: nbformat>=4.2.0 in /databricks/python3/lib/python3.9/site-packages (from ipywidgets>=7.0.0->cufflinks) (5.1.3)\n",
      "Requirement already satisfied: jupyterlab-widgets>=1.0.0 in /databricks/python3/lib/python3.9/site-packages (from ipywidgets>=7.0.0->cufflinks) (1.0.0)\n",
      "Requirement already satisfied: ipykernel>=4.5.1 in /databricks/python3/lib/python3.9/site-packages (from ipywidgets>=7.0.0->cufflinks) (6.12.1)\n",
      "Requirement already satisfied: tornado>=6.1 in /databricks/python3/lib/python3.9/site-packages (from ipykernel>=4.5.1->ipywidgets>=7.0.0->cufflinks) (6.1)\n",
      "Requirement already satisfied: jupyter-client>=6.1.12 in /databricks/python3/lib/python3.9/site-packages (from ipykernel>=4.5.1->ipywidgets>=7.0.0->cufflinks) (6.1.12)\n",
      "Requirement already satisfied: debugpy>=1.0 in /databricks/python3/lib/python3.9/site-packages (from ipykernel>=4.5.1->ipywidgets>=7.0.0->cufflinks) (1.4.1)\n",
      "Requirement already satisfied: packaging in /databricks/python3/lib/python3.9/site-packages (from ipykernel>=4.5.1->ipywidgets>=7.0.0->cufflinks) (21.0)\n",
      "Requirement already satisfied: psutil in /databricks/python3/lib/python3.9/site-packages (from ipykernel>=4.5.1->ipywidgets>=7.0.0->cufflinks) (5.8.0)\n",
      "Requirement already satisfied: nest-asyncio in /databricks/python3/lib/python3.9/site-packages (from ipykernel>=4.5.1->ipywidgets>=7.0.0->cufflinks) (1.5.1)\n",
      "Requirement already satisfied: parso<0.9.0,>=0.8.0 in /databricks/python3/lib/python3.9/site-packages (from jedi>=0.16->ipython>=5.3.0->cufflinks) (0.8.2)\n",
      "Requirement already satisfied: python-dateutil>=2.1 in /databricks/python3/lib/python3.9/site-packages (from jupyter-client>=6.1.12->ipykernel>=4.5.1->ipywidgets>=7.0.0->cufflinks) (2.8.2)\n",
      "Requirement already satisfied: jupyter-core>=4.6.0 in /databricks/python3/lib/python3.9/site-packages (from jupyter-client>=6.1.12->ipykernel>=4.5.1->ipywidgets>=7.0.0->cufflinks) (4.8.1)\n",
      "Requirement already satisfied: pyzmq>=13 in /databricks/python3/lib/python3.9/site-packages (from jupyter-client>=6.1.12->ipykernel>=4.5.1->ipywidgets>=7.0.0->cufflinks) (22.2.1)\n",
      "Requirement already satisfied: jsonschema!=2.5.0,>=2.4 in /databricks/python3/lib/python3.9/site-packages (from nbformat>=4.2.0->ipywidgets>=7.0.0->cufflinks) (3.2.0)\n",
      "Requirement already satisfied: pyrsistent>=0.14.0 in /databricks/python3/lib/python3.9/site-packages (from jsonschema!=2.5.0,>=2.4->nbformat>=4.2.0->ipywidgets>=7.0.0->cufflinks) (0.18.0)\n",
      "Requirement already satisfied: attrs>=17.4.0 in /databricks/python3/lib/python3.9/site-packages (from jsonschema!=2.5.0,>=2.4->nbformat>=4.2.0->ipywidgets>=7.0.0->cufflinks) (21.2.0)\n",
      "Requirement already satisfied: pytz>=2017.3 in /databricks/python3/lib/python3.9/site-packages (from pandas>=0.19.2->cufflinks) (2021.3)\n",
      "Requirement already satisfied: ptyprocess>=0.5 in /databricks/python3/lib/python3.9/site-packages (from pexpect>4.3->ipython>=5.3.0->cufflinks) (0.7.0)\n",
      "Requirement already satisfied: tenacity>=6.2.0 in /databricks/python3/lib/python3.9/site-packages (from plotly>=4.1.1->cufflinks) (8.0.1)\n",
      "Requirement already satisfied: wcwidth in /databricks/python3/lib/python3.9/site-packages (from prompt-toolkit!=3.0.0,!=3.0.1,<3.1.0,>=2.0.0->ipython>=5.3.0->cufflinks) (0.2.5)\n",
      "Requirement already satisfied: notebook>=4.4.1 in /databricks/python3/lib/python3.9/site-packages (from widgetsnbextension~=3.6.0->ipywidgets>=7.0.0->cufflinks) (6.4.5)\n",
      "Requirement already satisfied: jinja2 in /databricks/python3/lib/python3.9/site-packages (from notebook>=4.4.1->widgetsnbextension~=3.6.0->ipywidgets>=7.0.0->cufflinks) (2.11.3)\n",
      "Requirement already satisfied: terminado>=0.8.3 in /databricks/python3/lib/python3.9/site-packages (from notebook>=4.4.1->widgetsnbextension~=3.6.0->ipywidgets>=7.0.0->cufflinks) (0.9.4)\n",
      "Requirement already satisfied: argon2-cffi in /databricks/python3/lib/python3.9/site-packages (from notebook>=4.4.1->widgetsnbextension~=3.6.0->ipywidgets>=7.0.0->cufflinks) (20.1.0)\n",
      "Requirement already satisfied: nbconvert in /databricks/python3/lib/python3.9/site-packages (from notebook>=4.4.1->widgetsnbextension~=3.6.0->ipywidgets>=7.0.0->cufflinks) (6.1.0)\n",
      "Requirement already satisfied: prometheus-client in /databricks/python3/lib/python3.9/site-packages (from notebook>=4.4.1->widgetsnbextension~=3.6.0->ipywidgets>=7.0.0->cufflinks) (0.11.0)\n",
      "Requirement already satisfied: Send2Trash>=1.5.0 in /databricks/python3/lib/python3.9/site-packages (from notebook>=4.4.1->widgetsnbextension~=3.6.0->ipywidgets>=7.0.0->cufflinks) (1.8.0)\n",
      "Requirement already satisfied: cffi>=1.0.0 in /databricks/python3/lib/python3.9/site-packages (from argon2-cffi->notebook>=4.4.1->widgetsnbextension~=3.6.0->ipywidgets>=7.0.0->cufflinks) (1.14.6)\n",
      "Requirement already satisfied: pycparser in /databricks/python3/lib/python3.9/site-packages (from cffi>=1.0.0->argon2-cffi->notebook>=4.4.1->widgetsnbextension~=3.6.0->ipywidgets>=7.0.0->cufflinks) (2.20)\n",
      "Requirement already satisfied: MarkupSafe>=0.23 in /databricks/python3/lib/python3.9/site-packages (from jinja2->notebook>=4.4.1->widgetsnbextension~=3.6.0->ipywidgets>=7.0.0->cufflinks) (2.0.1)\n",
      "Requirement already satisfied: pandocfilters>=1.4.1 in /databricks/python3/lib/python3.9/site-packages (from nbconvert->notebook>=4.4.1->widgetsnbextension~=3.6.0->ipywidgets>=7.0.0->cufflinks) (1.4.3)\n",
      "Requirement already satisfied: defusedxml in /databricks/python3/lib/python3.9/site-packages (from nbconvert->notebook>=4.4.1->widgetsnbextension~=3.6.0->ipywidgets>=7.0.0->cufflinks) (0.7.1)\n",
      "Requirement already satisfied: nbclient<0.6.0,>=0.5.0 in /databricks/python3/lib/python3.9/site-packages (from nbconvert->notebook>=4.4.1->widgetsnbextension~=3.6.0->ipywidgets>=7.0.0->cufflinks) (0.5.3)\n",
      "Requirement already satisfied: entrypoints>=0.2.2 in /databricks/python3/lib/python3.9/site-packages (from nbconvert->notebook>=4.4.1->widgetsnbextension~=3.6.0->ipywidgets>=7.0.0->cufflinks) (0.3)\n",
      "Requirement already satisfied: testpath in /databricks/python3/lib/python3.9/site-packages (from nbconvert->notebook>=4.4.1->widgetsnbextension~=3.6.0->ipywidgets>=7.0.0->cufflinks) (0.5.0)\n",
      "Requirement already satisfied: bleach in /databricks/python3/lib/python3.9/site-packages (from nbconvert->notebook>=4.4.1->widgetsnbextension~=3.6.0->ipywidgets>=7.0.0->cufflinks) (4.0.0)\n",
      "Requirement already satisfied: jupyterlab-pygments in /databricks/python3/lib/python3.9/site-packages (from nbconvert->notebook>=4.4.1->widgetsnbextension~=3.6.0->ipywidgets>=7.0.0->cufflinks) (0.1.2)\n",
      "Requirement already satisfied: mistune<2,>=0.8.1 in /databricks/python3/lib/python3.9/site-packages (from nbconvert->notebook>=4.4.1->widgetsnbextension~=3.6.0->ipywidgets>=7.0.0->cufflinks) (0.8.4)\n",
      "Requirement already satisfied: async-generator in /databricks/python3/lib/python3.9/site-packages (from nbclient<0.6.0,>=0.5.0->nbconvert->notebook>=4.4.1->widgetsnbextension~=3.6.0->ipywidgets>=7.0.0->cufflinks) (1.10)\n",
      "Requirement already satisfied: webencodings in /databricks/python3/lib/python3.9/site-packages (from bleach->nbconvert->notebook>=4.4.1->widgetsnbextension~=3.6.0->ipywidgets>=7.0.0->cufflinks) (0.5.1)\n",
      "Requirement already satisfied: pyparsing>=2.0.2 in /databricks/python3/lib/python3.9/site-packages (from packaging->ipykernel>=4.5.1->ipywidgets>=7.0.0->cufflinks) (3.0.4)\n",
      "Building wheels for collected packages: cufflinks\n",
      "  Building wheel for cufflinks (setup.py): started\n",
      "  Building wheel for cufflinks (setup.py): finished with status 'done'\n",
      "  Created wheel for cufflinks: filename=cufflinks-0.17.3-py3-none-any.whl size=67917 sha256=4e2146f32e4edeb369060a77811457a8c7dbc3bcaf24c8943e873dd40a69b070\n",
      "  Stored in directory: /root/.cache/pip/wheels/29/b4/f8/2fd2206eeeba6ccad8167e4e8894b8c4ec27bf1342037fd136\n",
      "Successfully built cufflinks\n",
      "Installing collected packages: colorlover, cufflinks\n",
      "Successfully installed colorlover-0.3.0 cufflinks-0.17.3\n",
      "Python interpreter will be restarted.\n"
     ]
    }
   ],
   "source": [
    "pip install cufflinks"
   ]
  },
  {
   "cell_type": "code",
   "execution_count": null,
   "metadata": {
    "application/vnd.databricks.v1+cell": {
     "cellMetadata": {
      "byteLimit": 2048000,
      "rowLimit": 10000
     },
     "inputWidgets": {},
     "nuid": "c39220dd-2dbd-4c59-87bc-93ad2f034b6a",
     "showTitle": false,
     "title": ""
    }
   },
   "outputs": [
    {
     "name": "stdout",
     "output_type": "stream",
     "text": [
      "Python interpreter will be restarted.\n",
      "Collecting catboost\n",
      "  Downloading catboost-1.2-cp39-cp39-manylinux2014_x86_64.whl (98.6 MB)\n",
      "Requirement already satisfied: scipy in /databricks/python3/lib/python3.9/site-packages (from catboost) (1.7.1)\n",
      "Requirement already satisfied: pandas>=0.24 in /databricks/python3/lib/python3.9/site-packages (from catboost) (1.3.4)\n",
      "Requirement already satisfied: plotly in /databricks/python3/lib/python3.9/site-packages (from catboost) (5.9.0)\n",
      "Requirement already satisfied: matplotlib in /databricks/python3/lib/python3.9/site-packages (from catboost) (3.4.3)\n",
      "Requirement already satisfied: numpy>=1.16.0 in /databricks/python3/lib/python3.9/site-packages (from catboost) (1.20.3)\n",
      "Collecting graphviz\n",
      "  Downloading graphviz-0.20.1-py3-none-any.whl (47 kB)\n",
      "Requirement already satisfied: six in /databricks/python3/lib/python3.9/site-packages (from catboost) (1.16.0)\n",
      "Requirement already satisfied: python-dateutil>=2.7.3 in /databricks/python3/lib/python3.9/site-packages (from pandas>=0.24->catboost) (2.8.2)\n",
      "Requirement already satisfied: pytz>=2017.3 in /databricks/python3/lib/python3.9/site-packages (from pandas>=0.24->catboost) (2021.3)\n",
      "Requirement already satisfied: kiwisolver>=1.0.1 in /databricks/python3/lib/python3.9/site-packages (from matplotlib->catboost) (1.3.1)\n",
      "Requirement already satisfied: pyparsing>=2.2.1 in /databricks/python3/lib/python3.9/site-packages (from matplotlib->catboost) (3.0.4)\n",
      "Requirement already satisfied: cycler>=0.10 in /databricks/python3/lib/python3.9/site-packages (from matplotlib->catboost) (0.10.0)\n",
      "Requirement already satisfied: pillow>=6.2.0 in /databricks/python3/lib/python3.9/site-packages (from matplotlib->catboost) (8.4.0)\n",
      "Requirement already satisfied: tenacity>=6.2.0 in /databricks/python3/lib/python3.9/site-packages (from plotly->catboost) (8.0.1)\n",
      "Installing collected packages: graphviz, catboost\n",
      "Successfully installed catboost-1.2 graphviz-0.20.1\n",
      "Python interpreter will be restarted.\n"
     ]
    }
   ],
   "source": [
    "pip install catboost"
   ]
  },
  {
   "cell_type": "code",
   "execution_count": null,
   "metadata": {
    "application/vnd.databricks.v1+cell": {
     "cellMetadata": {
      "byteLimit": 2048000,
      "rowLimit": 10000
     },
     "inputWidgets": {},
     "nuid": "4225ce37-1d64-4500-8038-e0ff3087d12e",
     "showTitle": false,
     "title": ""
    }
   },
   "outputs": [
    {
     "name": "stdout",
     "output_type": "stream",
     "text": [
      "Python interpreter will be restarted.\n",
      "Collecting optuna\n",
      "  Downloading optuna-3.3.0-py3-none-any.whl (404 kB)\n",
      "Requirement already satisfied: numpy in /databricks/python3/lib/python3.9/site-packages (from optuna) (1.20.3)\n",
      "Requirement already satisfied: packaging>=20.0 in /databricks/python3/lib/python3.9/site-packages (from optuna) (21.0)\n",
      "Collecting cmaes>=0.10.0\n",
      "  Downloading cmaes-0.10.0-py3-none-any.whl (29 kB)\n",
      "Collecting alembic>=1.5.0\n",
      "  Downloading alembic-1.11.3-py3-none-any.whl (225 kB)\n",
      "Requirement already satisfied: tqdm in /databricks/python3/lib/python3.9/site-packages (from optuna) (4.62.3)\n",
      "Collecting sqlalchemy>=1.3.0\n",
      "  Downloading SQLAlchemy-2.0.20-cp39-cp39-manylinux_2_17_x86_64.manylinux2014_x86_64.whl (3.0 MB)\n",
      "Collecting colorlog\n",
      "  Downloading colorlog-6.7.0-py2.py3-none-any.whl (11 kB)\n",
      "Requirement already satisfied: PyYAML in /databricks/python3/lib/python3.9/site-packages (from optuna) (6.0)\n",
      "Requirement already satisfied: Mako in /databricks/python3/lib/python3.9/site-packages (from alembic>=1.5.0->optuna) (1.2.0)\n",
      "Collecting typing-extensions>=4\n",
      "  Downloading typing_extensions-4.7.1-py3-none-any.whl (33 kB)\n",
      "Requirement already satisfied: pyparsing>=2.0.2 in /databricks/python3/lib/python3.9/site-packages (from packaging>=20.0->optuna) (3.0.4)\n",
      "Collecting greenlet!=0.4.17\n",
      "  Downloading greenlet-2.0.2-cp39-cp39-manylinux_2_17_x86_64.manylinux2014_x86_64.whl (610 kB)\n",
      "Requirement already satisfied: MarkupSafe>=0.9.2 in /databricks/python3/lib/python3.9/site-packages (from Mako->alembic>=1.5.0->optuna) (2.0.1)\n",
      "Installing collected packages: typing-extensions, greenlet, sqlalchemy, colorlog, cmaes, alembic, optuna\n",
      "  Attempting uninstall: typing-extensions\n",
      "    Found existing installation: typing-extensions 3.10.0.2\n",
      "    Not uninstalling typing-extensions at /databricks/python3/lib/python3.9/site-packages, outside environment /local_disk0/.ephemeral_nfs/envs/pythonEnv-fe59e063-8055-439a-b98f-efa6cbb47554\n",
      "    Can't uninstall 'typing-extensions'. No files were found to uninstall.\n",
      "Successfully installed alembic-1.11.3 cmaes-0.10.0 colorlog-6.7.0 greenlet-2.0.2 optuna-3.3.0 sqlalchemy-2.0.20 typing-extensions-4.7.1\n",
      "Python interpreter will be restarted.\n"
     ]
    }
   ],
   "source": [
    "pip install optuna"
   ]
  },
  {
   "cell_type": "code",
   "execution_count": null,
   "metadata": {
    "application/vnd.databricks.v1+cell": {
     "cellMetadata": {
      "byteLimit": 2048000,
      "rowLimit": 10000
     },
     "inputWidgets": {},
     "nuid": "d9946a23-47a0-4cff-9d78-7e35a4705592",
     "showTitle": false,
     "title": ""
    }
   },
   "outputs": [
    {
     "name": "stdout",
     "output_type": "stream",
     "text": [
      "Python interpreter will be restarted.\n",
      "Requirement already satisfied: plotly in /databricks/python3/lib/python3.9/site-packages (5.9.0)\n",
      "Requirement already satisfied: tenacity>=6.2.0 in /databricks/python3/lib/python3.9/site-packages (from plotly) (8.0.1)\n",
      "Python interpreter will be restarted.\n"
     ]
    }
   ],
   "source": [
    "pip install plotly"
   ]
  },
  {
   "cell_type": "code",
   "execution_count": null,
   "metadata": {
    "application/vnd.databricks.v1+cell": {
     "cellMetadata": {
      "byteLimit": 2048000,
      "rowLimit": 10000
     },
     "inputWidgets": {},
     "nuid": "8709cf52-3c4a-464a-96ea-9eee6fb1195c",
     "showTitle": false,
     "title": ""
    }
   },
   "outputs": [
    {
     "name": "stdout",
     "output_type": "stream",
     "text": [
      "Python interpreter will be restarted.\n",
      "Requirement already satisfied: missingno in /databricks/python3/lib/python3.9/site-packages (0.5.1)\n",
      "Requirement already satisfied: matplotlib in /databricks/python3/lib/python3.9/site-packages (from missingno) (3.4.3)\n",
      "Requirement already satisfied: numpy in /databricks/python3/lib/python3.9/site-packages (from missingno) (1.20.3)\n",
      "Requirement already satisfied: scipy in /databricks/python3/lib/python3.9/site-packages (from missingno) (1.7.1)\n",
      "Requirement already satisfied: seaborn in /databricks/python3/lib/python3.9/site-packages (from missingno) (0.11.2)\n",
      "Requirement already satisfied: python-dateutil>=2.7 in /databricks/python3/lib/python3.9/site-packages (from matplotlib->missingno) (2.8.2)\n",
      "Requirement already satisfied: kiwisolver>=1.0.1 in /databricks/python3/lib/python3.9/site-packages (from matplotlib->missingno) (1.3.1)\n",
      "Requirement already satisfied: pyparsing>=2.2.1 in /databricks/python3/lib/python3.9/site-packages (from matplotlib->missingno) (3.0.4)\n",
      "Requirement already satisfied: cycler>=0.10 in /databricks/python3/lib/python3.9/site-packages (from matplotlib->missingno) (0.10.0)\n",
      "Requirement already satisfied: pillow>=6.2.0 in /databricks/python3/lib/python3.9/site-packages (from matplotlib->missingno) (8.4.0)\n",
      "Requirement already satisfied: six in /databricks/python3/lib/python3.9/site-packages (from cycler>=0.10->matplotlib->missingno) (1.16.0)\n",
      "Requirement already satisfied: pandas>=0.23 in /databricks/python3/lib/python3.9/site-packages (from seaborn->missingno) (1.3.4)\n",
      "Requirement already satisfied: pytz>=2017.3 in /databricks/python3/lib/python3.9/site-packages (from pandas>=0.23->seaborn->missingno) (2021.3)\n",
      "Python interpreter will be restarted.\n"
     ]
    }
   ],
   "source": [
    "pip install missingno"
   ]
  },
  {
   "cell_type": "code",
   "execution_count": null,
   "metadata": {
    "application/vnd.databricks.v1+cell": {
     "cellMetadata": {
      "byteLimit": 2048000,
      "rowLimit": 10000
     },
     "inputWidgets": {},
     "nuid": "4e0a9a85-dd7d-40f9-b619-5628ee4e5de0",
     "showTitle": false,
     "title": ""
    }
   },
   "outputs": [],
   "source": [
    "%run \"/Users/datascienceexpertmentors@gmail.com/ML/Supervised Learning/functions_lib.py\""
   ]
  },
  {
   "cell_type": "code",
   "execution_count": null,
   "metadata": {
    "application/vnd.databricks.v1+cell": {
     "cellMetadata": {
      "byteLimit": 2048000,
      "rowLimit": 10000
     },
     "inputWidgets": {},
     "nuid": "434f6f53-a165-4559-abb8-cf91ed176a68",
     "showTitle": false,
     "title": ""
    }
   },
   "outputs": [
    {
     "data": {
      "text/html": [
       "        <script type=\"text/javascript\">\n",
       "        window.PlotlyConfig = {MathJaxConfig: 'local'};\n",
       "        if (window.MathJax && window.MathJax.Hub && window.MathJax.Hub.Config) {window.MathJax.Hub.Config({SVG: {font: \"STIX-Web\"}});}\n",
       "        if (typeof require !== 'undefined') {\n",
       "        require.undef(\"plotly\");\n",
       "        requirejs.config({\n",
       "            paths: {\n",
       "                'plotly': ['https://cdn.plot.ly/plotly-2.12.1.min']\n",
       "            }\n",
       "        });\n",
       "        require(['plotly'], function(Plotly) {\n",
       "            window._Plotly = Plotly;\n",
       "        });\n",
       "        }\n",
       "        </script>\n",
       "        "
      ]
     },
     "metadata": {
      "application/vnd.databricks.v1+output": {
       "addedWidgets": {},
       "arguments": {},
       "data": "        <script type=\"text/javascript\">\n        window.PlotlyConfig = {MathJaxConfig: 'local'};\n        if (window.MathJax && window.MathJax.Hub && window.MathJax.Hub.Config) {window.MathJax.Hub.Config({SVG: {font: \"STIX-Web\"}});}\n        if (typeof require !== 'undefined') {\n        require.undef(\"plotly\");\n        requirejs.config({\n            paths: {\n                'plotly': ['https://cdn.plot.ly/plotly-2.12.1.min']\n            }\n        });\n        require(['plotly'], function(Plotly) {\n            window._Plotly = Plotly;\n        });\n        }\n        </script>\n        ",
       "datasetInfos": [],
       "metadata": {},
       "removedWidgets": [],
       "textData": null,
       "type": "htmlSandbox"
      }
     },
     "output_type": "display_data"
    }
   ],
   "source": [
    "import pandas as pd\n",
    "import numpy as np\n",
    "\n",
    "from sklearn.base import BaseEstimator, TransformerMixin\n",
    "from sklearn.preprocessing import OneHotEncoder, StandardScaler, MinMaxScaler, RobustScaler, PowerTransformer\n",
    "from sklearn.impute import SimpleImputer\n",
    "from sklearn.pipeline import Pipeline\n",
    "from sklearn.compose import ColumnTransformer\n",
    "\n",
    "\n",
    "# # model selection & validation\n",
    "from sklearn.model_selection import RandomizedSearchCV\n",
    "from sklearn.model_selection import RepeatedStratifiedKFold, KFold, cross_val_predict, train_test_split\n",
    "from sklearn.model_selection import StratifiedKFold, GridSearchCV, cross_val_score, cross_validate\n",
    "\n",
    "from sklearn.metrics import r2_score, mean_absolute_error, mean_squared_error\n",
    "\n",
    "## Pandas need cufflinks to link with plotly and add the iplot method:\n",
    "## plotly and cufflinks\n",
    "import plotly \n",
    "import plotly.express as px\n",
    "import cufflinks as cf #cufflink connects plotly with pandas to create graphs and charts of dataframes directly\n",
    "import plotly.graph_objs as go\n",
    "import plotly.offline as py\n",
    "from plotly.offline import iplot\n",
    "from plotly.subplots import make_subplots\n",
    "import plotly.figure_factory as ff\n",
    "cf.go_offline()\n",
    "cf.set_config_file(offline=False, world_readable=True)\n",
    "\n",
    "## regression/prediction\n",
    "from sklearn.discriminant_analysis import LinearDiscriminantAnalysis\n",
    "from sklearn.linear_model import LinearRegression, Lasso, Ridge, ElasticNet, LogisticRegression\n",
    "from sklearn.ensemble import RandomForestRegressor, GradientBoostingRegressor, ExtraTreesRegressor, AdaBoostRegressor\n",
    "from sklearn.neighbors import KNeighborsRegressor\n",
    "from sklearn.svm import SVR\n",
    "from sklearn.tree import DecisionTreeRegressor\n",
    "from catboost import CatBoostRegressor\n",
    "from lightgbm import LGBMRegressor\n",
    "from xgboost import XGBRegressor, plot_importance\n",
    "\n",
    "import optuna"
   ]
  },
  {
   "cell_type": "code",
   "execution_count": null,
   "metadata": {},
   "outputs": [],
   "source": [
    "# 1- 'gabel_federweg_mm', (float)\n",
    "# 2- 'akkukapazität_wh', (float)\n",
    "# 3- 'rahmenmaterial', (string)\n",
    "# 4- 'sattel', (string)\n",
    "# 5- 'gänge', (string)\n",
    "# 6- 'bremse_vorne', (string)\n",
    "# 7- 'schaltwerk', (string)\n",
    "# 8- 'kategorie', (string)\n",
    "# 9- 'hersteller' (String)"
   ]
  },
  {
   "cell_type": "code",
   "execution_count": null,
   "metadata": {
    "application/vnd.databricks.v1+cell": {
     "cellMetadata": {
      "byteLimit": 2048000,
      "rowLimit": 10000
     },
     "inputWidgets": {},
     "nuid": "f53e2f2f-7877-4247-ae7d-201ba65a298f",
     "showTitle": false,
     "title": ""
    }
   },
   "outputs": [
    {
     "name": "stdout",
     "output_type": "stream",
     "text": [
      "\u001b[1m\u001b[33mShape:\u001b[0m(31757, 52)\n",
      "\u001b[1m\u001b[31m****************************************************************************************************\u001b[0m\u001b[1m\u001b[33m\n",
      "Info:\n",
      "\u001b[0m\n",
      "<class 'pandas.core.frame.DataFrame'>\n",
      "RangeIndex: 31757 entries, 0 to 31756\n",
      "Data columns (total 52 columns):\n",
      " #   Column                        Non-Null Count  Dtype  \n",
      "---  ------                        --------------  -----  \n",
      " 0   Hersteller                    31757 non-null  object \n",
      " 1   Modellname                    31757 non-null  object \n",
      " 2   Modelljahr                    31757 non-null  int32  \n",
      " 3   Geschlecht                    31757 non-null  object \n",
      " 4   Kategorie                     31757 non-null  object \n",
      " 5   UVP-€                         31757 non-null  int32  \n",
      " 6   Gänge                         31757 non-null  int32  \n",
      " 7   Art_der_Schaltung             31757 non-null  object \n",
      " 8   Schaltwerk                    31757 non-null  object \n",
      " 9   Bremsentyp                    31757 non-null  object \n",
      " 10  Motorart                      31757 non-null  object \n",
      " 11  Motor                         31757 non-null  object \n",
      " 12  Motordrehmoment-Nm            31757 non-null  int32  \n",
      " 13  Motorspannung-V               31757 non-null  int32  \n",
      " 14  Motorleistung-W               31757 non-null  int32  \n",
      " 15  max._Motorunterstützung-km/h  31757 non-null  int32  \n",
      " 16  Unterstützung-%               31757 non-null  int32  \n",
      " 17  Unterstützungsstufen          31757 non-null  int32  \n",
      " 18  Motorhersteller               31757 non-null  object \n",
      " 19  Motorgewicht-kg               31757 non-null  float64\n",
      " 20  Motor_Schalterkennung         31757 non-null  object \n",
      " 21  Akku                          31757 non-null  object \n",
      " 22  Akkukapazität-Wh              31757 non-null  int32  \n",
      " 23  Akkuspannung-V                31757 non-null  int32  \n",
      " 24  Lenker                        31757 non-null  object \n",
      " 25  Lenkerbreite-mm               31757 non-null  int32  \n",
      " 26  Griffe                        31757 non-null  object \n",
      " 27  Display                       31757 non-null  object \n",
      " 28  Gabel                         31757 non-null  object \n",
      " 29  Dämpfer                       4626 non-null   object \n",
      " 30  Gabel_Federweg-mm             31757 non-null  int32  \n",
      " 31  Felgen                        31757 non-null  object \n",
      " 32  Vorderreifen                  31757 non-null  object \n",
      " 33  Hinterreifen                  31757 non-null  object \n",
      " 34  Nabe_vorne                    31757 non-null  object \n",
      " 35  Nabe_hinten                   31757 non-null  object \n",
      " 36  Laufradgröße                  31757 non-null  object \n",
      " 37  Art_der_Übertragung           31757 non-null  object \n",
      " 38  Kassette                      21247 non-null  object \n",
      " 39  Pedale                        31757 non-null  object \n",
      " 40  Sattel                        31757 non-null  object \n",
      " 41  Rahmenform                    31757 non-null  object \n",
      " 42  Rahmenmaterial                31757 non-null  object \n",
      " 43  Schrittlänge                  31757 non-null  object \n",
      " 44  Gewicht-kg                    31757 non-null  float64\n",
      " 45  Bremse_vorne                  31757 non-null  object \n",
      " 46  Bremse_hinten                 31757 non-null  object \n",
      " 47  Beleuchtung_vorhanden         31757 non-null  object \n",
      " 48  Schutzblech_vorhanden         31757 non-null  object \n",
      " 49  Gepäckträger_vorhanden        31757 non-null  object \n",
      " 50  Rahmenhöhe-cm                 31757 non-null  object \n",
      " 51  Schiebehilfe                  31757 non-null  object \n",
      "dtypes: float64(2), int32(13), object(37)\n",
      "memory usage: 11.0+ MB\n",
      "None\n",
      "\u001b[1m\u001b[31m****************************************************************************************************\u001b[0m\n",
      "\u001b[1m\u001b[33mNumber of Uniques:\n",
      "\u001b[0mHersteller                        12\n",
      "Modellname                      2111\n",
      "Modelljahr                         9\n",
      "Geschlecht                         3\n",
      "Kategorie                          4\n",
      "UVP-€                            198\n",
      "Gänge                             15\n",
      "Art_der_Schaltung                  3\n",
      "Schaltwerk                       306\n",
      "Bremsentyp                         9\n",
      "Motorart                           3\n",
      "Motor                            181\n",
      "Motordrehmoment-Nm                19\n",
      "Motorspannung-V                    2\n",
      "Motorleistung-W                    7\n",
      "max._Motorunterstützung-km/h       3\n",
      "Unterstützung-%                   18\n",
      "Unterstützungsstufen               3\n",
      "Motorhersteller                   15\n",
      "Motorgewicht-kg                   17\n",
      "Motor_Schalterkennung              2\n",
      "Akku                              58\n",
      "Akkukapazität-Wh                  44\n",
      "Akkuspannung-V                     3\n",
      "Lenker                           250\n",
      "Lenkerbreite-mm                   18\n",
      "Griffe                           123\n",
      "Display                           73\n",
      "Gabel                            719\n",
      "Dämpfer                          146\n",
      "Gabel_Federweg-mm                 19\n",
      "Felgen                           208\n",
      "Vorderreifen                     262\n",
      "Hinterreifen                     268\n",
      "Nabe_vorne                       361\n",
      "Nabe_hinten                      485\n",
      "Laufradgröße                       9\n",
      "Art_der_Übertragung                4\n",
      "Kassette                         148\n",
      "Pedale                           161\n",
      "Sattel                           354\n",
      "Rahmenform                         9\n",
      "Rahmenmaterial                     5\n",
      "Schrittlänge                      51\n",
      "Gewicht-kg                       125\n",
      "Bremse_vorne                     350\n",
      "Bremse_hinten                    376\n",
      "Beleuchtung_vorhanden              5\n",
      "Schutzblech_vorhanden              2\n",
      "Gepäckträger_vorhanden             2\n",
      "Rahmenhöhe-cm                     34\n",
      "Schiebehilfe                       9\n",
      "dtype: int64\n",
      "\u001b[1m\u001b[31m****************************************************************************************************\u001b[0m\n",
      "\u001b[1m\u001b[33mMissing Values:\n",
      "\u001b[0m          Missing_Number  Missing_Percent\n",
      "Dämpfer            27131         0.854331\n",
      "Kassette           10510         0.330951\n",
      "\u001b[1m\u001b[31m****************************************************************************************************\u001b[0m\n",
      "\u001b[1m\u001b[33mAll Columns:\u001b[0m\n",
      "- Hersteller\n",
      "- Modellname\n",
      "- Modelljahr\n",
      "- Geschlecht\n",
      "- Kategorie\n",
      "- UVP-€\n",
      "- Gänge\n",
      "- Art_der_Schaltung\n",
      "- Schaltwerk\n",
      "- Bremsentyp\n",
      "- Motorart\n",
      "- Motor\n",
      "- Motordrehmoment-Nm\n",
      "- Motorspannung-V\n",
      "- Motorleistung-W\n",
      "- max._Motorunterstützung-km/h\n",
      "- Unterstützung-%\n",
      "- Unterstützungsstufen\n",
      "- Motorhersteller\n",
      "- Motorgewicht-kg\n",
      "- Motor_Schalterkennung\n",
      "- Akku\n",
      "- Akkukapazität-Wh\n",
      "- Akkuspannung-V\n",
      "- Lenker\n",
      "- Lenkerbreite-mm\n",
      "- Griffe\n",
      "- Display\n",
      "- Gabel\n",
      "- Dämpfer\n",
      "- Gabel_Federweg-mm\n",
      "- Felgen\n",
      "- Vorderreifen\n",
      "- Hinterreifen\n",
      "- Nabe_vorne\n",
      "- Nabe_hinten\n",
      "- Laufradgröße\n",
      "- Art_der_Übertragung\n",
      "- Kassette\n",
      "- Pedale\n",
      "- Sattel\n",
      "- Rahmenform\n",
      "- Rahmenmaterial\n",
      "- Schrittlänge\n",
      "- Gewicht-kg\n",
      "- Bremse_vorne\n",
      "- Bremse_hinten\n",
      "- Beleuchtung_vorhanden\n",
      "- Schutzblech_vorhanden\n",
      "- Gepäckträger_vorhanden\n",
      "- Rahmenhöhe-cm\n",
      "- Schiebehilfe\n",
      "\u001b[1m\u001b[31m****************************************************************************************************\u001b[0m\n",
      "\u001b[1m\u001b[33mColumns after rename:\u001b[0m\n",
      "- hersteller\n",
      "- modellname\n",
      "- modelljahr\n",
      "- geschlecht\n",
      "- kategorie\n",
      "- uvp_€\n",
      "- gänge\n",
      "- art_der_schaltung\n",
      "- schaltwerk\n",
      "- bremsentyp\n",
      "- motorart\n",
      "- motor\n",
      "- motordrehmoment_nm\n",
      "- motorspannung_v\n",
      "- motorleistung_w\n",
      "- max._motorunterstützung_km/h\n",
      "- unterstützung_%\n",
      "- unterstützungsstufen\n",
      "- motorhersteller\n",
      "- motorgewicht_kg\n",
      "- motor_schalterkennung\n",
      "- akku\n",
      "- akkukapazität_wh\n",
      "- akkuspannung_v\n",
      "- lenker\n",
      "- lenkerbreite_mm\n",
      "- griffe\n",
      "- display\n",
      "- gabel\n",
      "- dämpfer\n",
      "- gabel_federweg_mm\n",
      "- felgen\n",
      "- vorderreifen\n",
      "- hinterreifen\n",
      "- nabe_vorne\n",
      "- nabe_hinten\n",
      "- laufradgröße\n",
      "- art_der_übertragung\n",
      "- kassette\n",
      "- pedale\n",
      "- sattel\n",
      "- rahmenform\n",
      "- rahmenmaterial\n",
      "- schrittlänge\n",
      "- gewicht_kg\n",
      "- bremse_vorne\n",
      "- bremse_hinten\n",
      "- beleuchtung_vorhanden\n",
      "- schutzblech_vorhanden\n",
      "- gepäckträger_vorhanden\n",
      "- rahmenhöhe_cm\n",
      "- schiebehilfe\n",
      "\u001b[1m\u001b[31m****************************************************************************************************\u001b[0m\n",
      "\u001b[1m\u001b[33mDuplicate check...\u001b[0m\n",
      "10773 Duplicates were dropped!\u001b[0m\n",
      "\u001b[1m\u001b[31m****************************************************************************************************\u001b[0m\n",
      "df.shape: (20984, 50)\n",
      "X_train.shape: (16787, 6)\n",
      "y_train.shape: (16787,)\n",
      "X_test.shape: (4197, 6)\n",
      "y_test.shape: (4197,)\n",
      "r2 score: 0.88\n",
      "****************************************************************************************************\n",
      "Target: uvp_€\n",
      "****************************************************************************************************\n",
      "RandomForestRegressor() >> r2: 0.8758891687372277, MAE: 252.32342400094774, MSE: 202950.39551839972, RMSE: 450.5001615076289\n",
      "****************************************************************************************************\n",
      "   gabel_federweg_mm  akkukapazität_wh  ...  hersteller_Winora  hersteller_corratec\n",
      "0           1.253417         -0.232104  ...                0.0                  0.0\n",
      "1          -1.155883          0.785261  ...                0.0                  0.0\n",
      "\n",
      "[2 rows x 24 columns]\n",
      "   gabel_federweg_mm  akkukapazität_wh  ...  hersteller_Winora  hersteller_corratec\n",
      "0           1.253417         -0.275694  ...                0.0                  0.0\n",
      "1          -1.155883         -0.275694  ...                0.0                  0.0\n",
      "\n",
      "[2 rows x 24 columns]\n"
     ]
    }
   ],
   "source": [
    "file_location = \"/FileStore/tables/rad/df_eBike_UVP.csv\"\n",
    "file_type = \"csv\"\n",
    "\n",
    "# CSV options\n",
    "infer_schema = \"True\"\n",
    "first_row_is_header = \"True\"\n",
    "delimiter = \",\"\n",
    "\n",
    "# The applied options are for CSV files. For other file types, these will be ignored.\n",
    "df = spark.read.format(file_type) \\\n",
    "          .option(\"inferSchema\", infer_schema) \\\n",
    "          .option(\"header\", first_row_is_header) \\\n",
    "          .option(\"sep\", delimiter) \\\n",
    "          .load(file_location).toPandas()\n",
    "\n",
    "first_looking(df)\n",
    "duplicate_values(df)\n",
    "\n",
    "df.drop(columns=[\"dämpfer\", \"kassette\"], inplace=True)\n",
    "\n",
    "target = \"uvp_€\"\n",
    "\n",
    "X = df[['gabel_federweg_mm',\n",
    "        'akkukapazität_wh',\n",
    "        'rahmenmaterial',\n",
    "        'gänge',\n",
    "        'kategorie',\n",
    "        'hersteller']] # .drop(target, axis=1)\n",
    "\n",
    "\n",
    "y = df[target]\n",
    "\n",
    "X_train, X_test, y_train, y_test  = train_test_split(X, y, \n",
    "                                                     test_size=0.2, \n",
    "                                                     random_state=42, \n",
    "                                                     shuffle=True)\n",
    "\n",
    "shape_control(df, X_train, y_train, X_test, y_test)\n",
    "\n",
    "numerics = X.select_dtypes(include=\"number\").astype(\"float64\")\n",
    "categorics = X.select_dtypes(include=[\"object\", \"category\", \"bool\"])\n",
    "\n",
    "numeric_transformer = Pipeline([('Scaler', StandardScaler()), \n",
    "                                ('R_Scaler', RobustScaler()),\n",
    "                                ('Pw_Scaler', PowerTransformer())])\n",
    "\n",
    "categorical_transformer = Pipeline([('OHE', OneHotEncoder(handle_unknown=\"ignore\"))])\n",
    "\n",
    "transformer = ColumnTransformer([('numeric', numeric_transformer, numerics.columns),\n",
    "                                 ('categoric', categorical_transformer, categorics.columns)])\n",
    "\n",
    "pipeline_model_rf = Pipeline([('transform', transformer), ('prediction', RandomForestRegressor())])    \n",
    "\n",
    "pipeline_model_rf.fit(X_train, y_train)\n",
    "\n",
    "y_pred = pipeline_model_rf.predict(X_test)\n",
    "\n",
    "def eval_metric(y_test, y_pred):\n",
    "    r2 = r2_score(y_test, y_pred)\n",
    "    mae = mean_absolute_error(y_test, y_pred)\n",
    "    mse = mean_squared_error(y_test, y_pred)\n",
    "    rmse = np.sqrt(mse)\n",
    "    print(f\"r2 score: {r2.round(2)}\")\n",
    "    return r2, mae, mse, rmse\n",
    "\n",
    "r2, mae, mse, rmse = eval_metric(y_test, y_pred)\n",
    "print(\"****************************************************************************************************\")\n",
    "# print(f\"Inputs: {df[['gabel_federweg_mm', 'lenkerbreite_mm', 'akkukapazität_wh', 'unterstützung_%']].columns.tolist()}\")\n",
    "print(f\"Target: {target}\")\n",
    "print(\"****************************************************************************************************\")\n",
    "print(f\"{pipeline_model_rf[-1]} >> r2: {r2}, MAE: {mae}, MSE: {mse}, RMSE: {rmse}\")\n",
    "print(\"****************************************************************************************************\")\n",
    "\n",
    "\n",
    "######################################\n",
    "transformed_features_Xtrain = transformer.fit_transform(X_train)\n",
    "transformed_features_Xtest = transformer.transform(X_test)\n",
    "\n",
    "# Get the column names of the transformed features\n",
    "transformed_feature_names_Xtrain = numerics.columns.tolist() + transformer.transformers_[1][1]['OHE'].get_feature_names(categorics.columns).tolist()\n",
    "\n",
    "# Convert the sparse matrix to a dense matrix\n",
    "transformed_features_dense_Xtrain = transformed_features_Xtrain.toarray()\n",
    "\n",
    "# Create a DataFrame with the transformed features and their names\n",
    "transformed_df_Xtrain = pd.DataFrame(transformed_features_dense_Xtrain, columns=transformed_feature_names_Xtrain)\n",
    "\n",
    "# Display the transformed DataFrame\n",
    "print(transformed_df_Xtrain.head(2))\n",
    "\n",
    "\n",
    "# Get the column names of the transformed features\n",
    "transformed_feature_names_Xtest = numerics.columns.tolist() + transformer.transformers_[1][1]['OHE'].get_feature_names(categorics.columns).tolist()\n",
    "\n",
    "# Convert the sparse matrix to a dense matrix\n",
    "transformed_features_dense_Xtest = transformed_features_Xtest.toarray()\n",
    "\n",
    "# Create a DataFrame with the transformed features and their names\n",
    "transformed_df_Xtest = pd.DataFrame(transformed_features_dense_Xtest, columns=transformed_feature_names_Xtest)\n",
    "\n",
    "# Display the transformed DataFrame\n",
    "print(transformed_df_Xtest.head(2))\n",
    "######################################"
   ]
  },
  {
   "cell_type": "code",
   "execution_count": null,
   "metadata": {
    "application/vnd.databricks.v1+cell": {
     "cellMetadata": {
      "byteLimit": 2048000,
      "rowLimit": 10000
     },
     "inputWidgets": {},
     "nuid": "7b3d3033-7255-40f0-bfb6-d0ca7c4c3b27",
     "showTitle": false,
     "title": ""
    }
   },
   "outputs": [
    {
     "name": "stdout",
     "output_type": "stream",
     "text": [
      "1.20.3\n"
     ]
    }
   ],
   "source": [
    "import numpy as np\n",
    "print(np.__version__)"
   ]
  },
  {
   "cell_type": "code",
   "execution_count": null,
   "metadata": {
    "application/vnd.databricks.v1+cell": {
     "cellMetadata": {
      "byteLimit": 2048000,
      "rowLimit": 10000
     },
     "inputWidgets": {},
     "nuid": "2c31e087-8048-45ee-b000-4a03f2d59532",
     "showTitle": false,
     "title": ""
    }
   },
   "outputs": [
    {
     "name": "stdout",
     "output_type": "stream",
     "text": [
      "Out[42]: [30,\n",
      " 35,\n",
      " 50,\n",
      " 60,\n",
      " 63,\n",
      " 65,\n",
      " 70,\n",
      " 75,\n",
      " 80,\n",
      " 100,\n",
      " 110,\n",
      " 120,\n",
      " 130,\n",
      " 140,\n",
      " 150,\n",
      " 160,\n",
      " 170,\n",
      " 180,\n",
      " 200]"
     ]
    }
   ],
   "source": [
    "sorted(df[\"gabel_federweg_mm\"].unique())"
   ]
  },
  {
   "cell_type": "code",
   "execution_count": null,
   "metadata": {
    "application/vnd.databricks.v1+cell": {
     "cellMetadata": {
      "byteLimit": 2048000,
      "rowLimit": 10000
     },
     "inputWidgets": {},
     "nuid": "37e315be-2f6e-4536-9fa9-8f8e27c882d3",
     "showTitle": false,
     "title": ""
    }
   },
   "outputs": [
    {
     "name": "stdout",
     "output_type": "stream",
     "text": [
      "Out[40]: [248,\n",
      " 250,\n",
      " 252,\n",
      " 300,\n",
      " 320,\n",
      " 324,\n",
      " 360,\n",
      " 396,\n",
      " 400,\n",
      " 410,\n",
      " 416,\n",
      " 418,\n",
      " 420,\n",
      " 430,\n",
      " 446,\n",
      " 460,\n",
      " 474,\n",
      " 500,\n",
      " 504,\n",
      " 508,\n",
      " 520,\n",
      " 522,\n",
      " 530,\n",
      " 540,\n",
      " 545,\n",
      " 555,\n",
      " 558,\n",
      " 562,\n",
      " 600,\n",
      " 601,\n",
      " 603,\n",
      " 604,\n",
      " 612,\n",
      " 621,\n",
      " 625,\n",
      " 630,\n",
      " 650,\n",
      " 670,\n",
      " 691,\n",
      " 700,\n",
      " 710,\n",
      " 720,\n",
      " 750,\n",
      " 850]"
     ]
    }
   ],
   "source": [
    "sorted(df[\"akkukapazität_wh\"].value_counts().index.tolist())"
   ]
  },
  {
   "cell_type": "code",
   "execution_count": null,
   "metadata": {
    "application/vnd.databricks.v1+cell": {
     "cellMetadata": {
      "byteLimit": 2048000,
      "rowLimit": 10000
     },
     "inputWidgets": {},
     "nuid": "94c8894b-b875-4d42-a253-b66f743240ee",
     "showTitle": false,
     "title": ""
    }
   },
   "outputs": [
    {
     "name": "stdout",
     "output_type": "stream",
     "text": [
      "Out[25]: [('Aluminium',),\n",
      " ('Carbon',),\n",
      " ('Aluminium-Carbon',),\n",
      " ('Diamant',),\n",
      " ('Aluminium-Stahl',)]"
     ]
    }
   ],
   "source": [
    "df[[\"rahmenmaterial\"]].value_counts().keys().tolist()"
   ]
  },
  {
   "cell_type": "code",
   "execution_count": null,
   "metadata": {
    "application/vnd.databricks.v1+cell": {
     "cellMetadata": {
      "byteLimit": 2048000,
      "rowLimit": 10000
     },
     "inputWidgets": {},
     "nuid": "ca737e00-b262-43d7-acdb-a4536281b63e",
     "showTitle": false,
     "title": ""
    }
   },
   "outputs": [
    {
     "name": "stdout",
     "output_type": "stream",
     "text": [
      "Out[13]: sattel                      \n",
      "Selle Bassano Feel GT           1120\n",
      "Haibike Components TheSaddle    1100\n",
      "Natural Fit Sequence Comfort     882\n",
      "Selle Royal Look-In              881\n",
      "Selle Royal Essenza              708\n",
      "                                ... \n",
      "SQlab 611 active MTB               1\n",
      "Relle Royal Rio Plus               1\n",
      "corratec Cro Mo Rail               1\n",
      "Fizi:k Arione R 5                  1\n",
      "zzyzx Youth Saddle                 1\n",
      "Length: 354, dtype: int64"
     ]
    }
   ],
   "source": [
    "df[[\"sattel\"]].value_counts()"
   ]
  },
  {
   "cell_type": "code",
   "execution_count": null,
   "metadata": {
    "application/vnd.databricks.v1+cell": {
     "cellMetadata": {
      "byteLimit": 2048000,
      "rowLimit": 10000
     },
     "inputWidgets": {},
     "nuid": "ad3a3c70-6440-4d5a-bd02-f9344cd74939",
     "showTitle": false,
     "title": ""
    }
   },
   "outputs": [
    {
     "name": "stdout",
     "output_type": "stream",
     "text": [
      "Out[24]: [(8,),\n",
      " (10,),\n",
      " (12,),\n",
      " (11,),\n",
      " (9,),\n",
      " (7,),\n",
      " (20,),\n",
      " (5,),\n",
      " (0,),\n",
      " (24,),\n",
      " (14,),\n",
      " (22,),\n",
      " (27,),\n",
      " (3,),\n",
      " (30,)]"
     ]
    }
   ],
   "source": [
    "df[[\"gänge\"]].value_counts().keys().tolist()"
   ]
  },
  {
   "cell_type": "code",
   "execution_count": null,
   "metadata": {
    "application/vnd.databricks.v1+cell": {
     "cellMetadata": {
      "byteLimit": 2048000,
      "rowLimit": 10000
     },
     "inputWidgets": {},
     "nuid": "6de86c75-c91a-4e23-a180-3865ba393c7e",
     "showTitle": false,
     "title": ""
    }
   },
   "outputs": [
    {
     "name": "stdout",
     "output_type": "stream",
     "text": [
      "Out[15]: bremse_vorne                          \n",
      "MAGURA HS-11                              2940\n",
      "Shimano BR-MT-200                         1675\n",
      "Shimano MT-200                            1389\n",
      "Shimano BR-MT-420                          662\n",
      "Shimano MT-420                             596\n",
      "                                          ... \n",
      "Shimano MT-420 4-Piston Disc RT66            1\n",
      "MAGURA MT-5 4-Piston Disc Spider Rotor       1\n",
      "MAGURA MT-4e Disc                            1\n",
      "Shimano MT-420 4-Piston Disc                 1\n",
      "24.836201572150284                           1\n",
      "Length: 350, dtype: int64"
     ]
    }
   ],
   "source": [
    "df[[\"bremse_vorne\"]].value_counts()"
   ]
  },
  {
   "cell_type": "code",
   "execution_count": null,
   "metadata": {
    "application/vnd.databricks.v1+cell": {
     "cellMetadata": {
      "byteLimit": 2048000,
      "rowLimit": 10000
     },
     "inputWidgets": {},
     "nuid": "1fdd5bcc-b2c0-44c6-9a42-792bbdeb0ecb",
     "showTitle": false,
     "title": ""
    }
   },
   "outputs": [
    {
     "name": "stdout",
     "output_type": "stream",
     "text": [
      "Out[20]: schaltwerk                           \n",
      "Shimano                                  4533\n",
      "Shimano Deore                            3392\n",
      "Shimano XT RD-M810 SGS Shadow Plus 12     828\n",
      "Sram SX Eagle 12                          476\n",
      "Shimano RD-M310 SGS 9                     350\n",
      "                                         ... \n",
      "Shimano XTR                                 1\n",
      "Shimano XTR Di2 M 9050 Shadow Plus 11       1\n",
      "Shimano Deore Shadow 10                     1\n",
      "Shimano Zee RD-M640SW 10                    1\n",
      "Sram Force1 medium Cage 11                  1\n",
      "Length: 306, dtype: int64"
     ]
    }
   ],
   "source": [
    "df[[\"schaltwerk\"]].value_counts()"
   ]
  },
  {
   "cell_type": "code",
   "execution_count": null,
   "metadata": {
    "application/vnd.databricks.v1+cell": {
     "cellMetadata": {
      "byteLimit": 2048000,
      "rowLimit": 10000
     },
     "inputWidgets": {},
     "nuid": "8ee5871f-e432-405b-8afb-451bbf0b4d78",
     "showTitle": false,
     "title": ""
    }
   },
   "outputs": [
    {
     "name": "stdout",
     "output_type": "stream",
     "text": [
      "Out[23]: [('Trekking',), ('City',), ('MTB_Hardtail',), ('MTB_Fully',)]"
     ]
    }
   ],
   "source": [
    "df[[\"kategorie\"]].value_counts().keys().tolist()"
   ]
  },
  {
   "cell_type": "code",
   "execution_count": null,
   "metadata": {
    "application/vnd.databricks.v1+cell": {
     "cellMetadata": {
      "byteLimit": 2048000,
      "rowLimit": 10000
     },
     "inputWidgets": {},
     "nuid": "c23b17be-9046-4e89-84ee-e94898bcdf93",
     "showTitle": false,
     "title": ""
    }
   },
   "outputs": [
    {
     "name": "stdout",
     "output_type": "stream",
     "text": [
      "Out[22]: [('Kalkhoff',),\n",
      " ('CUBE',),\n",
      " ('Haibike',),\n",
      " ('Hercules',),\n",
      " ('Winora',),\n",
      " ('SCOTT',),\n",
      " ('corratec',),\n",
      " ('Diamant',),\n",
      " ('GHOST',),\n",
      " ('Specialized',),\n",
      " ('Cannondale',),\n",
      " ('Canyon',)]"
     ]
    }
   ],
   "source": [
    "df[[\"hersteller\"]].value_counts().keys().tolist()"
   ]
  },
  {
   "cell_type": "code",
   "execution_count": null,
   "metadata": {
    "application/vnd.databricks.v1+cell": {
     "cellMetadata": {
      "byteLimit": 2048000,
      "rowLimit": 10000
     },
     "inputWidgets": {},
     "nuid": "bdf4c5d2-b1aa-42c6-8c04-72509b7f74b7",
     "showTitle": false,
     "title": ""
    }
   },
   "outputs": [
    {
     "data": {
      "text/html": [
       "<div>\n",
       "<style scoped>\n",
       "    .dataframe tbody tr th:only-of-type {\n",
       "        vertical-align: middle;\n",
       "    }\n",
       "\n",
       "    .dataframe tbody tr th {\n",
       "        vertical-align: top;\n",
       "    }\n",
       "\n",
       "    .dataframe thead th {\n",
       "        text-align: right;\n",
       "    }\n",
       "</style>\n",
       "<table border=\"1\" class=\"dataframe\">\n",
       "  <thead>\n",
       "    <tr style=\"text-align: right;\">\n",
       "      <th></th>\n",
       "      <th>modelljahr</th>\n",
       "      <th>gänge</th>\n",
       "      <th>motordrehmoment_nm</th>\n",
       "      <th>motorspannung_v</th>\n",
       "      <th>motorleistung_w</th>\n",
       "      <th>max._motorunterstützung_km/h</th>\n",
       "      <th>unterstützung_%</th>\n",
       "      <th>unterstützungsstufen</th>\n",
       "      <th>motorgewicht_kg</th>\n",
       "      <th>akkukapazität_wh</th>\n",
       "      <th>akkuspannung_v</th>\n",
       "      <th>lenkerbreite_mm</th>\n",
       "      <th>gabel_federweg_mm</th>\n",
       "      <th>gewicht_kg</th>\n",
       "      <th>hersteller_CUBE</th>\n",
       "      <th>hersteller_Cannondale</th>\n",
       "      <th>hersteller_Canyon</th>\n",
       "      <th>hersteller_Diamant</th>\n",
       "      <th>hersteller_GHOST</th>\n",
       "      <th>hersteller_Haibike</th>\n",
       "      <th>hersteller_Hercules</th>\n",
       "      <th>hersteller_Kalkhoff</th>\n",
       "      <th>hersteller_SCOTT</th>\n",
       "      <th>hersteller_Specialized</th>\n",
       "      <th>hersteller_Winora</th>\n",
       "      <th>hersteller_corratec</th>\n",
       "      <th>modellname_825+</th>\n",
       "      <th>modellname_9</th>\n",
       "      <th>modellname_access hybrid ex 500</th>\n",
       "      <th>modellname_access hybrid ex 500 allroad</th>\n",
       "      <th>modellname_access hybrid ex 625</th>\n",
       "      <th>modellname_access hybrid ex 625 allroad</th>\n",
       "      <th>modellname_access hybrid exc 500</th>\n",
       "      <th>modellname_access hybrid exc 625</th>\n",
       "      <th>modellname_access hybrid one 500</th>\n",
       "      <th>modellname_access hybrid pro 400 allroad</th>\n",
       "      <th>modellname_access hybrid pro 500</th>\n",
       "      <th>modellname_access hybrid pro 500 allroad</th>\n",
       "      <th>modellname_access hybrid race 500</th>\n",
       "      <th>modellname_access hybrid sl 500</th>\n",
       "      <th>...</th>\n",
       "      <th>rahmenhöhe_cm_36</th>\n",
       "      <th>rahmenhöhe_cm_38</th>\n",
       "      <th>rahmenhöhe_cm_39</th>\n",
       "      <th>rahmenhöhe_cm_40</th>\n",
       "      <th>rahmenhöhe_cm_41</th>\n",
       "      <th>rahmenhöhe_cm_42</th>\n",
       "      <th>rahmenhöhe_cm_43</th>\n",
       "      <th>rahmenhöhe_cm_44</th>\n",
       "      <th>rahmenhöhe_cm_45</th>\n",
       "      <th>rahmenhöhe_cm_46</th>\n",
       "      <th>rahmenhöhe_cm_47</th>\n",
       "      <th>rahmenhöhe_cm_48</th>\n",
       "      <th>rahmenhöhe_cm_49</th>\n",
       "      <th>rahmenhöhe_cm_50</th>\n",
       "      <th>rahmenhöhe_cm_51</th>\n",
       "      <th>rahmenhöhe_cm_52</th>\n",
       "      <th>rahmenhöhe_cm_53</th>\n",
       "      <th>rahmenhöhe_cm_54</th>\n",
       "      <th>rahmenhöhe_cm_55</th>\n",
       "      <th>rahmenhöhe_cm_56</th>\n",
       "      <th>rahmenhöhe_cm_57</th>\n",
       "      <th>rahmenhöhe_cm_58</th>\n",
       "      <th>rahmenhöhe_cm_59</th>\n",
       "      <th>rahmenhöhe_cm_60</th>\n",
       "      <th>rahmenhöhe_cm_61</th>\n",
       "      <th>rahmenhöhe_cm_62</th>\n",
       "      <th>rahmenhöhe_cm_63</th>\n",
       "      <th>rahmenhöhe_cm_64</th>\n",
       "      <th>rahmenhöhe_cm_65</th>\n",
       "      <th>rahmenhöhe_cm_68</th>\n",
       "      <th>rahmenhöhe_cm_Ja</th>\n",
       "      <th>schiebehilfe_0 km/h</th>\n",
       "      <th>schiebehilfe_36</th>\n",
       "      <th>schiebehilfe_40</th>\n",
       "      <th>schiebehilfe_42</th>\n",
       "      <th>schiebehilfe_44</th>\n",
       "      <th>schiebehilfe_45</th>\n",
       "      <th>schiebehilfe_48</th>\n",
       "      <th>schiebehilfe_52</th>\n",
       "      <th>schiebehilfe_6 km/h</th>\n",
       "    </tr>\n",
       "  </thead>\n",
       "  <tbody>\n",
       "    <tr>\n",
       "      <th>0</th>\n",
       "      <td>-1.163679</td>\n",
       "      <td>0.146006</td>\n",
       "      <td>0.490832</td>\n",
       "      <td>-0.083777</td>\n",
       "      <td>-0.100648</td>\n",
       "      <td>-0.122876</td>\n",
       "      <td>0.273371</td>\n",
       "      <td>0.250870</td>\n",
       "      <td>1.454154</td>\n",
       "      <td>-0.275694</td>\n",
       "      <td>-0.040875</td>\n",
       "      <td>0.579613</td>\n",
       "      <td>1.253417</td>\n",
       "      <td>-0.997780</td>\n",
       "      <td>1.0</td>\n",
       "      <td>0.0</td>\n",
       "      <td>0.0</td>\n",
       "      <td>0.0</td>\n",
       "      <td>0.0</td>\n",
       "      <td>0.0</td>\n",
       "      <td>0.0</td>\n",
       "      <td>0.0</td>\n",
       "      <td>0.0</td>\n",
       "      <td>0.0</td>\n",
       "      <td>0.0</td>\n",
       "      <td>0.0</td>\n",
       "      <td>0.0</td>\n",
       "      <td>0.0</td>\n",
       "      <td>0.0</td>\n",
       "      <td>0.0</td>\n",
       "      <td>0.0</td>\n",
       "      <td>0.0</td>\n",
       "      <td>0.0</td>\n",
       "      <td>0.0</td>\n",
       "      <td>0.0</td>\n",
       "      <td>0.0</td>\n",
       "      <td>0.0</td>\n",
       "      <td>0.0</td>\n",
       "      <td>0.0</td>\n",
       "      <td>0.0</td>\n",
       "      <td>...</td>\n",
       "      <td>0.0</td>\n",
       "      <td>0.0</td>\n",
       "      <td>0.0</td>\n",
       "      <td>0.0</td>\n",
       "      <td>0.0</td>\n",
       "      <td>0.0</td>\n",
       "      <td>0.0</td>\n",
       "      <td>0.0</td>\n",
       "      <td>0.0</td>\n",
       "      <td>0.0</td>\n",
       "      <td>0.0</td>\n",
       "      <td>1.0</td>\n",
       "      <td>0.0</td>\n",
       "      <td>0.0</td>\n",
       "      <td>0.0</td>\n",
       "      <td>0.0</td>\n",
       "      <td>0.0</td>\n",
       "      <td>0.0</td>\n",
       "      <td>0.0</td>\n",
       "      <td>0.0</td>\n",
       "      <td>0.0</td>\n",
       "      <td>0.0</td>\n",
       "      <td>0.0</td>\n",
       "      <td>0.0</td>\n",
       "      <td>0.0</td>\n",
       "      <td>0.0</td>\n",
       "      <td>0.0</td>\n",
       "      <td>0.0</td>\n",
       "      <td>0.0</td>\n",
       "      <td>0.0</td>\n",
       "      <td>0.0</td>\n",
       "      <td>0.0</td>\n",
       "      <td>0.0</td>\n",
       "      <td>0.0</td>\n",
       "      <td>0.0</td>\n",
       "      <td>0.0</td>\n",
       "      <td>0.0</td>\n",
       "      <td>0.0</td>\n",
       "      <td>0.0</td>\n",
       "      <td>1.0</td>\n",
       "    </tr>\n",
       "    <tr>\n",
       "      <th>1</th>\n",
       "      <td>-0.204939</td>\n",
       "      <td>-0.520289</td>\n",
       "      <td>-0.950219</td>\n",
       "      <td>-0.083777</td>\n",
       "      <td>-0.100648</td>\n",
       "      <td>-0.122876</td>\n",
       "      <td>-1.152318</td>\n",
       "      <td>0.250870</td>\n",
       "      <td>-0.155977</td>\n",
       "      <td>-0.275694</td>\n",
       "      <td>-0.040875</td>\n",
       "      <td>-1.228505</td>\n",
       "      <td>-1.155883</td>\n",
       "      <td>0.969359</td>\n",
       "      <td>0.0</td>\n",
       "      <td>0.0</td>\n",
       "      <td>0.0</td>\n",
       "      <td>0.0</td>\n",
       "      <td>0.0</td>\n",
       "      <td>0.0</td>\n",
       "      <td>0.0</td>\n",
       "      <td>1.0</td>\n",
       "      <td>0.0</td>\n",
       "      <td>0.0</td>\n",
       "      <td>0.0</td>\n",
       "      <td>0.0</td>\n",
       "      <td>0.0</td>\n",
       "      <td>0.0</td>\n",
       "      <td>0.0</td>\n",
       "      <td>0.0</td>\n",
       "      <td>0.0</td>\n",
       "      <td>0.0</td>\n",
       "      <td>0.0</td>\n",
       "      <td>0.0</td>\n",
       "      <td>0.0</td>\n",
       "      <td>0.0</td>\n",
       "      <td>0.0</td>\n",
       "      <td>0.0</td>\n",
       "      <td>0.0</td>\n",
       "      <td>0.0</td>\n",
       "      <td>...</td>\n",
       "      <td>0.0</td>\n",
       "      <td>0.0</td>\n",
       "      <td>0.0</td>\n",
       "      <td>0.0</td>\n",
       "      <td>0.0</td>\n",
       "      <td>0.0</td>\n",
       "      <td>0.0</td>\n",
       "      <td>0.0</td>\n",
       "      <td>0.0</td>\n",
       "      <td>0.0</td>\n",
       "      <td>0.0</td>\n",
       "      <td>1.0</td>\n",
       "      <td>0.0</td>\n",
       "      <td>0.0</td>\n",
       "      <td>0.0</td>\n",
       "      <td>0.0</td>\n",
       "      <td>0.0</td>\n",
       "      <td>0.0</td>\n",
       "      <td>0.0</td>\n",
       "      <td>0.0</td>\n",
       "      <td>0.0</td>\n",
       "      <td>0.0</td>\n",
       "      <td>0.0</td>\n",
       "      <td>0.0</td>\n",
       "      <td>0.0</td>\n",
       "      <td>0.0</td>\n",
       "      <td>0.0</td>\n",
       "      <td>0.0</td>\n",
       "      <td>0.0</td>\n",
       "      <td>0.0</td>\n",
       "      <td>0.0</td>\n",
       "      <td>0.0</td>\n",
       "      <td>0.0</td>\n",
       "      <td>0.0</td>\n",
       "      <td>0.0</td>\n",
       "      <td>0.0</td>\n",
       "      <td>0.0</td>\n",
       "      <td>0.0</td>\n",
       "      <td>0.0</td>\n",
       "      <td>1.0</td>\n",
       "    </tr>\n",
       "    <tr>\n",
       "      <th>2</th>\n",
       "      <td>0.278504</td>\n",
       "      <td>0.743145</td>\n",
       "      <td>0.169436</td>\n",
       "      <td>-0.083777</td>\n",
       "      <td>-0.100648</td>\n",
       "      <td>-0.122876</td>\n",
       "      <td>0.273371</td>\n",
       "      <td>-1.927131</td>\n",
       "      <td>-0.941612</td>\n",
       "      <td>-0.232104</td>\n",
       "      <td>-0.040875</td>\n",
       "      <td>1.750306</td>\n",
       "      <td>1.489791</td>\n",
       "      <td>-1.690509</td>\n",
       "      <td>0.0</td>\n",
       "      <td>0.0</td>\n",
       "      <td>0.0</td>\n",
       "      <td>0.0</td>\n",
       "      <td>1.0</td>\n",
       "      <td>0.0</td>\n",
       "      <td>0.0</td>\n",
       "      <td>0.0</td>\n",
       "      <td>0.0</td>\n",
       "      <td>0.0</td>\n",
       "      <td>0.0</td>\n",
       "      <td>0.0</td>\n",
       "      <td>0.0</td>\n",
       "      <td>0.0</td>\n",
       "      <td>0.0</td>\n",
       "      <td>0.0</td>\n",
       "      <td>0.0</td>\n",
       "      <td>0.0</td>\n",
       "      <td>0.0</td>\n",
       "      <td>0.0</td>\n",
       "      <td>0.0</td>\n",
       "      <td>0.0</td>\n",
       "      <td>0.0</td>\n",
       "      <td>0.0</td>\n",
       "      <td>0.0</td>\n",
       "      <td>0.0</td>\n",
       "      <td>...</td>\n",
       "      <td>0.0</td>\n",
       "      <td>0.0</td>\n",
       "      <td>0.0</td>\n",
       "      <td>0.0</td>\n",
       "      <td>0.0</td>\n",
       "      <td>0.0</td>\n",
       "      <td>1.0</td>\n",
       "      <td>0.0</td>\n",
       "      <td>0.0</td>\n",
       "      <td>0.0</td>\n",
       "      <td>0.0</td>\n",
       "      <td>0.0</td>\n",
       "      <td>0.0</td>\n",
       "      <td>0.0</td>\n",
       "      <td>0.0</td>\n",
       "      <td>0.0</td>\n",
       "      <td>0.0</td>\n",
       "      <td>0.0</td>\n",
       "      <td>0.0</td>\n",
       "      <td>0.0</td>\n",
       "      <td>0.0</td>\n",
       "      <td>0.0</td>\n",
       "      <td>0.0</td>\n",
       "      <td>0.0</td>\n",
       "      <td>0.0</td>\n",
       "      <td>0.0</td>\n",
       "      <td>0.0</td>\n",
       "      <td>0.0</td>\n",
       "      <td>0.0</td>\n",
       "      <td>0.0</td>\n",
       "      <td>0.0</td>\n",
       "      <td>1.0</td>\n",
       "      <td>0.0</td>\n",
       "      <td>0.0</td>\n",
       "      <td>0.0</td>\n",
       "      <td>0.0</td>\n",
       "      <td>0.0</td>\n",
       "      <td>0.0</td>\n",
       "      <td>0.0</td>\n",
       "      <td>0.0</td>\n",
       "    </tr>\n",
       "    <tr>\n",
       "      <th>3</th>\n",
       "      <td>0.278504</td>\n",
       "      <td>0.146006</td>\n",
       "      <td>-0.132340</td>\n",
       "      <td>-0.083777</td>\n",
       "      <td>-0.100648</td>\n",
       "      <td>-0.122876</td>\n",
       "      <td>0.273371</td>\n",
       "      <td>0.250870</td>\n",
       "      <td>-0.155977</td>\n",
       "      <td>0.999151</td>\n",
       "      <td>-0.040875</td>\n",
       "      <td>0.157900</td>\n",
       "      <td>-0.283868</td>\n",
       "      <td>0.206018</td>\n",
       "      <td>0.0</td>\n",
       "      <td>0.0</td>\n",
       "      <td>0.0</td>\n",
       "      <td>0.0</td>\n",
       "      <td>0.0</td>\n",
       "      <td>0.0</td>\n",
       "      <td>1.0</td>\n",
       "      <td>0.0</td>\n",
       "      <td>0.0</td>\n",
       "      <td>0.0</td>\n",
       "      <td>0.0</td>\n",
       "      <td>0.0</td>\n",
       "      <td>0.0</td>\n",
       "      <td>0.0</td>\n",
       "      <td>0.0</td>\n",
       "      <td>0.0</td>\n",
       "      <td>0.0</td>\n",
       "      <td>0.0</td>\n",
       "      <td>0.0</td>\n",
       "      <td>0.0</td>\n",
       "      <td>0.0</td>\n",
       "      <td>0.0</td>\n",
       "      <td>0.0</td>\n",
       "      <td>0.0</td>\n",
       "      <td>0.0</td>\n",
       "      <td>0.0</td>\n",
       "      <td>...</td>\n",
       "      <td>0.0</td>\n",
       "      <td>0.0</td>\n",
       "      <td>0.0</td>\n",
       "      <td>0.0</td>\n",
       "      <td>0.0</td>\n",
       "      <td>0.0</td>\n",
       "      <td>0.0</td>\n",
       "      <td>0.0</td>\n",
       "      <td>0.0</td>\n",
       "      <td>0.0</td>\n",
       "      <td>0.0</td>\n",
       "      <td>0.0</td>\n",
       "      <td>0.0</td>\n",
       "      <td>0.0</td>\n",
       "      <td>0.0</td>\n",
       "      <td>0.0</td>\n",
       "      <td>0.0</td>\n",
       "      <td>0.0</td>\n",
       "      <td>0.0</td>\n",
       "      <td>0.0</td>\n",
       "      <td>0.0</td>\n",
       "      <td>0.0</td>\n",
       "      <td>0.0</td>\n",
       "      <td>0.0</td>\n",
       "      <td>0.0</td>\n",
       "      <td>0.0</td>\n",
       "      <td>0.0</td>\n",
       "      <td>0.0</td>\n",
       "      <td>1.0</td>\n",
       "      <td>0.0</td>\n",
       "      <td>0.0</td>\n",
       "      <td>0.0</td>\n",
       "      <td>0.0</td>\n",
       "      <td>0.0</td>\n",
       "      <td>0.0</td>\n",
       "      <td>0.0</td>\n",
       "      <td>0.0</td>\n",
       "      <td>0.0</td>\n",
       "      <td>0.0</td>\n",
       "      <td>1.0</td>\n",
       "    </tr>\n",
       "    <tr>\n",
       "      <th>4</th>\n",
       "      <td>0.764369</td>\n",
       "      <td>0.743145</td>\n",
       "      <td>-0.132340</td>\n",
       "      <td>-0.083777</td>\n",
       "      <td>-0.100648</td>\n",
       "      <td>-0.122876</td>\n",
       "      <td>0.273371</td>\n",
       "      <td>0.250870</td>\n",
       "      <td>-0.155977</td>\n",
       "      <td>0.999151</td>\n",
       "      <td>-0.040875</td>\n",
       "      <td>0.157900</td>\n",
       "      <td>0.921961</td>\n",
       "      <td>1.114181</td>\n",
       "      <td>1.0</td>\n",
       "      <td>0.0</td>\n",
       "      <td>0.0</td>\n",
       "      <td>0.0</td>\n",
       "      <td>0.0</td>\n",
       "      <td>0.0</td>\n",
       "      <td>0.0</td>\n",
       "      <td>0.0</td>\n",
       "      <td>0.0</td>\n",
       "      <td>0.0</td>\n",
       "      <td>0.0</td>\n",
       "      <td>0.0</td>\n",
       "      <td>0.0</td>\n",
       "      <td>0.0</td>\n",
       "      <td>0.0</td>\n",
       "      <td>0.0</td>\n",
       "      <td>0.0</td>\n",
       "      <td>0.0</td>\n",
       "      <td>0.0</td>\n",
       "      <td>0.0</td>\n",
       "      <td>0.0</td>\n",
       "      <td>0.0</td>\n",
       "      <td>0.0</td>\n",
       "      <td>0.0</td>\n",
       "      <td>0.0</td>\n",
       "      <td>0.0</td>\n",
       "      <td>...</td>\n",
       "      <td>0.0</td>\n",
       "      <td>0.0</td>\n",
       "      <td>0.0</td>\n",
       "      <td>0.0</td>\n",
       "      <td>0.0</td>\n",
       "      <td>0.0</td>\n",
       "      <td>0.0</td>\n",
       "      <td>0.0</td>\n",
       "      <td>0.0</td>\n",
       "      <td>0.0</td>\n",
       "      <td>0.0</td>\n",
       "      <td>0.0</td>\n",
       "      <td>0.0</td>\n",
       "      <td>0.0</td>\n",
       "      <td>0.0</td>\n",
       "      <td>0.0</td>\n",
       "      <td>0.0</td>\n",
       "      <td>0.0</td>\n",
       "      <td>0.0</td>\n",
       "      <td>0.0</td>\n",
       "      <td>0.0</td>\n",
       "      <td>1.0</td>\n",
       "      <td>0.0</td>\n",
       "      <td>0.0</td>\n",
       "      <td>0.0</td>\n",
       "      <td>0.0</td>\n",
       "      <td>0.0</td>\n",
       "      <td>0.0</td>\n",
       "      <td>0.0</td>\n",
       "      <td>0.0</td>\n",
       "      <td>0.0</td>\n",
       "      <td>0.0</td>\n",
       "      <td>0.0</td>\n",
       "      <td>0.0</td>\n",
       "      <td>0.0</td>\n",
       "      <td>0.0</td>\n",
       "      <td>0.0</td>\n",
       "      <td>0.0</td>\n",
       "      <td>0.0</td>\n",
       "      <td>1.0</td>\n",
       "    </tr>\n",
       "    <tr>\n",
       "      <th>...</th>\n",
       "      <td>...</td>\n",
       "      <td>...</td>\n",
       "      <td>...</td>\n",
       "      <td>...</td>\n",
       "      <td>...</td>\n",
       "      <td>...</td>\n",
       "      <td>...</td>\n",
       "      <td>...</td>\n",
       "      <td>...</td>\n",
       "      <td>...</td>\n",
       "      <td>...</td>\n",
       "      <td>...</td>\n",
       "      <td>...</td>\n",
       "      <td>...</td>\n",
       "      <td>...</td>\n",
       "      <td>...</td>\n",
       "      <td>...</td>\n",
       "      <td>...</td>\n",
       "      <td>...</td>\n",
       "      <td>...</td>\n",
       "      <td>...</td>\n",
       "      <td>...</td>\n",
       "      <td>...</td>\n",
       "      <td>...</td>\n",
       "      <td>...</td>\n",
       "      <td>...</td>\n",
       "      <td>...</td>\n",
       "      <td>...</td>\n",
       "      <td>...</td>\n",
       "      <td>...</td>\n",
       "      <td>...</td>\n",
       "      <td>...</td>\n",
       "      <td>...</td>\n",
       "      <td>...</td>\n",
       "      <td>...</td>\n",
       "      <td>...</td>\n",
       "      <td>...</td>\n",
       "      <td>...</td>\n",
       "      <td>...</td>\n",
       "      <td>...</td>\n",
       "      <td>...</td>\n",
       "      <td>...</td>\n",
       "      <td>...</td>\n",
       "      <td>...</td>\n",
       "      <td>...</td>\n",
       "      <td>...</td>\n",
       "      <td>...</td>\n",
       "      <td>...</td>\n",
       "      <td>...</td>\n",
       "      <td>...</td>\n",
       "      <td>...</td>\n",
       "      <td>...</td>\n",
       "      <td>...</td>\n",
       "      <td>...</td>\n",
       "      <td>...</td>\n",
       "      <td>...</td>\n",
       "      <td>...</td>\n",
       "      <td>...</td>\n",
       "      <td>...</td>\n",
       "      <td>...</td>\n",
       "      <td>...</td>\n",
       "      <td>...</td>\n",
       "      <td>...</td>\n",
       "      <td>...</td>\n",
       "      <td>...</td>\n",
       "      <td>...</td>\n",
       "      <td>...</td>\n",
       "      <td>...</td>\n",
       "      <td>...</td>\n",
       "      <td>...</td>\n",
       "      <td>...</td>\n",
       "      <td>...</td>\n",
       "      <td>...</td>\n",
       "      <td>...</td>\n",
       "      <td>...</td>\n",
       "      <td>...</td>\n",
       "      <td>...</td>\n",
       "      <td>...</td>\n",
       "      <td>...</td>\n",
       "      <td>...</td>\n",
       "      <td>...</td>\n",
       "    </tr>\n",
       "    <tr>\n",
       "      <th>4192</th>\n",
       "      <td>-0.204939</td>\n",
       "      <td>-0.520289</td>\n",
       "      <td>-0.417628</td>\n",
       "      <td>-0.083777</td>\n",
       "      <td>-0.100648</td>\n",
       "      <td>-0.122876</td>\n",
       "      <td>-1.152318</td>\n",
       "      <td>-1.927131</td>\n",
       "      <td>-1.228605</td>\n",
       "      <td>0.150178</td>\n",
       "      <td>-0.040875</td>\n",
       "      <td>-1.228505</td>\n",
       "      <td>-1.155883</td>\n",
       "      <td>0.932330</td>\n",
       "      <td>0.0</td>\n",
       "      <td>0.0</td>\n",
       "      <td>0.0</td>\n",
       "      <td>0.0</td>\n",
       "      <td>0.0</td>\n",
       "      <td>0.0</td>\n",
       "      <td>0.0</td>\n",
       "      <td>1.0</td>\n",
       "      <td>0.0</td>\n",
       "      <td>0.0</td>\n",
       "      <td>0.0</td>\n",
       "      <td>0.0</td>\n",
       "      <td>0.0</td>\n",
       "      <td>0.0</td>\n",
       "      <td>0.0</td>\n",
       "      <td>0.0</td>\n",
       "      <td>0.0</td>\n",
       "      <td>0.0</td>\n",
       "      <td>0.0</td>\n",
       "      <td>0.0</td>\n",
       "      <td>0.0</td>\n",
       "      <td>0.0</td>\n",
       "      <td>0.0</td>\n",
       "      <td>0.0</td>\n",
       "      <td>0.0</td>\n",
       "      <td>0.0</td>\n",
       "      <td>...</td>\n",
       "      <td>0.0</td>\n",
       "      <td>0.0</td>\n",
       "      <td>0.0</td>\n",
       "      <td>0.0</td>\n",
       "      <td>0.0</td>\n",
       "      <td>0.0</td>\n",
       "      <td>0.0</td>\n",
       "      <td>0.0</td>\n",
       "      <td>0.0</td>\n",
       "      <td>0.0</td>\n",
       "      <td>0.0</td>\n",
       "      <td>0.0</td>\n",
       "      <td>0.0</td>\n",
       "      <td>0.0</td>\n",
       "      <td>0.0</td>\n",
       "      <td>0.0</td>\n",
       "      <td>0.0</td>\n",
       "      <td>0.0</td>\n",
       "      <td>0.0</td>\n",
       "      <td>0.0</td>\n",
       "      <td>0.0</td>\n",
       "      <td>1.0</td>\n",
       "      <td>0.0</td>\n",
       "      <td>0.0</td>\n",
       "      <td>0.0</td>\n",
       "      <td>0.0</td>\n",
       "      <td>0.0</td>\n",
       "      <td>0.0</td>\n",
       "      <td>0.0</td>\n",
       "      <td>0.0</td>\n",
       "      <td>0.0</td>\n",
       "      <td>1.0</td>\n",
       "      <td>0.0</td>\n",
       "      <td>0.0</td>\n",
       "      <td>0.0</td>\n",
       "      <td>0.0</td>\n",
       "      <td>0.0</td>\n",
       "      <td>0.0</td>\n",
       "      <td>0.0</td>\n",
       "      <td>0.0</td>\n",
       "    </tr>\n",
       "    <tr>\n",
       "      <th>4193</th>\n",
       "      <td>-0.204939</td>\n",
       "      <td>-0.520289</td>\n",
       "      <td>-0.950219</td>\n",
       "      <td>-0.083777</td>\n",
       "      <td>-0.100648</td>\n",
       "      <td>-0.122876</td>\n",
       "      <td>-0.507906</td>\n",
       "      <td>0.250870</td>\n",
       "      <td>-0.155977</td>\n",
       "      <td>-1.434613</td>\n",
       "      <td>-0.040875</td>\n",
       "      <td>-1.228505</td>\n",
       "      <td>-1.155883</td>\n",
       "      <td>-0.421627</td>\n",
       "      <td>0.0</td>\n",
       "      <td>0.0</td>\n",
       "      <td>0.0</td>\n",
       "      <td>0.0</td>\n",
       "      <td>0.0</td>\n",
       "      <td>0.0</td>\n",
       "      <td>0.0</td>\n",
       "      <td>0.0</td>\n",
       "      <td>0.0</td>\n",
       "      <td>0.0</td>\n",
       "      <td>1.0</td>\n",
       "      <td>0.0</td>\n",
       "      <td>0.0</td>\n",
       "      <td>0.0</td>\n",
       "      <td>0.0</td>\n",
       "      <td>0.0</td>\n",
       "      <td>0.0</td>\n",
       "      <td>0.0</td>\n",
       "      <td>0.0</td>\n",
       "      <td>0.0</td>\n",
       "      <td>0.0</td>\n",
       "      <td>0.0</td>\n",
       "      <td>0.0</td>\n",
       "      <td>0.0</td>\n",
       "      <td>0.0</td>\n",
       "      <td>0.0</td>\n",
       "      <td>...</td>\n",
       "      <td>0.0</td>\n",
       "      <td>0.0</td>\n",
       "      <td>0.0</td>\n",
       "      <td>0.0</td>\n",
       "      <td>0.0</td>\n",
       "      <td>0.0</td>\n",
       "      <td>0.0</td>\n",
       "      <td>0.0</td>\n",
       "      <td>0.0</td>\n",
       "      <td>0.0</td>\n",
       "      <td>0.0</td>\n",
       "      <td>0.0</td>\n",
       "      <td>0.0</td>\n",
       "      <td>0.0</td>\n",
       "      <td>0.0</td>\n",
       "      <td>0.0</td>\n",
       "      <td>0.0</td>\n",
       "      <td>0.0</td>\n",
       "      <td>0.0</td>\n",
       "      <td>1.0</td>\n",
       "      <td>0.0</td>\n",
       "      <td>0.0</td>\n",
       "      <td>0.0</td>\n",
       "      <td>0.0</td>\n",
       "      <td>0.0</td>\n",
       "      <td>0.0</td>\n",
       "      <td>0.0</td>\n",
       "      <td>0.0</td>\n",
       "      <td>0.0</td>\n",
       "      <td>0.0</td>\n",
       "      <td>0.0</td>\n",
       "      <td>0.0</td>\n",
       "      <td>0.0</td>\n",
       "      <td>0.0</td>\n",
       "      <td>0.0</td>\n",
       "      <td>0.0</td>\n",
       "      <td>0.0</td>\n",
       "      <td>0.0</td>\n",
       "      <td>0.0</td>\n",
       "      <td>1.0</td>\n",
       "    </tr>\n",
       "    <tr>\n",
       "      <th>4194</th>\n",
       "      <td>0.278504</td>\n",
       "      <td>2.789720</td>\n",
       "      <td>0.169436</td>\n",
       "      <td>-0.083777</td>\n",
       "      <td>-0.100648</td>\n",
       "      <td>-0.122876</td>\n",
       "      <td>-0.222304</td>\n",
       "      <td>0.250870</td>\n",
       "      <td>0.299165</td>\n",
       "      <td>-0.275694</td>\n",
       "      <td>-0.040875</td>\n",
       "      <td>0.983368</td>\n",
       "      <td>-0.283868</td>\n",
       "      <td>-0.588633</td>\n",
       "      <td>0.0</td>\n",
       "      <td>0.0</td>\n",
       "      <td>0.0</td>\n",
       "      <td>0.0</td>\n",
       "      <td>0.0</td>\n",
       "      <td>1.0</td>\n",
       "      <td>0.0</td>\n",
       "      <td>0.0</td>\n",
       "      <td>0.0</td>\n",
       "      <td>0.0</td>\n",
       "      <td>0.0</td>\n",
       "      <td>0.0</td>\n",
       "      <td>0.0</td>\n",
       "      <td>0.0</td>\n",
       "      <td>0.0</td>\n",
       "      <td>0.0</td>\n",
       "      <td>0.0</td>\n",
       "      <td>0.0</td>\n",
       "      <td>0.0</td>\n",
       "      <td>0.0</td>\n",
       "      <td>0.0</td>\n",
       "      <td>0.0</td>\n",
       "      <td>0.0</td>\n",
       "      <td>0.0</td>\n",
       "      <td>0.0</td>\n",
       "      <td>0.0</td>\n",
       "      <td>...</td>\n",
       "      <td>0.0</td>\n",
       "      <td>0.0</td>\n",
       "      <td>0.0</td>\n",
       "      <td>0.0</td>\n",
       "      <td>0.0</td>\n",
       "      <td>0.0</td>\n",
       "      <td>0.0</td>\n",
       "      <td>0.0</td>\n",
       "      <td>0.0</td>\n",
       "      <td>0.0</td>\n",
       "      <td>0.0</td>\n",
       "      <td>0.0</td>\n",
       "      <td>0.0</td>\n",
       "      <td>0.0</td>\n",
       "      <td>0.0</td>\n",
       "      <td>0.0</td>\n",
       "      <td>0.0</td>\n",
       "      <td>0.0</td>\n",
       "      <td>0.0</td>\n",
       "      <td>0.0</td>\n",
       "      <td>0.0</td>\n",
       "      <td>0.0</td>\n",
       "      <td>0.0</td>\n",
       "      <td>0.0</td>\n",
       "      <td>0.0</td>\n",
       "      <td>0.0</td>\n",
       "      <td>0.0</td>\n",
       "      <td>1.0</td>\n",
       "      <td>0.0</td>\n",
       "      <td>0.0</td>\n",
       "      <td>0.0</td>\n",
       "      <td>1.0</td>\n",
       "      <td>0.0</td>\n",
       "      <td>0.0</td>\n",
       "      <td>0.0</td>\n",
       "      <td>0.0</td>\n",
       "      <td>0.0</td>\n",
       "      <td>0.0</td>\n",
       "      <td>0.0</td>\n",
       "      <td>0.0</td>\n",
       "    </tr>\n",
       "    <tr>\n",
       "      <th>4195</th>\n",
       "      <td>-1.639949</td>\n",
       "      <td>-0.178829</td>\n",
       "      <td>-1.679751</td>\n",
       "      <td>-0.083777</td>\n",
       "      <td>-0.100648</td>\n",
       "      <td>-0.122876</td>\n",
       "      <td>0.273371</td>\n",
       "      <td>-1.927131</td>\n",
       "      <td>-0.155977</td>\n",
       "      <td>-1.483300</td>\n",
       "      <td>-0.040875</td>\n",
       "      <td>0.157900</td>\n",
       "      <td>-0.283868</td>\n",
       "      <td>0.206018</td>\n",
       "      <td>0.0</td>\n",
       "      <td>0.0</td>\n",
       "      <td>0.0</td>\n",
       "      <td>0.0</td>\n",
       "      <td>0.0</td>\n",
       "      <td>0.0</td>\n",
       "      <td>0.0</td>\n",
       "      <td>1.0</td>\n",
       "      <td>0.0</td>\n",
       "      <td>0.0</td>\n",
       "      <td>0.0</td>\n",
       "      <td>0.0</td>\n",
       "      <td>0.0</td>\n",
       "      <td>0.0</td>\n",
       "      <td>0.0</td>\n",
       "      <td>0.0</td>\n",
       "      <td>0.0</td>\n",
       "      <td>0.0</td>\n",
       "      <td>0.0</td>\n",
       "      <td>0.0</td>\n",
       "      <td>0.0</td>\n",
       "      <td>0.0</td>\n",
       "      <td>0.0</td>\n",
       "      <td>0.0</td>\n",
       "      <td>0.0</td>\n",
       "      <td>0.0</td>\n",
       "      <td>...</td>\n",
       "      <td>0.0</td>\n",
       "      <td>0.0</td>\n",
       "      <td>0.0</td>\n",
       "      <td>0.0</td>\n",
       "      <td>0.0</td>\n",
       "      <td>0.0</td>\n",
       "      <td>0.0</td>\n",
       "      <td>0.0</td>\n",
       "      <td>0.0</td>\n",
       "      <td>1.0</td>\n",
       "      <td>0.0</td>\n",
       "      <td>0.0</td>\n",
       "      <td>0.0</td>\n",
       "      <td>0.0</td>\n",
       "      <td>0.0</td>\n",
       "      <td>0.0</td>\n",
       "      <td>0.0</td>\n",
       "      <td>0.0</td>\n",
       "      <td>0.0</td>\n",
       "      <td>0.0</td>\n",
       "      <td>0.0</td>\n",
       "      <td>0.0</td>\n",
       "      <td>0.0</td>\n",
       "      <td>0.0</td>\n",
       "      <td>0.0</td>\n",
       "      <td>0.0</td>\n",
       "      <td>0.0</td>\n",
       "      <td>0.0</td>\n",
       "      <td>0.0</td>\n",
       "      <td>0.0</td>\n",
       "      <td>0.0</td>\n",
       "      <td>0.0</td>\n",
       "      <td>0.0</td>\n",
       "      <td>0.0</td>\n",
       "      <td>0.0</td>\n",
       "      <td>0.0</td>\n",
       "      <td>0.0</td>\n",
       "      <td>0.0</td>\n",
       "      <td>0.0</td>\n",
       "      <td>1.0</td>\n",
       "    </tr>\n",
       "    <tr>\n",
       "      <th>4196</th>\n",
       "      <td>0.764369</td>\n",
       "      <td>0.146006</td>\n",
       "      <td>-0.132340</td>\n",
       "      <td>-0.083777</td>\n",
       "      <td>-0.100648</td>\n",
       "      <td>-0.122876</td>\n",
       "      <td>0.273371</td>\n",
       "      <td>0.250870</td>\n",
       "      <td>-0.155977</td>\n",
       "      <td>-0.275694</td>\n",
       "      <td>-0.040875</td>\n",
       "      <td>-0.285428</td>\n",
       "      <td>0.418380</td>\n",
       "      <td>0.206018</td>\n",
       "      <td>0.0</td>\n",
       "      <td>0.0</td>\n",
       "      <td>0.0</td>\n",
       "      <td>0.0</td>\n",
       "      <td>0.0</td>\n",
       "      <td>0.0</td>\n",
       "      <td>0.0</td>\n",
       "      <td>1.0</td>\n",
       "      <td>0.0</td>\n",
       "      <td>0.0</td>\n",
       "      <td>0.0</td>\n",
       "      <td>0.0</td>\n",
       "      <td>0.0</td>\n",
       "      <td>0.0</td>\n",
       "      <td>0.0</td>\n",
       "      <td>0.0</td>\n",
       "      <td>0.0</td>\n",
       "      <td>0.0</td>\n",
       "      <td>0.0</td>\n",
       "      <td>0.0</td>\n",
       "      <td>0.0</td>\n",
       "      <td>0.0</td>\n",
       "      <td>0.0</td>\n",
       "      <td>0.0</td>\n",
       "      <td>0.0</td>\n",
       "      <td>0.0</td>\n",
       "      <td>...</td>\n",
       "      <td>0.0</td>\n",
       "      <td>0.0</td>\n",
       "      <td>0.0</td>\n",
       "      <td>0.0</td>\n",
       "      <td>0.0</td>\n",
       "      <td>0.0</td>\n",
       "      <td>0.0</td>\n",
       "      <td>0.0</td>\n",
       "      <td>0.0</td>\n",
       "      <td>0.0</td>\n",
       "      <td>0.0</td>\n",
       "      <td>0.0</td>\n",
       "      <td>0.0</td>\n",
       "      <td>1.0</td>\n",
       "      <td>0.0</td>\n",
       "      <td>0.0</td>\n",
       "      <td>0.0</td>\n",
       "      <td>0.0</td>\n",
       "      <td>0.0</td>\n",
       "      <td>0.0</td>\n",
       "      <td>0.0</td>\n",
       "      <td>0.0</td>\n",
       "      <td>0.0</td>\n",
       "      <td>0.0</td>\n",
       "      <td>0.0</td>\n",
       "      <td>0.0</td>\n",
       "      <td>0.0</td>\n",
       "      <td>0.0</td>\n",
       "      <td>0.0</td>\n",
       "      <td>0.0</td>\n",
       "      <td>0.0</td>\n",
       "      <td>0.0</td>\n",
       "      <td>0.0</td>\n",
       "      <td>0.0</td>\n",
       "      <td>0.0</td>\n",
       "      <td>0.0</td>\n",
       "      <td>0.0</td>\n",
       "      <td>0.0</td>\n",
       "      <td>0.0</td>\n",
       "      <td>1.0</td>\n",
       "    </tr>\n",
       "  </tbody>\n",
       "</table>\n",
       "<p>4197 rows × 6773 columns</p>\n",
       "</div>"
      ]
     },
     "metadata": {
      "application/vnd.databricks.v1+output": {
       "addedWidgets": {},
       "arguments": {},
       "data": "<div>\n<style scoped>\n    .dataframe tbody tr th:only-of-type {\n        vertical-align: middle;\n    }\n\n    .dataframe tbody tr th {\n        vertical-align: top;\n    }\n\n    .dataframe thead th {\n        text-align: right;\n    }\n</style>\n<table border=\"1\" class=\"dataframe\">\n  <thead>\n    <tr style=\"text-align: right;\">\n      <th></th>\n      <th>modelljahr</th>\n      <th>gänge</th>\n      <th>motordrehmoment_nm</th>\n      <th>motorspannung_v</th>\n      <th>motorleistung_w</th>\n      <th>max._motorunterstützung_km/h</th>\n      <th>unterstützung_%</th>\n      <th>unterstützungsstufen</th>\n      <th>motorgewicht_kg</th>\n      <th>akkukapazität_wh</th>\n      <th>akkuspannung_v</th>\n      <th>lenkerbreite_mm</th>\n      <th>gabel_federweg_mm</th>\n      <th>gewicht_kg</th>\n      <th>hersteller_CUBE</th>\n      <th>hersteller_Cannondale</th>\n      <th>hersteller_Canyon</th>\n      <th>hersteller_Diamant</th>\n      <th>hersteller_GHOST</th>\n      <th>hersteller_Haibike</th>\n      <th>hersteller_Hercules</th>\n      <th>hersteller_Kalkhoff</th>\n      <th>hersteller_SCOTT</th>\n      <th>hersteller_Specialized</th>\n      <th>hersteller_Winora</th>\n      <th>hersteller_corratec</th>\n      <th>modellname_825+</th>\n      <th>modellname_9</th>\n      <th>modellname_access hybrid ex 500</th>\n      <th>modellname_access hybrid ex 500 allroad</th>\n      <th>modellname_access hybrid ex 625</th>\n      <th>modellname_access hybrid ex 625 allroad</th>\n      <th>modellname_access hybrid exc 500</th>\n      <th>modellname_access hybrid exc 625</th>\n      <th>modellname_access hybrid one 500</th>\n      <th>modellname_access hybrid pro 400 allroad</th>\n      <th>modellname_access hybrid pro 500</th>\n      <th>modellname_access hybrid pro 500 allroad</th>\n      <th>modellname_access hybrid race 500</th>\n      <th>modellname_access hybrid sl 500</th>\n      <th>...</th>\n      <th>rahmenhöhe_cm_36</th>\n      <th>rahmenhöhe_cm_38</th>\n      <th>rahmenhöhe_cm_39</th>\n      <th>rahmenhöhe_cm_40</th>\n      <th>rahmenhöhe_cm_41</th>\n      <th>rahmenhöhe_cm_42</th>\n      <th>rahmenhöhe_cm_43</th>\n      <th>rahmenhöhe_cm_44</th>\n      <th>rahmenhöhe_cm_45</th>\n      <th>rahmenhöhe_cm_46</th>\n      <th>rahmenhöhe_cm_47</th>\n      <th>rahmenhöhe_cm_48</th>\n      <th>rahmenhöhe_cm_49</th>\n      <th>rahmenhöhe_cm_50</th>\n      <th>rahmenhöhe_cm_51</th>\n      <th>rahmenhöhe_cm_52</th>\n      <th>rahmenhöhe_cm_53</th>\n      <th>rahmenhöhe_cm_54</th>\n      <th>rahmenhöhe_cm_55</th>\n      <th>rahmenhöhe_cm_56</th>\n      <th>rahmenhöhe_cm_57</th>\n      <th>rahmenhöhe_cm_58</th>\n      <th>rahmenhöhe_cm_59</th>\n      <th>rahmenhöhe_cm_60</th>\n      <th>rahmenhöhe_cm_61</th>\n      <th>rahmenhöhe_cm_62</th>\n      <th>rahmenhöhe_cm_63</th>\n      <th>rahmenhöhe_cm_64</th>\n      <th>rahmenhöhe_cm_65</th>\n      <th>rahmenhöhe_cm_68</th>\n      <th>rahmenhöhe_cm_Ja</th>\n      <th>schiebehilfe_0 km/h</th>\n      <th>schiebehilfe_36</th>\n      <th>schiebehilfe_40</th>\n      <th>schiebehilfe_42</th>\n      <th>schiebehilfe_44</th>\n      <th>schiebehilfe_45</th>\n      <th>schiebehilfe_48</th>\n      <th>schiebehilfe_52</th>\n      <th>schiebehilfe_6 km/h</th>\n    </tr>\n  </thead>\n  <tbody>\n    <tr>\n      <th>0</th>\n      <td>-1.163679</td>\n      <td>0.146006</td>\n      <td>0.490832</td>\n      <td>-0.083777</td>\n      <td>-0.100648</td>\n      <td>-0.122876</td>\n      <td>0.273371</td>\n      <td>0.250870</td>\n      <td>1.454154</td>\n      <td>-0.275694</td>\n      <td>-0.040875</td>\n      <td>0.579613</td>\n      <td>1.253417</td>\n      <td>-0.997780</td>\n      <td>1.0</td>\n      <td>0.0</td>\n      <td>0.0</td>\n      <td>0.0</td>\n      <td>0.0</td>\n      <td>0.0</td>\n      <td>0.0</td>\n      <td>0.0</td>\n      <td>0.0</td>\n      <td>0.0</td>\n      <td>0.0</td>\n      <td>0.0</td>\n      <td>0.0</td>\n      <td>0.0</td>\n      <td>0.0</td>\n      <td>0.0</td>\n      <td>0.0</td>\n      <td>0.0</td>\n      <td>0.0</td>\n      <td>0.0</td>\n      <td>0.0</td>\n      <td>0.0</td>\n      <td>0.0</td>\n      <td>0.0</td>\n      <td>0.0</td>\n      <td>0.0</td>\n      <td>...</td>\n      <td>0.0</td>\n      <td>0.0</td>\n      <td>0.0</td>\n      <td>0.0</td>\n      <td>0.0</td>\n      <td>0.0</td>\n      <td>0.0</td>\n      <td>0.0</td>\n      <td>0.0</td>\n      <td>0.0</td>\n      <td>0.0</td>\n      <td>1.0</td>\n      <td>0.0</td>\n      <td>0.0</td>\n      <td>0.0</td>\n      <td>0.0</td>\n      <td>0.0</td>\n      <td>0.0</td>\n      <td>0.0</td>\n      <td>0.0</td>\n      <td>0.0</td>\n      <td>0.0</td>\n      <td>0.0</td>\n      <td>0.0</td>\n      <td>0.0</td>\n      <td>0.0</td>\n      <td>0.0</td>\n      <td>0.0</td>\n      <td>0.0</td>\n      <td>0.0</td>\n      <td>0.0</td>\n      <td>0.0</td>\n      <td>0.0</td>\n      <td>0.0</td>\n      <td>0.0</td>\n      <td>0.0</td>\n      <td>0.0</td>\n      <td>0.0</td>\n      <td>0.0</td>\n      <td>1.0</td>\n    </tr>\n    <tr>\n      <th>1</th>\n      <td>-0.204939</td>\n      <td>-0.520289</td>\n      <td>-0.950219</td>\n      <td>-0.083777</td>\n      <td>-0.100648</td>\n      <td>-0.122876</td>\n      <td>-1.152318</td>\n      <td>0.250870</td>\n      <td>-0.155977</td>\n      <td>-0.275694</td>\n      <td>-0.040875</td>\n      <td>-1.228505</td>\n      <td>-1.155883</td>\n      <td>0.969359</td>\n      <td>0.0</td>\n      <td>0.0</td>\n      <td>0.0</td>\n      <td>0.0</td>\n      <td>0.0</td>\n      <td>0.0</td>\n      <td>0.0</td>\n      <td>1.0</td>\n      <td>0.0</td>\n      <td>0.0</td>\n      <td>0.0</td>\n      <td>0.0</td>\n      <td>0.0</td>\n      <td>0.0</td>\n      <td>0.0</td>\n      <td>0.0</td>\n      <td>0.0</td>\n      <td>0.0</td>\n      <td>0.0</td>\n      <td>0.0</td>\n      <td>0.0</td>\n      <td>0.0</td>\n      <td>0.0</td>\n      <td>0.0</td>\n      <td>0.0</td>\n      <td>0.0</td>\n      <td>...</td>\n      <td>0.0</td>\n      <td>0.0</td>\n      <td>0.0</td>\n      <td>0.0</td>\n      <td>0.0</td>\n      <td>0.0</td>\n      <td>0.0</td>\n      <td>0.0</td>\n      <td>0.0</td>\n      <td>0.0</td>\n      <td>0.0</td>\n      <td>1.0</td>\n      <td>0.0</td>\n      <td>0.0</td>\n      <td>0.0</td>\n      <td>0.0</td>\n      <td>0.0</td>\n      <td>0.0</td>\n      <td>0.0</td>\n      <td>0.0</td>\n      <td>0.0</td>\n      <td>0.0</td>\n      <td>0.0</td>\n      <td>0.0</td>\n      <td>0.0</td>\n      <td>0.0</td>\n      <td>0.0</td>\n      <td>0.0</td>\n      <td>0.0</td>\n      <td>0.0</td>\n      <td>0.0</td>\n      <td>0.0</td>\n      <td>0.0</td>\n      <td>0.0</td>\n      <td>0.0</td>\n      <td>0.0</td>\n      <td>0.0</td>\n      <td>0.0</td>\n      <td>0.0</td>\n      <td>1.0</td>\n    </tr>\n    <tr>\n      <th>2</th>\n      <td>0.278504</td>\n      <td>0.743145</td>\n      <td>0.169436</td>\n      <td>-0.083777</td>\n      <td>-0.100648</td>\n      <td>-0.122876</td>\n      <td>0.273371</td>\n      <td>-1.927131</td>\n      <td>-0.941612</td>\n      <td>-0.232104</td>\n      <td>-0.040875</td>\n      <td>1.750306</td>\n      <td>1.489791</td>\n      <td>-1.690509</td>\n      <td>0.0</td>\n      <td>0.0</td>\n      <td>0.0</td>\n      <td>0.0</td>\n      <td>1.0</td>\n      <td>0.0</td>\n      <td>0.0</td>\n      <td>0.0</td>\n      <td>0.0</td>\n      <td>0.0</td>\n      <td>0.0</td>\n      <td>0.0</td>\n      <td>0.0</td>\n      <td>0.0</td>\n      <td>0.0</td>\n      <td>0.0</td>\n      <td>0.0</td>\n      <td>0.0</td>\n      <td>0.0</td>\n      <td>0.0</td>\n      <td>0.0</td>\n      <td>0.0</td>\n      <td>0.0</td>\n      <td>0.0</td>\n      <td>0.0</td>\n      <td>0.0</td>\n      <td>...</td>\n      <td>0.0</td>\n      <td>0.0</td>\n      <td>0.0</td>\n      <td>0.0</td>\n      <td>0.0</td>\n      <td>0.0</td>\n      <td>1.0</td>\n      <td>0.0</td>\n      <td>0.0</td>\n      <td>0.0</td>\n      <td>0.0</td>\n      <td>0.0</td>\n      <td>0.0</td>\n      <td>0.0</td>\n      <td>0.0</td>\n      <td>0.0</td>\n      <td>0.0</td>\n      <td>0.0</td>\n      <td>0.0</td>\n      <td>0.0</td>\n      <td>0.0</td>\n      <td>0.0</td>\n      <td>0.0</td>\n      <td>0.0</td>\n      <td>0.0</td>\n      <td>0.0</td>\n      <td>0.0</td>\n      <td>0.0</td>\n      <td>0.0</td>\n      <td>0.0</td>\n      <td>0.0</td>\n      <td>1.0</td>\n      <td>0.0</td>\n      <td>0.0</td>\n      <td>0.0</td>\n      <td>0.0</td>\n      <td>0.0</td>\n      <td>0.0</td>\n      <td>0.0</td>\n      <td>0.0</td>\n    </tr>\n    <tr>\n      <th>3</th>\n      <td>0.278504</td>\n      <td>0.146006</td>\n      <td>-0.132340</td>\n      <td>-0.083777</td>\n      <td>-0.100648</td>\n      <td>-0.122876</td>\n      <td>0.273371</td>\n      <td>0.250870</td>\n      <td>-0.155977</td>\n      <td>0.999151</td>\n      <td>-0.040875</td>\n      <td>0.157900</td>\n      <td>-0.283868</td>\n      <td>0.206018</td>\n      <td>0.0</td>\n      <td>0.0</td>\n      <td>0.0</td>\n      <td>0.0</td>\n      <td>0.0</td>\n      <td>0.0</td>\n      <td>1.0</td>\n      <td>0.0</td>\n      <td>0.0</td>\n      <td>0.0</td>\n      <td>0.0</td>\n      <td>0.0</td>\n      <td>0.0</td>\n      <td>0.0</td>\n      <td>0.0</td>\n      <td>0.0</td>\n      <td>0.0</td>\n      <td>0.0</td>\n      <td>0.0</td>\n      <td>0.0</td>\n      <td>0.0</td>\n      <td>0.0</td>\n      <td>0.0</td>\n      <td>0.0</td>\n      <td>0.0</td>\n      <td>0.0</td>\n      <td>...</td>\n      <td>0.0</td>\n      <td>0.0</td>\n      <td>0.0</td>\n      <td>0.0</td>\n      <td>0.0</td>\n      <td>0.0</td>\n      <td>0.0</td>\n      <td>0.0</td>\n      <td>0.0</td>\n      <td>0.0</td>\n      <td>0.0</td>\n      <td>0.0</td>\n      <td>0.0</td>\n      <td>0.0</td>\n      <td>0.0</td>\n      <td>0.0</td>\n      <td>0.0</td>\n      <td>0.0</td>\n      <td>0.0</td>\n      <td>0.0</td>\n      <td>0.0</td>\n      <td>0.0</td>\n      <td>0.0</td>\n      <td>0.0</td>\n      <td>0.0</td>\n      <td>0.0</td>\n      <td>0.0</td>\n      <td>0.0</td>\n      <td>1.0</td>\n      <td>0.0</td>\n      <td>0.0</td>\n      <td>0.0</td>\n      <td>0.0</td>\n      <td>0.0</td>\n      <td>0.0</td>\n      <td>0.0</td>\n      <td>0.0</td>\n      <td>0.0</td>\n      <td>0.0</td>\n      <td>1.0</td>\n    </tr>\n    <tr>\n      <th>4</th>\n      <td>0.764369</td>\n      <td>0.743145</td>\n      <td>-0.132340</td>\n      <td>-0.083777</td>\n      <td>-0.100648</td>\n      <td>-0.122876</td>\n      <td>0.273371</td>\n      <td>0.250870</td>\n      <td>-0.155977</td>\n      <td>0.999151</td>\n      <td>-0.040875</td>\n      <td>0.157900</td>\n      <td>0.921961</td>\n      <td>1.114181</td>\n      <td>1.0</td>\n      <td>0.0</td>\n      <td>0.0</td>\n      <td>0.0</td>\n      <td>0.0</td>\n      <td>0.0</td>\n      <td>0.0</td>\n      <td>0.0</td>\n      <td>0.0</td>\n      <td>0.0</td>\n      <td>0.0</td>\n      <td>0.0</td>\n      <td>0.0</td>\n      <td>0.0</td>\n      <td>0.0</td>\n      <td>0.0</td>\n      <td>0.0</td>\n      <td>0.0</td>\n      <td>0.0</td>\n      <td>0.0</td>\n      <td>0.0</td>\n      <td>0.0</td>\n      <td>0.0</td>\n      <td>0.0</td>\n      <td>0.0</td>\n      <td>0.0</td>\n      <td>...</td>\n      <td>0.0</td>\n      <td>0.0</td>\n      <td>0.0</td>\n      <td>0.0</td>\n      <td>0.0</td>\n      <td>0.0</td>\n      <td>0.0</td>\n      <td>0.0</td>\n      <td>0.0</td>\n      <td>0.0</td>\n      <td>0.0</td>\n      <td>0.0</td>\n      <td>0.0</td>\n      <td>0.0</td>\n      <td>0.0</td>\n      <td>0.0</td>\n      <td>0.0</td>\n      <td>0.0</td>\n      <td>0.0</td>\n      <td>0.0</td>\n      <td>0.0</td>\n      <td>1.0</td>\n      <td>0.0</td>\n      <td>0.0</td>\n      <td>0.0</td>\n      <td>0.0</td>\n      <td>0.0</td>\n      <td>0.0</td>\n      <td>0.0</td>\n      <td>0.0</td>\n      <td>0.0</td>\n      <td>0.0</td>\n      <td>0.0</td>\n      <td>0.0</td>\n      <td>0.0</td>\n      <td>0.0</td>\n      <td>0.0</td>\n      <td>0.0</td>\n      <td>0.0</td>\n      <td>1.0</td>\n    </tr>\n    <tr>\n      <th>...</th>\n      <td>...</td>\n      <td>...</td>\n      <td>...</td>\n      <td>...</td>\n      <td>...</td>\n      <td>...</td>\n      <td>...</td>\n      <td>...</td>\n      <td>...</td>\n      <td>...</td>\n      <td>...</td>\n      <td>...</td>\n      <td>...</td>\n      <td>...</td>\n      <td>...</td>\n      <td>...</td>\n      <td>...</td>\n      <td>...</td>\n      <td>...</td>\n      <td>...</td>\n      <td>...</td>\n      <td>...</td>\n      <td>...</td>\n      <td>...</td>\n      <td>...</td>\n      <td>...</td>\n      <td>...</td>\n      <td>...</td>\n      <td>...</td>\n      <td>...</td>\n      <td>...</td>\n      <td>...</td>\n      <td>...</td>\n      <td>...</td>\n      <td>...</td>\n      <td>...</td>\n      <td>...</td>\n      <td>...</td>\n      <td>...</td>\n      <td>...</td>\n      <td>...</td>\n      <td>...</td>\n      <td>...</td>\n      <td>...</td>\n      <td>...</td>\n      <td>...</td>\n      <td>...</td>\n      <td>...</td>\n      <td>...</td>\n      <td>...</td>\n      <td>...</td>\n      <td>...</td>\n      <td>...</td>\n      <td>...</td>\n      <td>...</td>\n      <td>...</td>\n      <td>...</td>\n      <td>...</td>\n      <td>...</td>\n      <td>...</td>\n      <td>...</td>\n      <td>...</td>\n      <td>...</td>\n      <td>...</td>\n      <td>...</td>\n      <td>...</td>\n      <td>...</td>\n      <td>...</td>\n      <td>...</td>\n      <td>...</td>\n      <td>...</td>\n      <td>...</td>\n      <td>...</td>\n      <td>...</td>\n      <td>...</td>\n      <td>...</td>\n      <td>...</td>\n      <td>...</td>\n      <td>...</td>\n      <td>...</td>\n      <td>...</td>\n    </tr>\n    <tr>\n      <th>4192</th>\n      <td>-0.204939</td>\n      <td>-0.520289</td>\n      <td>-0.417628</td>\n      <td>-0.083777</td>\n      <td>-0.100648</td>\n      <td>-0.122876</td>\n      <td>-1.152318</td>\n      <td>-1.927131</td>\n      <td>-1.228605</td>\n      <td>0.150178</td>\n      <td>-0.040875</td>\n      <td>-1.228505</td>\n      <td>-1.155883</td>\n      <td>0.932330</td>\n      <td>0.0</td>\n      <td>0.0</td>\n      <td>0.0</td>\n      <td>0.0</td>\n      <td>0.0</td>\n      <td>0.0</td>\n      <td>0.0</td>\n      <td>1.0</td>\n      <td>0.0</td>\n      <td>0.0</td>\n      <td>0.0</td>\n      <td>0.0</td>\n      <td>0.0</td>\n      <td>0.0</td>\n      <td>0.0</td>\n      <td>0.0</td>\n      <td>0.0</td>\n      <td>0.0</td>\n      <td>0.0</td>\n      <td>0.0</td>\n      <td>0.0</td>\n      <td>0.0</td>\n      <td>0.0</td>\n      <td>0.0</td>\n      <td>0.0</td>\n      <td>0.0</td>\n      <td>...</td>\n      <td>0.0</td>\n      <td>0.0</td>\n      <td>0.0</td>\n      <td>0.0</td>\n      <td>0.0</td>\n      <td>0.0</td>\n      <td>0.0</td>\n      <td>0.0</td>\n      <td>0.0</td>\n      <td>0.0</td>\n      <td>0.0</td>\n      <td>0.0</td>\n      <td>0.0</td>\n      <td>0.0</td>\n      <td>0.0</td>\n      <td>0.0</td>\n      <td>0.0</td>\n      <td>0.0</td>\n      <td>0.0</td>\n      <td>0.0</td>\n      <td>0.0</td>\n      <td>1.0</td>\n      <td>0.0</td>\n      <td>0.0</td>\n      <td>0.0</td>\n      <td>0.0</td>\n      <td>0.0</td>\n      <td>0.0</td>\n      <td>0.0</td>\n      <td>0.0</td>\n      <td>0.0</td>\n      <td>1.0</td>\n      <td>0.0</td>\n      <td>0.0</td>\n      <td>0.0</td>\n      <td>0.0</td>\n      <td>0.0</td>\n      <td>0.0</td>\n      <td>0.0</td>\n      <td>0.0</td>\n    </tr>\n    <tr>\n      <th>4193</th>\n      <td>-0.204939</td>\n      <td>-0.520289</td>\n      <td>-0.950219</td>\n      <td>-0.083777</td>\n      <td>-0.100648</td>\n      <td>-0.122876</td>\n      <td>-0.507906</td>\n      <td>0.250870</td>\n      <td>-0.155977</td>\n      <td>-1.434613</td>\n      <td>-0.040875</td>\n      <td>-1.228505</td>\n      <td>-1.155883</td>\n      <td>-0.421627</td>\n      <td>0.0</td>\n      <td>0.0</td>\n      <td>0.0</td>\n      <td>0.0</td>\n      <td>0.0</td>\n      <td>0.0</td>\n      <td>0.0</td>\n      <td>0.0</td>\n      <td>0.0</td>\n      <td>0.0</td>\n      <td>1.0</td>\n      <td>0.0</td>\n      <td>0.0</td>\n      <td>0.0</td>\n      <td>0.0</td>\n      <td>0.0</td>\n      <td>0.0</td>\n      <td>0.0</td>\n      <td>0.0</td>\n      <td>0.0</td>\n      <td>0.0</td>\n      <td>0.0</td>\n      <td>0.0</td>\n      <td>0.0</td>\n      <td>0.0</td>\n      <td>0.0</td>\n      <td>...</td>\n      <td>0.0</td>\n      <td>0.0</td>\n      <td>0.0</td>\n      <td>0.0</td>\n      <td>0.0</td>\n      <td>0.0</td>\n      <td>0.0</td>\n      <td>0.0</td>\n      <td>0.0</td>\n      <td>0.0</td>\n      <td>0.0</td>\n      <td>0.0</td>\n      <td>0.0</td>\n      <td>0.0</td>\n      <td>0.0</td>\n      <td>0.0</td>\n      <td>0.0</td>\n      <td>0.0</td>\n      <td>0.0</td>\n      <td>1.0</td>\n      <td>0.0</td>\n      <td>0.0</td>\n      <td>0.0</td>\n      <td>0.0</td>\n      <td>0.0</td>\n      <td>0.0</td>\n      <td>0.0</td>\n      <td>0.0</td>\n      <td>0.0</td>\n      <td>0.0</td>\n      <td>0.0</td>\n      <td>0.0</td>\n      <td>0.0</td>\n      <td>0.0</td>\n      <td>0.0</td>\n      <td>0.0</td>\n      <td>0.0</td>\n      <td>0.0</td>\n      <td>0.0</td>\n      <td>1.0</td>\n    </tr>\n    <tr>\n      <th>4194</th>\n      <td>0.278504</td>\n      <td>2.789720</td>\n      <td>0.169436</td>\n      <td>-0.083777</td>\n      <td>-0.100648</td>\n      <td>-0.122876</td>\n      <td>-0.222304</td>\n      <td>0.250870</td>\n      <td>0.299165</td>\n      <td>-0.275694</td>\n      <td>-0.040875</td>\n      <td>0.983368</td>\n      <td>-0.283868</td>\n      <td>-0.588633</td>\n      <td>0.0</td>\n      <td>0.0</td>\n      <td>0.0</td>\n      <td>0.0</td>\n      <td>0.0</td>\n      <td>1.0</td>\n      <td>0.0</td>\n      <td>0.0</td>\n      <td>0.0</td>\n      <td>0.0</td>\n      <td>0.0</td>\n      <td>0.0</td>\n      <td>0.0</td>\n      <td>0.0</td>\n      <td>0.0</td>\n      <td>0.0</td>\n      <td>0.0</td>\n      <td>0.0</td>\n      <td>0.0</td>\n      <td>0.0</td>\n      <td>0.0</td>\n      <td>0.0</td>\n      <td>0.0</td>\n      <td>0.0</td>\n      <td>0.0</td>\n      <td>0.0</td>\n      <td>...</td>\n      <td>0.0</td>\n      <td>0.0</td>\n      <td>0.0</td>\n      <td>0.0</td>\n      <td>0.0</td>\n      <td>0.0</td>\n      <td>0.0</td>\n      <td>0.0</td>\n      <td>0.0</td>\n      <td>0.0</td>\n      <td>0.0</td>\n      <td>0.0</td>\n      <td>0.0</td>\n      <td>0.0</td>\n      <td>0.0</td>\n      <td>0.0</td>\n      <td>0.0</td>\n      <td>0.0</td>\n      <td>0.0</td>\n      <td>0.0</td>\n      <td>0.0</td>\n      <td>0.0</td>\n      <td>0.0</td>\n      <td>0.0</td>\n      <td>0.0</td>\n      <td>0.0</td>\n      <td>0.0</td>\n      <td>1.0</td>\n      <td>0.0</td>\n      <td>0.0</td>\n      <td>0.0</td>\n      <td>1.0</td>\n      <td>0.0</td>\n      <td>0.0</td>\n      <td>0.0</td>\n      <td>0.0</td>\n      <td>0.0</td>\n      <td>0.0</td>\n      <td>0.0</td>\n      <td>0.0</td>\n    </tr>\n    <tr>\n      <th>4195</th>\n      <td>-1.639949</td>\n      <td>-0.178829</td>\n      <td>-1.679751</td>\n      <td>-0.083777</td>\n      <td>-0.100648</td>\n      <td>-0.122876</td>\n      <td>0.273371</td>\n      <td>-1.927131</td>\n      <td>-0.155977</td>\n      <td>-1.483300</td>\n      <td>-0.040875</td>\n      <td>0.157900</td>\n      <td>-0.283868</td>\n      <td>0.206018</td>\n      <td>0.0</td>\n      <td>0.0</td>\n      <td>0.0</td>\n      <td>0.0</td>\n      <td>0.0</td>\n      <td>0.0</td>\n      <td>0.0</td>\n      <td>1.0</td>\n      <td>0.0</td>\n      <td>0.0</td>\n      <td>0.0</td>\n      <td>0.0</td>\n      <td>0.0</td>\n      <td>0.0</td>\n      <td>0.0</td>\n      <td>0.0</td>\n      <td>0.0</td>\n      <td>0.0</td>\n      <td>0.0</td>\n      <td>0.0</td>\n      <td>0.0</td>\n      <td>0.0</td>\n      <td>0.0</td>\n      <td>0.0</td>\n      <td>0.0</td>\n      <td>0.0</td>\n      <td>...</td>\n      <td>0.0</td>\n      <td>0.0</td>\n      <td>0.0</td>\n      <td>0.0</td>\n      <td>0.0</td>\n      <td>0.0</td>\n      <td>0.0</td>\n      <td>0.0</td>\n      <td>0.0</td>\n      <td>1.0</td>\n      <td>0.0</td>\n      <td>0.0</td>\n      <td>0.0</td>\n      <td>0.0</td>\n      <td>0.0</td>\n      <td>0.0</td>\n      <td>0.0</td>\n      <td>0.0</td>\n      <td>0.0</td>\n      <td>0.0</td>\n      <td>0.0</td>\n      <td>0.0</td>\n      <td>0.0</td>\n      <td>0.0</td>\n      <td>0.0</td>\n      <td>0.0</td>\n      <td>0.0</td>\n      <td>0.0</td>\n      <td>0.0</td>\n      <td>0.0</td>\n      <td>0.0</td>\n      <td>0.0</td>\n      <td>0.0</td>\n      <td>0.0</td>\n      <td>0.0</td>\n      <td>0.0</td>\n      <td>0.0</td>\n      <td>0.0</td>\n      <td>0.0</td>\n      <td>1.0</td>\n    </tr>\n    <tr>\n      <th>4196</th>\n      <td>0.764369</td>\n      <td>0.146006</td>\n      <td>-0.132340</td>\n      <td>-0.083777</td>\n      <td>-0.100648</td>\n      <td>-0.122876</td>\n      <td>0.273371</td>\n      <td>0.250870</td>\n      <td>-0.155977</td>\n      <td>-0.275694</td>\n      <td>-0.040875</td>\n      <td>-0.285428</td>\n      <td>0.418380</td>\n      <td>0.206018</td>\n      <td>0.0</td>\n      <td>0.0</td>\n      <td>0.0</td>\n      <td>0.0</td>\n      <td>0.0</td>\n      <td>0.0</td>\n      <td>0.0</td>\n      <td>1.0</td>\n      <td>0.0</td>\n      <td>0.0</td>\n      <td>0.0</td>\n      <td>0.0</td>\n      <td>0.0</td>\n      <td>0.0</td>\n      <td>0.0</td>\n      <td>0.0</td>\n      <td>0.0</td>\n      <td>0.0</td>\n      <td>0.0</td>\n      <td>0.0</td>\n      <td>0.0</td>\n      <td>0.0</td>\n      <td>0.0</td>\n      <td>0.0</td>\n      <td>0.0</td>\n      <td>0.0</td>\n      <td>...</td>\n      <td>0.0</td>\n      <td>0.0</td>\n      <td>0.0</td>\n      <td>0.0</td>\n      <td>0.0</td>\n      <td>0.0</td>\n      <td>0.0</td>\n      <td>0.0</td>\n      <td>0.0</td>\n      <td>0.0</td>\n      <td>0.0</td>\n      <td>0.0</td>\n      <td>0.0</td>\n      <td>1.0</td>\n      <td>0.0</td>\n      <td>0.0</td>\n      <td>0.0</td>\n      <td>0.0</td>\n      <td>0.0</td>\n      <td>0.0</td>\n      <td>0.0</td>\n      <td>0.0</td>\n      <td>0.0</td>\n      <td>0.0</td>\n      <td>0.0</td>\n      <td>0.0</td>\n      <td>0.0</td>\n      <td>0.0</td>\n      <td>0.0</td>\n      <td>0.0</td>\n      <td>0.0</td>\n      <td>0.0</td>\n      <td>0.0</td>\n      <td>0.0</td>\n      <td>0.0</td>\n      <td>0.0</td>\n      <td>0.0</td>\n      <td>0.0</td>\n      <td>0.0</td>\n      <td>1.0</td>\n    </tr>\n  </tbody>\n</table>\n<p>4197 rows × 6773 columns</p>\n</div>",
       "datasetInfos": [],
       "metadata": {},
       "removedWidgets": [],
       "textData": null,
       "type": "htmlSandbox"
      }
     },
     "output_type": "display_data"
    }
   ],
   "source": [
    "transformed_df_Xtest"
   ]
  },
  {
   "cell_type": "markdown",
   "metadata": {
    "application/vnd.databricks.v1+cell": {
     "cellMetadata": {},
     "inputWidgets": {},
     "nuid": "9c441aa3-0fd3-45d3-b011-3a3ce025fe55",
     "showTitle": false,
     "title": ""
    }
   },
   "source": [
    "###### Feature Importance"
   ]
  },
  {
   "cell_type": "code",
   "execution_count": null,
   "metadata": {
    "application/vnd.databricks.v1+cell": {
     "cellMetadata": {
      "byteLimit": 2048000,
      "rowLimit": 10000
     },
     "inputWidgets": {},
     "nuid": "adec10e5-2327-4055-a0c9-a84574e81589",
     "showTitle": false,
     "title": ""
    }
   },
   "outputs": [
    {
     "data": {
      "image/png": "[encoded data removed]"
     },
     "metadata": {
      "application/vnd.databricks.v1+output": {
       "addedWidgets": {},
       "arguments": {},
       "data": "data:image/png;base64,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\n",
       "datasetInfos": [],
       "metadata": {},
       "removedWidgets": [],
       "type": "image"
      }
     },
     "output_type": "display_data"
    }
   ],
   "source": [
    "import matplotlib.pyplot as plt\n",
    "\n",
    "# Assuming your pipeline has a RandomForestRegressor as the final step\n",
    "rf_regressor = pipeline_model_rf.named_steps['prediction']\n",
    "\n",
    "# Get feature importances from the trained RandomForestRegressor\n",
    "feature_importances = rf_regressor.feature_importances_\n",
    "\n",
    "# Create a DataFrame to associate feature names with their importances\n",
    "feature_importance_df = pd.DataFrame({\n",
    "    'Feature': transformed_df_Xtrain.columns,\n",
    "    'Importance': feature_importances\n",
    "})\n",
    "\n",
    "# Sort the features by importance in descending order\n",
    "feature_importance_df = feature_importance_df.sort_values(by='Importance', ascending=False)\n",
    "feature_importance_df[0:12]\n",
    "\n",
    "# Plot the feature importances\n",
    "plt.figure(figsize=(10, 6))\n",
    "plt.barh(feature_importance_df[0:12]['Feature'], feature_importance_df[0:12]['Importance'])\n",
    "plt.xlabel('Feature Importance')\n",
    "plt.ylabel('Feature')\n",
    "plt.title('Feature Importances')\n",
    "plt.show();"
   ]
  },
  {
   "cell_type": "code",
   "execution_count": null,
   "metadata": {
    "application/vnd.databricks.v1+cell": {
     "cellMetadata": {
      "byteLimit": 2048000,
      "rowLimit": 10000
     },
     "inputWidgets": {},
     "nuid": "d1c287c8-f682-439d-931b-e9d6e13eb123",
     "showTitle": false,
     "title": ""
    }
   },
   "outputs": [
    {
     "data": {
      "text/html": [
       "<div>\n",
       "<style scoped>\n",
       "    .dataframe tbody tr th:only-of-type {\n",
       "        vertical-align: middle;\n",
       "    }\n",
       "\n",
       "    .dataframe tbody tr th {\n",
       "        vertical-align: top;\n",
       "    }\n",
       "\n",
       "    .dataframe thead th {\n",
       "        text-align: right;\n",
       "    }\n",
       "</style>\n",
       "<table border=\"1\" class=\"dataframe\">\n",
       "  <thead>\n",
       "    <tr style=\"text-align: right;\">\n",
       "      <th></th>\n",
       "      <th>Feature</th>\n",
       "      <th>Importance</th>\n",
       "    </tr>\n",
       "  </thead>\n",
       "  <tbody>\n",
       "    <tr>\n",
       "      <th>12</th>\n",
       "      <td>gabel_federweg_mm</td>\n",
       "      <td>0.393846</td>\n",
       "    </tr>\n",
       "    <tr>\n",
       "      <th>9</th>\n",
       "      <td>akkukapazität_wh</td>\n",
       "      <td>0.127098</td>\n",
       "    </tr>\n",
       "    <tr>\n",
       "      <th>5949</th>\n",
       "      <td>rahmenmaterial_Aluminium</td>\n",
       "      <td>0.080241</td>\n",
       "    </tr>\n",
       "    <tr>\n",
       "      <th>5616</th>\n",
       "      <td>sattel_Bridge</td>\n",
       "      <td>0.038872</td>\n",
       "    </tr>\n",
       "    <tr>\n",
       "      <th>1</th>\n",
       "      <td>gänge</td>\n",
       "      <td>0.032035</td>\n",
       "    </tr>\n",
       "    <tr>\n",
       "      <th>13</th>\n",
       "      <td>gewicht_kg</td>\n",
       "      <td>0.015020</td>\n",
       "    </tr>\n",
       "    <tr>\n",
       "      <th>6107</th>\n",
       "      <td>bremse_vorne_Shimano BR-MT-200</td>\n",
       "      <td>0.012594</td>\n",
       "    </tr>\n",
       "    <tr>\n",
       "      <th>2416</th>\n",
       "      <td>schaltwerk_Sram X1 Eagle AXS 12 Wireless Elect...</td>\n",
       "      <td>0.011540</td>\n",
       "    </tr>\n",
       "    <tr>\n",
       "      <th>2415</th>\n",
       "      <td>schaltwerk_Sram X1 Eagle AXS 12</td>\n",
       "      <td>0.010353</td>\n",
       "    </tr>\n",
       "    <tr>\n",
       "      <th>6</th>\n",
       "      <td>unterstützung_%</td>\n",
       "      <td>0.010168</td>\n",
       "    </tr>\n",
       "    <tr>\n",
       "      <th>14</th>\n",
       "      <td>hersteller_CUBE</td>\n",
       "      <td>0.008953</td>\n",
       "    </tr>\n",
       "    <tr>\n",
       "      <th>11</th>\n",
       "      <td>lenkerbreite_mm</td>\n",
       "      <td>0.008950</td>\n",
       "    </tr>\n",
       "  </tbody>\n",
       "</table>\n",
       "</div>"
      ]
     },
     "metadata": {
      "application/vnd.databricks.v1+output": {
       "addedWidgets": {},
       "arguments": {},
       "data": "<div>\n<style scoped>\n    .dataframe tbody tr th:only-of-type {\n        vertical-align: middle;\n    }\n\n    .dataframe tbody tr th {\n        vertical-align: top;\n    }\n\n    .dataframe thead th {\n        text-align: right;\n    }\n</style>\n<table border=\"1\" class=\"dataframe\">\n  <thead>\n    <tr style=\"text-align: right;\">\n      <th></th>\n      <th>Feature</th>\n      <th>Importance</th>\n    </tr>\n  </thead>\n  <tbody>\n    <tr>\n      <th>12</th>\n      <td>gabel_federweg_mm</td>\n      <td>0.393846</td>\n    </tr>\n    <tr>\n      <th>9</th>\n      <td>akkukapazität_wh</td>\n      <td>0.127098</td>\n    </tr>\n    <tr>\n      <th>5949</th>\n      <td>rahmenmaterial_Aluminium</td>\n      <td>0.080241</td>\n    </tr>\n    <tr>\n      <th>5616</th>\n      <td>sattel_Bridge</td>\n      <td>0.038872</td>\n    </tr>\n    <tr>\n      <th>1</th>\n      <td>gänge</td>\n      <td>0.032035</td>\n    </tr>\n    <tr>\n      <th>13</th>\n      <td>gewicht_kg</td>\n      <td>0.015020</td>\n    </tr>\n    <tr>\n      <th>6107</th>\n      <td>bremse_vorne_Shimano BR-MT-200</td>\n      <td>0.012594</td>\n    </tr>\n    <tr>\n      <th>2416</th>\n      <td>schaltwerk_Sram X1 Eagle AXS 12 Wireless Elect...</td>\n      <td>0.011540</td>\n    </tr>\n    <tr>\n      <th>2415</th>\n      <td>schaltwerk_Sram X1 Eagle AXS 12</td>\n      <td>0.010353</td>\n    </tr>\n    <tr>\n      <th>6</th>\n      <td>unterstützung_%</td>\n      <td>0.010168</td>\n    </tr>\n    <tr>\n      <th>14</th>\n      <td>hersteller_CUBE</td>\n      <td>0.008953</td>\n    </tr>\n    <tr>\n      <th>11</th>\n      <td>lenkerbreite_mm</td>\n      <td>0.008950</td>\n    </tr>\n  </tbody>\n</table>\n</div>",
       "datasetInfos": [],
       "metadata": {},
       "removedWidgets": [],
       "textData": null,
       "type": "htmlSandbox"
      }
     },
     "output_type": "display_data"
    }
   ],
   "source": [
    "feature_importance_df[0:12]"
   ]
  },
  {
   "cell_type": "markdown",
   "metadata": {
    "application/vnd.databricks.v1+cell": {
     "cellMetadata": {},
     "inputWidgets": {},
     "nuid": "f4676d31-fb81-4e06-8d5b-511be0bdcccb",
     "showTitle": false,
     "title": ""
    }
   },
   "source": [
    "###### SHAP"
   ]
  },
  {
   "cell_type": "code",
   "execution_count": null,
   "metadata": {
    "application/vnd.databricks.v1+cell": {
     "cellMetadata": {
      "byteLimit": 2048000,
      "rowLimit": 10000
     },
     "inputWidgets": {},
     "nuid": "9b324681-5b78-4aab-b244-1a48a0429b54",
     "showTitle": false,
     "title": ""
    }
   },
   "outputs": [
    {
     "data": {
      "text/html": [
       "<style scoped>\n",
       "  .ansiout {\n",
       "    display: block;\n",
       "    unicode-bidi: embed;\n",
       "    white-space: pre-wrap;\n",
       "    word-wrap: break-word;\n",
       "    word-break: break-all;\n",
       "    font-family: \"Source Code Pro\", \"Menlo\", monospace;;\n",
       "    font-size: 13px;\n",
       "    color: #555;\n",
       "    margin-left: 4px;\n",
       "    line-height: 19px;\n",
       "  }\n",
       "</style>\n",
       "java.net.NoRouteToHostException: No route to host\n",
       "\tat java.base/sun.nio.ch.SocketChannelImpl.checkConnect(Native Method)\n",
       "\tat java.base/sun.nio.ch.SocketChannelImpl.finishConnect(SocketChannelImpl.java:777)\n",
       "\tat shaded.v9_4.org.eclipse.jetty.io.SelectorManager.doFinishConnect(SelectorManager.java:355)\n",
       "\tat shaded.v9_4.org.eclipse.jetty.io.ManagedSelector.processConnect(ManagedSelector.java:232)\n",
       "\tat shaded.v9_4.org.eclipse.jetty.io.ManagedSelector.access$1400(ManagedSelector.java:62)\n",
       "\tat shaded.v9_4.org.eclipse.jetty.io.ManagedSelector$SelectorProducer.processSelected(ManagedSelector.java:543)\n",
       "\tat shaded.v9_4.org.eclipse.jetty.io.ManagedSelector$SelectorProducer.produce(ManagedSelector.java:401)\n",
       "\tat shaded.v9_4.org.eclipse.jetty.util.thread.strategy.EatWhatYouKill.produceTask(EatWhatYouKill.java:360)\n",
       "\tat shaded.v9_4.org.eclipse.jetty.util.thread.strategy.EatWhatYouKill.doProduce(EatWhatYouKill.java:184)\n",
       "\tat shaded.v9_4.org.eclipse.jetty.util.thread.strategy.EatWhatYouKill.tryProduce(EatWhatYouKill.java:171)\n",
       "\tat shaded.v9_4.org.eclipse.jetty.util.thread.strategy.EatWhatYouKill.run(EatWhatYouKill.java:129)\n",
       "\tat shaded.v9_4.org.eclipse.jetty.util.thread.ReservedThreadExecutor$ReservedThread.run(ReservedThreadExecutor.java:388)\n",
       "\tat com.databricks.rpc.ShadedInstrumentedQueuedThreadPool$$anon$2.$anonfun$run$6(InstrumentedQueuedThreadPool.scala:136)\n",
       "\tat scala.runtime.java8.JFunction0$mcV$sp.apply(JFunction0$mcV$sp.java:23)\n",
       "\tat com.databricks.instrumentation.QueuedThreadPoolInstrumenter.trackActiveThreads(QueuedThreadPoolInstrumenter.scala:66)\n",
       "\tat com.databricks.instrumentation.QueuedThreadPoolInstrumenter.trackActiveThreads$(QueuedThreadPoolInstrumenter.scala:63)\n",
       "\tat com.databricks.rpc.ShadedInstrumentedQueuedThreadPool.trackActiveThreads(InstrumentedQueuedThreadPool.scala:102)\n",
       "\tat com.databricks.rpc.ShadedInstrumentedQueuedThreadPool$$anon$2.run(InstrumentedQueuedThreadPool.scala:131)\n",
       "\tat shaded.v9_4.org.eclipse.jetty.util.thread.QueuedThreadPool.runJob(QueuedThreadPool.java:806)\n",
       "\tat shaded.v9_4.org.eclipse.jetty.util.thread.QueuedThreadPool$Runner.run(QueuedThreadPool.java:938)\n",
       "\tat java.base/java.lang.Thread.run(Thread.java:829)"
      ]
     },
     "metadata": {
      "application/vnd.databricks.v1+output": {
       "arguments": {},
       "data": "java.net.NoRouteToHostException: No route to host\n\tat java.base/sun.nio.ch.SocketChannelImpl.checkConnect(Native Method)\n\tat java.base/sun.nio.ch.SocketChannelImpl.finishConnect(SocketChannelImpl.java:777)\n\tat shaded.v9_4.org.eclipse.jetty.io.SelectorManager.doFinishConnect(SelectorManager.java:355)\n\tat shaded.v9_4.org.eclipse.jetty.io.ManagedSelector.processConnect(ManagedSelector.java:232)\n\tat shaded.v9_4.org.eclipse.jetty.io.ManagedSelector.access$1400(ManagedSelector.java:62)\n\tat shaded.v9_4.org.eclipse.jetty.io.ManagedSelector$SelectorProducer.processSelected(ManagedSelector.java:543)\n\tat shaded.v9_4.org.eclipse.jetty.io.ManagedSelector$SelectorProducer.produce(ManagedSelector.java:401)\n\tat shaded.v9_4.org.eclipse.jetty.util.thread.strategy.EatWhatYouKill.produceTask(EatWhatYouKill.java:360)\n\tat shaded.v9_4.org.eclipse.jetty.util.thread.strategy.EatWhatYouKill.doProduce(EatWhatYouKill.java:184)\n\tat shaded.v9_4.org.eclipse.jetty.util.thread.strategy.EatWhatYouKill.tryProduce(EatWhatYouKill.java:171)\n\tat shaded.v9_4.org.eclipse.jetty.util.thread.strategy.EatWhatYouKill.run(EatWhatYouKill.java:129)\n\tat shaded.v9_4.org.eclipse.jetty.util.thread.ReservedThreadExecutor$ReservedThread.run(ReservedThreadExecutor.java:388)\n\tat com.databricks.rpc.ShadedInstrumentedQueuedThreadPool$$anon$2.$anonfun$run$6(InstrumentedQueuedThreadPool.scala:136)\n\tat scala.runtime.java8.JFunction0$mcV$sp.apply(JFunction0$mcV$sp.java:23)\n\tat com.databricks.instrumentation.QueuedThreadPoolInstrumenter.trackActiveThreads(QueuedThreadPoolInstrumenter.scala:66)\n\tat com.databricks.instrumentation.QueuedThreadPoolInstrumenter.trackActiveThreads$(QueuedThreadPoolInstrumenter.scala:63)\n\tat com.databricks.rpc.ShadedInstrumentedQueuedThreadPool.trackActiveThreads(InstrumentedQueuedThreadPool.scala:102)\n\tat com.databricks.rpc.ShadedInstrumentedQueuedThreadPool$$anon$2.run(InstrumentedQueuedThreadPool.scala:131)\n\tat shaded.v9_4.org.eclipse.jetty.util.thread.QueuedThreadPool.runJob(QueuedThreadPool.java:806)\n\tat shaded.v9_4.org.eclipse.jetty.util.thread.QueuedThreadPool$Runner.run(QueuedThreadPool.java:938)\n\tat java.base/java.lang.Thread.run(Thread.java:829)\n",
       "errorSummary": "Internal error. Attach your notebook to a different compute or restart the current compute.",
       "errorTraceType": null,
       "metadata": {},
       "type": "ipynbError"
      }
     },
     "output_type": "display_data"
    }
   ],
   "source": [
    "import matplotlib.pyplot as plt\n",
    "import shap\n",
    "# Assuming your pipeline has a RandomForestRegressor as the final step\n",
    "rf_regressor = pipeline_model_rf.named_steps['prediction']\n",
    "\n",
    "# Calculate SHAP values for the transformed training dataset\n",
    "explainer = shap.TreeExplainer(rf_regressor)\n",
    "shap_values = explainer.shap_values(transformed_df_Xtrain)\n",
    "\n",
    "# Calculate the mean absolute SHAP values for each feature\n",
    "mean_abs_shap_values = np.mean(np.abs(shap_values[0]), axis=0)\n",
    "\n",
    "# Create a DataFrame to associate feature names with their mean SHAP values\n",
    "shap_df = pd.DataFrame({\n",
    "    'Feature': transformed_df_Xtrain.columns,\n",
    "    'Mean_SHAP_Value': mean_abs_shap_values\n",
    "})\n",
    "\n",
    "# Sort the features by mean SHAP values in descending order\n",
    "shap_df = shap_df.sort_values(by='Mean_SHAP_Value', ascending=False)\n",
    "\n",
    "# Plot the mean SHAP values for the top features\n",
    "plt.figure(figsize=(10, 6))\n",
    "plt.barh(shap_df[0:12]['Feature'], shap_df[0:12]['Mean_SHAP_Value'])\n",
    "plt.xlabel('Mean SHAP Value')\n",
    "plt.ylabel('Feature')\n",
    "plt.title('Feature Importances (SHAP)')\n",
    "plt.show();"
   ]
  },
  {
   "cell_type": "markdown",
   "metadata": {
    "application/vnd.databricks.v1+cell": {
     "cellMetadata": {},
     "inputWidgets": {},
     "nuid": "ab528c95-c5ef-44bf-82b5-00304b1e1fc3",
     "showTitle": false,
     "title": ""
    }
   },
   "source": [
    "###### Hyperparameter tuning with OPTUNA"
   ]
  },
  {
   "cell_type": "code",
   "execution_count": null,
   "metadata": {
    "application/vnd.databricks.v1+cell": {
     "cellMetadata": {},
     "inputWidgets": {},
     "nuid": "8770e83d-87b0-4aaa-9128-b0d122c6f5fa",
     "showTitle": false,
     "title": ""
    }
   },
   "outputs": [],
   "source": [
    "# RandomForest Regressor | Hyperparameter Tuning | Optuna\n",
    "import sklearn\n",
    "\n",
    "def objective(trial):\n",
    "    max_features = trial.suggest_categorical('max_features', ['auto', 'sqrt','log2'])\n",
    "    max_leaf_nodes = trial.suggest_int('max_leaf_nodes', 1, 10000)\n",
    "    bootstrap = trial.suggest_categorical('bootstrap',['True','False'])\n",
    "    n_estimators = trial.suggest_int('n_estimators', 5, 150, 5) \n",
    "    max_depth = trial.suggest_int('max_depth', 1, 15, 2) \n",
    "    min_samples_split = trial.suggest_int('min_samples_split', 2, 10, 1)         \n",
    "    \n",
    "    numeric_transformer = Pipeline([('Scaler', StandardScaler()), \n",
    "                                    ('R_Scaler', RobustScaler()),\n",
    "                                    ('Pw_Scaler', PowerTransformer())])\n",
    "    \n",
    "    categorical_transformer = Pipeline([('OHE', OneHotEncoder(handle_unknown=\"ignore\"))])\n",
    "    \n",
    "    transformer = ColumnTransformer([('numeric', numeric_transformer, numerics.columns),\n",
    "                                     ('categoric', categorical_transformer, categorics.columns)])\n",
    "    \n",
    "    pipeline_model = Pipeline([('transform', transformer),\n",
    "                               ('prediction', RandomForestRegressor(max_features=max_features,\n",
    "                                max_leaf_nodes=max_leaf_nodes,\n",
    "                                bootstrap=bootstrap,\n",
    "                                n_estimators=n_estimators, \n",
    "                                max_depth=max_depth,\n",
    "                                min_samples_split=min_samples_split,\n",
    "                                random_state=42))])\n",
    "  \n",
    "    pipeline_model.fit(X_train, y_train)\n",
    "    y_pred = pipeline_model.predict(X_test)\n",
    "    r2 = r2_score(y_test, y_pred)\n",
    "    return r2\n",
    "\n",
    "study_rf = optuna.create_study(direction=\"maximize\")\n",
    "study_rf.optimize(objective, n_trials=5)\n",
    "\n",
    "study = study_rf\n",
    "print()\n",
    "print(f'R2: {study.best_value}')\n",
    "print(f'Best parameter: {study.best_params}')"
   ]
  },
  {
   "cell_type": "code",
   "execution_count": null,
   "metadata": {
    "application/vnd.databricks.v1+cell": {
     "cellMetadata": {},
     "inputWidgets": {},
     "nuid": "6bfebc0e-1027-4354-aab8-7963e1f8aa80",
     "showTitle": false,
     "title": ""
    }
   },
   "outputs": [],
   "source": [
    "RF_best_parameters = []\n",
    "study = study_rf\n",
    "print(\"R2      :\", round(study.best_value, 3), \"Best Parameters:\", study.best_params)\n",
    "RF_best_parameters.append(study.best_params)"
   ]
  },
  {
   "cell_type": "code",
   "execution_count": null,
   "metadata": {
    "application/vnd.databricks.v1+cell": {
     "cellMetadata": {},
     "inputWidgets": {},
     "nuid": "50081e99-6c8c-418e-9153-331361665419",
     "showTitle": false,
     "title": ""
    }
   },
   "outputs": [],
   "source": [
    "study = study_rf\n",
    "\n",
    "numeric_transformer = Pipeline([('Scaler', StandardScaler()), \n",
    "                                ('R_Scaler', RobustScaler()),\n",
    "                                ('Pw_Scaler', PowerTransformer())])\n",
    "\n",
    "categorical_transformer = Pipeline([('OHE', OneHotEncoder(handle_unknown=\"ignore\"))])\n",
    "\n",
    "transformer = ColumnTransformer([('numeric', numeric_transformer, numerics.columns),\n",
    "                                    ('categoric', categorical_transformer, categorics.columns)])\n",
    "\n",
    "tuned_model = Pipeline([('transform', transformer),\n",
    "                        ('prediction', RandomForestRegressor(bootstrap=study.best_params['bootstrap'],\n",
    "                        max_depth=study.best_params['max_depth'],\n",
    "                        max_features=study.best_params['max_features'],\n",
    "                        max_leaf_nodes=study.best_params['max_leaf_nodes'],\n",
    "                        n_estimators=study.best_params['n_estimators'],\n",
    "                        min_samples_split=study.best_params['min_samples_split'],\n",
    "                        n_jobs=-1,\n",
    "                        random_state=42))])\n",
    "\n",
    "tuned_model.fit(X_train, y_train)\n",
    "y_pred = tuned_model.predict(X_test)\n",
    "r2 = r2_score(y_test, y_pred)\n",
    "r2"
   ]
  },
  {
   "cell_type": "code",
   "execution_count": null,
   "metadata": {
    "application/vnd.databricks.v1+cell": {
     "cellMetadata": {},
     "inputWidgets": {},
     "nuid": "7ff8c6ec-d5bd-4f7c-86ad-9ce0fc356e63",
     "showTitle": false,
     "title": ""
    }
   },
   "outputs": [],
   "source": [
    "pip install pickle"
   ]
  },
  {
   "cell_type": "code",
   "execution_count": null,
   "metadata": {
    "application/vnd.databricks.v1+cell": {
     "cellMetadata": {
      "byteLimit": 2048000,
      "rowLimit": 10000
     },
     "inputWidgets": {},
     "nuid": "155be023-0610-4bc8-9285-8d98704a3ecd",
     "showTitle": false,
     "title": ""
    }
   },
   "outputs": [],
   "source": [
    "import pickle\n",
    "pickle.dump(pipeline_model_rf, open('final_model_rf', 'wb'))"
   ]
  },
  {
   "cell_type": "code",
   "execution_count": null,
   "metadata": {
    "application/vnd.databricks.v1+cell": {
     "cellMetadata": {
      "byteLimit": 2048000,
      "rowLimit": 10000
     },
     "inputWidgets": {},
     "nuid": "e36c0cc4-bcd5-4ed1-a8aa-e5584241eca6",
     "showTitle": false,
     "title": ""
    }
   },
   "outputs": [
    {
     "data": {
      "text/html": [
       "<div>\n",
       "<style scoped>\n",
       "    .dataframe tbody tr th:only-of-type {\n",
       "        vertical-align: middle;\n",
       "    }\n",
       "\n",
       "    .dataframe tbody tr th {\n",
       "        vertical-align: top;\n",
       "    }\n",
       "\n",
       "    .dataframe thead th {\n",
       "        text-align: right;\n",
       "    }\n",
       "</style>\n",
       "<table border=\"1\" class=\"dataframe\">\n",
       "  <thead>\n",
       "    <tr style=\"text-align: right;\">\n",
       "      <th></th>\n",
       "      <th>gabel_federweg_mm</th>\n",
       "      <th>akkukapazität_wh</th>\n",
       "      <th>rahmenmaterial</th>\n",
       "      <th>sattel</th>\n",
       "      <th>gänge</th>\n",
       "      <th>bremse_vorne</th>\n",
       "      <th>schaltwerk</th>\n",
       "      <th>kategorie</th>\n",
       "      <th>hersteller</th>\n",
       "    </tr>\n",
       "  </thead>\n",
       "  <tbody>\n",
       "    <tr>\n",
       "      <th>4447</th>\n",
       "      <td>120</td>\n",
       "      <td>500</td>\n",
       "      <td>Aluminium</td>\n",
       "      <td>Selle Royal MTB</td>\n",
       "      <td>10</td>\n",
       "      <td>Shimano BR-M315</td>\n",
       "      <td>Shimano XT RD-M786-DSGSL Shadow Plus Direct Mo...</td>\n",
       "      <td>MTB_Fully</td>\n",
       "      <td>CUBE</td>\n",
       "    </tr>\n",
       "    <tr>\n",
       "      <th>23437</th>\n",
       "      <td>50</td>\n",
       "      <td>500</td>\n",
       "      <td>Aluminium</td>\n",
       "      <td>Selle Royal Nuvola</td>\n",
       "      <td>8</td>\n",
       "      <td>Shimano M315</td>\n",
       "      <td>Shimano</td>\n",
       "      <td>City</td>\n",
       "      <td>Kalkhoff</td>\n",
       "    </tr>\n",
       "    <tr>\n",
       "      <th>10588</th>\n",
       "      <td>140</td>\n",
       "      <td>504</td>\n",
       "      <td>Carbon</td>\n",
       "      <td>Ergon SM E-Mountain</td>\n",
       "      <td>12</td>\n",
       "      <td>Shimano XT BR-M8120 4-Piston</td>\n",
       "      <td>Sram X1 Eagle 12</td>\n",
       "      <td>MTB_Fully</td>\n",
       "      <td>GHOST</td>\n",
       "    </tr>\n",
       "    <tr>\n",
       "      <th>14554</th>\n",
       "      <td>63</td>\n",
       "      <td>625</td>\n",
       "      <td>Aluminium</td>\n",
       "      <td>Selle Bassano Suprema</td>\n",
       "      <td>10</td>\n",
       "      <td>Shimano BR-MT-400</td>\n",
       "      <td>Shimano Deore XT 10</td>\n",
       "      <td>Trekking</td>\n",
       "      <td>Hercules</td>\n",
       "    </tr>\n",
       "    <tr>\n",
       "      <th>6202</th>\n",
       "      <td>100</td>\n",
       "      <td>625</td>\n",
       "      <td>Aluminium</td>\n",
       "      <td>Natural Fit Sequence Comfort</td>\n",
       "      <td>12</td>\n",
       "      <td>Shimano BR-MT-420</td>\n",
       "      <td>Shimano Deore RD-M610 SGS Shadow Plus 12</td>\n",
       "      <td>Trekking</td>\n",
       "      <td>CUBE</td>\n",
       "    </tr>\n",
       "  </tbody>\n",
       "</table>\n",
       "</div>"
      ]
     },
     "metadata": {
      "application/vnd.databricks.v1+output": {
       "addedWidgets": {},
       "arguments": {},
       "data": "<div>\n<style scoped>\n    .dataframe tbody tr th:only-of-type {\n        vertical-align: middle;\n    }\n\n    .dataframe tbody tr th {\n        vertical-align: top;\n    }\n\n    .dataframe thead th {\n        text-align: right;\n    }\n</style>\n<table border=\"1\" class=\"dataframe\">\n  <thead>\n    <tr style=\"text-align: right;\">\n      <th></th>\n      <th>gabel_federweg_mm</th>\n      <th>akkukapazität_wh</th>\n      <th>rahmenmaterial</th>\n      <th>sattel</th>\n      <th>gänge</th>\n      <th>bremse_vorne</th>\n      <th>schaltwerk</th>\n      <th>kategorie</th>\n      <th>hersteller</th>\n    </tr>\n  </thead>\n  <tbody>\n    <tr>\n      <th>4447</th>\n      <td>120</td>\n      <td>500</td>\n      <td>Aluminium</td>\n      <td>Selle Royal MTB</td>\n      <td>10</td>\n      <td>Shimano BR-M315</td>\n      <td>Shimano XT RD-M786-DSGSL Shadow Plus Direct Mo...</td>\n      <td>MTB_Fully</td>\n      <td>CUBE</td>\n    </tr>\n    <tr>\n      <th>23437</th>\n      <td>50</td>\n      <td>500</td>\n      <td>Aluminium</td>\n      <td>Selle Royal Nuvola</td>\n      <td>8</td>\n      <td>Shimano M315</td>\n      <td>Shimano</td>\n      <td>City</td>\n      <td>Kalkhoff</td>\n    </tr>\n    <tr>\n      <th>10588</th>\n      <td>140</td>\n      <td>504</td>\n      <td>Carbon</td>\n      <td>Ergon SM E-Mountain</td>\n      <td>12</td>\n      <td>Shimano XT BR-M8120 4-Piston</td>\n      <td>Sram X1 Eagle 12</td>\n      <td>MTB_Fully</td>\n      <td>GHOST</td>\n    </tr>\n    <tr>\n      <th>14554</th>\n      <td>63</td>\n      <td>625</td>\n      <td>Aluminium</td>\n      <td>Selle Bassano Suprema</td>\n      <td>10</td>\n      <td>Shimano BR-MT-400</td>\n      <td>Shimano Deore XT 10</td>\n      <td>Trekking</td>\n      <td>Hercules</td>\n    </tr>\n    <tr>\n      <th>6202</th>\n      <td>100</td>\n      <td>625</td>\n      <td>Aluminium</td>\n      <td>Natural Fit Sequence Comfort</td>\n      <td>12</td>\n      <td>Shimano BR-MT-420</td>\n      <td>Shimano Deore RD-M610 SGS Shadow Plus 12</td>\n      <td>Trekking</td>\n      <td>CUBE</td>\n    </tr>\n  </tbody>\n</table>\n</div>",
       "datasetInfos": [],
       "metadata": {},
       "removedWidgets": [],
       "textData": null,
       "type": "htmlSandbox"
      }
     },
     "output_type": "display_data"
    }
   ],
   "source": [
    "X_test.head()"
   ]
  },
  {
   "cell_type": "code",
   "execution_count": null,
   "metadata": {
    "application/vnd.databricks.v1+cell": {
     "cellMetadata": {
      "byteLimit": 2048000,
      "rowLimit": 10000
     },
     "inputWidgets": {},
     "nuid": "5f951957-b7b8-45f5-a976-f22220838a29",
     "showTitle": false,
     "title": ""
    }
   },
   "outputs": [
    {
     "data": {
      "text/html": [
       "<div>\n",
       "<style scoped>\n",
       "    .dataframe tbody tr th:only-of-type {\n",
       "        vertical-align: middle;\n",
       "    }\n",
       "\n",
       "    .dataframe tbody tr th {\n",
       "        vertical-align: top;\n",
       "    }\n",
       "\n",
       "    .dataframe thead th {\n",
       "        text-align: right;\n",
       "    }\n",
       "</style>\n",
       "<table border=\"1\" class=\"dataframe\">\n",
       "  <thead>\n",
       "    <tr style=\"text-align: right;\">\n",
       "      <th></th>\n",
       "      <th>gabel_federweg_mm</th>\n",
       "      <th>akkukapazität_wh</th>\n",
       "      <th>rahmenmaterial</th>\n",
       "      <th>sattel</th>\n",
       "      <th>gänge</th>\n",
       "      <th>bremse_vorne</th>\n",
       "      <th>schaltwerk</th>\n",
       "      <th>kategorie</th>\n",
       "      <th>hersteller</th>\n",
       "    </tr>\n",
       "  </thead>\n",
       "  <tbody>\n",
       "    <tr>\n",
       "      <th>10588</th>\n",
       "      <td>140</td>\n",
       "      <td>504</td>\n",
       "      <td>Carbon</td>\n",
       "      <td>Ergon SM E-Mountain</td>\n",
       "      <td>12</td>\n",
       "      <td>Shimano XT BR-M8120 4-Piston</td>\n",
       "      <td>Sram X1 Eagle 12</td>\n",
       "      <td>MTB_Fully</td>\n",
       "      <td>GHOST</td>\n",
       "    </tr>\n",
       "  </tbody>\n",
       "</table>\n",
       "</div>"
      ]
     },
     "metadata": {
      "application/vnd.databricks.v1+output": {
       "addedWidgets": {},
       "arguments": {},
       "data": "<div>\n<style scoped>\n    .dataframe tbody tr th:only-of-type {\n        vertical-align: middle;\n    }\n\n    .dataframe tbody tr th {\n        vertical-align: top;\n    }\n\n    .dataframe thead th {\n        text-align: right;\n    }\n</style>\n<table border=\"1\" class=\"dataframe\">\n  <thead>\n    <tr style=\"text-align: right;\">\n      <th></th>\n      <th>gabel_federweg_mm</th>\n      <th>akkukapazität_wh</th>\n      <th>rahmenmaterial</th>\n      <th>sattel</th>\n      <th>gänge</th>\n      <th>bremse_vorne</th>\n      <th>schaltwerk</th>\n      <th>kategorie</th>\n      <th>hersteller</th>\n    </tr>\n  </thead>\n  <tbody>\n    <tr>\n      <th>10588</th>\n      <td>140</td>\n      <td>504</td>\n      <td>Carbon</td>\n      <td>Ergon SM E-Mountain</td>\n      <td>12</td>\n      <td>Shimano XT BR-M8120 4-Piston</td>\n      <td>Sram X1 Eagle 12</td>\n      <td>MTB_Fully</td>\n      <td>GHOST</td>\n    </tr>\n  </tbody>\n</table>\n</div>",
       "datasetInfos": [],
       "metadata": {},
       "removedWidgets": [],
       "textData": null,
       "type": "htmlSandbox"
      }
     },
     "output_type": "display_data"
    }
   ],
   "source": [
    "X_test.iloc[[2]]"
   ]
  },
  {
   "cell_type": "code",
   "execution_count": null,
   "metadata": {
    "application/vnd.databricks.v1+cell": {
     "cellMetadata": {
      "byteLimit": 2048000,
      "rowLimit": 10000
     },
     "inputWidgets": {},
     "nuid": "02dafd6a-e546-4f67-8d00-9c1de621be27",
     "showTitle": false,
     "title": ""
    }
   },
   "outputs": [
    {
     "name": "stdout",
     "output_type": "stream",
     "text": [
      "Out[25]: 10588    5599\n",
      "Name: uvp_€, dtype: int32"
     ]
    }
   ],
   "source": [
    "y_test.iloc[[2]]"
   ]
  },
  {
   "cell_type": "code",
   "execution_count": null,
   "metadata": {
    "application/vnd.databricks.v1+cell": {
     "cellMetadata": {
      "byteLimit": 2048000,
      "rowLimit": 10000
     },
     "inputWidgets": {},
     "nuid": "cd6238aa-3f72-4b10-9c9c-7a6e060917c3",
     "showTitle": false,
     "title": ""
    }
   },
   "outputs": [
    {
     "name": "stdout",
     "output_type": "stream",
     "text": [
      "Out[26]: array([5613.])"
     ]
    }
   ],
   "source": [
    "rf_deploy = pickle.load(open('final_model_rf', 'rb'))\n",
    "y_pred = rf_deploy.predict(X_test.iloc[[2]])\n",
    "y_pred"
   ]
  },
  {
   "cell_type": "code",
   "execution_count": null,
   "metadata": {
    "application/vnd.databricks.v1+cell": {
     "cellMetadata": {
      "byteLimit": 2048000,
      "rowLimit": 10000
     },
     "inputWidgets": {},
     "nuid": "e512af4e-57c8-44be-9a61-8bf1f6dbf213",
     "showTitle": false,
     "title": ""
    }
   },
   "outputs": [
    {
     "name": "stdout",
     "output_type": "stream",
     "text": [
      "Out[29]: 4447     2999\n",
      "23437    2799\n",
      "10588    5599\n",
      "14554    3799\n",
      "6202     2923\n",
      "29372    2599\n",
      "25276    2799\n",
      "27313    2999\n",
      "25933    2799\n",
      "3122     2046\n",
      "Name: uvp_€, dtype: int32"
     ]
    }
   ],
   "source": [
    "y_test.iloc[:10]"
   ]
  },
  {
   "cell_type": "code",
   "execution_count": null,
   "metadata": {
    "application/vnd.databricks.v1+cell": {
     "cellMetadata": {
      "byteLimit": 2048000,
      "rowLimit": 10000
     },
     "inputWidgets": {},
     "nuid": "36cd2fc6-e5d8-4d52-996c-491be44f4da2",
     "showTitle": false,
     "title": ""
    }
   },
   "outputs": [
    {
     "data": {
      "text/html": [
       "<div>\n",
       "<style scoped>\n",
       "    .dataframe tbody tr th:only-of-type {\n",
       "        vertical-align: middle;\n",
       "    }\n",
       "\n",
       "    .dataframe tbody tr th {\n",
       "        vertical-align: top;\n",
       "    }\n",
       "\n",
       "    .dataframe thead th {\n",
       "        text-align: right;\n",
       "    }\n",
       "</style>\n",
       "<table border=\"1\" class=\"dataframe\">\n",
       "  <thead>\n",
       "    <tr style=\"text-align: right;\">\n",
       "      <th></th>\n",
       "      <th>gabel_federweg_mm</th>\n",
       "      <th>akkukapazität_wh</th>\n",
       "      <th>rahmenmaterial</th>\n",
       "      <th>sattel</th>\n",
       "      <th>gänge</th>\n",
       "      <th>bremse_vorne</th>\n",
       "      <th>schaltwerk</th>\n",
       "      <th>kategorie</th>\n",
       "      <th>hersteller</th>\n",
       "      <th>predicted_preis</th>\n",
       "      <th>uvp_€</th>\n",
       "    </tr>\n",
       "  </thead>\n",
       "  <tbody>\n",
       "    <tr>\n",
       "      <th>4447</th>\n",
       "      <td>120</td>\n",
       "      <td>500</td>\n",
       "      <td>Aluminium</td>\n",
       "      <td>Selle Royal MTB</td>\n",
       "      <td>10</td>\n",
       "      <td>Shimano BR-M315</td>\n",
       "      <td>Shimano XT RD-M786-DSGSL Shadow Plus Direct Mo...</td>\n",
       "      <td>MTB_Fully</td>\n",
       "      <td>CUBE</td>\n",
       "      <td>2999</td>\n",
       "      <td>2999</td>\n",
       "    </tr>\n",
       "    <tr>\n",
       "      <th>23437</th>\n",
       "      <td>50</td>\n",
       "      <td>500</td>\n",
       "      <td>Aluminium</td>\n",
       "      <td>Selle Royal Nuvola</td>\n",
       "      <td>8</td>\n",
       "      <td>Shimano M315</td>\n",
       "      <td>Shimano</td>\n",
       "      <td>City</td>\n",
       "      <td>Kalkhoff</td>\n",
       "      <td>2831</td>\n",
       "      <td>2799</td>\n",
       "    </tr>\n",
       "    <tr>\n",
       "      <th>10588</th>\n",
       "      <td>140</td>\n",
       "      <td>504</td>\n",
       "      <td>Carbon</td>\n",
       "      <td>Ergon SM E-Mountain</td>\n",
       "      <td>12</td>\n",
       "      <td>Shimano XT BR-M8120 4-Piston</td>\n",
       "      <td>Sram X1 Eagle 12</td>\n",
       "      <td>MTB_Fully</td>\n",
       "      <td>GHOST</td>\n",
       "      <td>5613</td>\n",
       "      <td>5599</td>\n",
       "    </tr>\n",
       "    <tr>\n",
       "      <th>14554</th>\n",
       "      <td>63</td>\n",
       "      <td>625</td>\n",
       "      <td>Aluminium</td>\n",
       "      <td>Selle Bassano Suprema</td>\n",
       "      <td>10</td>\n",
       "      <td>Shimano BR-MT-400</td>\n",
       "      <td>Shimano Deore XT 10</td>\n",
       "      <td>Trekking</td>\n",
       "      <td>Hercules</td>\n",
       "      <td>3799</td>\n",
       "      <td>3799</td>\n",
       "    </tr>\n",
       "    <tr>\n",
       "      <th>6202</th>\n",
       "      <td>100</td>\n",
       "      <td>625</td>\n",
       "      <td>Aluminium</td>\n",
       "      <td>Natural Fit Sequence Comfort</td>\n",
       "      <td>12</td>\n",
       "      <td>Shimano BR-MT-420</td>\n",
       "      <td>Shimano Deore RD-M610 SGS Shadow Plus 12</td>\n",
       "      <td>Trekking</td>\n",
       "      <td>CUBE</td>\n",
       "      <td>3181</td>\n",
       "      <td>2923</td>\n",
       "    </tr>\n",
       "    <tr>\n",
       "      <th>29372</th>\n",
       "      <td>63</td>\n",
       "      <td>500</td>\n",
       "      <td>Aluminium</td>\n",
       "      <td>Selle Royal Viento</td>\n",
       "      <td>9</td>\n",
       "      <td>TEKTRO T285</td>\n",
       "      <td>Shimano Deore M591 9</td>\n",
       "      <td>Trekking</td>\n",
       "      <td>Winora</td>\n",
       "      <td>2599</td>\n",
       "      <td>2599</td>\n",
       "    </tr>\n",
       "    <tr>\n",
       "      <th>25276</th>\n",
       "      <td>63</td>\n",
       "      <td>612</td>\n",
       "      <td>Aluminium</td>\n",
       "      <td>Concept SL Trekking</td>\n",
       "      <td>10</td>\n",
       "      <td>Shimano M396</td>\n",
       "      <td>Shimano XT</td>\n",
       "      <td>Trekking</td>\n",
       "      <td>Kalkhoff</td>\n",
       "      <td>2799</td>\n",
       "      <td>2799</td>\n",
       "    </tr>\n",
       "    <tr>\n",
       "      <th>27313</th>\n",
       "      <td>63</td>\n",
       "      <td>625</td>\n",
       "      <td>Aluminium</td>\n",
       "      <td>Selle Royal Essenza w/ Superfabric</td>\n",
       "      <td>10</td>\n",
       "      <td>Shimano BR-M200 Disc</td>\n",
       "      <td>Shimano Deore 10</td>\n",
       "      <td>Trekking</td>\n",
       "      <td>SCOTT</td>\n",
       "      <td>3099</td>\n",
       "      <td>2999</td>\n",
       "    </tr>\n",
       "    <tr>\n",
       "      <th>25933</th>\n",
       "      <td>50</td>\n",
       "      <td>621</td>\n",
       "      <td>Aluminium</td>\n",
       "      <td>Selle Bassano Feel GT</td>\n",
       "      <td>8</td>\n",
       "      <td>MAGURA HS-11</td>\n",
       "      <td>Shimano</td>\n",
       "      <td>City</td>\n",
       "      <td>Kalkhoff</td>\n",
       "      <td>2895</td>\n",
       "      <td>2799</td>\n",
       "    </tr>\n",
       "    <tr>\n",
       "      <th>3122</th>\n",
       "      <td>100</td>\n",
       "      <td>400</td>\n",
       "      <td>Aluminium</td>\n",
       "      <td>Natural Fit Sequence</td>\n",
       "      <td>9</td>\n",
       "      <td>Shimano BR-MT-200</td>\n",
       "      <td>Shimano RD-M310 SGS 9</td>\n",
       "      <td>MTB_Hardtail</td>\n",
       "      <td>CUBE</td>\n",
       "      <td>1985</td>\n",
       "      <td>2046</td>\n",
       "    </tr>\n",
       "  </tbody>\n",
       "</table>\n",
       "</div>"
      ]
     },
     "metadata": {
      "application/vnd.databricks.v1+output": {
       "addedWidgets": {},
       "arguments": {},
       "data": "<div>\n<style scoped>\n    .dataframe tbody tr th:only-of-type {\n        vertical-align: middle;\n    }\n\n    .dataframe tbody tr th {\n        vertical-align: top;\n    }\n\n    .dataframe thead th {\n        text-align: right;\n    }\n</style>\n<table border=\"1\" class=\"dataframe\">\n  <thead>\n    <tr style=\"text-align: right;\">\n      <th></th>\n      <th>gabel_federweg_mm</th>\n      <th>akkukapazität_wh</th>\n      <th>rahmenmaterial</th>\n      <th>sattel</th>\n      <th>gänge</th>\n      <th>bremse_vorne</th>\n      <th>schaltwerk</th>\n      <th>kategorie</th>\n      <th>hersteller</th>\n      <th>predicted_preis</th>\n      <th>uvp_€</th>\n    </tr>\n  </thead>\n  <tbody>\n    <tr>\n      <th>4447</th>\n      <td>120</td>\n      <td>500</td>\n      <td>Aluminium</td>\n      <td>Selle Royal MTB</td>\n      <td>10</td>\n      <td>Shimano BR-M315</td>\n      <td>Shimano XT RD-M786-DSGSL Shadow Plus Direct Mo...</td>\n      <td>MTB_Fully</td>\n      <td>CUBE</td>\n      <td>2999</td>\n      <td>2999</td>\n    </tr>\n    <tr>\n      <th>23437</th>\n      <td>50</td>\n      <td>500</td>\n      <td>Aluminium</td>\n      <td>Selle Royal Nuvola</td>\n      <td>8</td>\n      <td>Shimano M315</td>\n      <td>Shimano</td>\n      <td>City</td>\n      <td>Kalkhoff</td>\n      <td>2831</td>\n      <td>2799</td>\n    </tr>\n    <tr>\n      <th>10588</th>\n      <td>140</td>\n      <td>504</td>\n      <td>Carbon</td>\n      <td>Ergon SM E-Mountain</td>\n      <td>12</td>\n      <td>Shimano XT BR-M8120 4-Piston</td>\n      <td>Sram X1 Eagle 12</td>\n      <td>MTB_Fully</td>\n      <td>GHOST</td>\n      <td>5613</td>\n      <td>5599</td>\n    </tr>\n    <tr>\n      <th>14554</th>\n      <td>63</td>\n      <td>625</td>\n      <td>Aluminium</td>\n      <td>Selle Bassano Suprema</td>\n      <td>10</td>\n      <td>Shimano BR-MT-400</td>\n      <td>Shimano Deore XT 10</td>\n      <td>Trekking</td>\n      <td>Hercules</td>\n      <td>3799</td>\n      <td>3799</td>\n    </tr>\n    <tr>\n      <th>6202</th>\n      <td>100</td>\n      <td>625</td>\n      <td>Aluminium</td>\n      <td>Natural Fit Sequence Comfort</td>\n      <td>12</td>\n      <td>Shimano BR-MT-420</td>\n      <td>Shimano Deore RD-M610 SGS Shadow Plus 12</td>\n      <td>Trekking</td>\n      <td>CUBE</td>\n      <td>3181</td>\n      <td>2923</td>\n    </tr>\n    <tr>\n      <th>29372</th>\n      <td>63</td>\n      <td>500</td>\n      <td>Aluminium</td>\n      <td>Selle Royal Viento</td>\n      <td>9</td>\n      <td>TEKTRO T285</td>\n      <td>Shimano Deore M591 9</td>\n      <td>Trekking</td>\n      <td>Winora</td>\n      <td>2599</td>\n      <td>2599</td>\n    </tr>\n    <tr>\n      <th>25276</th>\n      <td>63</td>\n      <td>612</td>\n      <td>Aluminium</td>\n      <td>Concept SL Trekking</td>\n      <td>10</td>\n      <td>Shimano M396</td>\n      <td>Shimano XT</td>\n      <td>Trekking</td>\n      <td>Kalkhoff</td>\n      <td>2799</td>\n      <td>2799</td>\n    </tr>\n    <tr>\n      <th>27313</th>\n      <td>63</td>\n      <td>625</td>\n      <td>Aluminium</td>\n      <td>Selle Royal Essenza w/ Superfabric</td>\n      <td>10</td>\n      <td>Shimano BR-M200 Disc</td>\n      <td>Shimano Deore 10</td>\n      <td>Trekking</td>\n      <td>SCOTT</td>\n      <td>3099</td>\n      <td>2999</td>\n    </tr>\n    <tr>\n      <th>25933</th>\n      <td>50</td>\n      <td>621</td>\n      <td>Aluminium</td>\n      <td>Selle Bassano Feel GT</td>\n      <td>8</td>\n      <td>MAGURA HS-11</td>\n      <td>Shimano</td>\n      <td>City</td>\n      <td>Kalkhoff</td>\n      <td>2895</td>\n      <td>2799</td>\n    </tr>\n    <tr>\n      <th>3122</th>\n      <td>100</td>\n      <td>400</td>\n      <td>Aluminium</td>\n      <td>Natural Fit Sequence</td>\n      <td>9</td>\n      <td>Shimano BR-MT-200</td>\n      <td>Shimano RD-M310 SGS 9</td>\n      <td>MTB_Hardtail</td>\n      <td>CUBE</td>\n      <td>1985</td>\n      <td>2046</td>\n    </tr>\n  </tbody>\n</table>\n</div>",
       "datasetInfos": [],
       "metadata": {},
       "removedWidgets": [],
       "textData": null,
       "type": "htmlSandbox"
      }
     },
     "output_type": "display_data"
    }
   ],
   "source": [
    "control = X_test.iloc[:10].copy()\n",
    "y_pred_all = []\n",
    "for i in range(0, 10):\n",
    "    rf_deploy = pickle.load(open('final_model_rf', 'rb'))\n",
    "    y_pred = rf_deploy.predict(X_test.iloc[[i]])\n",
    "    y_pred_all.append(int(y_pred[0]))\n",
    "control['predicted_preis'] = y_pred_all\n",
    "# control.insert(1, 'predicted_damage_type', control.pop('predicted_damage_type') )\n",
    "control_rf = control.copy();\n",
    "control_rf[\"uvp_€\"] = y_test.iloc[:10]\n",
    "control_rf "
   ]
  },
  {
   "cell_type": "markdown",
   "metadata": {
    "application/vnd.databricks.v1+cell": {
     "cellMetadata": {},
     "inputWidgets": {},
     "nuid": "2e5d27f5-e493-4f60-b6eb-b6cf9684cd03",
     "showTitle": false,
     "title": ""
    }
   },
   "source": [
    "##### Save 'XGB' model"
   ]
  },
  {
   "cell_type": "code",
   "execution_count": null,
   "metadata": {
    "application/vnd.databricks.v1+cell": {
     "cellMetadata": {
      "byteLimit": 2048000,
      "rowLimit": 10000
     },
     "inputWidgets": {},
     "nuid": "53b265cf-bbd5-4d1c-94dd-cbffb470646f",
     "showTitle": false,
     "title": ""
    }
   },
   "outputs": [
    {
     "name": "stdout",
     "output_type": "stream",
     "text": [
      "\u001b[1m\u001b[33mShape:\u001b[0m(31757, 52)\n",
      "\u001b[1m\u001b[31m****************************************************************************************************\u001b[0m\u001b[1m\u001b[33m\n",
      "Info:\n",
      "\u001b[0m\n",
      "<class 'pandas.core.frame.DataFrame'>\n",
      "RangeIndex: 31757 entries, 0 to 31756\n",
      "Data columns (total 52 columns):\n",
      " #   Column                        Non-Null Count  Dtype  \n",
      "---  ------                        --------------  -----  \n",
      " 0   Hersteller                    31757 non-null  object \n",
      " 1   Modellname                    31757 non-null  object \n",
      " 2   Modelljahr                    31757 non-null  int32  \n",
      " 3   Geschlecht                    31757 non-null  object \n",
      " 4   Kategorie                     31757 non-null  object \n",
      " 5   UVP-€                         31757 non-null  int32  \n",
      " 6   Gänge                         31757 non-null  int32  \n",
      " 7   Art_der_Schaltung             31757 non-null  object \n",
      " 8   Schaltwerk                    31757 non-null  object \n",
      " 9   Bremsentyp                    31757 non-null  object \n",
      " 10  Motorart                      31757 non-null  object \n",
      " 11  Motor                         31757 non-null  object \n",
      " 12  Motordrehmoment-Nm            31757 non-null  int32  \n",
      " 13  Motorspannung-V               31757 non-null  int32  \n",
      " 14  Motorleistung-W               31757 non-null  int32  \n",
      " 15  max._Motorunterstützung-km/h  31757 non-null  int32  \n",
      " 16  Unterstützung-%               31757 non-null  int32  \n",
      " 17  Unterstützungsstufen          31757 non-null  int32  \n",
      " 18  Motorhersteller               31757 non-null  object \n",
      " 19  Motorgewicht-kg               31757 non-null  float64\n",
      " 20  Motor_Schalterkennung         31757 non-null  object \n",
      " 21  Akku                          31757 non-null  object \n",
      " 22  Akkukapazität-Wh              31757 non-null  int32  \n",
      " 23  Akkuspannung-V                31757 non-null  int32  \n",
      " 24  Lenker                        31757 non-null  object \n",
      " 25  Lenkerbreite-mm               31757 non-null  int32  \n",
      " 26  Griffe                        31757 non-null  object \n",
      " 27  Display                       31757 non-null  object \n",
      " 28  Gabel                         31757 non-null  object \n",
      " 29  Dämpfer                       4626 non-null   object \n",
      " 30  Gabel_Federweg-mm             31757 non-null  int32  \n",
      " 31  Felgen                        31757 non-null  object \n",
      " 32  Vorderreifen                  31757 non-null  object \n",
      " 33  Hinterreifen                  31757 non-null  object \n",
      " 34  Nabe_vorne                    31757 non-null  object \n",
      " 35  Nabe_hinten                   31757 non-null  object \n",
      " 36  Laufradgröße                  31757 non-null  object \n",
      " 37  Art_der_Übertragung           31757 non-null  object \n",
      " 38  Kassette                      21247 non-null  object \n",
      " 39  Pedale                        31757 non-null  object \n",
      " 40  Sattel                        31757 non-null  object \n",
      " 41  Rahmenform                    31757 non-null  object \n",
      " 42  Rahmenmaterial                31757 non-null  object \n",
      " 43  Schrittlänge                  31757 non-null  object \n",
      " 44  Gewicht-kg                    31757 non-null  float64\n",
      " 45  Bremse_vorne                  31757 non-null  object \n",
      " 46  Bremse_hinten                 31757 non-null  object \n",
      " 47  Beleuchtung_vorhanden         31757 non-null  object \n",
      " 48  Schutzblech_vorhanden         31757 non-null  object \n",
      " 49  Gepäckträger_vorhanden        31757 non-null  object \n",
      " 50  Rahmenhöhe-cm                 31757 non-null  object \n",
      " 51  Schiebehilfe                  31757 non-null  object \n",
      "dtypes: float64(2), int32(13), object(37)\n",
      "memory usage: 11.0+ MB\n",
      "None\n",
      "\u001b[1m\u001b[31m****************************************************************************************************\u001b[0m\n",
      "\u001b[1m\u001b[33mNumber of Uniques:\n",
      "\u001b[0mHersteller                        12\n",
      "Modellname                      2111\n",
      "Modelljahr                         9\n",
      "Geschlecht                         3\n",
      "Kategorie                          4\n",
      "UVP-€                            198\n",
      "Gänge                             15\n",
      "Art_der_Schaltung                  3\n",
      "Schaltwerk                       306\n",
      "Bremsentyp                         9\n",
      "Motorart                           3\n",
      "Motor                            181\n",
      "Motordrehmoment-Nm                19\n",
      "Motorspannung-V                    2\n",
      "Motorleistung-W                    7\n",
      "max._Motorunterstützung-km/h       3\n",
      "Unterstützung-%                   18\n",
      "Unterstützungsstufen               3\n",
      "Motorhersteller                   15\n",
      "Motorgewicht-kg                   17\n",
      "Motor_Schalterkennung              2\n",
      "Akku                              58\n",
      "Akkukapazität-Wh                  44\n",
      "Akkuspannung-V                     3\n",
      "Lenker                           250\n",
      "Lenkerbreite-mm                   18\n",
      "Griffe                           123\n",
      "Display                           73\n",
      "Gabel                            719\n",
      "Dämpfer                          146\n",
      "Gabel_Federweg-mm                 19\n",
      "Felgen                           208\n",
      "Vorderreifen                     262\n",
      "Hinterreifen                     268\n",
      "Nabe_vorne                       361\n",
      "Nabe_hinten                      485\n",
      "Laufradgröße                       9\n",
      "Art_der_Übertragung                4\n",
      "Kassette                         148\n",
      "Pedale                           161\n",
      "Sattel                           354\n",
      "Rahmenform                         9\n",
      "Rahmenmaterial                     5\n",
      "Schrittlänge                      51\n",
      "Gewicht-kg                       125\n",
      "Bremse_vorne                     350\n",
      "Bremse_hinten                    376\n",
      "Beleuchtung_vorhanden              5\n",
      "Schutzblech_vorhanden              2\n",
      "Gepäckträger_vorhanden             2\n",
      "Rahmenhöhe-cm                     34\n",
      "Schiebehilfe                       9\n",
      "dtype: int64\n",
      "\u001b[1m\u001b[31m****************************************************************************************************\u001b[0m\n",
      "\u001b[1m\u001b[33mMissing Values:\n",
      "\u001b[0m          Missing_Number  Missing_Percent\n",
      "Dämpfer            27131         0.854331\n",
      "Kassette           10510         0.330951\n",
      "\u001b[1m\u001b[31m****************************************************************************************************\u001b[0m\n",
      "\u001b[1m\u001b[33mAll Columns:\u001b[0m\n",
      "- Hersteller\n",
      "- Modellname\n",
      "- Modelljahr\n",
      "- Geschlecht\n",
      "- Kategorie\n",
      "- UVP-€\n",
      "- Gänge\n",
      "- Art_der_Schaltung\n",
      "- Schaltwerk\n",
      "- Bremsentyp\n",
      "- Motorart\n",
      "- Motor\n",
      "- Motordrehmoment-Nm\n",
      "- Motorspannung-V\n",
      "- Motorleistung-W\n",
      "- max._Motorunterstützung-km/h\n",
      "- Unterstützung-%\n",
      "- Unterstützungsstufen\n",
      "- Motorhersteller\n",
      "- Motorgewicht-kg\n",
      "- Motor_Schalterkennung\n",
      "- Akku\n",
      "- Akkukapazität-Wh\n",
      "- Akkuspannung-V\n",
      "- Lenker\n",
      "- Lenkerbreite-mm\n",
      "- Griffe\n",
      "- Display\n",
      "- Gabel\n",
      "- Dämpfer\n",
      "- Gabel_Federweg-mm\n",
      "- Felgen\n",
      "- Vorderreifen\n",
      "- Hinterreifen\n",
      "- Nabe_vorne\n",
      "- Nabe_hinten\n",
      "- Laufradgröße\n",
      "- Art_der_Übertragung\n",
      "- Kassette\n",
      "- Pedale\n",
      "- Sattel\n",
      "- Rahmenform\n",
      "- Rahmenmaterial\n",
      "- Schrittlänge\n",
      "- Gewicht-kg\n",
      "- Bremse_vorne\n",
      "- Bremse_hinten\n",
      "- Beleuchtung_vorhanden\n",
      "- Schutzblech_vorhanden\n",
      "- Gepäckträger_vorhanden\n",
      "- Rahmenhöhe-cm\n",
      "- Schiebehilfe\n",
      "\u001b[1m\u001b[31m****************************************************************************************************\u001b[0m\n",
      "\u001b[1m\u001b[33mColumns after rename:\u001b[0m\n",
      "- hersteller\n",
      "- modellname\n",
      "- modelljahr\n",
      "- geschlecht\n",
      "- kategorie\n",
      "- uvp_€\n",
      "- gänge\n",
      "- art_der_schaltung\n",
      "- schaltwerk\n",
      "- bremsentyp\n",
      "- motorart\n",
      "- motor\n",
      "- motordrehmoment_nm\n",
      "- motorspannung_v\n",
      "- motorleistung_w\n",
      "- max._motorunterstützung_km/h\n",
      "- unterstützung_%\n",
      "- unterstützungsstufen\n",
      "- motorhersteller\n",
      "- motorgewicht_kg\n",
      "- motor_schalterkennung\n",
      "- akku\n",
      "- akkukapazität_wh\n",
      "- akkuspannung_v\n",
      "- lenker\n",
      "- lenkerbreite_mm\n",
      "- griffe\n",
      "- display\n",
      "- gabel\n",
      "- dämpfer\n",
      "- gabel_federweg_mm\n",
      "- felgen\n",
      "- vorderreifen\n",
      "- hinterreifen\n",
      "- nabe_vorne\n",
      "- nabe_hinten\n",
      "- laufradgröße\n",
      "- art_der_übertragung\n",
      "- kassette\n",
      "- pedale\n",
      "- sattel\n",
      "- rahmenform\n",
      "- rahmenmaterial\n",
      "- schrittlänge\n",
      "- gewicht_kg\n",
      "- bremse_vorne\n",
      "- bremse_hinten\n",
      "- beleuchtung_vorhanden\n",
      "- schutzblech_vorhanden\n",
      "- gepäckträger_vorhanden\n",
      "- rahmenhöhe_cm\n",
      "- schiebehilfe\n",
      "\u001b[1m\u001b[31m****************************************************************************************************\u001b[0m\n",
      "\u001b[1m\u001b[33mDuplicate check...\u001b[0m\n",
      "10773 Duplicates were dropped!\u001b[0m\n",
      "\u001b[1m\u001b[31m****************************************************************************************************\u001b[0m\n",
      "df.shape: (20984, 50)\n",
      "X_train.shape: (16787, 6)\n",
      "y_train.shape: (16787,)\n",
      "X_test.shape: (4197, 6)\n",
      "y_test.shape: (4197,)\n",
      "r2 score: 0.87\n",
      "****************************************************************************************************\n",
      "Target: uvp_€\n",
      "****************************************************************************************************\n",
      "XGBRegressor(base_score=0.5, booster='gbtree', callbacks=None,\n",
      "             colsample_bylevel=1, colsample_bynode=1, colsample_bytree=1,\n",
      "             early_stopping_rounds=None, enable_categorical=False,\n",
      "             eval_metric=None, gamma=0, gpu_id=-1, grow_policy='depthwise',\n",
      "             importance_type=None, interaction_constraints='',\n",
      "             learning_rate=0.300000012, max_bin=256, max_cat_to_onehot=4,\n",
      "             max_delta_step=0, max_depth=6, max_leaves=0, min_child_weight=1,\n",
      "             missing=nan, monotone_constraints='()', n_estimators=100, n_jobs=0,\n",
      "             num_parallel_tree=1, predictor='auto', random_state=0, reg_alpha=0,\n",
      "             reg_lambda=1, ...) >> r2: 0.8718742231794635, MAE: 266.2050955179109, MSE: 209515.7756761385, RMSE: 457.7289325311854\n",
      "****************************************************************************************************\n",
      "   gabel_federweg_mm  akkukapazität_wh  ...  hersteller_Winora  hersteller_corratec\n",
      "0           1.253417         -0.232104  ...                0.0                  0.0\n",
      "1          -1.155883          0.785261  ...                0.0                  0.0\n",
      "\n",
      "[2 rows x 24 columns]\n",
      "   gabel_federweg_mm  akkukapazität_wh  ...  hersteller_Winora  hersteller_corratec\n",
      "0           1.253417         -0.275694  ...                0.0                  0.0\n",
      "1          -1.155883         -0.275694  ...                0.0                  0.0\n",
      "\n",
      "[2 rows x 24 columns]\n"
     ]
    },
    {
     "data": {
      "image/png": "[encoded data removed]"
     },
     "metadata": {
      "application/vnd.databricks.v1+output": {
       "addedWidgets": {},
       "arguments": {},
       "data": "data:image/png;base64,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\n",
       "datasetInfos": [],
       "metadata": {},
       "removedWidgets": [],
       "type": "image"
      }
     },
     "output_type": "display_data"
    }
   ],
   "source": [
    "file_location = \"/FileStore/tables/rad/df_eBike_UVP.csv\"\n",
    "file_type = \"csv\"\n",
    "\n",
    "# CSV options\n",
    "infer_schema = \"True\"\n",
    "first_row_is_header = \"True\"\n",
    "delimiter = \",\"\n",
    "\n",
    "# The applied options are for CSV files. For other file types, these will be ignored.\n",
    "df = spark.read.format(file_type) \\\n",
    "          .option(\"inferSchema\", infer_schema) \\\n",
    "          .option(\"header\", first_row_is_header) \\\n",
    "          .option(\"sep\", delimiter) \\\n",
    "          .load(file_location).toPandas()\n",
    "\n",
    "first_looking(df)\n",
    "duplicate_values(df)\n",
    "\n",
    "df.drop(columns=[\"dämpfer\", \"kassette\"], inplace=True)\n",
    "\n",
    "target = \"uvp_€\"\n",
    "\n",
    "X =  df[['gabel_federweg_mm',\n",
    "        'akkukapazität_wh',\n",
    "        'rahmenmaterial',\n",
    "        'gänge',\n",
    "        'kategorie',\n",
    "        'hersteller']]  # .drop(target, axis=1)\n",
    "\n",
    "\n",
    "y = df[target]\n",
    "\n",
    "X_train, X_test, y_train, y_test  = train_test_split(X, y, \n",
    "                                                     test_size=0.2, \n",
    "                                                     random_state=42, \n",
    "                                                     shuffle=True)\n",
    "\n",
    "shape_control(df, X_train, y_train, X_test, y_test)\n",
    "\n",
    "numerics = X.select_dtypes(include=\"number\").astype(\"float64\")\n",
    "categorics = X.select_dtypes(include=[\"object\", \"category\", \"bool\"])\n",
    "\n",
    "numeric_transformer = Pipeline([('Scaler', StandardScaler()), \n",
    "                                ('R_Scaler', RobustScaler()),\n",
    "                                ('Pw_Scaler', PowerTransformer())])\n",
    "\n",
    "categorical_transformer = Pipeline([('OHE', OneHotEncoder(handle_unknown=\"ignore\"))])\n",
    "\n",
    "transformer = ColumnTransformer([('numeric', numeric_transformer, numerics.columns),\n",
    "                                 ('categoric', categorical_transformer, categorics.columns)])\n",
    "\n",
    "pipeline_model_xgb = Pipeline([('transform', transformer), ('prediction', XGBRegressor())])    \n",
    "\n",
    "pipeline_model_xgb.fit(X_train, y_train)\n",
    "\n",
    "y_pred = pipeline_model_xgb.predict(X_test)\n",
    "\n",
    "def eval_metric(y_test, y_pred):\n",
    "    r2 = r2_score(y_test, y_pred)\n",
    "    mae = mean_absolute_error(y_test, y_pred)\n",
    "    mse = mean_squared_error(y_test, y_pred)\n",
    "    rmse = np.sqrt(mse)\n",
    "    print(f\"r2 score: {r2.round(2)}\")\n",
    "    return r2, mae, mse, rmse\n",
    "\n",
    "r2, mae, mse, rmse = eval_metric(y_test, y_pred)\n",
    "print(\"****************************************************************************************************\")\n",
    "# print(f\"Inputs: {df[['gabel_federweg_mm', 'lenkerbreite_mm', 'akkukapazität_wh', 'unterstützung_%']].columns.tolist()}\")\n",
    "print(f\"Target: {target}\")\n",
    "print(\"****************************************************************************************************\")\n",
    "print(f\"{pipeline_model_xgb[-1]} >> r2: {r2}, MAE: {mae}, MSE: {mse}, RMSE: {rmse}\")\n",
    "print(\"****************************************************************************************************\")\n",
    "\n",
    "\n",
    "######################################\n",
    "transformed_features_Xtrain = transformer.fit_transform(X_train)\n",
    "transformed_features_Xtest = transformer.transform(X_test)\n",
    "\n",
    "# Get the column names of the transformed features\n",
    "transformed_feature_names_Xtrain = numerics.columns.tolist() + transformer.transformers_[1][1]['OHE'].get_feature_names(categorics.columns).tolist()\n",
    "\n",
    "# Convert the sparse matrix to a dense matrix\n",
    "transformed_features_dense_Xtrain = transformed_features_Xtrain.toarray()\n",
    "\n",
    "# Create a DataFrame with the transformed features and their names\n",
    "transformed_df_Xtrain = pd.DataFrame(transformed_features_dense_Xtrain, columns=transformed_feature_names_Xtrain)\n",
    "\n",
    "# Display the transformed DataFrame\n",
    "print(transformed_df_Xtrain.head(2))\n",
    "\n",
    "\n",
    "# Get the column names of the transformed features\n",
    "transformed_feature_names_Xtest = numerics.columns.tolist() + transformer.transformers_[1][1]['OHE'].get_feature_names(categorics.columns).tolist()\n",
    "\n",
    "# Convert the sparse matrix to a dense matrix\n",
    "transformed_features_dense_Xtest = transformed_features_Xtest.toarray()\n",
    "\n",
    "# Create a DataFrame with the transformed features and their names\n",
    "transformed_df_Xtest = pd.DataFrame(transformed_features_dense_Xtest, columns=transformed_feature_names_Xtest)\n",
    "\n",
    "# Display the transformed DataFrame\n",
    "print(transformed_df_Xtest.head(2))\n",
    "######################################\n",
    "\n",
    "import matplotlib.pyplot as plt\n",
    "\n",
    "# Assuming your pipeline has a RandomForestRegressor as the final step\n",
    "xgb_regressor = pipeline_model_xgb.named_steps['prediction']\n",
    "\n",
    "# Get feature importances from the trained RandomForestRegressor\n",
    "feature_importances = xgb_regressor.feature_importances_\n",
    "\n",
    "# Create a DataFrame to associate feature names with their importances\n",
    "feature_importance_df = pd.DataFrame({\n",
    "    'Feature': transformed_df_Xtrain.columns,\n",
    "    'Importance': feature_importances\n",
    "})\n",
    "\n",
    "# Sort the features by importance in descending order\n",
    "feature_importance_df = feature_importance_df.sort_values(by='Importance', ascending=False)\n",
    "feature_importance_df[0:12]\n",
    "\n",
    "# Plot the feature importances\n",
    "plt.figure(figsize=(10, 6))\n",
    "plt.barh(feature_importance_df[0:12]['Feature'], feature_importance_df[0:12]['Importance'])\n",
    "plt.xlabel('Feature Importance')\n",
    "plt.ylabel('Feature')\n",
    "plt.title('Feature Importances')\n",
    "plt.show();"
   ]
  },
  {
   "cell_type": "code",
   "execution_count": null,
   "metadata": {
    "application/vnd.databricks.v1+cell": {
     "cellMetadata": {
      "byteLimit": 2048000,
      "rowLimit": 10000
     },
     "inputWidgets": {},
     "nuid": "b79f0f04-8382-418b-be4c-e9509b01ce99",
     "showTitle": false,
     "title": ""
    }
   },
   "outputs": [
    {
     "name": "stdout",
     "output_type": "stream",
     "text": [
      "Out[38]: ['kategorie_MTB_Fully',\n",
      " 'bremse_vorne_MAGURA MT-8',\n",
      " 'rahmenmaterial_Aluminium',\n",
      " 'rahmenmaterial_Carbon',\n",
      " 'sattel_Bridge',\n",
      " 'bremse_vorne_Shimano BR-MT-200',\n",
      " 'gabel_federweg_mm',\n",
      " 'bremse_vorne_Shimano BR-MT-420',\n",
      " 'schaltwerk_Sram X1 Eagle AXS 12 Wireless Electronic Shift System',\n",
      " 'hersteller_Specialized',\n",
      " 'bremse_vorne_MAGURA HS-11',\n",
      " 'motorhersteller_YAMAHA']"
     ]
    },
    {
     "data": {
      "application/vnd.databricks.v1+bamboolib_hint": "{\"pd.DataFrames\": [], \"version\": \"0.0.1\"}",
      "text/plain": []
     },
     "metadata": {},
     "output_type": "display_data"
    }
   ],
   "source": [
    "list(feature_importance_df['Feature'][0:12])"
   ]
  },
  {
   "cell_type": "markdown",
   "metadata": {
    "application/vnd.databricks.v1+cell": {
     "cellMetadata": {},
     "inputWidgets": {},
     "nuid": "a926dde4-a998-4001-9e99-ba9f94a2acfd",
     "showTitle": false,
     "title": ""
    }
   },
   "source": [
    "###### Hyperparameter tuning with OPTUNA"
   ]
  },
  {
   "cell_type": "code",
   "execution_count": null,
   "metadata": {
    "application/vnd.databricks.v1+cell": {
     "cellMetadata": {
      "byteLimit": 2048000,
      "rowLimit": 10000
     },
     "inputWidgets": {},
     "nuid": "b96ff511-c477-4a23-a060-71249aad8bbb",
     "showTitle": false,
     "title": ""
    }
   },
   "outputs": [
    {
     "name": "stdout",
     "output_type": "stream",
     "text": [
      "[I 2023-08-25 18:58:54,849] A new study created in memory with name: no-name-7131e2fd-c23c-4802-96dd-48b4f008e3fa\n",
      "/local_disk0/.ephemeral_nfs/envs/pythonEnv-fe59e063-8055-439a-b98f-efa6cbb47554/lib/python3.9/site-packages/optuna/distributions.py:685: UserWarning:\n",
      "\n",
      "The distribution is specified by [0.2, 0.95] and step=0.1, but the range is not divisible by `step`. It will be replaced by [0.2, 0.9].\n",
      "\n",
      "[18:58:55] WARNING: ../src/learner.cc:627: \n",
      "Parameters: { \"bagging_fraction\", \"bagging_freq\", \"feature_fraction\", \"lambda_l1\", \"lambda_l2\", \"min_data_in_leaf\", \"min_gain_to_split\", \"num_leaves\" } might not be used.\n",
      "\n",
      "  This could be a false alarm, with some parameters getting used by language bindings but\n",
      "  then being mistakenly passed down to XGBoost core, or some parameter actually being used\n",
      "  but getting flagged wrongly here. Please open an issue if you find any such cases.\n",
      "\n",
      "\n",
      "[I 2023-08-25 18:59:17,376] Trial 0 finished with value: 0.8746660186762115 and parameters: {'n_estimators': 590, 'max_depth': 10, 'learning_rate': 0.17350079844788693, 'subsample': 0.7184331350239919, 'num_leaves': 50, 'min_data_in_leaf': 6200, 'lambda_l1': 50, 'lambda_l2': 100, 'min_gain_to_split': 7.155738146213955, 'bagging_fraction': 0.7, 'bagging_freq': 1, 'feature_fraction': 0.5}. Best is trial 0 with value: 0.8746660186762115.\n",
      "/local_disk0/.ephemeral_nfs/envs/pythonEnv-fe59e063-8055-439a-b98f-efa6cbb47554/lib/python3.9/site-packages/optuna/distributions.py:685: UserWarning:\n",
      "\n",
      "The distribution is specified by [0.2, 0.95] and step=0.1, but the range is not divisible by `step`. It will be replaced by [0.2, 0.9].\n",
      "\n",
      "[18:59:17] WARNING: ../src/learner.cc:627: \n",
      "Parameters: { \"bagging_fraction\", \"bagging_freq\", \"feature_fraction\", \"lambda_l1\", \"lambda_l2\", \"min_data_in_leaf\", \"min_gain_to_split\", \"num_leaves\" } might not be used.\n",
      "\n",
      "  This could be a false alarm, with some parameters getting used by language bindings but\n",
      "  then being mistakenly passed down to XGBoost core, or some parameter actually being used\n",
      "  but getting flagged wrongly here. Please open an issue if you find any such cases.\n",
      "\n",
      "\n",
      "[I 2023-08-25 18:59:47,087] Trial 1 finished with value: 0.8757700470861631 and parameters: {'n_estimators': 590, 'max_depth': 14, 'learning_rate': 0.09296818717777666, 'subsample': 0.46848526792858564, 'num_leaves': 40, 'min_data_in_leaf': 2000, 'lambda_l1': 95, 'lambda_l2': 60, 'min_gain_to_split': 6.751848646809911, 'bagging_fraction': 0.6000000000000001, 'bagging_freq': 1, 'feature_fraction': 0.8}. Best is trial 1 with value: 0.8757700470861631.\n",
      "/local_disk0/.ephemeral_nfs/envs/pythonEnv-fe59e063-8055-439a-b98f-efa6cbb47554/lib/python3.9/site-packages/optuna/distributions.py:685: UserWarning:\n",
      "\n",
      "The distribution is specified by [0.2, 0.95] and step=0.1, but the range is not divisible by `step`. It will be replaced by [0.2, 0.9].\n",
      "\n",
      "[18:59:47] WARNING: ../src/learner.cc:627: \n",
      "Parameters: { \"bagging_fraction\", \"bagging_freq\", \"feature_fraction\", \"lambda_l1\", \"lambda_l2\", \"min_data_in_leaf\", \"min_gain_to_split\", \"num_leaves\" } might not be used.\n",
      "\n",
      "  This could be a false alarm, with some parameters getting used by language bindings but\n",
      "  then being mistakenly passed down to XGBoost core, or some parameter actually being used\n",
      "  but getting flagged wrongly here. Please open an issue if you find any such cases.\n",
      "\n",
      "\n",
      "[I 2023-08-25 18:59:54,533] Trial 2 finished with value: 0.8727106928010766 and parameters: {'n_estimators': 110, 'max_depth': 9, 'learning_rate': 0.1238065799584654, 'subsample': 0.5105706333427806, 'num_leaves': 80, 'min_data_in_leaf': 6600, 'lambda_l1': 85, 'lambda_l2': 75, 'min_gain_to_split': 8.284949198252917, 'bagging_fraction': 0.8, 'bagging_freq': 1, 'feature_fraction': 0.7}. Best is trial 1 with value: 0.8757700470861631.\n",
      "/local_disk0/.ephemeral_nfs/envs/pythonEnv-fe59e063-8055-439a-b98f-efa6cbb47554/lib/python3.9/site-packages/optuna/distributions.py:685: UserWarning:\n",
      "\n",
      "The distribution is specified by [0.2, 0.95] and step=0.1, but the range is not divisible by `step`. It will be replaced by [0.2, 0.9].\n",
      "\n",
      "[18:59:54] WARNING: ../src/learner.cc:627: \n",
      "Parameters: { \"bagging_fraction\", \"bagging_freq\", \"feature_fraction\", \"lambda_l1\", \"lambda_l2\", \"min_data_in_leaf\", \"min_gain_to_split\", \"num_leaves\" } might not be used.\n",
      "\n",
      "  This could be a false alarm, with some parameters getting used by language bindings but\n",
      "  then being mistakenly passed down to XGBoost core, or some parameter actually being used\n",
      "  but getting flagged wrongly here. Please open an issue if you find any such cases.\n",
      "\n",
      "\n",
      "[I 2023-08-25 19:00:19,888] Trial 3 finished with value: 0.8746309975993771 and parameters: {'n_estimators': 740, 'max_depth': 8, 'learning_rate': 0.1887527977805797, 'subsample': 0.8124824654954754, 'num_leaves': 130, 'min_data_in_leaf': 1800, 'lambda_l1': 0, 'lambda_l2': 100, 'min_gain_to_split': 14.967833046127705, 'bagging_fraction': 0.7, 'bagging_freq': 1, 'feature_fraction': 0.30000000000000004}. Best is trial 1 with value: 0.8757700470861631.\n",
      "/local_disk0/.ephemeral_nfs/envs/pythonEnv-fe59e063-8055-439a-b98f-efa6cbb47554/lib/python3.9/site-packages/optuna/distributions.py:685: UserWarning:\n",
      "\n",
      "The distribution is specified by [0.2, 0.95] and step=0.1, but the range is not divisible by `step`. It will be replaced by [0.2, 0.9].\n",
      "\n",
      "[19:00:20] WARNING: ../src/learner.cc:627: \n",
      "Parameters: { \"bagging_fraction\", \"bagging_freq\", \"feature_fraction\", \"lambda_l1\", \"lambda_l2\", \"min_data_in_leaf\", \"min_gain_to_split\", \"num_leaves\" } might not be used.\n",
      "\n",
      "  This could be a false alarm, with some parameters getting used by language bindings but\n",
      "  then being mistakenly passed down to XGBoost core, or some parameter actually being used\n",
      "  but getting flagged wrongly here. Please open an issue if you find any such cases.\n",
      "\n",
      "\n",
      "[I 2023-08-25 19:00:30,822] Trial 4 finished with value: 0.8699166763239821 and parameters: {'n_estimators': 410, 'max_depth': 5, 'learning_rate': 0.19200039870547309, 'subsample': 0.918387846131999, 'num_leaves': 20, 'min_data_in_leaf': 4200, 'lambda_l1': 15, 'lambda_l2': 30, 'min_gain_to_split': 8.687434489000276, 'bagging_fraction': 0.30000000000000004, 'bagging_freq': 1, 'feature_fraction': 0.9}. Best is trial 1 with value: 0.8757700470861631.\n",
      "/local_disk0/.ephemeral_nfs/envs/pythonEnv-fe59e063-8055-439a-b98f-efa6cbb47554/lib/python3.9/site-packages/optuna/distributions.py:685: UserWarning:\n",
      "\n",
      "The distribution is specified by [0.2, 0.95] and step=0.1, but the range is not divisible by `step`. It will be replaced by [0.2, 0.9].\n",
      "\n",
      "[19:00:31] WARNING: ../src/learner.cc:627: \n",
      "Parameters: { \"bagging_fraction\", \"bagging_freq\", \"feature_fraction\", \"lambda_l1\", \"lambda_l2\", \"min_data_in_leaf\", \"min_gain_to_split\", \"num_leaves\" } might not be used.\n",
      "\n",
      "  This could be a false alarm, with some parameters getting used by language bindings but\n",
      "  then being mistakenly passed down to XGBoost core, or some parameter actually being used\n",
      "  but getting flagged wrongly here. Please open an issue if you find any such cases.\n",
      "\n",
      "\n",
      "[I 2023-08-25 19:00:44,444] Trial 5 finished with value: 0.876377482235369 and parameters: {'n_estimators': 220, 'max_depth': 12, 'learning_rate': 0.1898500821483316, 'subsample': 0.5927766286534104, 'num_leaves': 80, 'min_data_in_leaf': 1100, 'lambda_l1': 50, 'lambda_l2': 10, 'min_gain_to_split': 10.4784464645851, 'bagging_fraction': 0.7, 'bagging_freq': 1, 'feature_fraction': 0.5}. Best is trial 5 with value: 0.876377482235369.\n",
      "/local_disk0/.ephemeral_nfs/envs/pythonEnv-fe59e063-8055-439a-b98f-efa6cbb47554/lib/python3.9/site-packages/optuna/distributions.py:685: UserWarning:\n",
      "\n",
      "The distribution is specified by [0.2, 0.95] and step=0.1, but the range is not divisible by `step`. It will be replaced by [0.2, 0.9].\n",
      "\n",
      "[19:00:45] WARNING: ../src/learner.cc:627: \n",
      "Parameters: { \"bagging_fraction\", \"bagging_freq\", \"feature_fraction\", \"lambda_l1\", \"lambda_l2\", \"min_data_in_leaf\", \"min_gain_to_split\", \"num_leaves\" } might not be used.\n",
      "\n",
      "  This could be a false alarm, with some parameters getting used by language bindings but\n",
      "  then being mistakenly passed down to XGBoost core, or some parameter actually being used\n",
      "  but getting flagged wrongly here. Please open an issue if you find any such cases.\n",
      "\n",
      "\n",
      "[I 2023-08-25 19:00:55,202] Trial 6 finished with value: 0.8308250702781974 and parameters: {'n_estimators': 500, 'max_depth': 2, 'learning_rate': 0.2675794234544608, 'subsample': 0.3745045029439686, 'num_leaves': 10, 'min_data_in_leaf': 6700, 'lambda_l1': 35, 'lambda_l2': 70, 'min_gain_to_split': 1.8143859273366048, 'bagging_fraction': 0.7, 'bagging_freq': 1, 'feature_fraction': 0.7}. Best is trial 5 with value: 0.876377482235369.\n",
      "/local_disk0/.ephemeral_nfs/envs/pythonEnv-fe59e063-8055-439a-b98f-efa6cbb47554/lib/python3.9/site-packages/optuna/distributions.py:685: UserWarning:\n",
      "\n",
      "The distribution is specified by [0.2, 0.95] and step=0.1, but the range is not divisible by `step`. It will be replaced by [0.2, 0.9].\n",
      "\n",
      "[19:00:55] WARNING: ../src/learner.cc:627: \n",
      "Parameters: { \"bagging_fraction\", \"bagging_freq\", \"feature_fraction\", \"lambda_l1\", \"lambda_l2\", \"min_data_in_leaf\", \"min_gain_to_split\", \"num_leaves\" } might not be used.\n",
      "\n",
      "  This could be a false alarm, with some parameters getting used by language bindings but\n",
      "  then being mistakenly passed down to XGBoost core, or some parameter actually being used\n",
      "  but getting flagged wrongly here. Please open an issue if you find any such cases.\n",
      "\n",
      "\n",
      "[I 2023-08-25 19:01:17,702] Trial 7 finished with value: 0.8756425033637552 and parameters: {'n_estimators': 530, 'max_depth': 11, 'learning_rate': 0.05757762422273778, 'subsample': 0.9818194865915726, 'num_leaves': 140, 'min_data_in_leaf': 7200, 'lambda_l1': 20, 'lambda_l2': 90, 'min_gain_to_split': 6.965501224571133, 'bagging_fraction': 0.5, 'bagging_freq': 1, 'feature_fraction': 0.8}. Best is trial 5 with value: 0.876377482235369.\n",
      "/local_disk0/.ephemeral_nfs/envs/pythonEnv-fe59e063-8055-439a-b98f-efa6cbb47554/lib/python3.9/site-packages/optuna/distributions.py:685: UserWarning:\n",
      "\n",
      "The distribution is specified by [0.2, 0.95] and step=0.1, but the range is not divisible by `step`. It will be replaced by [0.2, 0.9].\n",
      "\n",
      "[19:01:18] WARNING: ../src/learner.cc:627: \n",
      "Parameters: { \"bagging_fraction\", \"bagging_freq\", \"feature_fraction\", \"lambda_l1\", \"lambda_l2\", \"min_data_in_leaf\", \"min_gain_to_split\", \"num_leaves\" } might not be used.\n",
      "\n",
      "  This could be a false alarm, with some parameters getting used by language bindings but\n",
      "  then being mistakenly passed down to XGBoost core, or some parameter actually being used\n",
      "  but getting flagged wrongly here. Please open an issue if you find any such cases.\n",
      "\n",
      "\n",
      "[I 2023-08-25 19:01:34,440] Trial 8 finished with value: 0.8661896622864242 and parameters: {'n_estimators': 740, 'max_depth': 5, 'learning_rate': 0.18575145161656637, 'subsample': 0.36615647966473897, 'num_leaves': 40, 'min_data_in_leaf': 600, 'lambda_l1': 90, 'lambda_l2': 90, 'min_gain_to_split': 11.466218309239759, 'bagging_fraction': 0.30000000000000004, 'bagging_freq': 1, 'feature_fraction': 0.9}. Best is trial 5 with value: 0.876377482235369.\n",
      "/local_disk0/.ephemeral_nfs/envs/pythonEnv-fe59e063-8055-439a-b98f-efa6cbb47554/lib/python3.9/site-packages/optuna/distributions.py:685: UserWarning:\n",
      "\n",
      "The distribution is specified by [0.2, 0.95] and step=0.1, but the range is not divisible by `step`. It will be replaced by [0.2, 0.9].\n",
      "\n",
      "[19:01:35] WARNING: ../src/learner.cc:627: \n",
      "Parameters: { \"bagging_fraction\", \"bagging_freq\", \"feature_fraction\", \"lambda_l1\", \"lambda_l2\", \"min_data_in_leaf\", \"min_gain_to_split\", \"num_leaves\" } might not be used.\n",
      "\n",
      "  This could be a false alarm, with some parameters getting used by language bindings but\n",
      "  then being mistakenly passed down to XGBoost core, or some parameter actually being used\n",
      "  but getting flagged wrongly here. Please open an issue if you find any such cases.\n",
      "\n",
      "\n",
      "[I 2023-08-25 19:02:15,167] Trial 9 finished with value: 0.8761301080866942 and parameters: {'n_estimators': 790, 'max_depth': 14, 'learning_rate': 0.24785087645862036, 'subsample': 0.8192125344661136, 'num_leaves': 170, 'min_data_in_leaf': 5200, 'lambda_l1': 35, 'lambda_l2': 75, 'min_gain_to_split': 13.167295114901743, 'bagging_fraction': 0.5, 'bagging_freq': 1, 'feature_fraction': 0.7}. Best is trial 5 with value: 0.876377482235369.\n",
      "/local_disk0/.ephemeral_nfs/envs/pythonEnv-fe59e063-8055-439a-b98f-efa6cbb47554/lib/python3.9/site-packages/optuna/distributions.py:685: UserWarning:\n",
      "\n",
      "The distribution is specified by [0.2, 0.95] and step=0.1, but the range is not divisible by `step`. It will be replaced by [0.2, 0.9].\n",
      "\n",
      "[19:02:15] WARNING: ../src/learner.cc:627: \n",
      "Parameters: { \"bagging_fraction\", \"bagging_freq\", \"feature_fraction\", \"lambda_l1\", \"lambda_l2\", \"min_data_in_leaf\", \"min_gain_to_split\", \"num_leaves\" } might not be used.\n",
      "\n",
      "  This could be a false alarm, with some parameters getting used by language bindings but\n",
      "  then being mistakenly passed down to XGBoost core, or some parameter actually being used\n",
      "  but getting flagged wrongly here. Please open an issue if you find any such cases.\n",
      "\n",
      "\n",
      "[I 2023-08-25 19:02:20,782] Trial 10 finished with value: -1.7434815443172424 and parameters: {'n_estimators': 50, 'max_depth': 16, 'learning_rate': 0.011426584078007673, 'subsample': 0.25270424121775403, 'num_leaves': 200, 'min_data_in_leaf': 9500, 'lambda_l1': 70, 'lambda_l2': 5, 'min_gain_to_split': 10.99811356919846, 'bagging_fraction': 0.9, 'bagging_freq': 1, 'feature_fraction': 0.2}. Best is trial 5 with value: 0.876377482235369.\n",
      "/local_disk0/.ephemeral_nfs/envs/pythonEnv-fe59e063-8055-439a-b98f-efa6cbb47554/lib/python3.9/site-packages/optuna/distributions.py:685: UserWarning:\n",
      "\n",
      "The distribution is specified by [0.2, 0.95] and step=0.1, but the range is not divisible by `step`. It will be replaced by [0.2, 0.9].\n",
      "\n",
      "[19:02:21] WARNING: ../src/learner.cc:627: \n",
      "Parameters: { \"bagging_fraction\", \"bagging_freq\", \"feature_fraction\", \"lambda_l1\", \"lambda_l2\", \"min_data_in_leaf\", \"min_gain_to_split\", \"num_leaves\" } might not be used.\n",
      "\n",
      "  This could be a false alarm, with some parameters getting used by language bindings but\n",
      "  then being mistakenly passed down to XGBoost core, or some parameter actually being used\n",
      "  but getting flagged wrongly here. Please open an issue if you find any such cases.\n",
      "\n",
      "\n",
      "[I 2023-08-25 19:03:04,786] Trial 11 finished with value: 0.8744161069077202 and parameters: {'n_estimators': 940, 'max_depth': 13, 'learning_rate': 0.2615557034164751, 'subsample': 0.6650783228998361, 'num_leaves': 190, 'min_data_in_leaf': 3800, 'lambda_l1': 50, 'lambda_l2': 35, 'min_gain_to_split': 14.066464582560272, 'bagging_fraction': 0.5, 'bagging_freq': 1, 'feature_fraction': 0.5}. Best is trial 5 with value: 0.876377482235369.\n",
      "/local_disk0/.ephemeral_nfs/envs/pythonEnv-fe59e063-8055-439a-b98f-efa6cbb47554/lib/python3.9/site-packages/optuna/distributions.py:685: UserWarning:\n",
      "\n",
      "The distribution is specified by [0.2, 0.95] and step=0.1, but the range is not divisible by `step`. It will be replaced by [0.2, 0.9].\n",
      "\n",
      "[19:03:05] WARNING: ../src/learner.cc:627: \n",
      "Parameters: { \"bagging_fraction\", \"bagging_freq\", \"feature_fraction\", \"lambda_l1\", \"lambda_l2\", \"min_data_in_leaf\", \"min_gain_to_split\", \"num_leaves\" } might not be used.\n",
      "\n",
      "  This could be a false alarm, with some parameters getting used by language bindings but\n",
      "  then being mistakenly passed down to XGBoost core, or some parameter actually being used\n",
      "  but getting flagged wrongly here. Please open an issue if you find any such cases.\n",
      "\n",
      "\n",
      "[I 2023-08-25 19:03:20,991] Trial 12 finished with value: 0.8715786355593271 and parameters: {'n_estimators': 280, 'max_depth': 13, 'learning_rate': 0.23155790983967403, 'subsample': 0.5916277939908432, 'num_leaves': 90, 'min_data_in_leaf': 3100, 'lambda_l1': 35, 'lambda_l2': 0, 'min_gain_to_split': 12.554165854060734, 'bagging_fraction': 0.4, 'bagging_freq': 1, 'feature_fraction': 0.4}. Best is trial 5 with value: 0.876377482235369.\n",
      "/local_disk0/.ephemeral_nfs/envs/pythonEnv-fe59e063-8055-439a-b98f-efa6cbb47554/lib/python3.9/site-packages/optuna/distributions.py:685: UserWarning:\n",
      "\n",
      "The distribution is specified by [0.2, 0.95] and step=0.1, but the range is not divisible by `step`. It will be replaced by [0.2, 0.9].\n",
      "\n",
      "[19:03:21] WARNING: ../src/learner.cc:627: \n",
      "Parameters: { \"bagging_fraction\", \"bagging_freq\", \"feature_fraction\", \"lambda_l1\", \"lambda_l2\", \"min_data_in_leaf\", \"min_gain_to_split\", \"num_leaves\" } might not be used.\n",
      "\n",
      "  This could be a false alarm, with some parameters getting used by language bindings but\n",
      "  then being mistakenly passed down to XGBoost core, or some parameter actually being used\n",
      "  but getting flagged wrongly here. Please open an issue if you find any such cases.\n",
      "\n",
      "\n",
      "[I 2023-08-25 19:03:37,484] Trial 13 finished with value: 0.8766817384106285 and parameters: {'n_estimators': 240, 'max_depth': 16, 'learning_rate': 0.29781611133718666, 'subsample': 0.7946709375398243, 'num_leaves': 150, 'min_data_in_leaf': 300, 'lambda_l1': 65, 'lambda_l2': 40, 'min_gain_to_split': 10.443425638894228, 'bagging_fraction': 0.2, 'bagging_freq': 1, 'feature_fraction': 0.6000000000000001}. Best is trial 13 with value: 0.8766817384106285.\n",
      "/local_disk0/.ephemeral_nfs/envs/pythonEnv-fe59e063-8055-439a-b98f-efa6cbb47554/lib/python3.9/site-packages/optuna/distributions.py:685: UserWarning:\n",
      "\n",
      "The distribution is specified by [0.2, 0.95] and step=0.1, but the range is not divisible by `step`. It will be replaced by [0.2, 0.9].\n",
      "\n",
      "[19:03:37] WARNING: ../src/learner.cc:627: \n",
      "Parameters: { \"bagging_fraction\", \"bagging_freq\", \"feature_fraction\", \"lambda_l1\", \"lambda_l2\", \"min_data_in_leaf\", \"min_gain_to_split\", \"num_leaves\" } might not be used.\n",
      "\n",
      "  This could be a false alarm, with some parameters getting used by language bindings but\n",
      "  then being mistakenly passed down to XGBoost core, or some parameter actually being used\n",
      "  but getting flagged wrongly here. Please open an issue if you find any such cases.\n",
      "\n",
      "\n",
      "[I 2023-08-25 19:03:54,746] Trial 14 finished with value: 0.8742043971403486 and parameters: {'n_estimators': 250, 'max_depth': 16, 'learning_rate': 0.2997319394904292, 'subsample': 0.7248337120528541, 'num_leaves': 120, 'min_data_in_leaf': 500, 'lambda_l1': 75, 'lambda_l2': 20, 'min_gain_to_split': 10.30290438460307, 'bagging_fraction': 0.2, 'bagging_freq': 1, 'feature_fraction': 0.6000000000000001}. Best is trial 13 with value: 0.8766817384106285.\n",
      "/local_disk0/.ephemeral_nfs/envs/pythonEnv-fe59e063-8055-439a-b98f-efa6cbb47554/lib/python3.9/site-packages/optuna/distributions.py:685: UserWarning:\n",
      "\n",
      "The distribution is specified by [0.2, 0.95] and step=0.1, but the range is not divisible by `step`. It will be replaced by [0.2, 0.9].\n",
      "\n",
      "[19:03:55] WARNING: ../src/learner.cc:627: \n",
      "Parameters: { \"bagging_fraction\", \"bagging_freq\", \"feature_fraction\", \"lambda_l1\", \"lambda_l2\", \"min_data_in_leaf\", \"min_gain_to_split\", \"num_leaves\" } might not be used.\n",
      "\n",
      "  This could be a false alarm, with some parameters getting used by language bindings but\n",
      "  then being mistakenly passed down to XGBoost core, or some parameter actually being used\n",
      "  but getting flagged wrongly here. Please open an issue if you find any such cases.\n",
      "\n",
      "\n",
      "[I 2023-08-25 19:04:07,424] Trial 15 finished with value: 0.8755632838939285 and parameters: {'n_estimators': 210, 'max_depth': 12, 'learning_rate': 0.2255008049182879, 'subsample': 0.6133895134062468, 'num_leaves': 160, 'min_data_in_leaf': 1900, 'lambda_l1': 65, 'lambda_l2': 45, 'min_gain_to_split': 9.846825169770739, 'bagging_fraction': 0.2, 'bagging_freq': 1, 'feature_fraction': 0.4}. Best is trial 13 with value: 0.8766817384106285.\n",
      "/local_disk0/.ephemeral_nfs/envs/pythonEnv-fe59e063-8055-439a-b98f-efa6cbb47554/lib/python3.9/site-packages/optuna/distributions.py:685: UserWarning:\n",
      "\n",
      "The distribution is specified by [0.2, 0.95] and step=0.1, but the range is not divisible by `step`. It will be replaced by [0.2, 0.9].\n",
      "\n",
      "[19:04:08] WARNING: ../src/learner.cc:627: \n",
      "Parameters: { \"bagging_fraction\", \"bagging_freq\", \"feature_fraction\", \"lambda_l1\", \"lambda_l2\", \"min_data_in_leaf\", \"min_gain_to_split\", \"num_leaves\" } might not be used.\n",
      "\n",
      "  This could be a false alarm, with some parameters getting used by language bindings but\n",
      "  then being mistakenly passed down to XGBoost core, or some parameter actually being used\n",
      "  but getting flagged wrongly here. Please open an issue if you find any such cases.\n",
      "\n",
      "\n",
      "[I 2023-08-25 19:04:29,496] Trial 16 finished with value: 0.875592348027118 and parameters: {'n_estimators': 360, 'max_depth': 15, 'learning_rate': 0.14091489952236036, 'subsample': 0.8377973780676836, 'num_leaves': 100, 'min_data_in_leaf': 200, 'lambda_l1': 60, 'lambda_l2': 20, 'min_gain_to_split': 12.463784025045955, 'bagging_fraction': 0.9, 'bagging_freq': 1, 'feature_fraction': 0.6000000000000001}. Best is trial 13 with value: 0.8766817384106285.\n",
      "/local_disk0/.ephemeral_nfs/envs/pythonEnv-fe59e063-8055-439a-b98f-efa6cbb47554/lib/python3.9/site-packages/optuna/distributions.py:685: UserWarning:\n",
      "\n",
      "The distribution is specified by [0.2, 0.95] and step=0.1, but the range is not divisible by `step`. It will be replaced by [0.2, 0.9].\n",
      "\n",
      "[19:04:30] WARNING: ../src/learner.cc:627: \n",
      "Parameters: { \"bagging_fraction\", \"bagging_freq\", \"feature_fraction\", \"lambda_l1\", \"lambda_l2\", \"min_data_in_leaf\", \"min_gain_to_split\", \"num_leaves\" } might not be used.\n",
      "\n",
      "  This could be a false alarm, with some parameters getting used by language bindings but\n",
      "  then being mistakenly passed down to XGBoost core, or some parameter actually being used\n",
      "  but getting flagged wrongly here. Please open an issue if you find any such cases.\n",
      "\n",
      "\n",
      "[I 2023-08-25 19:04:37,364] Trial 17 finished with value: 0.8720042945524632 and parameters: {'n_estimators': 150, 'max_depth': 7, 'learning_rate': 0.2914945435536542, 'subsample': 0.7091330083569751, 'num_leaves': 70, 'min_data_in_leaf': 2700, 'lambda_l1': 55, 'lambda_l2': 15, 'min_gain_to_split': 5.490135454223643, 'bagging_fraction': 0.6000000000000001, 'bagging_freq': 1, 'feature_fraction': 0.4}. Best is trial 13 with value: 0.8766817384106285.\n",
      "/local_disk0/.ephemeral_nfs/envs/pythonEnv-fe59e063-8055-439a-b98f-efa6cbb47554/lib/python3.9/site-packages/optuna/distributions.py:685: UserWarning:\n",
      "\n",
      "The distribution is specified by [0.2, 0.95] and step=0.1, but the range is not divisible by `step`. It will be replaced by [0.2, 0.9].\n",
      "\n",
      "[19:04:37] WARNING: ../src/learner.cc:627: \n",
      "Parameters: { \"bagging_fraction\", \"bagging_freq\", \"feature_fraction\", \"lambda_l1\", \"lambda_l2\", \"min_data_in_leaf\", \"min_gain_to_split\", \"num_leaves\" } might not be used.\n",
      "\n",
      "  This could be a false alarm, with some parameters getting used by language bindings but\n",
      "  then being mistakenly passed down to XGBoost core, or some parameter actually being used\n",
      "  but getting flagged wrongly here. Please open an issue if you find any such cases.\n",
      "\n",
      "\n",
      "[I 2023-08-25 19:04:42,632] Trial 18 finished with value: 0.8688992718437217 and parameters: {'n_estimators': 20, 'max_depth': 11, 'learning_rate': 0.22292870039342386, 'subsample': 0.5310735802043078, 'num_leaves': 150, 'min_data_in_leaf': 1400, 'lambda_l1': 80, 'lambda_l2': 50, 'min_gain_to_split': 9.43906126343468, 'bagging_fraction': 0.4, 'bagging_freq': 1, 'feature_fraction': 0.5}. Best is trial 13 with value: 0.8766817384106285.\n",
      "/local_disk0/.ephemeral_nfs/envs/pythonEnv-fe59e063-8055-439a-b98f-efa6cbb47554/lib/python3.9/site-packages/optuna/distributions.py:685: UserWarning:\n",
      "\n",
      "The distribution is specified by [0.2, 0.95] and step=0.1, but the range is not divisible by `step`. It will be replaced by [0.2, 0.9].\n",
      "\n",
      "[19:04:43] WARNING: ../src/learner.cc:627: \n",
      "Parameters: { \"bagging_fraction\", \"bagging_freq\", \"feature_fraction\", \"lambda_l1\", \"lambda_l2\", \"min_data_in_leaf\", \"min_gain_to_split\", \"num_leaves\" } might not be used.\n",
      "\n",
      "  This could be a false alarm, with some parameters getting used by language bindings but\n",
      "  then being mistakenly passed down to XGBoost core, or some parameter actually being used\n",
      "  but getting flagged wrongly here. Please open an issue if you find any such cases.\n",
      "\n",
      "\n",
      "[I 2023-08-25 19:05:08,300] Trial 19 finished with value: 0.8747122242609777 and parameters: {'n_estimators': 410, 'max_depth': 16, 'learning_rate': 0.15275268681136722, 'subsample': 0.6357972467022222, 'num_leaves': 180, 'min_data_in_leaf': 9800, 'lambda_l1': 45, 'lambda_l2': 35, 'min_gain_to_split': 11.677106715951206, 'bagging_fraction': 0.8, 'bagging_freq': 1, 'feature_fraction': 0.2}. Best is trial 13 with value: 0.8766817384106285.\n",
      "/local_disk0/.ephemeral_nfs/envs/pythonEnv-fe59e063-8055-439a-b98f-efa6cbb47554/lib/python3.9/site-packages/optuna/distributions.py:685: UserWarning:\n",
      "\n",
      "The distribution is specified by [0.2, 0.95] and step=0.1, but the range is not divisible by `step`. It will be replaced by [0.2, 0.9].\n",
      "\n",
      "[19:05:08] WARNING: ../src/learner.cc:627: \n",
      "Parameters: { \"bagging_fraction\", \"bagging_freq\", \"feature_fraction\", \"lambda_l1\", \"lambda_l2\", \"min_data_in_leaf\", \"min_gain_to_split\", \"num_leaves\" } might not be used.\n",
      "\n",
      "  This could be a false alarm, with some parameters\n",
      "\n",
      "*** WARNING: max output size exceeded, skipping output. ***\n",
      "\n",
      "arner.cc:627: \n",
      "Parameters: { \"bagging_fraction\", \"bagging_freq\", \"feature_fraction\", \"lambda_l1\", \"lambda_l2\", \"min_data_in_leaf\", \"min_gain_to_split\", \"num_leaves\" } might not be used.\n",
      "\n",
      "  This could be a false alarm, with some parameters getting used by language bindings but\n",
      "  then being mistakenly passed down to XGBoost core, or some parameter actually being used\n",
      "  but getting flagged wrongly here. Please open an issue if you find any such cases.\n",
      "\n",
      "\n",
      "[I 2023-08-25 19:50:54,644] Trial 146 finished with value: 0.8734839586391561 and parameters: {'n_estimators': 450, 'max_depth': 9, 'learning_rate': 0.2972462680880425, 'subsample': 0.8064600371269416, 'num_leaves': 60, 'min_data_in_leaf': 800, 'lambda_l1': 50, 'lambda_l2': 5, 'min_gain_to_split': 7.061306950325946, 'bagging_fraction': 0.4, 'bagging_freq': 1, 'feature_fraction': 0.6000000000000001}. Best is trial 138 with value: 0.8772236252544766.\n",
      "/local_disk0/.ephemeral_nfs/envs/pythonEnv-fe59e063-8055-439a-b98f-efa6cbb47554/lib/python3.9/site-packages/optuna/distributions.py:685: UserWarning:\n",
      "\n",
      "The distribution is specified by [0.2, 0.95] and step=0.1, but the range is not divisible by `step`. It will be replaced by [0.2, 0.9].\n",
      "\n",
      "[19:50:55] WARNING: ../src/learner.cc:627: \n",
      "Parameters: { \"bagging_fraction\", \"bagging_freq\", \"feature_fraction\", \"lambda_l1\", \"lambda_l2\", \"min_data_in_leaf\", \"min_gain_to_split\", \"num_leaves\" } might not be used.\n",
      "\n",
      "  This could be a false alarm, with some parameters getting used by language bindings but\n",
      "  then being mistakenly passed down to XGBoost core, or some parameter actually being used\n",
      "  but getting flagged wrongly here. Please open an issue if you find any such cases.\n",
      "\n",
      "\n",
      "[I 2023-08-25 19:51:15,668] Trial 147 finished with value: 0.8755368128412739 and parameters: {'n_estimators': 430, 'max_depth': 12, 'learning_rate': 0.285122342135048, 'subsample': 0.750598590100104, 'num_leaves': 30, 'min_data_in_leaf': 500, 'lambda_l1': 55, 'lambda_l2': 0, 'min_gain_to_split': 6.814000326744089, 'bagging_fraction': 0.4, 'bagging_freq': 1, 'feature_fraction': 0.6000000000000001}. Best is trial 138 with value: 0.8772236252544766.\n",
      "/local_disk0/.ephemeral_nfs/envs/pythonEnv-fe59e063-8055-439a-b98f-efa6cbb47554/lib/python3.9/site-packages/optuna/distributions.py:685: UserWarning:\n",
      "\n",
      "The distribution is specified by [0.2, 0.95] and step=0.1, but the range is not divisible by `step`. It will be replaced by [0.2, 0.9].\n",
      "\n",
      "[19:51:16] WARNING: ../src/learner.cc:627: \n",
      "Parameters: { \"bagging_fraction\", \"bagging_freq\", \"feature_fraction\", \"lambda_l1\", \"lambda_l2\", \"min_data_in_leaf\", \"min_gain_to_split\", \"num_leaves\" } might not be used.\n",
      "\n",
      "  This could be a false alarm, with some parameters getting used by language bindings but\n",
      "  then being mistakenly passed down to XGBoost core, or some parameter actually being used\n",
      "  but getting flagged wrongly here. Please open an issue if you find any such cases.\n",
      "\n",
      "\n",
      "[I 2023-08-25 19:51:34,469] Trial 148 finished with value: 0.8752059520425727 and parameters: {'n_estimators': 380, 'max_depth': 12, 'learning_rate': 0.29921159169820727, 'subsample': 0.7832576397587429, 'num_leaves': 20, 'min_data_in_leaf': 700, 'lambda_l1': 55, 'lambda_l2': 20, 'min_gain_to_split': 8.71793752754529, 'bagging_fraction': 0.5, 'bagging_freq': 1, 'feature_fraction': 0.7}. Best is trial 138 with value: 0.8772236252544766.\n",
      "/local_disk0/.ephemeral_nfs/envs/pythonEnv-fe59e063-8055-439a-b98f-efa6cbb47554/lib/python3.9/site-packages/optuna/distributions.py:685: UserWarning:\n",
      "\n",
      "The distribution is specified by [0.2, 0.95] and step=0.1, but the range is not divisible by `step`. It will be replaced by [0.2, 0.9].\n",
      "\n",
      "[19:51:34] WARNING: ../src/learner.cc:627: \n",
      "Parameters: { \"bagging_fraction\", \"bagging_freq\", \"feature_fraction\", \"lambda_l1\", \"lambda_l2\", \"min_data_in_leaf\", \"min_gain_to_split\", \"num_leaves\" } might not be used.\n",
      "\n",
      "  This could be a false alarm, with some parameters getting used by language bindings but\n",
      "  then being mistakenly passed down to XGBoost core, or some parameter actually being used\n",
      "  but getting flagged wrongly here. Please open an issue if you find any such cases.\n",
      "\n",
      "\n",
      "[I 2023-08-25 19:51:55,991] Trial 149 finished with value: 0.8739343693878029 and parameters: {'n_estimators': 330, 'max_depth': 16, 'learning_rate': 0.2929878593028206, 'subsample': 0.7063357238853182, 'num_leaves': 40, 'min_data_in_leaf': 1500, 'lambda_l1': 60, 'lambda_l2': 10, 'min_gain_to_split': 8.276449300769482, 'bagging_fraction': 0.4, 'bagging_freq': 1, 'feature_fraction': 0.6000000000000001}. Best is trial 138 with value: 0.8772236252544766.\n",
      "/local_disk0/.ephemeral_nfs/envs/pythonEnv-fe59e063-8055-439a-b98f-efa6cbb47554/lib/python3.9/site-packages/optuna/distributions.py:685: UserWarning:\n",
      "\n",
      "The distribution is specified by [0.2, 0.95] and step=0.1, but the range is not divisible by `step`. It will be replaced by [0.2, 0.9].\n",
      "\n",
      "[19:51:56] WARNING: ../src/learner.cc:627: \n",
      "Parameters: { \"bagging_fraction\", \"bagging_freq\", \"feature_fraction\", \"lambda_l1\", \"lambda_l2\", \"min_data_in_leaf\", \"min_gain_to_split\", \"num_leaves\" } might not be used.\n",
      "\n",
      "  This could be a false alarm, with some parameters getting used by language bindings but\n",
      "  then being mistakenly passed down to XGBoost core, or some parameter actually being used\n",
      "  but getting flagged wrongly here. Please open an issue if you find any such cases.\n",
      "\n",
      "\n",
      "[I 2023-08-25 19:52:15,288] Trial 150 finished with value: 0.8746761258795003 and parameters: {'n_estimators': 410, 'max_depth': 11, 'learning_rate': 0.2811794859190701, 'subsample': 0.7363617454273482, 'num_leaves': 150, 'min_data_in_leaf': 200, 'lambda_l1': 45, 'lambda_l2': 0, 'min_gain_to_split': 7.2069724028700355, 'bagging_fraction': 0.2, 'bagging_freq': 1, 'feature_fraction': 0.30000000000000004}. Best is trial 138 with value: 0.8772236252544766.\n",
      "/local_disk0/.ephemeral_nfs/envs/pythonEnv-fe59e063-8055-439a-b98f-efa6cbb47554/lib/python3.9/site-packages/optuna/distributions.py:685: UserWarning:\n",
      "\n",
      "The distribution is specified by [0.2, 0.95] and step=0.1, but the range is not divisible by `step`. It will be replaced by [0.2, 0.9].\n",
      "\n",
      "[19:52:15] WARNING: ../src/learner.cc:627: \n",
      "Parameters: { \"bagging_fraction\", \"bagging_freq\", \"feature_fraction\", \"lambda_l1\", \"lambda_l2\", \"min_data_in_leaf\", \"min_gain_to_split\", \"num_leaves\" } might not be used.\n",
      "\n",
      "  This could be a false alarm, with some parameters getting used by language bindings but\n",
      "  then being mistakenly passed down to XGBoost core, or some parameter actually being used\n",
      "  but getting flagged wrongly here. Please open an issue if you find any such cases.\n",
      "\n",
      "\n",
      "[I 2023-08-25 19:52:38,363] Trial 151 finished with value: 0.8765594925091036 and parameters: {'n_estimators': 500, 'max_depth': 12, 'learning_rate': 0.2724286500334832, 'subsample': 0.7710707518289781, 'num_leaves': 10, 'min_data_in_leaf': 900, 'lambda_l1': 75, 'lambda_l2': 25, 'min_gain_to_split': 7.881220883708791, 'bagging_fraction': 0.30000000000000004, 'bagging_freq': 1, 'feature_fraction': 0.5}. Best is trial 138 with value: 0.8772236252544766.\n",
      "/local_disk0/.ephemeral_nfs/envs/pythonEnv-fe59e063-8055-439a-b98f-efa6cbb47554/lib/python3.9/site-packages/optuna/distributions.py:685: UserWarning:\n",
      "\n",
      "The distribution is specified by [0.2, 0.95] and step=0.1, but the range is not divisible by `step`. It will be replaced by [0.2, 0.9].\n",
      "\n",
      "[19:52:38] WARNING: ../src/learner.cc:627: \n",
      "Parameters: { \"bagging_fraction\", \"bagging_freq\", \"feature_fraction\", \"lambda_l1\", \"lambda_l2\", \"min_data_in_leaf\", \"min_gain_to_split\", \"num_leaves\" } might not be used.\n",
      "\n",
      "  This could be a false alarm, with some parameters getting used by language bindings but\n",
      "  then being mistakenly passed down to XGBoost core, or some parameter actually being used\n",
      "  but getting flagged wrongly here. Please open an issue if you find any such cases.\n",
      "\n",
      "\n",
      "[I 2023-08-25 19:52:59,351] Trial 152 finished with value: 0.8757043000606896 and parameters: {'n_estimators': 440, 'max_depth': 12, 'learning_rate': 0.2718980904741242, 'subsample': 0.7897969992904105, 'num_leaves': 70, 'min_data_in_leaf': 900, 'lambda_l1': 80, 'lambda_l2': 25, 'min_gain_to_split': 7.5191082539882474, 'bagging_fraction': 0.30000000000000004, 'bagging_freq': 1, 'feature_fraction': 0.5}. Best is trial 138 with value: 0.8772236252544766.\n",
      "/local_disk0/.ephemeral_nfs/envs/pythonEnv-fe59e063-8055-439a-b98f-efa6cbb47554/lib/python3.9/site-packages/optuna/distributions.py:685: UserWarning:\n",
      "\n",
      "The distribution is specified by [0.2, 0.95] and step=0.1, but the range is not divisible by `step`. It will be replaced by [0.2, 0.9].\n",
      "\n",
      "[19:53:00] WARNING: ../src/learner.cc:627: \n",
      "Parameters: { \"bagging_fraction\", \"bagging_freq\", \"feature_fraction\", \"lambda_l1\", \"lambda_l2\", \"min_data_in_leaf\", \"min_gain_to_split\", \"num_leaves\" } might not be used.\n",
      "\n",
      "  This could be a false alarm, with some parameters getting used by language bindings but\n",
      "  then being mistakenly passed down to XGBoost core, or some parameter actually being used\n",
      "  but getting flagged wrongly here. Please open an issue if you find any such cases.\n",
      "\n",
      "\n",
      "[I 2023-08-25 19:53:23,368] Trial 153 finished with value: 0.8743348409513422 and parameters: {'n_estimators': 470, 'max_depth': 13, 'learning_rate': 0.18187222576722964, 'subsample': 0.5985709647620931, 'num_leaves': 50, 'min_data_in_leaf': 600, 'lambda_l1': 65, 'lambda_l2': 25, 'min_gain_to_split': 8.000468557792306, 'bagging_fraction': 0.4, 'bagging_freq': 1, 'feature_fraction': 0.6000000000000001}. Best is trial 138 with value: 0.8772236252544766.\n",
      "/local_disk0/.ephemeral_nfs/envs/pythonEnv-fe59e063-8055-439a-b98f-efa6cbb47554/lib/python3.9/site-packages/optuna/distributions.py:685: UserWarning:\n",
      "\n",
      "The distribution is specified by [0.2, 0.95] and step=0.1, but the range is not divisible by `step`. It will be replaced by [0.2, 0.9].\n",
      "\n",
      "[19:53:23] WARNING: ../src/learner.cc:627: \n",
      "Parameters: { \"bagging_fraction\", \"bagging_freq\", \"feature_fraction\", \"lambda_l1\", \"lambda_l2\", \"min_data_in_leaf\", \"min_gain_to_split\", \"num_leaves\" } might not be used.\n",
      "\n",
      "  This could be a false alarm, with some parameters getting used by language bindings but\n",
      "  then being mistakenly passed down to XGBoost core, or some parameter actually being used\n",
      "  but getting flagged wrongly here. Please open an issue if you find any such cases.\n",
      "\n",
      "\n",
      "[I 2023-08-25 19:53:46,444] Trial 154 finished with value: 0.8764303587242243 and parameters: {'n_estimators': 500, 'max_depth': 12, 'learning_rate': 0.28603429687783155, 'subsample': 0.7732263212070746, 'num_leaves': 50, 'min_data_in_leaf': 400, 'lambda_l1': 60, 'lambda_l2': 15, 'min_gain_to_split': 7.0208539390396165, 'bagging_fraction': 0.30000000000000004, 'bagging_freq': 1, 'feature_fraction': 0.5}. Best is trial 138 with value: 0.8772236252544766.\n",
      "/local_disk0/.ephemeral_nfs/envs/pythonEnv-fe59e063-8055-439a-b98f-efa6cbb47554/lib/python3.9/site-packages/optuna/distributions.py:685: UserWarning:\n",
      "\n",
      "The distribution is specified by [0.2, 0.95] and step=0.1, but the range is not divisible by `step`. It will be replaced by [0.2, 0.9].\n",
      "\n",
      "[19:53:46] WARNING: ../src/learner.cc:627: \n",
      "Parameters: { \"bagging_fraction\", \"bagging_freq\", \"feature_fraction\", \"lambda_l1\", \"lambda_l2\", \"min_data_in_leaf\", \"min_gain_to_split\", \"num_leaves\" } might not be used.\n",
      "\n",
      "  This could be a false alarm, with some parameters getting used by language bindings but\n",
      "  then being mistakenly passed down to XGBoost core, or some parameter actually being used\n",
      "  but getting flagged wrongly here. Please open an issue if you find any such cases.\n",
      "\n",
      "\n",
      "[I 2023-08-25 19:54:09,794] Trial 155 finished with value: 0.8767347113050588 and parameters: {'n_estimators': 500, 'max_depth': 12, 'learning_rate': 0.285383517999213, 'subsample': 0.75229927354451, 'num_leaves': 10, 'min_data_in_leaf': 1100, 'lambda_l1': 75, 'lambda_l2': 15, 'min_gain_to_split': 6.52294858202045, 'bagging_fraction': 0.30000000000000004, 'bagging_freq': 1, 'feature_fraction': 0.5}. Best is trial 138 with value: 0.8772236252544766.\n",
      "/local_disk0/.ephemeral_nfs/envs/pythonEnv-fe59e063-8055-439a-b98f-efa6cbb47554/lib/python3.9/site-packages/optuna/distributions.py:685: UserWarning:\n",
      "\n",
      "The distribution is specified by [0.2, 0.95] and step=0.1, but the range is not divisible by `step`. It will be replaced by [0.2, 0.9].\n",
      "\n",
      "[19:54:10] WARNING: ../src/learner.cc:627: \n",
      "Parameters: { \"bagging_fraction\", \"bagging_freq\", \"feature_fraction\", \"lambda_l1\", \"lambda_l2\", \"min_data_in_leaf\", \"min_gain_to_split\", \"num_leaves\" } might not be used.\n",
      "\n",
      "  This could be a false alarm, with some parameters getting used by language bindings but\n",
      "  then being mistakenly passed down to XGBoost core, or some parameter actually being used\n",
      "  but getting flagged wrongly here. Please open an issue if you find any such cases.\n",
      "\n",
      "\n",
      "[I 2023-08-25 19:54:31,445] Trial 156 finished with value: 0.8743114011161036 and parameters: {'n_estimators': 490, 'max_depth': 11, 'learning_rate': 0.287225608774929, 'subsample': 0.7699348115591113, 'num_leaves': 10, 'min_data_in_leaf': 400, 'lambda_l1': 75, 'lambda_l2': 15, 'min_gain_to_split': 6.038029847242878, 'bagging_fraction': 0.30000000000000004, 'bagging_freq': 1, 'feature_fraction': 0.5}. Best is trial 138 with value: 0.8772236252544766.\n",
      "/local_disk0/.ephemeral_nfs/envs/pythonEnv-fe59e063-8055-439a-b98f-efa6cbb47554/lib/python3.9/site-packages/optuna/distributions.py:685: UserWarning:\n",
      "\n",
      "The distribution is specified by [0.2, 0.95] and step=0.1, but the range is not divisible by `step`. It will be replaced by [0.2, 0.9].\n",
      "\n",
      "[19:54:32] WARNING: ../src/learner.cc:627: \n",
      "Parameters: { \"bagging_fraction\", \"bagging_freq\", \"feature_fraction\", \"lambda_l1\", \"lambda_l2\", \"min_data_in_leaf\", \"min_gain_to_split\", \"num_leaves\" } might not be used.\n",
      "\n",
      "  This could be a false alarm, with some parameters getting used by language bindings but\n",
      "  then being mistakenly passed down to XGBoost core, or some parameter actually being used\n",
      "  but getting flagged wrongly here. Please open an issue if you find any such cases.\n",
      "\n",
      "\n",
      "[I 2023-08-25 19:54:54,791] Trial 157 finished with value: 0.8771608256122346 and parameters: {'n_estimators': 500, 'max_depth': 12, 'learning_rate': 0.29973968508673615, 'subsample': 0.8060384489530985, 'num_leaves': 20, 'min_data_in_leaf': 1200, 'lambda_l1': 75, 'lambda_l2': 10, 'min_gain_to_split': 6.439184248645907, 'bagging_fraction': 0.30000000000000004, 'bagging_freq': 1, 'feature_fraction': 0.5}. Best is trial 138 with value: 0.8772236252544766.\n",
      "/local_disk0/.ephemeral_nfs/envs/pythonEnv-fe59e063-8055-439a-b98f-efa6cbb47554/lib/python3.9/site-packages/optuna/distributions.py:685: UserWarning:\n",
      "\n",
      "The distribution is specified by [0.2, 0.95] and step=0.1, but the range is not divisible by `step`. It will be replaced by [0.2, 0.9].\n",
      "\n",
      "[19:54:55] WARNING: ../src/learner.cc:627: \n",
      "Parameters: { \"bagging_fraction\", \"bagging_freq\", \"feature_fraction\", \"lambda_l1\", \"lambda_l2\", \"min_data_in_leaf\", \"min_gain_to_split\", \"num_leaves\" } might not be used.\n",
      "\n",
      "  This could be a false alarm, with some parameters getting used by language bindings but\n",
      "  then being mistakenly passed down to XGBoost core, or some parameter actually being used\n",
      "  but getting flagged wrongly here. Please open an issue if you find any such cases.\n",
      "\n",
      "\n",
      "[I 2023-08-25 19:55:18,033] Trial 158 finished with value: 0.8770306153474885 and parameters: {'n_estimators': 500, 'max_depth': 12, 'learning_rate': 0.2930891900174328, 'subsample': 0.8065714660779464, 'num_leaves': 10, 'min_data_in_leaf': 1200, 'lambda_l1': 75, 'lambda_l2': 20, 'min_gain_to_split': 6.5060451076158685, 'bagging_fraction': 0.30000000000000004, 'bagging_freq': 1, 'feature_fraction': 0.5}. Best is trial 138 with value: 0.8772236252544766.\n",
      "/local_disk0/.ephemeral_nfs/envs/pythonEnv-fe59e063-8055-439a-b98f-efa6cbb47554/lib/python3.9/site-packages/optuna/distributions.py:685: UserWarning:\n",
      "\n",
      "The distribution is specified by [0.2, 0.95] and step=0.1, but the range is not divisible by `step`. It will be replaced by [0.2, 0.9].\n",
      "\n",
      "[19:55:18] WARNING: ../src/learner.cc:627: \n",
      "Parameters: { \"bagging_fraction\", \"bagging_freq\", \"feature_fraction\", \"lambda_l1\", \"lambda_l2\", \"min_data_in_leaf\", \"min_gain_to_split\", \"num_leaves\" } might not be used.\n",
      "\n",
      "  This could be a false alarm, with some parameters getting used by language bindings but\n",
      "  then being mistakenly passed down to XGBoost core, or some parameter actually being used\n",
      "  but getting flagged wrongly here. Please open an issue if you find any such cases.\n",
      "\n",
      "\n",
      "[I 2023-08-25 19:55:48,054] Trial 159 finished with value: 0.8766266451020547 and parameters: {'n_estimators': 510, 'max_depth': 16, 'learning_rate': 0.2990811549966387, 'subsample': 0.8091151928859182, 'num_leaves': 20, 'min_data_in_leaf': 1100, 'lambda_l1': 80, 'lambda_l2': 20, 'min_gain_to_split': 6.448384775427326, 'bagging_fraction': 0.30000000000000004, 'bagging_freq': 1, 'feature_fraction': 0.5}. Best is trial 138 with value: 0.8772236252544766.\n",
      "/local_disk0/.ephemeral_nfs/envs/pythonEnv-fe59e063-8055-439a-b98f-efa6cbb47554/lib/python3.9/site-packages/optuna/distributions.py:685: UserWarning:\n",
      "\n",
      "The distribution is specified by [0.2, 0.95] and step=0.1, but the range is not divisible by `step`. It will be replaced by [0.2, 0.9].\n",
      "\n",
      "[19:55:48] WARNING: ../src/learner.cc:627: \n",
      "Parameters: { \"bagging_fraction\", \"bagging_freq\", \"feature_fraction\", \"lambda_l1\", \"lambda_l2\", \"min_data_in_leaf\", \"min_gain_to_split\", \"num_leaves\" } might not be used.\n",
      "\n",
      "  This could be a false alarm, with some parameters getting used by language bindings but\n",
      "  then being mistakenly passed down to XGBoost core, or some parameter actually being used\n",
      "  but getting flagged wrongly here. Please open an issue if you find any such cases.\n",
      "\n",
      "\n",
      "[I 2023-08-25 19:56:20,677] Trial 160 finished with value: 0.8760811664574211 and parameters: {'n_estimators': 540, 'max_depth': 16, 'learning_rate': 0.29882293162394247, 'subsample': 0.8076933123989657, 'num_leaves': 10, 'min_data_in_leaf': 1100, 'lambda_l1': 80, 'lambda_l2': 20, 'min_gain_to_split': 6.347024199874269, 'bagging_fraction': 0.30000000000000004, 'bagging_freq': 1, 'feature_fraction': 0.5}. Best is trial 138 with value: 0.8772236252544766.\n",
      "/local_disk0/.ephemeral_nfs/envs/pythonEnv-fe59e063-8055-439a-b98f-efa6cbb47554/lib/python3.9/site-packages/optuna/distributions.py:685: UserWarning:\n",
      "\n",
      "The distribution is specified by [0.2, 0.95] and step=0.1, but the range is not divisible by `step`. It will be replaced by [0.2, 0.9].\n",
      "\n",
      "[19:56:21] WARNING: ../src/learner.cc:627: \n",
      "Parameters: { \"bagging_fraction\", \"bagging_freq\", \"feature_fraction\", \"lambda_l1\", \"lambda_l2\", \"min_data_in_leaf\", \"min_gain_to_split\", \"num_leaves\" } might not be used.\n",
      "\n",
      "  This could be a false alarm, with some parameters getting used by language bindings but\n",
      "  then being mistakenly passed down to XGBoost core, or some parameter actually being used\n",
      "  but getting flagged wrongly here. Please open an issue if you find any such cases.\n",
      "\n",
      "\n",
      "[I 2023-08-25 19:56:51,125] Trial 161 finished with value: 0.8761964170236517 and parameters: {'n_estimators': 510, 'max_depth': 16, 'learning_rate': 0.2915132570674979, 'subsample': 0.8017234037653241, 'num_leaves': 20, 'min_data_in_leaf': 1300, 'lambda_l1': 85, 'lambda_l2': 20, 'min_gain_to_split': 6.628731620251075, 'bagging_fraction': 0.30000000000000004, 'bagging_freq': 1, 'feature_fraction': 0.5}. Best is trial 138 with value: 0.8772236252544766.\n",
      "/local_disk0/.ephemeral_nfs/envs/pythonEnv-fe59e063-8055-439a-b98f-efa6cbb47554/lib/python3.9/site-packages/optuna/distributions.py:685: UserWarning:\n",
      "\n",
      "The distribution is specified by [0.2, 0.95] and step=0.1, but the range is not divisible by `step`. It will be replaced by [0.2, 0.9].\n",
      "\n",
      "[19:56:51] WARNING: ../src/learner.cc:627: \n",
      "Parameters: { \"bagging_fraction\", \"bagging_freq\", \"feature_fraction\", \"lambda_l1\", \"lambda_l2\", \"min_data_in_leaf\", \"min_gain_to_split\", \"num_leaves\" } might not be used.\n",
      "\n",
      "  This could be a false alarm, with some parameters getting used by language bindings but\n",
      "  then being mistakenly passed down to XGBoost core, or some parameter actually being used\n",
      "  but getting flagged wrongly here. Please open an issue if you find any such cases.\n",
      "\n",
      "\n",
      "[I 2023-08-25 19:57:21,896] Trial 162 finished with value: 0.8765254801155128 and parameters: {'n_estimators': 560, 'max_depth': 15, 'learning_rate': 0.299687359292006, 'subsample': 0.8178651342912704, 'num_leaves': 20, 'min_data_in_leaf': 900, 'lambda_l1': 75, 'lambda_l2': 15, 'min_gain_to_split': 6.067601226670358, 'bagging_fraction': 0.30000000000000004, 'bagging_freq': 1, 'feature_fraction': 0.5}. Best is trial 138 with value: 0.8772236252544766.\n",
      "/local_disk0/.ephemeral_nfs/envs/pythonEnv-fe59e063-8055-439a-b98f-efa6cbb47554/lib/python3.9/site-packages/optuna/distributions.py:685: UserWarning:\n",
      "\n",
      "The distribution is specified by [0.2, 0.95] and step=0.1, but the range is not divisible by `step`. It will be replaced by [0.2, 0.9].\n",
      "\n",
      "[19:57:22] WARNING: ../src/learner.cc:627: \n",
      "Parameters: { \"bagging_fraction\", \"bagging_freq\", \"feature_fraction\", \"lambda_l1\", \"lambda_l2\", \"min_data_in_leaf\", \"min_gain_to_split\", \"num_leaves\" } might not be used.\n",
      "\n",
      "  This could be a false alarm, with some parameters getting used by language bindings but\n",
      "  then being mistakenly passed down to XGBoost core, or some parameter actually being used\n",
      "  but getting flagged wrongly here. Please open an issue if you find any such cases.\n",
      "\n",
      "\n",
      "[I 2023-08-25 19:57:53,694] Trial 163 finished with value: 0.8754302655131508 and parameters: {'n_estimators': 580, 'max_depth': 15, 'learning_rate': 0.2994546497016199, 'subsample': 0.8105336283772763, 'num_leaves': 20, 'min_data_in_leaf': 900, 'lambda_l1': 75, 'lambda_l2': 15, 'min_gain_to_split': 5.796193742072063, 'bagging_fraction': 0.30000000000000004, 'bagging_freq': 1, 'feature_fraction': 0.5}. Best is trial 138 with value: 0.8772236252544766.\n",
      "/local_disk0/.ephemeral_nfs/envs/pythonEnv-fe59e063-8055-439a-b98f-efa6cbb47554/lib/python3.9/site-packages/optuna/distributions.py:685: UserWarning:\n",
      "\n",
      "The distribution is specified by [0.2, 0.95] and step=0.1, but the range is not divisible by `step`. It will be replaced by [0.2, 0.9].\n",
      "\n",
      "[19:57:54] WARNING: ../src/learner.cc:627: \n",
      "Parameters: { \"bagging_fraction\", \"bagging_freq\", \"feature_fraction\", \"lambda_l1\", \"lambda_l2\", \"min_data_in_leaf\", \"min_gain_to_split\", \"num_leaves\" } might not be used.\n",
      "\n",
      "  This could be a false alarm, with some parameters getting used by language bindings but\n",
      "  then being mistakenly passed down to XGBoost core, or some parameter actually being used\n",
      "  but getting flagged wrongly here. Please open an issue if you find any such cases.\n",
      "\n",
      "\n",
      "[I 2023-08-25 19:58:26,877] Trial 164 finished with value: 0.876738042072501 and parameters: {'n_estimators': 560, 'max_depth': 16, 'learning_rate': 0.2933306862625793, 'subsample': 0.8353321475408653, 'num_leaves': 30, 'min_data_in_leaf': 1100, 'lambda_l1': 85, 'lambda_l2': 20, 'min_gain_to_split': 6.140424160373375, 'bagging_fraction': 0.30000000000000004, 'bagging_freq': 1, 'feature_fraction': 0.5}. Best is trial 138 with value: 0.8772236252544766.\n",
      "/local_disk0/.ephemeral_nfs/envs/pythonEnv-fe59e063-8055-439a-b98f-efa6cbb47554/lib/python3.9/site-packages/optuna/distributions.py:685: UserWarning:\n",
      "\n",
      "The distribution is specified by [0.2, 0.95] and step=0.1, but the range is not divisible by `step`. It will be replaced by [0.2, 0.9].\n",
      "\n",
      "[19:58:27] WARNING: ../src/learner.cc:627: \n",
      "Parameters: { \"bagging_fraction\", \"bagging_freq\", \"feature_fraction\", \"lambda_l1\", \"lambda_l2\", \"min_data_in_leaf\", \"min_gain_to_split\", \"num_leaves\" } might not be used.\n",
      "\n",
      "  This could be a false alarm, with some parameters getting used by language bindings but\n",
      "  then being mistakenly passed down to XGBoost core, or some parameter actually being used\n",
      "  but getting flagged wrongly here. Please open an issue if you find any such cases.\n",
      "\n",
      "\n",
      "[I 2023-08-25 19:58:59,597] Trial 165 finished with value: 0.876196830989936 and parameters: {'n_estimators': 560, 'max_depth': 16, 'learning_rate': 0.29426982420536374, 'subsample': 0.8298421957964431, 'num_leaves': 10, 'min_data_in_leaf': 1100, 'lambda_l1': 75, 'lambda_l2': 20, 'min_gain_to_split': 6.055901873701772, 'bagging_fraction': 0.30000000000000004, 'bagging_freq': 1, 'feature_fraction': 0.5}. Best is trial 138 with value: 0.8772236252544766.\n",
      "/local_disk0/.ephemeral_nfs/envs/pythonEnv-fe59e063-8055-439a-b98f-efa6cbb47554/lib/python3.9/site-packages/optuna/distributions.py:685: UserWarning:\n",
      "\n",
      "The distribution is specified by [0.2, 0.95] and step=0.1, but the range is not divisible by `step`. It will be replaced by [0.2, 0.9].\n",
      "\n",
      "[19:59:00] WARNING: ../src/learner.cc:627: \n",
      "Parameters: { \"bagging_fraction\", \"bagging_freq\", \"feature_fraction\", \"lambda_l1\", \"lambda_l2\", \"min_data_in_leaf\", \"min_gain_to_split\", \"num_leaves\" } might not be used.\n",
      "\n",
      "  This could be a false alarm, with some parameters getting used by language bindings but\n",
      "  then being mistakenly passed down to XGBoost core, or some parameter actually being used\n",
      "  but getting flagged wrongly here. Please open an issue if you find any such cases.\n",
      "\n",
      "\n"
     ]
    }
   ],
   "source": [
    "def objective(trial):\n",
    "    params = {\"n_estimators\": trial.suggest_int(\"n_estimators\",10, 1000, 10),\n",
    "              \"max_depth\": trial.suggest_int(\"max_depth\", 2, 16),\n",
    "              \"learning_rate\": trial.suggest_float(\"learning_rate\", 0.01, 0.3),\n",
    "              \"subsample\": trial.suggest_float(\"subsample\", 0.2, 1),\n",
    "              \"num_leaves\": trial.suggest_int(\"num_leaves\", 10, 200, 10),\n",
    "              \"min_data_in_leaf\": trial.suggest_int(\"min_data_in_leaf\", 200, 10000, 100),\n",
    "              \"lambda_l1\": trial.suggest_int(\"lambda_l1\", 0, 100, step=5),\n",
    "              \"lambda_l2\": trial.suggest_int(\"lambda_l2\", 0, 100, step=5),\n",
    "              \"min_gain_to_split\": trial.suggest_float(\"min_gain_to_split\", 0, 15),\n",
    "              \"bagging_fraction\": trial.suggest_float(\"bagging_fraction\", 0.2, 0.95, step=0.1),\n",
    "              \"bagging_freq\": trial.suggest_categorical(\"bagging_freq\", [1]),\n",
    "              \"feature_fraction\": trial.suggest_float(\"feature_fraction\", 0.2, 0.95, step=0.1)\n",
    "             }\n",
    "\n",
    "    numeric_transformer = Pipeline([('Scaler', StandardScaler()), \n",
    "                                    ('R_Scaler', RobustScaler()),\n",
    "                                    ('Pw_Scaler', PowerTransformer())])\n",
    "    \n",
    "    categorical_transformer = Pipeline([('OHE', OneHotEncoder(handle_unknown=\"ignore\"))])\n",
    "    \n",
    "    transformer = ColumnTransformer([('numeric', numeric_transformer, numerics.columns),\n",
    "                                     ('categoric', categorical_transformer, categorics.columns)])\n",
    "    \n",
    "    pipeline_model = Pipeline([('transform', transformer),\n",
    "                               ('prediction', XGBRegressor(**params, random_state=42))])\n",
    "  \n",
    "    pipeline_model.fit(X_train, y_train)\n",
    "    y_pred = pipeline_model.predict(X_test)\n",
    "    r2 = r2_score(y_test, y_pred)\n",
    "    return r2\n",
    "\n",
    "study_xgb = optuna.create_study(direction=\"maximize\")\n",
    "study_xgb.optimize(objective, n_trials=200)\n",
    "\n",
    "study = study_xgb\n",
    "print()\n",
    "print(f'R2: {study.best_value}')\n",
    "print(f'Best parameter: {study.best_params}')"
   ]
  },
  {
   "cell_type": "code",
   "execution_count": null,
   "metadata": {
    "application/vnd.databricks.v1+cell": {
     "cellMetadata": {
      "byteLimit": 2048000,
      "rowLimit": 10000
     },
     "inputWidgets": {},
     "nuid": "c7d1aa3d-b145-430d-b0f8-492cd336b3e6",
     "showTitle": false,
     "title": ""
    }
   },
   "outputs": [
    {
     "name": "stdout",
     "output_type": "stream",
     "text": [
      "R2      : 0.876 Best Parameters: {'n_estimators': 420, 'max_depth': 11, 'learning_rate': 0.15508360455398806, 'subsample': 0.4049111039751835, 'num_leaves': 70, 'min_data_in_leaf': 6400, 'lambda_l1': 70, 'lambda_l2': 5, 'min_gain_to_split': 11.942522874480833, 'bagging_fraction': 0.4, 'bagging_freq': 1, 'feature_fraction': 0.8}\n"
     ]
    }
   ],
   "source": [
    "XBG_best_parameters = []\n",
    "study = study_xgb\n",
    "print(\"R2      :\", round(study.best_value, 3), \"Best Parameters:\", study.best_params)\n",
    "RF_best_parameters.append(study.best_params)"
   ]
  },
  {
   "cell_type": "code",
   "execution_count": null,
   "metadata": {
    "application/vnd.databricks.v1+cell": {
     "cellMetadata": {
      "byteLimit": 2048000,
      "rowLimit": 10000
     },
     "inputWidgets": {},
     "nuid": "a5efefd9-edb1-4b53-9ea5-2c8c0a804736",
     "showTitle": false,
     "title": ""
    }
   },
   "outputs": [
    {
     "name": "stdout",
     "output_type": "stream",
     "text": [
      "Out[44]: {'n_estimators': 990,\n",
      " 'max_depth': 13,\n",
      " 'learning_rate': 0.13102204493153047,\n",
      " 'subsample': 0.7692741143797301,\n",
      " 'num_leaves': 100,\n",
      " 'min_data_in_leaf': 200,\n",
      " 'lambda_l1': 55,\n",
      " 'lambda_l2': 60,\n",
      " 'min_gain_to_split': 6.26208122296979,\n",
      " 'bagging_fraction': 0.2,\n",
      " 'bagging_freq': 1,\n",
      " 'feature_fraction': 0.5}"
     ]
    }
   ],
   "source": [
    "study.best_params"
   ]
  },
  {
   "cell_type": "code",
   "execution_count": null,
   "metadata": {
    "application/vnd.databricks.v1+cell": {
     "cellMetadata": {
      "byteLimit": 2048000,
      "rowLimit": 10000
     },
     "inputWidgets": {},
     "nuid": "10ce037e-4c4f-4613-a947-b02ff1cbcb6a",
     "showTitle": false,
     "title": ""
    }
   },
   "outputs": [
    {
     "name": "stdout",
     "output_type": "stream",
     "text": [
      "[18:58:40] WARNING: ../src/learner.cc:627: \n",
      "Parameters: { \"bagging_fraction\", \"bagging_freq\", \"feature_fraction\", \"lambda_l1\", \"lambda_l2\", \"min_data_in_leaf\", \"min_gain_to_split\", \"num_leaves\" } might not be used.\n",
      "\n",
      "  This could be a false alarm, with some parameters getting used by language bindings but\n",
      "  then being mistakenly passed down to XGBoost core, or some parameter actually being used\n",
      "  but getting flagged wrongly here. Please open an issue if you find any such cases.\n",
      "\n",
      "\n"
     ]
    }
   ],
   "source": [
    "study = study_xgb\n",
    "\n",
    "tuned_model_xgb = Pipeline([('transform', transformer),\n",
    "                        ('prediction', XGBRegressor(**study.best_params))])\n",
    "\n",
    "tuned_model_xgb.fit(X_train, y_train)\n",
    "y_pred = tuned_model_xgb.predict(X_test)\n",
    "r2 = r2_score(y_test, y_pred)\n",
    "r2"
   ]
  },
  {
   "cell_type": "code",
   "execution_count": null,
   "metadata": {
    "application/vnd.databricks.v1+cell": {
     "cellMetadata": {
      "byteLimit": 2048000,
      "rowLimit": 10000
     },
     "inputWidgets": {},
     "nuid": "363f6f0a-644c-491b-b666-4a6c1bdb6f20",
     "showTitle": false,
     "title": ""
    }
   },
   "outputs": [],
   "source": [
    "import pickle\n",
    "pickle.dump(tuned_model_xgb, open('final_model_xgb', 'wb'))"
   ]
  },
  {
   "cell_type": "code",
   "execution_count": null,
   "metadata": {
    "application/vnd.databricks.v1+cell": {
     "cellMetadata": {
      "byteLimit": 2048000,
      "rowLimit": 10000
     },
     "inputWidgets": {},
     "nuid": "b51f98b2-351e-40e4-ac6b-68b833a6587a",
     "showTitle": false,
     "title": ""
    }
   },
   "outputs": [
    {
     "data": {
      "text/html": [
       "<div>\n",
       "<style scoped>\n",
       "    .dataframe tbody tr th:only-of-type {\n",
       "        vertical-align: middle;\n",
       "    }\n",
       "\n",
       "    .dataframe tbody tr th {\n",
       "        vertical-align: top;\n",
       "    }\n",
       "\n",
       "    .dataframe thead th {\n",
       "        text-align: right;\n",
       "    }\n",
       "</style>\n",
       "<table border=\"1\" class=\"dataframe\">\n",
       "  <thead>\n",
       "    <tr style=\"text-align: right;\">\n",
       "      <th></th>\n",
       "      <th>kategorie</th>\n",
       "      <th>bremse_vorne</th>\n",
       "      <th>rahmenmaterial</th>\n",
       "      <th>sattel</th>\n",
       "      <th>gabel_federweg_mm</th>\n",
       "      <th>schaltwerk</th>\n",
       "      <th>hersteller</th>\n",
       "    </tr>\n",
       "  </thead>\n",
       "  <tbody>\n",
       "    <tr>\n",
       "      <th>10588</th>\n",
       "      <td>MTB_Fully</td>\n",
       "      <td>Shimano XT BR-M8120 4-Piston</td>\n",
       "      <td>Carbon</td>\n",
       "      <td>Ergon SM E-Mountain</td>\n",
       "      <td>140</td>\n",
       "      <td>Sram X1 Eagle 12</td>\n",
       "      <td>GHOST</td>\n",
       "    </tr>\n",
       "  </tbody>\n",
       "</table>\n",
       "</div>"
      ]
     },
     "metadata": {
      "application/vnd.databricks.v1+output": {
       "addedWidgets": {},
       "arguments": {},
       "data": "<div>\n<style scoped>\n    .dataframe tbody tr th:only-of-type {\n        vertical-align: middle;\n    }\n\n    .dataframe tbody tr th {\n        vertical-align: top;\n    }\n\n    .dataframe thead th {\n        text-align: right;\n    }\n</style>\n<table border=\"1\" class=\"dataframe\">\n  <thead>\n    <tr style=\"text-align: right;\">\n      <th></th>\n      <th>kategorie</th>\n      <th>bremse_vorne</th>\n      <th>rahmenmaterial</th>\n      <th>sattel</th>\n      <th>gabel_federweg_mm</th>\n      <th>schaltwerk</th>\n      <th>hersteller</th>\n    </tr>\n  </thead>\n  <tbody>\n    <tr>\n      <th>10588</th>\n      <td>MTB_Fully</td>\n      <td>Shimano XT BR-M8120 4-Piston</td>\n      <td>Carbon</td>\n      <td>Ergon SM E-Mountain</td>\n      <td>140</td>\n      <td>Sram X1 Eagle 12</td>\n      <td>GHOST</td>\n    </tr>\n  </tbody>\n</table>\n</div>",
       "datasetInfos": [],
       "metadata": {},
       "removedWidgets": [],
       "textData": null,
       "type": "htmlSandbox"
      }
     },
     "output_type": "display_data"
    }
   ],
   "source": [
    "X_test.iloc[[2]]"
   ]
  },
  {
   "cell_type": "code",
   "execution_count": null,
   "metadata": {
    "application/vnd.databricks.v1+cell": {
     "cellMetadata": {
      "byteLimit": 2048000,
      "rowLimit": 10000
     },
     "inputWidgets": {},
     "nuid": "c2473b09-51a2-47a1-b669-4f868b66f56d",
     "showTitle": false,
     "title": ""
    }
   },
   "outputs": [
    {
     "name": "stdout",
     "output_type": "stream",
     "text": [
      "Out[50]: 10588    5599\n",
      "Name: uvp_€, dtype: int32"
     ]
    }
   ],
   "source": [
    "y_test.iloc[[2]]"
   ]
  },
  {
   "cell_type": "code",
   "execution_count": null,
   "metadata": {
    "application/vnd.databricks.v1+cell": {
     "cellMetadata": {
      "byteLimit": 2048000,
      "rowLimit": 10000
     },
     "inputWidgets": {},
     "nuid": "8cfcb874-b98f-4c04-8b65-57c7c9cbd2ea",
     "showTitle": false,
     "title": ""
    }
   },
   "outputs": [
    {
     "name": "stdout",
     "output_type": "stream",
     "text": [
      "Out[51]: array([5631.0215], dtype=float32)"
     ]
    }
   ],
   "source": [
    "rf_deploy = pickle.load(open('final_model_xgb', 'rb'))\n",
    "y_pred = rf_deploy.predict(X_test.iloc[[2]])\n",
    "y_pred"
   ]
  },
  {
   "cell_type": "code",
   "execution_count": null,
   "metadata": {
    "application/vnd.databricks.v1+cell": {
     "cellMetadata": {
      "byteLimit": 2048000,
      "rowLimit": 10000
     },
     "inputWidgets": {},
     "nuid": "2035c7bb-c649-4c57-a005-6b5ec8b6099f",
     "showTitle": false,
     "title": ""
    }
   },
   "outputs": [
    {
     "data": {
      "text/html": [
       "<div>\n",
       "<style scoped>\n",
       "    .dataframe tbody tr th:only-of-type {\n",
       "        vertical-align: middle;\n",
       "    }\n",
       "\n",
       "    .dataframe tbody tr th {\n",
       "        vertical-align: top;\n",
       "    }\n",
       "\n",
       "    .dataframe thead th {\n",
       "        text-align: right;\n",
       "    }\n",
       "</style>\n",
       "<table border=\"1\" class=\"dataframe\">\n",
       "  <thead>\n",
       "    <tr style=\"text-align: right;\">\n",
       "      <th></th>\n",
       "      <th>kategorie</th>\n",
       "      <th>bremse_vorne</th>\n",
       "      <th>rahmenmaterial</th>\n",
       "      <th>sattel</th>\n",
       "      <th>gabel_federweg_mm</th>\n",
       "      <th>schaltwerk</th>\n",
       "      <th>hersteller</th>\n",
       "      <th>predicted_preis</th>\n",
       "      <th>uvp_€</th>\n",
       "    </tr>\n",
       "  </thead>\n",
       "  <tbody>\n",
       "    <tr>\n",
       "      <th>4447</th>\n",
       "      <td>MTB_Fully</td>\n",
       "      <td>Shimano BR-M315</td>\n",
       "      <td>Aluminium</td>\n",
       "      <td>Selle Royal MTB</td>\n",
       "      <td>120</td>\n",
       "      <td>Shimano XT RD-M786-DSGSL Shadow Plus Direct Mo...</td>\n",
       "      <td>CUBE</td>\n",
       "      <td>2915</td>\n",
       "      <td>2999</td>\n",
       "    </tr>\n",
       "    <tr>\n",
       "      <th>23437</th>\n",
       "      <td>City</td>\n",
       "      <td>Shimano M315</td>\n",
       "      <td>Aluminium</td>\n",
       "      <td>Selle Royal Nuvola</td>\n",
       "      <td>50</td>\n",
       "      <td>Shimano</td>\n",
       "      <td>Kalkhoff</td>\n",
       "      <td>2819</td>\n",
       "      <td>2799</td>\n",
       "    </tr>\n",
       "    <tr>\n",
       "      <th>10588</th>\n",
       "      <td>MTB_Fully</td>\n",
       "      <td>Shimano XT BR-M8120 4-Piston</td>\n",
       "      <td>Carbon</td>\n",
       "      <td>Ergon SM E-Mountain</td>\n",
       "      <td>140</td>\n",
       "      <td>Sram X1 Eagle 12</td>\n",
       "      <td>GHOST</td>\n",
       "      <td>5631</td>\n",
       "      <td>5599</td>\n",
       "    </tr>\n",
       "    <tr>\n",
       "      <th>14554</th>\n",
       "      <td>Trekking</td>\n",
       "      <td>Shimano BR-MT-400</td>\n",
       "      <td>Aluminium</td>\n",
       "      <td>Selle Bassano Suprema</td>\n",
       "      <td>63</td>\n",
       "      <td>Shimano Deore XT 10</td>\n",
       "      <td>Hercules</td>\n",
       "      <td>3765</td>\n",
       "      <td>3799</td>\n",
       "    </tr>\n",
       "    <tr>\n",
       "      <th>6202</th>\n",
       "      <td>Trekking</td>\n",
       "      <td>Shimano BR-MT-420</td>\n",
       "      <td>Aluminium</td>\n",
       "      <td>Natural Fit Sequence Comfort</td>\n",
       "      <td>100</td>\n",
       "      <td>Shimano Deore RD-M610 SGS Shadow Plus 12</td>\n",
       "      <td>CUBE</td>\n",
       "      <td>3426</td>\n",
       "      <td>2923</td>\n",
       "    </tr>\n",
       "    <tr>\n",
       "      <th>29372</th>\n",
       "      <td>Trekking</td>\n",
       "      <td>TEKTRO T285</td>\n",
       "      <td>Aluminium</td>\n",
       "      <td>Selle Royal Viento</td>\n",
       "      <td>63</td>\n",
       "      <td>Shimano Deore M591 9</td>\n",
       "      <td>Winora</td>\n",
       "      <td>2601</td>\n",
       "      <td>2599</td>\n",
       "    </tr>\n",
       "    <tr>\n",
       "      <th>25276</th>\n",
       "      <td>Trekking</td>\n",
       "      <td>Shimano M396</td>\n",
       "      <td>Aluminium</td>\n",
       "      <td>Concept SL Trekking</td>\n",
       "      <td>63</td>\n",
       "      <td>Shimano XT</td>\n",
       "      <td>Kalkhoff</td>\n",
       "      <td>2769</td>\n",
       "      <td>2799</td>\n",
       "    </tr>\n",
       "    <tr>\n",
       "      <th>27313</th>\n",
       "      <td>Trekking</td>\n",
       "      <td>Shimano BR-M200 Disc</td>\n",
       "      <td>Aluminium</td>\n",
       "      <td>Selle Royal Essenza w/ Superfabric</td>\n",
       "      <td>63</td>\n",
       "      <td>Shimano Deore 10</td>\n",
       "      <td>SCOTT</td>\n",
       "      <td>3108</td>\n",
       "      <td>2999</td>\n",
       "    </tr>\n",
       "    <tr>\n",
       "      <th>25933</th>\n",
       "      <td>City</td>\n",
       "      <td>MAGURA HS-11</td>\n",
       "      <td>Aluminium</td>\n",
       "      <td>Selle Bassano Feel GT</td>\n",
       "      <td>50</td>\n",
       "      <td>Shimano</td>\n",
       "      <td>Kalkhoff</td>\n",
       "      <td>2658</td>\n",
       "      <td>2799</td>\n",
       "    </tr>\n",
       "    <tr>\n",
       "      <th>3122</th>\n",
       "      <td>MTB_Hardtail</td>\n",
       "      <td>Shimano BR-MT-200</td>\n",
       "      <td>Aluminium</td>\n",
       "      <td>Natural Fit Sequence</td>\n",
       "      <td>100</td>\n",
       "      <td>Shimano RD-M310 SGS 9</td>\n",
       "      <td>CUBE</td>\n",
       "      <td>2315</td>\n",
       "      <td>2046</td>\n",
       "    </tr>\n",
       "  </tbody>\n",
       "</table>\n",
       "</div>"
      ]
     },
     "metadata": {
      "application/vnd.databricks.v1+output": {
       "addedWidgets": {},
       "arguments": {},
       "data": "<div>\n<style scoped>\n    .dataframe tbody tr th:only-of-type {\n        vertical-align: middle;\n    }\n\n    .dataframe tbody tr th {\n        vertical-align: top;\n    }\n\n    .dataframe thead th {\n        text-align: right;\n    }\n</style>\n<table border=\"1\" class=\"dataframe\">\n  <thead>\n    <tr style=\"text-align: right;\">\n      <th></th>\n      <th>kategorie</th>\n      <th>bremse_vorne</th>\n      <th>rahmenmaterial</th>\n      <th>sattel</th>\n      <th>gabel_federweg_mm</th>\n      <th>schaltwerk</th>\n      <th>hersteller</th>\n      <th>predicted_preis</th>\n      <th>uvp_€</th>\n    </tr>\n  </thead>\n  <tbody>\n    <tr>\n      <th>4447</th>\n      <td>MTB_Fully</td>\n      <td>Shimano BR-M315</td>\n      <td>Aluminium</td>\n      <td>Selle Royal MTB</td>\n      <td>120</td>\n      <td>Shimano XT RD-M786-DSGSL Shadow Plus Direct Mo...</td>\n      <td>CUBE</td>\n      <td>2915</td>\n      <td>2999</td>\n    </tr>\n    <tr>\n      <th>23437</th>\n      <td>City</td>\n      <td>Shimano M315</td>\n      <td>Aluminium</td>\n      <td>Selle Royal Nuvola</td>\n      <td>50</td>\n      <td>Shimano</td>\n      <td>Kalkhoff</td>\n      <td>2819</td>\n      <td>2799</td>\n    </tr>\n    <tr>\n      <th>10588</th>\n      <td>MTB_Fully</td>\n      <td>Shimano XT BR-M8120 4-Piston</td>\n      <td>Carbon</td>\n      <td>Ergon SM E-Mountain</td>\n      <td>140</td>\n      <td>Sram X1 Eagle 12</td>\n      <td>GHOST</td>\n      <td>5631</td>\n      <td>5599</td>\n    </tr>\n    <tr>\n      <th>14554</th>\n      <td>Trekking</td>\n      <td>Shimano BR-MT-400</td>\n      <td>Aluminium</td>\n      <td>Selle Bassano Suprema</td>\n      <td>63</td>\n      <td>Shimano Deore XT 10</td>\n      <td>Hercules</td>\n      <td>3765</td>\n      <td>3799</td>\n    </tr>\n    <tr>\n      <th>6202</th>\n      <td>Trekking</td>\n      <td>Shimano BR-MT-420</td>\n      <td>Aluminium</td>\n      <td>Natural Fit Sequence Comfort</td>\n      <td>100</td>\n      <td>Shimano Deore RD-M610 SGS Shadow Plus 12</td>\n      <td>CUBE</td>\n      <td>3426</td>\n      <td>2923</td>\n    </tr>\n    <tr>\n      <th>29372</th>\n      <td>Trekking</td>\n      <td>TEKTRO T285</td>\n      <td>Aluminium</td>\n      <td>Selle Royal Viento</td>\n      <td>63</td>\n      <td>Shimano Deore M591 9</td>\n      <td>Winora</td>\n      <td>2601</td>\n      <td>2599</td>\n    </tr>\n    <tr>\n      <th>25276</th>\n      <td>Trekking</td>\n      <td>Shimano M396</td>\n      <td>Aluminium</td>\n      <td>Concept SL Trekking</td>\n      <td>63</td>\n      <td>Shimano XT</td>\n      <td>Kalkhoff</td>\n      <td>2769</td>\n      <td>2799</td>\n    </tr>\n    <tr>\n      <th>27313</th>\n      <td>Trekking</td>\n      <td>Shimano BR-M200 Disc</td>\n      <td>Aluminium</td>\n      <td>Selle Royal Essenza w/ Superfabric</td>\n      <td>63</td>\n      <td>Shimano Deore 10</td>\n      <td>SCOTT</td>\n      <td>3108</td>\n      <td>2999</td>\n    </tr>\n    <tr>\n      <th>25933</th>\n      <td>City</td>\n      <td>MAGURA HS-11</td>\n      <td>Aluminium</td>\n      <td>Selle Bassano Feel GT</td>\n      <td>50</td>\n      <td>Shimano</td>\n      <td>Kalkhoff</td>\n      <td>2658</td>\n      <td>2799</td>\n    </tr>\n    <tr>\n      <th>3122</th>\n      <td>MTB_Hardtail</td>\n      <td>Shimano BR-MT-200</td>\n      <td>Aluminium</td>\n      <td>Natural Fit Sequence</td>\n      <td>100</td>\n      <td>Shimano RD-M310 SGS 9</td>\n      <td>CUBE</td>\n      <td>2315</td>\n      <td>2046</td>\n    </tr>\n  </tbody>\n</table>\n</div>",
       "datasetInfos": [],
       "metadata": {},
       "removedWidgets": [],
       "textData": null,
       "type": "htmlSandbox"
      }
     },
     "output_type": "display_data"
    }
   ],
   "source": [
    "control = X_test.iloc[:10].copy()\n",
    "y_pred_all = []\n",
    "for i in range(0, 10):\n",
    "    xgb_deploy = pickle.load(open('final_model_xgb', 'rb'))\n",
    "    y_pred = rf_deploy.predict(X_test.iloc[[i]])\n",
    "    y_pred_all.append(int(y_pred[0]))\n",
    "control['predicted_preis'] = y_pred_all\n",
    "# control.insert(1, 'predicted_damage_type', control.pop('predicted_damage_type') )\n",
    "control_xgb = control.copy();\n",
    "control_xgb[\"uvp_€\"] = y_test.iloc[:10]\n",
    "control_xgb "
   ]
  },
  {
   "cell_type": "markdown",
   "metadata": {
    "application/vnd.databricks.v1+cell": {
     "cellMetadata": {},
     "inputWidgets": {},
     "nuid": "d0bb057a-a4fd-47b2-b0e5-7bb06f452abe",
     "showTitle": false,
     "title": ""
    }
   },
   "source": [
    "### Assignment-8 \n",
    "24.08.2023'e kadar\n",
    "\n",
    "    1- Bastan Asagi tam tekmil kendi E-bike prediction notebookunuzu olusturun\n",
    "    2- Featuer Importance ile Secilmis featurelarin OPTUNA ile Hyperparametre Optimizationu yaparak final tuned modelinizi kaydedin\n",
    "    3- 5 sayfalik bir power point presentasyonu hazirlayin"
   ]
  },
  {
   "cell_type": "code",
   "execution_count": null,
   "metadata": {
    "application/vnd.databricks.v1+cell": {
     "cellMetadata": {
      "byteLimit": 2048000,
      "rowLimit": 10000
     },
     "inputWidgets": {},
     "nuid": "f01a6b25-4c91-4a5f-980f-88f5ed038ee8",
     "showTitle": false,
     "title": ""
    }
   },
   "outputs": [
    {
     "data": {
      "text/plain": [
       "\u001b[0;31m---------------------------------------------------------------------------\u001b[0m\n",
       "\u001b[0;31mExecutionError\u001b[0m                            Traceback (most recent call last)\n",
       "\u001b[0;32m<command-3250029155928756>\u001b[0m in \u001b[0;36m<cell line: 2>\u001b[0;34m()\u001b[0m\n",
       "\u001b[1;32m      1\u001b[0m \u001b[0;31m# List files in a directory\u001b[0m\u001b[0;34m\u001b[0m\u001b[0;34m\u001b[0m\u001b[0;34m\u001b[0m\u001b[0m\n",
       "\u001b[0;32m----> 2\u001b[0;31m \u001b[0mdbutils\u001b[0m\u001b[0;34m.\u001b[0m\u001b[0mfs\u001b[0m\u001b[0;34m.\u001b[0m\u001b[0mls\u001b[0m\u001b[0;34m(\u001b[0m\u001b[0;34m\"dbfs:/databricks/mlflow-tracking/2458957009979270/3be9f318fa8f4303a42a074a3ba90f6c/artifacts/model/model.pkl\"\u001b[0m\u001b[0;34m)\u001b[0m\u001b[0;34m\u001b[0m\u001b[0;34m\u001b[0m\u001b[0m\n",
       "\u001b[0m\u001b[1;32m      3\u001b[0m \u001b[0;34m\u001b[0m\u001b[0m\n",
       "\u001b[1;32m      4\u001b[0m \u001b[0;31m# # Copy a file from DBFS to local\u001b[0m\u001b[0;34m\u001b[0m\u001b[0;34m\u001b[0m\u001b[0;34m\u001b[0m\u001b[0m\n",
       "\u001b[1;32m      5\u001b[0m \u001b[0;31m# dbutils.fs.cp(\"dbfs:/your-folder-path/your-model.pkl\", \"file:/local-path/your-model.pkl\")\u001b[0m\u001b[0;34m\u001b[0m\u001b[0;34m\u001b[0m\u001b[0;34m\u001b[0m\u001b[0m\n",
       "\n",
       "\u001b[0;32m/databricks/python_shell/dbruntime/dbutils.py\u001b[0m in \u001b[0;36mf_with_exception_handling\u001b[0;34m(*args, **kwargs)\u001b[0m\n",
       "\u001b[1;32m    360\u001b[0m                     \u001b[0mexc\u001b[0m\u001b[0;34m.\u001b[0m\u001b[0m__context__\u001b[0m \u001b[0;34m=\u001b[0m \u001b[0;32mNone\u001b[0m\u001b[0;34m\u001b[0m\u001b[0;34m\u001b[0m\u001b[0m\n",
       "\u001b[1;32m    361\u001b[0m                     \u001b[0mexc\u001b[0m\u001b[0;34m.\u001b[0m\u001b[0m__cause__\u001b[0m \u001b[0;34m=\u001b[0m \u001b[0;32mNone\u001b[0m\u001b[0;34m\u001b[0m\u001b[0;34m\u001b[0m\u001b[0m\n",
       "\u001b[0;32m--> 362\u001b[0;31m                     \u001b[0;32mraise\u001b[0m \u001b[0mexc\u001b[0m\u001b[0;34m\u001b[0m\u001b[0;34m\u001b[0m\u001b[0m\n",
       "\u001b[0m\u001b[1;32m    363\u001b[0m \u001b[0;34m\u001b[0m\u001b[0m\n",
       "\u001b[1;32m    364\u001b[0m             \u001b[0;32mreturn\u001b[0m \u001b[0mf_with_exception_handling\u001b[0m\u001b[0;34m\u001b[0m\u001b[0;34m\u001b[0m\u001b[0m\n",
       "\n",
       "\u001b[0;31mExecutionError\u001b[0m: An error occurred while calling o485.ls.\n",
       ": java.rmi.RemoteException: java.lang.UnsupportedOperationException: No operations allowed on this path; nested exception is: \n",
       "\tjava.lang.UnsupportedOperationException: No operations allowed on this path\n",
       "\tat com.databricks.backend.daemon.data.client.DbfsClient.send0(DbfsClient.scala:135)\n",
       "\tat com.databricks.backend.daemon.data.client.DbfsClient.sendIdempotent(DbfsClient.scala:69)\n",
       "\tat com.databricks.backend.daemon.data.client.DatabricksFileSystemV1.listStatus(DatabricksFileSystemV1.scala:179)\n",
       "\tat com.databricks.backend.daemon.data.client.DatabricksFileSystem.listStatus(DatabricksFileSystem.scala:164)\n",
       "\tat com.databricks.backend.daemon.dbutils.FSUtils.lsWithLimit(DBUtilsCore.scala:252)\n",
       "\tat com.databricks.backend.daemon.dbutils.FSUtils.$anonfun$lsImpl$2(DBUtilsCore.scala:220)\n",
       "\tat com.databricks.backend.daemon.dbutils.FSUtils.withFsSafetyCheck(DBUtilsCore.scala:143)\n",
       "\tat com.databricks.backend.daemon.dbutils.FSUtils.$anonfun$lsImpl$1(DBUtilsCore.scala:220)\n",
       "\tat com.databricks.backend.daemon.dbutils.FSUtils.checkPermission(DBUtilsCore.scala:138)\n",
       "\tat com.databricks.backend.daemon.dbutils.FSUtils.lsImpl(DBUtilsCore.scala:219)\n",
       "\tat com.databricks.backend.daemon.dbutils.FSUtils.$anonfun$ls$1(DBUtilsCore.scala:209)\n",
       "\tat com.databricks.logging.UsageLogging.$anonfun$recordOperation$1(UsageLogging.scala:546)\n",
       "\tat com.databricks.logging.UsageLogging.executeThunkAndCaptureResultTags$1(UsageLogging.scala:641)\n",
       "\tat com.databricks.logging.UsageLogging.$anonfun$recordOperationWithResultTags$4(UsageLogging.scala:662)\n",
       "\tat com.databricks.logging.UsageLogging.$anonfun$withAttributionContext$1(UsageLogging.scala:403)\n",
       "\tat scala.util.DynamicVariable.withValue(DynamicVariable.scala:62)\n",
       "\tat com.databricks.logging.AttributionContext$.withValue(AttributionContext.scala:147)\n",
       "\tat com.databricks.logging.UsageLogging.withAttributionContext(UsageLogging.scala:401)\n",
       "\tat com.databricks.logging.UsageLogging.withAttributionContext$(UsageLogging.scala:398)\n",
       "\tat com.databricks.backend.daemon.dbutils.FSUtils.withAttributionContext(DBUtilsCore.scala:67)\n",
       "\tat com.databricks.logging.UsageLogging.withAttributionTags(UsageLogging.scala:446)\n",
       "\tat com.databricks.logging.UsageLogging.withAttributionTags$(UsageLogging.scala:431)\n",
       "\tat com.databricks.backend.daemon.dbutils.FSUtils.withAttributionTags(DBUtilsCore.scala:67)\n",
       "\tat com.databricks.logging.UsageLogging.recordOperationWithResultTags(UsageLogging.scala:636)\n",
       "\tat com.databricks.logging.UsageLogging.recordOperationWithResultTags$(UsageLogging.scala:555)\n",
       "\tat com.databricks.backend.daemon.dbutils.FSUtils.recordOperationWithResultTags(DBUtilsCore.scala:67)\n",
       "\tat com.databricks.logging.UsageLogging.recordOperation(UsageLogging.scala:546)\n",
       "\tat com.databricks.logging.UsageLogging.recordOperation$(UsageLogging.scala:516)\n",
       "\tat com.databricks.backend.daemon.dbutils.FSUtils.recordOperation(DBUtilsCore.scala:67)\n",
       "\tat com.databricks.backend.daemon.dbutils.FSUtils.recordDbutilsFsOp(DBUtilsCore.scala:131)\n",
       "\tat com.databricks.backend.daemon.dbutils.FSUtils.ls(DBUtilsCore.scala:209)\n",
       "\tat sun.reflect.NativeMethodAccessorImpl.invoke0(Native Method)\n",
       "\tat sun.reflect.NativeMethodAccessorImpl.invoke(NativeMethodAccessorImpl.java:62)\n",
       "\tat sun.reflect.DelegatingMethodAccessorImpl.invoke(DelegatingMethodAccessorImpl.java:43)\n",
       "\tat java.lang.reflect.Method.invoke(Method.java:498)\n",
       "\tat py4j.reflection.MethodInvoker.invoke(MethodInvoker.java:244)\n",
       "\tat py4j.reflection.ReflectionEngine.invoke(ReflectionEngine.java:380)\n",
       "\tat py4j.Gateway.invoke(Gateway.java:306)\n",
       "\tat py4j.commands.AbstractCommand.invokeMethod(AbstractCommand.java:132)\n",
       "\tat py4j.commands.CallCommand.execute(CallCommand.java:79)\n",
       "\tat py4j.ClientServerConnection.waitForCommands(ClientServerConnection.java:195)\n",
       "\tat py4j.ClientServerConnection.run(ClientServerConnection.java:115)\n",
       "\tat java.lang.Thread.run(Thread.java:750)\n",
       "Caused by: java.lang.UnsupportedOperationException: No operations allowed on this path\n",
       "\tat com.databricks.backend.daemon.data.server.backend.NoOperationsAllowedFileSystemBackend.listStatus(NoOperationsAllowedFileSystemBackend.scala:51)\n",
       "\tat com.databricks.backend.daemon.data.server.backend.FileSystemBackend.listStatus(FileSystemBackend.scala:50)\n",
       "\tat com.databricks.backend.daemon.data.server.backend.FileSystemBackend.listStatus$(FileSystemBackend.scala:46)\n",
       "\tat com.databricks.backend.daemon.data.server.backend.NoOperationsAllowedFileSystemBackend.listStatus(NoOperationsAllowedFileSystemBackend.scala:11)\n",
       "\tat com.databricks.backend.daemon.data.server.backend.RootFileSystemBackend.$anonfun$listStatus$2(RootFileSystemBackend.scala:97)\n",
       "\tat com.databricks.logging.UsageLogging.$anonfun$recordOperation$1(UsageLogging.scala:573)\n",
       "\tat com.databricks.logging.UsageLogging.executeThunkAndCaptureResultTags$1(UsageLogging.scala:668)\n",
       "\tat com.databricks.logging.UsageLogging.$anonfun$recordOperationWithResultTags$4(UsageLogging.scala:686)\n",
       "\tat com.databricks.logging.UsageLogging.$anonfun$withAttributionContext$1(UsageLogging.scala:426)\n",
       "\tat scala.util.DynamicVariable.withValue(DynamicVariable.scala:62)\n",
       "\tat com.databricks.logging.AttributionContext$.withValue(AttributionContext.scala:208)\n",
       "\tat com.databricks.logging.UsageLogging.withAttributionContext(UsageLogging.scala:424)\n",
       "\tat com.databricks.logging.UsageLogging.withAttributionContext$(UsageLogging.scala:418)\n",
       "\tat com.databricks.backend.daemon.data.server.backend.RootFileSystemBackend.withAttributionContext(RootFileSystemBackend.scala:27)\n",
       "\tat com.databricks.logging.UsageLogging.withAttributionTags(UsageLogging.scala:472)\n",
       "\tat com.databricks.logging.UsageLogging.withAttributionTags$(UsageLogging.scala:455)\n",
       "\tat com.databricks.backend.daemon.data.server.backend.RootFileSystemBackend.withAttributionTags(RootFileSystemBackend.scala:27)\n",
       "\tat com.databricks.logging.UsageLogging.recordOperationWithResultTags(UsageLogging.scala:663)\n",
       "\tat com.databricks.logging.UsageLogging.recordOperationWithResultTags$(UsageLogging.scala:582)\n",
       "\tat com.databricks.backend.daemon.data.server.backend.RootFileSystemBackend.recordOperationWithResultTags(RootFileSystemBackend.scala:27)\n",
       "\tat com.databricks.logging.UsageLogging.recordOperation(UsageLogging.scala:573)\n",
       "\tat com.databricks.logging.UsageLogging.recordOperation$(UsageLogging.scala:542)\n",
       "\tat com.databricks.backend.daemon.data.server.backend.RootFileSystemBackend.recordOperation(RootFileSystemBackend.scala:27)\n",
       "\tat com.databricks.backend.daemon.data.server.backend.RootFileSystemBackend.listStatus(RootFileSystemBackend.scala:93)\n",
       "\tat com.databricks.backend.daemon.data.server.handler.FileSystemRequestHandler.$anonfun$receive$8(FileSystemRequestHandler.scala:69)\n",
       "\tat com.databricks.logging.UsageLogging.$anonfun$recordOperation$1(UsageLogging.scala:573)\n",
       "\tat com.databricks.logging.UsageLogging.executeThunkAndCaptureResultTags$1(UsageLogging.scala:668)\n",
       "\tat com.databricks.logging.UsageLogging.$anonfun$recordOperationWithResultTags$4(UsageLogging.scala:686)\n",
       "\tat com.databricks.logging.UsageLogging.$anonfun$withAttributionContext$1(UsageLogging.scala:426)\n",
       "\tat scala.util.DynamicVariable.withValue(DynamicVariable.scala:62)\n",
       "\tat com.databricks.logging.AttributionContext$.withValue(AttributionContext.scala:208)\n",
       "\tat com.databricks.logging.UsageLogging.withAttributionContext(UsageLogging.scala:424)\n",
       "\tat com.databricks.logging.UsageLogging.withAttributionContext$(UsageLogging.scala:418)\n",
       "\tat com.databricks.backend.daemon.data.server.handler.FileSystemRequestHandler.withAttributionContext(FileSystemRequestHandler.scala:23)\n",
       "\tat com.databricks.logging.UsageLogging.withAttributionTags(UsageLogging.scala:472)\n",
       "\tat com.databricks.logging.UsageLogging.withAttributionTags$(UsageLogging.scala:455)\n",
       "\tat com.databricks.backend.daemon.data.server.handler.FileSystemRequestHandler.withAttributionTags(FileSystemRequestHandler.scala:23)\n",
       "\tat com.databricks.logging.UsageLogging.recordOperationWithResultTags(UsageLogging.scala:663)\n",
       "\tat com.databricks.logging.UsageLogging.recordOperationWithResultTags$(UsageLogging.scala:582)\n",
       "\tat com.databricks.backend.daemon.data.server.handler.FileSystemRequestHandler.recordOperationWithResultTags(FileSystemRequestHandler.scala:23)\n",
       "\tat com.databricks.logging.UsageLogging.recordOperation(UsageLogging.scala:573)\n",
       "\tat com.databricks.logging.UsageLogging.recordOperation$(UsageLogging.scala:542)\n",
       "\tat com.databricks.backend.daemon.data.server.handler.FileSystemRequestHandler.recordOperation(FileSystemRequestHandler.scala:23)\n",
       "\tat com.databricks.backend.daemon.data.server.handler.FileSystemRequestHandler.receive(FileSystemRequestHandler.scala:69)\n",
       "\tat com.databricks.backend.daemon.data.server.session.SessionContext.$anonfun$queryHandlers$1(SessionContext.scala:54)\n",
       "\tat com.databricks.backend.daemon.data.server.session.SessionContext.$anonfun$queryHandlers$1$adapted(SessionContext.scala:53)\n",
       "\tat scala.collection.immutable.List.foreach(List.scala:431)\n",
       "\tat com.databricks.backend.daemon.data.server.session.SessionContext.queryHandlers(SessionContext.scala:53)\n",
       "\tat com.databricks.backend.daemon.data.server.DbfsServerBackend$$anonfun$receive$4.$anonfun$applyOrElse$5(DbfsServerBackend.scala:387)\n",
       "\tat com.databricks.logging.UsageLogging.$anonfun$withAttributionContext$1(UsageLogging.scala:426)\n",
       "\tat scala.util.DynamicVariable.withValue(DynamicVariable.scala:62)\n",
       "\tat com.databricks.logging.AttributionContext$.withValue(AttributionContext.scala:208)\n",
       "\tat com.databricks.logging.UsageLogging.withAttributionContext(UsageLogging.scala:424)\n",
       "\tat com.databricks.logging.UsageLogging.withAttributionContext$(UsageLogging.scala:418)\n",
       "\tat com.databricks.rpc.ServerBackend.withAttributionContext(ServerBackend.scala:22)\n",
       "\tat com.databricks.logging.UsageLogging.withAttributionTags(UsageLogging.scala:472)\n",
       "\tat com.databricks.logging.UsageLogging.withAttributionTags$(UsageLogging.scala:455)\n",
       "\tat com.databricks.rpc.ServerBackend.withAttributionTags(ServerBackend.scala:22)\n",
       "\tat com.databricks.backend.daemon.data.server.DbfsServerBackend$$anonfun$receive$4.applyOrElse(DbfsServerBackend.scala:387)\n",
       "\tat com.databricks.backend.daemon.data.server.DbfsServerBackend$$anonfun$receive$4.applyOrElse(DbfsServerBackend.scala:331)\n",
       "\tat com.databricks.rpc.ServerBackend.$anonfun$internalReceive0$2(ServerBackend.scala:174)\n",
       "\tat com.databricks.rpc.ServerBackend$$anonfun$commonReceive$1.applyOrElse(ServerBackend.scala:200)\n",
       "\tat com.databricks.rpc.ServerBackend$$anonfun$commonReceive$1.applyOrElse(ServerBackend.scala:200)\n",
       "\tat com.databricks.rpc.ServerBackend.internalReceive0(ServerBackend.scala:171)\n",
       "\tat com.databricks.rpc.ServerBackend.$anonfun$internalReceive$1(ServerBackend.scala:147)\n",
       "\tat com.databricks.logging.UsageLogging.$anonfun$recordOperation$1(UsageLogging.scala:573)\n",
       "\tat com.databricks.logging.UsageLogging.executeThunkAndCaptureResultTags$1(UsageLogging.scala:668)\n",
       "\tat com.databricks.logging.UsageLogging.$anonfun$recordOperationWithResultTags$4(UsageLogging.scala:686)\n",
       "\tat com.databricks.logging.UsageLogging.$anonfun$withAttributionContext$1(UsageLogging.scala:426)\n",
       "\tat scala.util.DynamicVariable.withValue(DynamicVariable.scala:62)\n",
       "\tat com.databricks.logging.AttributionContext$.withValue(AttributionContext.scala:208)\n",
       "\tat com.databricks.logging.UsageLogging.withAttributionContext(UsageLogging.scala:424)\n",
       "\tat com.databricks.logging.UsageLogging.withAttributionContext$(UsageLogging.scala:418)\n",
       "\tat com.databricks.rpc.ServerBackend.withAttributionContext(ServerBackend.scala:22)\n",
       "\tat com.databricks.logging.UsageLogging.withAttributionTags(UsageLogging.scala:472)\n",
       "\tat com.databricks.logging.UsageLogging.withAttributionTags$(UsageLogging.scala:455)\n",
       "\tat com.databricks.rpc.ServerBackend.withAttributionTags(ServerBackend.scala:22)\n",
       "\tat com.databricks.logging.UsageLogging.recordOperationWithResultTags(UsageLogging.scala:663)\n",
       "\tat com.databricks.logging.UsageLogging.recordOperationWithResultTags$(UsageLogging.scala:582)\n",
       "\tat com.databricks.rpc.ServerBackend.recordOperationWithResultTags(ServerBackend.scala:22)\n",
       "\tat com.databricks.logging.UsageLogging.recordOperation(UsageLogging.scala:573)\n",
       "\tat com.databricks.logging.UsageLogging.recordOperation$(UsageLogging.scala:542)\n",
       "\tat com.databricks.rpc.ServerBackend.recordOperation(ServerBackend.scala:22)\n",
       "\tat com.databricks.rpc.ServerBackend.internalReceive(ServerBackend.scala:147)\n",
       "\tat com.databricks.rpc.JettyServer$RequestManager.handleRPC(JettyServer.scala:1037)\n",
       "\tat com.databricks.rpc.JettyServer$RequestManager.handleRequestAndRespond(JettyServer.scala:948)\n",
       "\tat com.databricks.rpc.JettyServer$RequestManager.$anonfun$handleHttp$6(JettyServer.scala:540)\n",
       "\tat com.databricks.rpc.JettyServer$RequestManager.$anonfun$handleHttp$6$adapted(JettyServer.scala:515)\n",
       "\tat com.databricks.logging.activity.ActivityContextFactory$.$anonfun$withActivityInternal$3(ActivityContextFactory.scala:412)\n",
       "\tat com.databricks.logging.UsageLogging.$anonfun$withAttributionContext$1(UsageLogging.scala:426)\n",
       "\tat scala.util.DynamicVariable.withValue(DynamicVariable.scala:62)\n",
       "\tat com.databricks.logging.AttributionContext$.withValue(AttributionContext.scala:208)\n",
       "\tat com.databricks.logging.UsageLogging.withAttributionContext(UsageLogging.scala:424)\n",
       "\tat com.databricks.logging.UsageLogging.withAttributionContext$(UsageLogging.scala:418)\n",
       "\tat com.databricks.logging.activity.ActivityContextFactory$.withAttributionContext(ActivityContextFactory.scala:54)\n",
       "\tat com.databricks.logging.activity.ActivityContextFactory$.withActivityInternal(ActivityContextFactory.scala:412)\n",
       "\tat com.databricks.logging.activity.ActivityContextFactory$.withServiceRequestActivity(ActivityContextFactory.scala:169)\n",
       "\tat com.databricks.rpc.JettyServer$RequestManager.handleHttp(JettyServer.scala:515)\n",
       "\tat com.databricks.rpc.JettyServer$RequestManager.doPost(JettyServer.scala:404)\n",
       "\tat javax.servlet.http.HttpServlet.service(HttpServlet.java:665)\n",
       "\tat com.databricks.rpc.HttpServletWithPatch.service(HttpServletWithPatch.scala:33)\n",
       "\tat javax.servlet.http.HttpServlet.service(HttpServlet.java:750)\n",
       "\tat org.eclipse.jetty.servlet.ServletHolder.handle(ServletHolder.java:848)\n",
       "\tat org.eclipse.jetty.servlet.ServletHandler.doHandle(ServletHandler.java:585)\n",
       "\tat org.eclipse.jetty.servlet.ServletHandler.doScope(ServletHandler.java:515)\n",
       "\tat org.eclipse.jetty.server.handler.ScopedHandler.handle(ScopedHandler.java:141)\n",
       "\tat org.eclipse.jetty.server.handler.HandlerWrapper.handle(HandlerWrapper.java:134)\n",
       "\tat org.eclipse.jetty.server.Server.handle(Server.java:539)\n",
       "\tat org.eclipse.jetty.server.HttpChannel.handle(HttpChannel.java:333)\n",
       "\tat org.eclipse.jetty.server.HttpConnection.onFillable(HttpConnection.java:251)\n",
       "\tat org.eclipse.jetty.io.AbstractConnection$ReadCallback.succeeded(AbstractConnection.java:283)\n",
       "\tat org.eclipse.jetty.io.FillInterest.fillable(FillInterest.java:108)\n",
       "\tat org.eclipse.jetty.io.SelectChannelEndPoint$2.run(SelectChannelEndPoint.java:93)\n",
       "\tat org.eclipse.jetty.util.thread.strategy.ExecuteProduceConsume.executeProduceConsume(ExecuteProduceConsume.java:303)\n",
       "\tat org.eclipse.jetty.util.thread.strategy.ExecuteProduceConsume.produceConsume(ExecuteProduceConsume.java:148)\n",
       "\tat org.eclipse.jetty.util.thread.strategy.ExecuteProduceConsume.run(ExecuteProduceConsume.java:136)\n",
       "\tat com.databricks.rpc.InstrumentedQueuedThreadPool$$anon$1.$anonfun$run$1(InstrumentedQueuedThreadPool.scala:83)\n",
       "\tat scala.runtime.java8.JFunction0$mcV$sp.apply(JFunction0$mcV$sp.java:23)\n",
       "\tat com.databricks.instrumentation.QueuedThreadPoolInstrumenter.trackActiveThreads(QueuedThreadPoolInstrumenter.scala:66)\n",
       "\tat com.databricks.instrumentation.QueuedThreadPoolInstrumenter.trackActiveThreads$(QueuedThreadPoolInstrumenter.scala:63)\n",
       "\tat com.databricks.rpc.InstrumentedQueuedThreadPool.trackActiveThreads(InstrumentedQueuedThreadPool.scala:49)\n",
       "\tat com.databricks.rpc.InstrumentedQueuedThreadPool$$anon$1.run(InstrumentedQueuedThreadPool.scala:78)\n",
       "\tat org.eclipse.jetty.util.thread.QueuedThreadPool.runJob(QueuedThreadPool.java:671)\n",
       "\tat org.eclipse.jetty.util.thread.QueuedThreadPool$2.run(QueuedThreadPool.java:589)\n",
       "\t... 1 more\n"
      ]
     },
     "metadata": {
      "application/vnd.databricks.v1+output": {
       "arguments": {},
       "data": "\u001b[0;31m---------------------------------------------------------------------------\u001b[0m\n\u001b[0;31mExecutionError\u001b[0m                            Traceback (most recent call last)\n\u001b[0;32m<command-3250029155928756>\u001b[0m in \u001b[0;36m<cell line: 2>\u001b[0;34m()\u001b[0m\n\u001b[1;32m      1\u001b[0m \u001b[0;31m# List files in a directory\u001b[0m\u001b[0;34m\u001b[0m\u001b[0;34m\u001b[0m\u001b[0;34m\u001b[0m\u001b[0m\n\u001b[0;32m----> 2\u001b[0;31m \u001b[0mdbutils\u001b[0m\u001b[0;34m.\u001b[0m\u001b[0mfs\u001b[0m\u001b[0;34m.\u001b[0m\u001b[0mls\u001b[0m\u001b[0;34m(\u001b[0m\u001b[0;34m\"dbfs:/databricks/mlflow-tracking/2458957009979270/3be9f318fa8f4303a42a074a3ba90f6c/artifacts/model/model.pkl\"\u001b[0m\u001b[0;34m)\u001b[0m\u001b[0;34m\u001b[0m\u001b[0;34m\u001b[0m\u001b[0m\n\u001b[0m\u001b[1;32m      3\u001b[0m \u001b[0;34m\u001b[0m\u001b[0m\n\u001b[1;32m      4\u001b[0m \u001b[0;31m# # Copy a file from DBFS to local\u001b[0m\u001b[0;34m\u001b[0m\u001b[0;34m\u001b[0m\u001b[0;34m\u001b[0m\u001b[0m\n\u001b[1;32m      5\u001b[0m \u001b[0;31m# dbutils.fs.cp(\"dbfs:/your-folder-path/your-model.pkl\", \"file:/local-path/your-model.pkl\")\u001b[0m\u001b[0;34m\u001b[0m\u001b[0;34m\u001b[0m\u001b[0;34m\u001b[0m\u001b[0m\n\n\u001b[0;32m/databricks/python_shell/dbruntime/dbutils.py\u001b[0m in \u001b[0;36mf_with_exception_handling\u001b[0;34m(*args, **kwargs)\u001b[0m\n\u001b[1;32m    360\u001b[0m                     \u001b[0mexc\u001b[0m\u001b[0;34m.\u001b[0m\u001b[0m__context__\u001b[0m \u001b[0;34m=\u001b[0m \u001b[0;32mNone\u001b[0m\u001b[0;34m\u001b[0m\u001b[0;34m\u001b[0m\u001b[0m\n\u001b[1;32m    361\u001b[0m                     \u001b[0mexc\u001b[0m\u001b[0;34m.\u001b[0m\u001b[0m__cause__\u001b[0m \u001b[0;34m=\u001b[0m \u001b[0;32mNone\u001b[0m\u001b[0;34m\u001b[0m\u001b[0;34m\u001b[0m\u001b[0m\n\u001b[0;32m--> 362\u001b[0;31m                     \u001b[0;32mraise\u001b[0m \u001b[0mexc\u001b[0m\u001b[0;34m\u001b[0m\u001b[0;34m\u001b[0m\u001b[0m\n\u001b[0m\u001b[1;32m    363\u001b[0m \u001b[0;34m\u001b[0m\u001b[0m\n\u001b[1;32m    364\u001b[0m             \u001b[0;32mreturn\u001b[0m \u001b[0mf_with_exception_handling\u001b[0m\u001b[0;34m\u001b[0m\u001b[0;34m\u001b[0m\u001b[0m\n\n\u001b[0;31mExecutionError\u001b[0m: An error occurred while calling o485.ls.\n: java.rmi.RemoteException: java.lang.UnsupportedOperationException: No operations allowed on this path; nested exception is: \n\tjava.lang.UnsupportedOperationException: No operations allowed on this path\n\tat com.databricks.backend.daemon.data.client.DbfsClient.send0(DbfsClient.scala:135)\n\tat com.databricks.backend.daemon.data.client.DbfsClient.sendIdempotent(DbfsClient.scala:69)\n\tat com.databricks.backend.daemon.data.client.DatabricksFileSystemV1.listStatus(DatabricksFileSystemV1.scala:179)\n\tat com.databricks.backend.daemon.data.client.DatabricksFileSystem.listStatus(DatabricksFileSystem.scala:164)\n\tat com.databricks.backend.daemon.dbutils.FSUtils.lsWithLimit(DBUtilsCore.scala:252)\n\tat com.databricks.backend.daemon.dbutils.FSUtils.$anonfun$lsImpl$2(DBUtilsCore.scala:220)\n\tat com.databricks.backend.daemon.dbutils.FSUtils.withFsSafetyCheck(DBUtilsCore.scala:143)\n\tat com.databricks.backend.daemon.dbutils.FSUtils.$anonfun$lsImpl$1(DBUtilsCore.scala:220)\n\tat com.databricks.backend.daemon.dbutils.FSUtils.checkPermission(DBUtilsCore.scala:138)\n\tat com.databricks.backend.daemon.dbutils.FSUtils.lsImpl(DBUtilsCore.scala:219)\n\tat com.databricks.backend.daemon.dbutils.FSUtils.$anonfun$ls$1(DBUtilsCore.scala:209)\n\tat com.databricks.logging.UsageLogging.$anonfun$recordOperation$1(UsageLogging.scala:546)\n\tat com.databricks.logging.UsageLogging.executeThunkAndCaptureResultTags$1(UsageLogging.scala:641)\n\tat com.databricks.logging.UsageLogging.$anonfun$recordOperationWithResultTags$4(UsageLogging.scala:662)\n\tat com.databricks.logging.UsageLogging.$anonfun$withAttributionContext$1(UsageLogging.scala:403)\n\tat scala.util.DynamicVariable.withValue(DynamicVariable.scala:62)\n\tat com.databricks.logging.AttributionContext$.withValue(AttributionContext.scala:147)\n\tat com.databricks.logging.UsageLogging.withAttributionContext(UsageLogging.scala:401)\n\tat com.databricks.logging.UsageLogging.withAttributionContext$(UsageLogging.scala:398)\n\tat com.databricks.backend.daemon.dbutils.FSUtils.withAttributionContext(DBUtilsCore.scala:67)\n\tat com.databricks.logging.UsageLogging.withAttributionTags(UsageLogging.scala:446)\n\tat com.databricks.logging.UsageLogging.withAttributionTags$(UsageLogging.scala:431)\n\tat com.databricks.backend.daemon.dbutils.FSUtils.withAttributionTags(DBUtilsCore.scala:67)\n\tat com.databricks.logging.UsageLogging.recordOperationWithResultTags(UsageLogging.scala:636)\n\tat com.databricks.logging.UsageLogging.recordOperationWithResultTags$(UsageLogging.scala:555)\n\tat com.databricks.backend.daemon.dbutils.FSUtils.recordOperationWithResultTags(DBUtilsCore.scala:67)\n\tat com.databricks.logging.UsageLogging.recordOperation(UsageLogging.scala:546)\n\tat com.databricks.logging.UsageLogging.recordOperation$(UsageLogging.scala:516)\n\tat com.databricks.backend.daemon.dbutils.FSUtils.recordOperation(DBUtilsCore.scala:67)\n\tat com.databricks.backend.daemon.dbutils.FSUtils.recordDbutilsFsOp(DBUtilsCore.scala:131)\n\tat com.databricks.backend.daemon.dbutils.FSUtils.ls(DBUtilsCore.scala:209)\n\tat sun.reflect.NativeMethodAccessorImpl.invoke0(Native Method)\n\tat sun.reflect.NativeMethodAccessorImpl.invoke(NativeMethodAccessorImpl.java:62)\n\tat sun.reflect.DelegatingMethodAccessorImpl.invoke(DelegatingMethodAccessorImpl.java:43)\n\tat java.lang.reflect.Method.invoke(Method.java:498)\n\tat py4j.reflection.MethodInvoker.invoke(MethodInvoker.java:244)\n\tat py4j.reflection.ReflectionEngine.invoke(ReflectionEngine.java:380)\n\tat py4j.Gateway.invoke(Gateway.java:306)\n\tat py4j.commands.AbstractCommand.invokeMethod(AbstractCommand.java:132)\n\tat py4j.commands.CallCommand.execute(CallCommand.java:79)\n\tat py4j.ClientServerConnection.waitForCommands(ClientServerConnection.java:195)\n\tat py4j.ClientServerConnection.run(ClientServerConnection.java:115)\n\tat java.lang.Thread.run(Thread.java:750)\nCaused by: java.lang.UnsupportedOperationException: No operations allowed on this path\n\tat com.databricks.backend.daemon.data.server.backend.NoOperationsAllowedFileSystemBackend.listStatus(NoOperationsAllowedFileSystemBackend.scala:51)\n\tat com.databricks.backend.daemon.data.server.backend.FileSystemBackend.listStatus(FileSystemBackend.scala:50)\n\tat com.databricks.backend.daemon.data.server.backend.FileSystemBackend.listStatus$(FileSystemBackend.scala:46)\n\tat com.databricks.backend.daemon.data.server.backend.NoOperationsAllowedFileSystemBackend.listStatus(NoOperationsAllowedFileSystemBackend.scala:11)\n\tat com.databricks.backend.daemon.data.server.backend.RootFileSystemBackend.$anonfun$listStatus$2(RootFileSystemBackend.scala:97)\n\tat com.databricks.logging.UsageLogging.$anonfun$recordOperation$1(UsageLogging.scala:573)\n\tat com.databricks.logging.UsageLogging.executeThunkAndCaptureResultTags$1(UsageLogging.scala:668)\n\tat com.databricks.logging.UsageLogging.$anonfun$recordOperationWithResultTags$4(UsageLogging.scala:686)\n\tat com.databricks.logging.UsageLogging.$anonfun$withAttributionContext$1(UsageLogging.scala:426)\n\tat scala.util.DynamicVariable.withValue(DynamicVariable.scala:62)\n\tat com.databricks.logging.AttributionContext$.withValue(AttributionContext.scala:208)\n\tat com.databricks.logging.UsageLogging.withAttributionContext(UsageLogging.scala:424)\n\tat com.databricks.logging.UsageLogging.withAttributionContext$(UsageLogging.scala:418)\n\tat com.databricks.backend.daemon.data.server.backend.RootFileSystemBackend.withAttributionContext(RootFileSystemBackend.scala:27)\n\tat com.databricks.logging.UsageLogging.withAttributionTags(UsageLogging.scala:472)\n\tat com.databricks.logging.UsageLogging.withAttributionTags$(UsageLogging.scala:455)\n\tat com.databricks.backend.daemon.data.server.backend.RootFileSystemBackend.withAttributionTags(RootFileSystemBackend.scala:27)\n\tat com.databricks.logging.UsageLogging.recordOperationWithResultTags(UsageLogging.scala:663)\n\tat com.databricks.logging.UsageLogging.recordOperationWithResultTags$(UsageLogging.scala:582)\n\tat com.databricks.backend.daemon.data.server.backend.RootFileSystemBackend.recordOperationWithResultTags(RootFileSystemBackend.scala:27)\n\tat com.databricks.logging.UsageLogging.recordOperation(UsageLogging.scala:573)\n\tat com.databricks.logging.UsageLogging.recordOperation$(UsageLogging.scala:542)\n\tat com.databricks.backend.daemon.data.server.backend.RootFileSystemBackend.recordOperation(RootFileSystemBackend.scala:27)\n\tat com.databricks.backend.daemon.data.server.backend.RootFileSystemBackend.listStatus(RootFileSystemBackend.scala:93)\n\tat com.databricks.backend.daemon.data.server.handler.FileSystemRequestHandler.$anonfun$receive$8(FileSystemRequestHandler.scala:69)\n\tat com.databricks.logging.UsageLogging.$anonfun$recordOperation$1(UsageLogging.scala:573)\n\tat com.databricks.logging.UsageLogging.executeThunkAndCaptureResultTags$1(UsageLogging.scala:668)\n\tat com.databricks.logging.UsageLogging.$anonfun$recordOperationWithResultTags$4(UsageLogging.scala:686)\n\tat com.databricks.logging.UsageLogging.$anonfun$withAttributionContext$1(UsageLogging.scala:426)\n\tat scala.util.DynamicVariable.withValue(DynamicVariable.scala:62)\n\tat com.databricks.logging.AttributionContext$.withValue(AttributionContext.scala:208)\n\tat com.databricks.logging.UsageLogging.withAttributionContext(UsageLogging.scala:424)\n\tat com.databricks.logging.UsageLogging.withAttributionContext$(UsageLogging.scala:418)\n\tat com.databricks.backend.daemon.data.server.handler.FileSystemRequestHandler.withAttributionContext(FileSystemRequestHandler.scala:23)\n\tat com.databricks.logging.UsageLogging.withAttributionTags(UsageLogging.scala:472)\n\tat com.databricks.logging.UsageLogging.withAttributionTags$(UsageLogging.scala:455)\n\tat com.databricks.backend.daemon.data.server.handler.FileSystemRequestHandler.withAttributionTags(FileSystemRequestHandler.scala:23)\n\tat com.databricks.logging.UsageLogging.recordOperationWithResultTags(UsageLogging.scala:663)\n\tat com.databricks.logging.UsageLogging.recordOperationWithResultTags$(UsageLogging.scala:582)\n\tat com.databricks.backend.daemon.data.server.handler.FileSystemRequestHandler.recordOperationWithResultTags(FileSystemRequestHandler.scala:23)\n\tat com.databricks.logging.UsageLogging.recordOperation(UsageLogging.scala:573)\n\tat com.databricks.logging.UsageLogging.recordOperation$(UsageLogging.scala:542)\n\tat com.databricks.backend.daemon.data.server.handler.FileSystemRequestHandler.recordOperation(FileSystemRequestHandler.scala:23)\n\tat com.databricks.backend.daemon.data.server.handler.FileSystemRequestHandler.receive(FileSystemRequestHandler.scala:69)\n\tat com.databricks.backend.daemon.data.server.session.SessionContext.$anonfun$queryHandlers$1(SessionContext.scala:54)\n\tat com.databricks.backend.daemon.data.server.session.SessionContext.$anonfun$queryHandlers$1$adapted(SessionContext.scala:53)\n\tat scala.collection.immutable.List.foreach(List.scala:431)\n\tat com.databricks.backend.daemon.data.server.session.SessionContext.queryHandlers(SessionContext.scala:53)\n\tat com.databricks.backend.daemon.data.server.DbfsServerBackend$$anonfun$receive$4.$anonfun$applyOrElse$5(DbfsServerBackend.scala:387)\n\tat com.databricks.logging.UsageLogging.$anonfun$withAttributionContext$1(UsageLogging.scala:426)\n\tat scala.util.DynamicVariable.withValue(DynamicVariable.scala:62)\n\tat com.databricks.logging.AttributionContext$.withValue(AttributionContext.scala:208)\n\tat com.databricks.logging.UsageLogging.withAttributionContext(UsageLogging.scala:424)\n\tat com.databricks.logging.UsageLogging.withAttributionContext$(UsageLogging.scala:418)\n\tat com.databricks.rpc.ServerBackend.withAttributionContext(ServerBackend.scala:22)\n\tat com.databricks.logging.UsageLogging.withAttributionTags(UsageLogging.scala:472)\n\tat com.databricks.logging.UsageLogging.withAttributionTags$(UsageLogging.scala:455)\n\tat com.databricks.rpc.ServerBackend.withAttributionTags(ServerBackend.scala:22)\n\tat com.databricks.backend.daemon.data.server.DbfsServerBackend$$anonfun$receive$4.applyOrElse(DbfsServerBackend.scala:387)\n\tat com.databricks.backend.daemon.data.server.DbfsServerBackend$$anonfun$receive$4.applyOrElse(DbfsServerBackend.scala:331)\n\tat com.databricks.rpc.ServerBackend.$anonfun$internalReceive0$2(ServerBackend.scala:174)\n\tat com.databricks.rpc.ServerBackend$$anonfun$commonReceive$1.applyOrElse(ServerBackend.scala:200)\n\tat com.databricks.rpc.ServerBackend$$anonfun$commonReceive$1.applyOrElse(ServerBackend.scala:200)\n\tat com.databricks.rpc.ServerBackend.internalReceive0(ServerBackend.scala:171)\n\tat com.databricks.rpc.ServerBackend.$anonfun$internalReceive$1(ServerBackend.scala:147)\n\tat com.databricks.logging.UsageLogging.$anonfun$recordOperation$1(UsageLogging.scala:573)\n\tat com.databricks.logging.UsageLogging.executeThunkAndCaptureResultTags$1(UsageLogging.scala:668)\n\tat com.databricks.logging.UsageLogging.$anonfun$recordOperationWithResultTags$4(UsageLogging.scala:686)\n\tat com.databricks.logging.UsageLogging.$anonfun$withAttributionContext$1(UsageLogging.scala:426)\n\tat scala.util.DynamicVariable.withValue(DynamicVariable.scala:62)\n\tat com.databricks.logging.AttributionContext$.withValue(AttributionContext.scala:208)\n\tat com.databricks.logging.UsageLogging.withAttributionContext(UsageLogging.scala:424)\n\tat com.databricks.logging.UsageLogging.withAttributionContext$(UsageLogging.scala:418)\n\tat com.databricks.rpc.ServerBackend.withAttributionContext(ServerBackend.scala:22)\n\tat com.databricks.logging.UsageLogging.withAttributionTags(UsageLogging.scala:472)\n\tat com.databricks.logging.UsageLogging.withAttributionTags$(UsageLogging.scala:455)\n\tat com.databricks.rpc.ServerBackend.withAttributionTags(ServerBackend.scala:22)\n\tat com.databricks.logging.UsageLogging.recordOperationWithResultTags(UsageLogging.scala:663)\n\tat com.databricks.logging.UsageLogging.recordOperationWithResultTags$(UsageLogging.scala:582)\n\tat com.databricks.rpc.ServerBackend.recordOperationWithResultTags(ServerBackend.scala:22)\n\tat com.databricks.logging.UsageLogging.recordOperation(UsageLogging.scala:573)\n\tat com.databricks.logging.UsageLogging.recordOperation$(UsageLogging.scala:542)\n\tat com.databricks.rpc.ServerBackend.recordOperation(ServerBackend.scala:22)\n\tat com.databricks.rpc.ServerBackend.internalReceive(ServerBackend.scala:147)\n\tat com.databricks.rpc.JettyServer$RequestManager.handleRPC(JettyServer.scala:1037)\n\tat com.databricks.rpc.JettyServer$RequestManager.handleRequestAndRespond(JettyServer.scala:948)\n\tat com.databricks.rpc.JettyServer$RequestManager.$anonfun$handleHttp$6(JettyServer.scala:540)\n\tat com.databricks.rpc.JettyServer$RequestManager.$anonfun$handleHttp$6$adapted(JettyServer.scala:515)\n\tat com.databricks.logging.activity.ActivityContextFactory$.$anonfun$withActivityInternal$3(ActivityContextFactory.scala:412)\n\tat com.databricks.logging.UsageLogging.$anonfun$withAttributionContext$1(UsageLogging.scala:426)\n\tat scala.util.DynamicVariable.withValue(DynamicVariable.scala:62)\n\tat com.databricks.logging.AttributionContext$.withValue(AttributionContext.scala:208)\n\tat com.databricks.logging.UsageLogging.withAttributionContext(UsageLogging.scala:424)\n\tat com.databricks.logging.UsageLogging.withAttributionContext$(UsageLogging.scala:418)\n\tat com.databricks.logging.activity.ActivityContextFactory$.withAttributionContext(ActivityContextFactory.scala:54)\n\tat com.databricks.logging.activity.ActivityContextFactory$.withActivityInternal(ActivityContextFactory.scala:412)\n\tat com.databricks.logging.activity.ActivityContextFactory$.withServiceRequestActivity(ActivityContextFactory.scala:169)\n\tat com.databricks.rpc.JettyServer$RequestManager.handleHttp(JettyServer.scala:515)\n\tat com.databricks.rpc.JettyServer$RequestManager.doPost(JettyServer.scala:404)\n\tat javax.servlet.http.HttpServlet.service(HttpServlet.java:665)\n\tat com.databricks.rpc.HttpServletWithPatch.service(HttpServletWithPatch.scala:33)\n\tat javax.servlet.http.HttpServlet.service(HttpServlet.java:750)\n\tat org.eclipse.jetty.servlet.ServletHolder.handle(ServletHolder.java:848)\n\tat org.eclipse.jetty.servlet.ServletHandler.doHandle(ServletHandler.java:585)\n\tat org.eclipse.jetty.servlet.ServletHandler.doScope(ServletHandler.java:515)\n\tat org.eclipse.jetty.server.handler.ScopedHandler.handle(ScopedHandler.java:141)\n\tat org.eclipse.jetty.server.handler.HandlerWrapper.handle(HandlerWrapper.java:134)\n\tat org.eclipse.jetty.server.Server.handle(Server.java:539)\n\tat org.eclipse.jetty.server.HttpChannel.handle(HttpChannel.java:333)\n\tat org.eclipse.jetty.server.HttpConnection.onFillable(HttpConnection.java:251)\n\tat org.eclipse.jetty.io.AbstractConnection$ReadCallback.succeeded(AbstractConnection.java:283)\n\tat org.eclipse.jetty.io.FillInterest.fillable(FillInterest.java:108)\n\tat org.eclipse.jetty.io.SelectChannelEndPoint$2.run(SelectChannelEndPoint.java:93)\n\tat org.eclipse.jetty.util.thread.strategy.ExecuteProduceConsume.executeProduceConsume(ExecuteProduceConsume.java:303)\n\tat org.eclipse.jetty.util.thread.strategy.ExecuteProduceConsume.produceConsume(ExecuteProduceConsume.java:148)\n\tat org.eclipse.jetty.util.thread.strategy.ExecuteProduceConsume.run(ExecuteProduceConsume.java:136)\n\tat com.databricks.rpc.InstrumentedQueuedThreadPool$$anon$1.$anonfun$run$1(InstrumentedQueuedThreadPool.scala:83)\n\tat scala.runtime.java8.JFunction0$mcV$sp.apply(JFunction0$mcV$sp.java:23)\n\tat com.databricks.instrumentation.QueuedThreadPoolInstrumenter.trackActiveThreads(QueuedThreadPoolInstrumenter.scala:66)\n\tat com.databricks.instrumentation.QueuedThreadPoolInstrumenter.trackActiveThreads$(QueuedThreadPoolInstrumenter.scala:63)\n\tat com.databricks.rpc.InstrumentedQueuedThreadPool.trackActiveThreads(InstrumentedQueuedThreadPool.scala:49)\n\tat com.databricks.rpc.InstrumentedQueuedThreadPool$$anon$1.run(InstrumentedQueuedThreadPool.scala:78)\n\tat org.eclipse.jetty.util.thread.QueuedThreadPool.runJob(QueuedThreadPool.java:671)\n\tat org.eclipse.jetty.util.thread.QueuedThreadPool$2.run(QueuedThreadPool.java:589)\n\t... 1 more\n",
       "errorSummary": "java.rmi.RemoteException: java.lang.UnsupportedOperationException: No operations allowed on this path; nested exception is: ",
       "errorTraceType": "ansi",
       "metadata": {},
       "type": "ipynbError"
      }
     },
     "output_type": "display_data"
    }
   ],
   "source": [
    "# List files in a directory\n",
    "dbutils.fs.ls(\"dbfs:/databricks/mlflow-tracking/2458957009979270/3be9f318fa8f4303a42a074a3ba90f6c/artifacts/model/model.pkl\")\n",
    "\n",
    "# # Copy a file from DBFS to local\n",
    "# dbutils.fs.cp(\"dbfs:/your-folder-path/your-model.pkl\", \"file:/local-path/your-model.pkl\")\n"
   ]
  },
  {
   "cell_type": "code",
   "execution_count": null,
   "metadata": {
    "application/vnd.databricks.v1+cell": {
     "cellMetadata": {
      "byteLimit": 2048000,
      "rowLimit": 10000
     },
     "inputWidgets": {},
     "nuid": "4560e750-805b-4ffa-8032-3445e5505065",
     "showTitle": false,
     "title": ""
    }
   },
   "outputs": [],
   "source": [
    "# List files in a directory\n",
    "dbutils.fs.ls('/databricks/driver')\n",
    "\n",
    "files = dbutils.fs.ls(\"dbfs:/\")\n",
    "model_files = [file for file in files if file.name.endswith(\".pkl\")]\n",
    "\n",
    "\n"
   ]
  },
  {
   "cell_type": "code",
   "execution_count": null,
   "metadata": {
    "application/vnd.databricks.v1+cell": {
     "cellMetadata": {
      "byteLimit": 2048000,
      "rowLimit": 10000
     },
     "inputWidgets": {},
     "nuid": "2595bdc9-b1d8-4be3-b366-e614d2478c82",
     "showTitle": false,
     "title": ""
    }
   },
   "outputs": [
    {
     "name": "stdout",
     "output_type": "stream",
     "text": [
      "Out[10]: []"
     ]
    }
   ],
   "source": [
    "model_files"
   ]
  }
 ],
 "metadata": {
  "application/vnd.databricks.v1+notebook": {
   "dashboards": [],
   "language": "python",
   "notebookMetadata": {
    "pythonIndentUnit": 4
   },
   "notebookName": "SLR-001-ML Model Development-EBike-Prediction_",
   "widgets": {}
  },
  "language_info": {
   "name": "python"
  }
 },
 "nbformat": 4,
 "nbformat_minor": 0
}
